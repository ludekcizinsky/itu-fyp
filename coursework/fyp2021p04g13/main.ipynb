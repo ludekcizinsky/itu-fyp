{
 "cells": [
  {
   "cell_type": "markdown",
   "source": "<h2 style=\"color:#22198A\">About</h2>",
   "metadata": {
    "tags": [],
    "cell_id": "00000-65eacb0a-6cbf-4cdf-b278-87bf3375b326",
    "deepnote_cell_type": "markdown"
   }
  },
  {
   "cell_type": "markdown",
   "source": "<h3 style=\"color:green\">About project-04</h3>\n<p> In this project, we use data from TweetEval repository to train NLP models with following classification tasks:\n<ul>\n<li>Hate detection: Is given tweet hateful or not? (Binary Classification)</li>\n<li>Sentiment analysis: Is the tweet negative, neutral or positive? (Multiclass classification)</li>\n</ul> \n<p><b>Contact:</b> jtih@itu.dk, joap@itu.dk, luci@itu.dk</p>\n<p><b>Created:</b> 06. 05. 2021</p>\n<p><b>Last modified:</b> 02. 06. 2021 </p>",
   "metadata": {
    "tags": [],
    "cell_id": "00001-b8d173bf-eb88-4382-9056-a76fee60080a",
    "deepnote_cell_type": "markdown"
   }
  },
  {
   "cell_type": "markdown",
   "source": "<h2 style=\"color:#22198A\">NOTEBOOK SETUP</h2>",
   "metadata": {
    "tags": [],
    "cell_id": "00001-972e4111-bda2-47f2-b15b-2aac7b366f3b",
    "deepnote_cell_type": "markdown"
   }
  },
  {
   "cell_type": "markdown",
   "source": "<h3 style=\"color:green\">Load functions from main_script.py</h3>",
   "metadata": {
    "tags": [],
    "cell_id": "00003-6315b584-d120-4638-9c92-f48dbb4f0c6f",
    "deepnote_cell_type": "markdown"
   }
  },
  {
   "cell_type": "code",
   "metadata": {
    "tags": [],
    "cell_id": "00001-74ea391f-8b9f-4a2a-a30c-94d9bb1de0b7",
    "deepnote_to_be_reexecuted": false,
    "source_hash": "fd01f2f4",
    "execution_start": 1622656895245,
    "execution_millis": 4890,
    "deepnote_cell_type": "code"
   },
   "source": "# Needed imports for the setup\nimport os\nimport sys\nimport glob\n\n\n# Notebook setup\nBASE_DIR = f\"\"\n\n# SCRIPTS IMPORT\nscripts_path = os.path.abspath(os.path.join(f'{BASE_DIR}scripts'))\n\nif scripts_path not in sys.path:\n    # Add the scripts to the path\n    sys.path.append(scripts_path)\n    \n    # Import the needed scripts\n    from main_script import *\n    \n    # Remove the added path to avoid possible future conflicts\n    sys.path.remove(scripts_path)\nelse:\n    \n    # Import the needed scripts\n    from main_script import *\n    \n    # Remove the added path to avoid possible future conflicts\n    sys.path.remove(scripts_path)",
   "execution_count": 1,
   "outputs": [
    {
     "name": "stderr",
     "text": "[nltk_data] Downloading package stopwords to /root/nltk_data...\n[nltk_data]   Package stopwords is already up-to-date!\n",
     "output_type": "stream"
    }
   ]
  },
  {
   "cell_type": "markdown",
   "source": "<h3 style=\"color:green\">Define constants</h3>",
   "metadata": {
    "tags": [],
    "cell_id": "00005-d7341d4f-c188-41cf-9a92-7119daf8682d",
    "deepnote_cell_type": "markdown"
   }
  },
  {
   "cell_type": "code",
   "metadata": {
    "tags": [],
    "cell_id": "00002-d2d086ce-9f17-4a3b-af02-a9bca614753c",
    "deepnote_to_be_reexecuted": false,
    "source_hash": "14665dd0",
    "execution_start": 1622656900141,
    "execution_millis": 10,
    "deepnote_cell_type": "code"
   },
   "source": "FILEPATHS = {\n\n    # RAW DATA\n    # Train - hate\n    \"train_hate\": f\"{BASE_DIR}data/raw/datasets/hate/train_text.txt\",\n    \"train_labels_hate\": f\"{BASE_DIR}data/raw/datasets/hate/train_labels.txt\",\n\n    # Train - sentiment\n    \"train_sentiment\": f\"{BASE_DIR}data/raw/datasets/sentiment/train_text.txt\",\n    \"train_labels_sentiment\": f\"{BASE_DIR}data/raw/datasets/sentiment/train_labels.txt\",\n    \n    # Validate - hate\n    \"validate_hate\": f\"{BASE_DIR}data/raw/datasets/hate/val_text.txt\",\n    \"validate_labels_hate\": f\"{BASE_DIR}data/raw/datasets/hate/val_labels.txt\",\n    \n    # Validate - sentiment\n    \"validate_sentiment\": f\"{BASE_DIR}data/raw/datasets/sentiment/val_text.txt\",\n    \"validate_labels_sentiment\": f\"{BASE_DIR}data/raw/datasets/sentiment/val_labels.txt\",\n\n    # Test - hate\n    \"test_hate\" : f\"{BASE_DIR}data/raw/datasets/hate/test_text.txt\",\n    \"test_labels_hate\" : f\"{BASE_DIR}data/raw/datasets/hate/test_labels.txt\",\n\n    # Test - sentiment\n    \"test_sentiment\" : f\"{BASE_DIR}data/raw/datasets/sentiment/test_text.txt\",\n    \"test_labels_sentiment\" : f\"{BASE_DIR}data/raw/datasets/sentiment/test_labels.txt\",\n\n    # PROCESSED DATA\n    # Train + validation - hate\n    \"save_train_hate\": f\"{BASE_DIR}data/processed/tokenized_hate_train.csv\",\n\n    # Train + validation - sentiment\n    \"save_train_sentiment\": f\"{BASE_DIR}data/processed/tokenized_sentiment_train.csv\",\n\n    # Test - hate\n    \"save_test_hate\": f\"{BASE_DIR}data/processed/tokenized_hate_test.csv\",\n\n    # Test - sentiment\n    \"save_test_sentiment\": f\"{BASE_DIR}data/processed/tokenized_sentiment_test.csv\",\n\n    # TOKENIZER EVALUATION\n    \"save_train_hate_nltk\": f\"{BASE_DIR}data/tokenizer_eval/tokenized_hate_train.csv\",\n    \"save_train_sentiment_nltk\": f\"{BASE_DIR}data/tokenizer_eval/tokenized_sentiment_train.csv\"\n}\n\n# Define datasets of interest\nDATASETS = [\"hate\", \"sentiment\"]",
   "execution_count": 2,
   "outputs": []
  },
  {
   "cell_type": "markdown",
   "source": "<h2 style=\"color:#22198A\">Task 1: Preproccessing and tokenization</h2>",
   "metadata": {
    "tags": [],
    "cell_id": "00002-95dc0af5-9bfc-4127-9329-838b19ec2c0b",
    "deepnote_cell_type": "markdown"
   }
  },
  {
   "cell_type": "markdown",
   "source": "Here is the overview of our strategy:\n- For both datasets (hate, sentiment) select first 200 tweets in training data and based on these, develop a proper tokenizer\n- Use the developed tokenizer and apply it to training, validation and test data. Note, since we plan to use cross validation in our 4th task, we will save tokenized items of training and validation into one file. So since now, we will be reffering to TRAINING (train + validate) and to TEST (no change) datasets. In addition, we will tokenize and save to \"processed folder\" all tweets from the above mentioned datasets, except from the ones we used for development purposes. This step is to ensure clarity in our process and methodology.\n- Use the tokenized TRAINING DATASET and compare all tokenized tweets to NLTK tokenizer. Please note, that we decided not to use classifier for an extrinsic evaluation of the tokeniser, but rather qualitatively asses our tokenizer in comparison to NLTK. However, this is indeed one of the things, that could have been improved in our methodology for the next time.",
   "metadata": {
    "tags": [],
    "cell_id": "00004-eae46bdb-a677-4403-b537-5b02328f2be3",
    "deepnote_cell_type": "markdown"
   }
  },
  {
   "cell_type": "markdown",
   "source": "<h3 style=\"color:green\">Develop tokenizer</h3>",
   "metadata": {
    "tags": [],
    "cell_id": "00004-7e55de58-524d-4346-bf9c-e9f0427b56c6",
    "deepnote_cell_type": "markdown"
   }
  },
  {
   "cell_type": "markdown",
   "source": "Based on the both datasest and their first 200 tweets, we came up with the following notes:\n- [X] Lowercase all text\n- [X] decode html \"R\\&amp\\;B\"\n- [X] decode unicode such as \"\\u002c\"\n- [X] Expanding contractions\n- [X] get rid of \"\\n\" when loading data\n- [X] Transform emoticons such as \":)\" to words\n- [X] Transform emojis to words\n- [X] Remove stop words\n- [X] Get rid of numbers such as 20 000, 50 %, 5.5 %, ...\n- [X] Remove @user handle\n- [X] Token pattern should differentiate between punctuation and actual words. Keep punctuation since this can be useful for sentiment analysis.\n- [ ] Correct spelling mistakes, shortcuts: \"righhttt\", \"Y'all\", 'gonna', 'cz', 'gotta' (there is a library but very expensive to compute)\n\nTo develop suitable regex, we used this online tool: www.regex101.com",
   "metadata": {
    "tags": [],
    "cell_id": "00006-e619dd3b-5618-4b8d-9e02-5ab2419b95ec",
    "deepnote_cell_type": "markdown"
   }
  },
  {
   "cell_type": "markdown",
   "source": "<h4 style=\"color:orange\">Hate speech</h4>",
   "metadata": {
    "tags": [],
    "cell_id": "00005-ce36e9df-19a9-4bf0-9d32-06af07102266",
    "deepnote_cell_type": "markdown"
   }
  },
  {
   "cell_type": "code",
   "metadata": {
    "tags": [],
    "cell_id": "00006-f5cf6931-9d00-4633-9e20-d596ee2ae946",
    "deepnote_to_be_reexecuted": false,
    "source_hash": "e310e869",
    "execution_start": 1622656900151,
    "execution_millis": 1284,
    "deepnote_cell_type": "code"
   },
   "source": "# Use first 200 rows in training dataset to develop proper tokenizer\n# Seen main_script.py for detail of implementation\nwith open(FILEPATHS[\"train_hate\"], encoding='utf-8') as f:\n    for i in range(200):\n\n        # Get the line\n        line = f.readline().strip(\"\\n\")\n        print(line)\n\n        # Tokenize it\n        tweet = prepareTweetForTokenizer(line, use_extended = True)\n        tokenizer(tweet, saveTo=\"print\")\n        print()",
   "execution_count": 3,
   "outputs": [
    {
     "name": "stdout",
     "text": "@user nice new signage. Are you not concerned by Beatlemania -style hysterical crowds crongregating on you… \nMatched tokens:  ['nice', 'new', 'signage', '.', 'concerned', 'beatlemania', 'style', 'hysterical', 'crowds', 'crongregating', '…']\nUnmatched tokens:  ['-']\n\nA woman who you fucked multiple times saying yo dick small is a compliment you know u hit that spot 😎 \nMatched tokens:  ['woman', 'fucked', 'multiple', 'times', 'saying', 'yo', 'dick', 'small', 'compliment', 'know', 'hit', 'spot', 'smiling_face_with_sunglasses']\nUnmatched tokens:  []\n\n@user @user real talk do you have eyes or were they gouged out by a rapefugee? \nMatched tokens:  ['real', 'talk', 'eyes', 'gouged', 'rapefugee', '?']\nUnmatched tokens:  []\n\nyour girlfriend lookin at me like a groupie in this bitch! \nMatched tokens:  ['girlfriend', 'lookin', 'like', 'groupie', 'bitch', '!']\nUnmatched tokens:  []\n\nHysterical woman like @user \nMatched tokens:  ['hysterical', 'woman', 'like']\nUnmatched tokens:  []\n\nMe flirting- So tell me about your father... \nMatched tokens:  ['flirting', 'tell', 'father', '...']\nUnmatched tokens:  ['-']\n\nThe Philippine Catholic bishops' work for migrant workers should focus on families who are \"paying the great... \nMatched tokens:  ['philippine', 'catholic', \"bishops'\", 'work', 'migrant', 'workers', 'focus', 'families', 'paying', 'great', '...']\nUnmatched tokens:  []\n\nI AM NOT GOING AFTER YOUR EX BF YOU LIEING SACK OF SHIT ! I'm done with you dude that's why I dumped your ass cause your a lieing 😂😡 bitch \nMatched tokens:  ['going', 'ex', 'bf', 'lieing', 'sack', 'shit', '!', 'done', 'dude', 'dumped', 'ass', 'lieing', 'face_with_tears_of_joy', 'pouting_face', 'bitch']\nUnmatched tokens:  []\n\nWhen cuffin season is finally over \nMatched tokens:  ['cuffin', 'season', 'finally']\nUnmatched tokens:  []\n\nSend home migrants not in need of protection, Peter Dutton tells UN, HEY DUTTON HOW ABOUT THE ONES THAT HAVE STAYED AND NOT LEFT THE COUNTRY WHEN THEY SHOULD OVERSTAYERS ? WHY DONT YOU GO AND ROUND ALL THEM UP ?  \nMatched tokens:  ['send', 'home', 'migrants', 'need', 'protection', ',', 'peter', 'dutton', 'tells', 'un', ',', 'hey', 'dutton', 'ones', 'stayed', 'left', 'country', 'overstayers', '?', 'go', 'round', '?']\nUnmatched tokens:  []\n\nCory Booker and Kamala Harris competing for Most Hysterical Woman at the Kavanaugh hearings, Coulter hilariously tweeted.And yes, liberals immediately got triggered on Twitter, saying her joke was offensive. To them we say, suck it up, snowflakes. \nMatched tokens:  ['cory', 'booker', 'kamala', 'harris', 'competing', 'hysterical', 'woman', 'kavanaugh', 'hearings', ',', 'coulter', 'hilariously', 'tweeted.and', 'yes', ',', 'liberals', 'immediately', 'got', 'triggered', 'twitter', ',', 'saying', 'joke', 'offensive', '.', 'say', ',', 'suck', ',', 'snowflakes', '.']\nUnmatched tokens:  []\n\nOnly that in you which is me can hear what I'm saying. ~Baba Ram Dass \nMatched tokens:  ['hear', 'saying', '.', 'baba', 'ram', 'dass']\nUnmatched tokens:  ['~']\n\nShould have let the Libyan Manchester bomber rot in his own country. How many more mass murderers did the Royal Navy import to Britain? How many more terrorists do the NGO's rescue from international waters? #RefugeesNotWelcome \nMatched tokens:  ['let', 'libyan', 'manchester', 'bomber', 'rot', 'country', '.', 'many', 'mass', 'murderers', 'royal', 'navy', 'import', 'britain', '?', 'many', 'terrorists', \"ngo's\", 'rescue', 'international', 'waters', '?', '#refugeesnotwelcome']\nUnmatched tokens:  []\n\nMore migrants take sea route to #Spain than Italy this year: UN \nMatched tokens:  ['migrants', 'take', 'sea', 'route', '#spain', 'italy', 'year', 'un']\nUnmatched tokens:  [':']\n\nEssential reading for those in Scribner, Nebraska who are considering an anti-immigrant ballot measure. \nMatched tokens:  ['essential', 'reading', 'scribner', ',', 'nebraska', 'considering', 'anti-immigrant', 'ballot', 'measure', '.']\nUnmatched tokens:  []\n\nThis account was temporarily inactive due to an irrational woman reporting us to Twitter. What a lack of judgement, shocking. #YesAllMen \nMatched tokens:  ['account', 'temporarily', 'inactive', 'due', 'irrational', 'woman', 'reporting', 'us', 'twitter', '.', 'lack', 'judgement', ',', 'shocking', '.', '#yesallmen']\nUnmatched tokens:  []\n\nRT @user @user I am flattered tbh. I got an orgasm just by thinking of it you really are good at this. \nMatched tokens:  ['rt', 'flattered', 'tbh', '.', 'got', 'orgasm', 'thinking', 'really', 'good', '.']\nUnmatched tokens:  []\n\nMaking them look ~anatomically correct~ just makes them... Bland. Not all women are tiny and fit, not all men are bulky. \nMatched tokens:  ['making', 'look', 'anatomically', 'correct', 'makes', '...', 'bland', '.', 'women', 'tiny', 'fit', ',', 'men', 'bulky', '.']\nUnmatched tokens:  ['~', '~']\n\nlisten... i love lil b but i would not fuck with dej loaf at all. she prob got poison up in her nail polish like that bitch from holes \nMatched tokens:  ['listen', '...', 'love', 'lil', 'b', 'would', 'fuck', 'dej', 'loaf', '.', 'prob', 'got', 'poison', 'nail', 'polish', 'like', 'bitch', 'holes']\nUnmatched tokens:  []\n\n@user @user keep calling her a bitch and a whore dude real grown up. \nMatched tokens:  ['keep', 'calling', 'bitch', 'whore', 'dude', 'real', 'grown', '.']\nUnmatched tokens:  []\n\nGlad your having another nice vacation. How's the illegal border crossings, illegal oportunistic migrant entries, tax payer funded hotel rooms for same without a strategic plan going? @user @user @user @user @user @user \nMatched tokens:  ['glad', 'another', 'nice', 'vacation', '.', 'illegal', 'border', 'crossings', ',', 'illegal', 'oportunistic', 'migrant', 'entries', ',', 'tax', 'payer', 'funded', 'hotel', 'rooms', 'without', 'strategic', 'plan', 'going', '?']\nUnmatched tokens:  []\n\n@user Unchecked Population&amp;migration to cities is biggest evil for dirty India.Disincentive large families,such as withdrawl of sops \nMatched tokens:  ['unchecked', 'population&migration', 'cities', 'biggest', 'evil', 'dirty', 'india.disincentive', 'large', 'families', ',', 'withdrawl', 'sops']\nUnmatched tokens:  []\n\nIllegal Alien Hit Man, Dragged Him For Blocks In Deadly DUI Crash #BuildTheWall #NoAmnesty #NoDACA #DeportThemAll #KeepAmericaSafe \nMatched tokens:  ['illegal', 'alien', 'hit', 'man', ',', 'dragged', 'blocks', 'deadly', 'dui', 'crash', '#buildthewall', '#noamnesty', '#nodaca', '#deportthemall', '#keepamericasafe']\nUnmatched tokens:  []\n\nAn Honest Article About Illegal Immigration By a Lefty?? Are Pigs Flying? -     A miracle... \nMatched tokens:  ['honest', 'article', 'illegal', 'immigration', 'lefty', '?', '?', 'pigs', 'flying', '?', 'miracle', '...']\nUnmatched tokens:  ['-']\n\n@user @user @user @user please spread the word  -&gt;&gt; using frequent flyer miles to reunite immigrant families! \nMatched tokens:  ['please', 'spread', 'word', 'using', 'frequent', 'flyer', 'miles', 'reunite', 'immigrant', 'families', '!']\nUnmatched tokens:  ['->>']\n\nknuckle up cause I'll fight for mines Yo pussy petty, U wasting time .. U seasonal, part time U get fucked up fuckin w/ mine U lil bitch \nMatched tokens:  ['knuckle', 'fight', 'mines', 'yo', 'pussy', 'petty', ',', 'wasting', 'time', '..', 'seasonal', ',', 'part', 'time', 'get', 'fucked', 'fuckin', 'w/', 'mine', 'lil', 'bitch']\nUnmatched tokens:  []\n\nYes, women who protest are 'irrational' 'hysterical' 'bitters spinsters' - long history of using that shit to dismi… \nMatched tokens:  ['yes', ',', 'women', 'protest', \"'irrational'\", \"'hysterical'\", \"'bitters\", \"spinsters'\", 'long', 'history', 'using', 'shit', 'dismi', '…']\nUnmatched tokens:  ['-']\n\n@user Not all men are animals. You Libs want muslims to come over still? Better pick a side. \nMatched tokens:  ['men', 'animals', '.', 'libs', 'want', 'muslims', 'come', 'still', '?', 'better', 'pick', 'side', '.']\nUnmatched tokens:  []\n\nFederal judge to #Trump: \"imminent danger\" of \"irreparable injury to #refugees, visa-holders\", etc. @user \nMatched tokens:  ['federal', 'judge', '#trump', 'imminent', 'danger', 'irreparable', 'injury', '#refugees', ',', 'visa-holders', ',', 'etc', '.']\nUnmatched tokens:  [':']\n\nThis bitch whom I won't name on Facebook is such a shameless woman ruining a relationship. #getalife #stopspreadinglies #hoe \nMatched tokens:  ['bitch', 'name', 'facebook', 'shameless', 'woman', 'ruining', 'relationship', '.', '#getalife', '#stopspreadinglies', '#hoe']\nUnmatched tokens:  []\n\n@user @user Omg he gave her his number and she didn't say no what a cunt The girl is the cunt for giving it to some random fucktard \nMatched tokens:  ['omg', 'gave', 'number', 'say', 'cunt', 'girl', 'cunt', 'giving', 'random', 'fucktard']\nUnmatched tokens:  []\n\nWhy we need to protect refugees from the ‘˜big ideas’ designed to save them @user @user @user @user @user @user @user \nMatched tokens:  ['need', 'protect', 'refugees', 'big', 'ideas’', 'designed', 'save']\nUnmatched tokens:  ['‘˜']\n\nKevin Rosero of the Latino Immigrant Experience Oral History Project #NJHRIC #NewarkPublicLibrary needs help identifying Newark Latino immigrant residents to interview and capture their stories and experiences. MORE INFO: \nMatched tokens:  ['kevin', 'rosero', 'latino', 'immigrant', 'experience', 'oral', 'history', 'project', '#njhric', '#newarkpubliclibrary', 'needs', 'help', 'identifying', 'newark', 'latino', 'immigrant', 'residents', 'interview', 'capture', 'stories', 'experiences', '.', 'info']\nUnmatched tokens:  [':']\n\n@user Are you pussy grabbing tonight?? \nMatched tokens:  ['pussy', 'grabbing', 'tonight', '?', '?']\nUnmatched tokens:  []\n\nSome people really dont understand why I get so upset at injustices happening in this country. Trust me, it's not that I like getting my panties in a wad over dumb things. It's the fact that people like me (minority, brown, immigrant, etc) r suffering and it affects me directly \nMatched tokens:  ['people', 'really', 'understand', 'get', 'upset', 'injustices', 'happening', 'country', '.', 'trust', ',', 'like', 'getting', 'panties', 'wad', 'dumb', 'things', '.', 'fact', 'people', 'like', 'minority', ',', 'brown', ',', 'immigrant', ',', 'etc', 'r', 'suffering', 'affects', 'directly']\nUnmatched tokens:  []\n\nI've been called a son of a whore and a cunt today already. It's not even 1 yet \nMatched tokens:  ['called', 'son', 'whore', 'cunt', 'today', 'already', '.', 'even', 'yet']\nUnmatched tokens:  []\n\nPope Francis: Immigrants Provide ‘˜Enrichment’ to Society, Not ‘˜Threats’ \nMatched tokens:  ['pope', 'francis', 'immigrants', 'provide', 'enrichment’', 'society', ',', 'threats’']\nUnmatched tokens:  [':', '‘˜', '‘˜']\n\nWhat were they planning to do with the immigrant children they kidnapped? Slavery, sex traffic, organ harvesting? \nMatched tokens:  ['planning', 'immigrant', 'children', 'kidnapped', '?', 'slavery', ',', 'sex', 'traffic', ',', 'organ', 'harvesting', '?']\nUnmatched tokens:  []\n\nmasturbate intensive for that whore slut \nMatched tokens:  ['masturbate', 'intensive', 'whore', 'slut']\nUnmatched tokens:  []\n\nThe Truth about #Immigration \nMatched tokens:  ['truth', '#immigration']\nUnmatched tokens:  []\n\n@user @user Must Make Illegal #Immigration and Over Stays a Felon Pass Mandatory E-Verify for #Jobs and Welfare  #Trump #MAGA #RedNationRising \nMatched tokens:  ['must', 'make', 'illegal', '#immigration', 'stays', 'felon', 'pass', 'mandatory', 'e-verify', '#jobs', 'welfare', '#trump', '#maga', '#rednationrising']\nUnmatched tokens:  []\n\n@user immigration on mass in Europe Kills our Culture our languages and over stretches our own resources such as Hospitals ,Schools ,now Italy ,Greece , etc , Your right send them back home but please do not separate families Islamic countries \nMatched tokens:  ['immigration', 'mass', 'europe', 'kills', 'culture', 'languages', 'stretches', 'resources', 'hospitals', ',', 'schools', ',', 'italy', ',', 'greece', ',', 'etc', ',', 'right', 'send', 'back', 'home', 'please', 'separate', 'families', 'islamic', 'countries']\nUnmatched tokens:  []\n\nLebanese Christian victim of a quarrel between Syrian refugees carrying knives &amp; cleavers in Lebanon \nMatched tokens:  ['lebanese', 'christian', 'victim', 'quarrel', 'syrian', 'refugees', 'carrying', 'knives', 'cleavers', 'lebanon']\nUnmatched tokens:  ['&']\n\nCoreCivic found its best interest is to grow US detention capacity, for women and children, by over 450%. Expanding the number of mother-child beds from 3,500 up to 20,000. This signals the largest increase in immigrant detention since WW2 #ResistICENashville photo: Julie Henry \nMatched tokens:  ['corecivic', 'found', 'best', 'interest', 'grow', 'us', 'detention', 'capacity', ',', 'women', 'children', ',', '.', 'expanding', 'number', 'mother-child', 'beds', ',', ',', '.', 'signals', 'largest', 'increase', 'immigrant', 'detention', 'since', '#resisticenashville', 'photo', 'julie', 'henry']\nUnmatched tokens:  ['%', ':']\n\nI wonder is this is where Caitlyn gets his car services 🌚 \nMatched tokens:  ['wonder', 'caitlyn', 'gets', 'car', 'services', 'new_moon_face']\nUnmatched tokens:  []\n\n@user Uhhhhhh, that’s stupid LITTLE bitch, ma’am 😉 \nMatched tokens:  ['uhhhhhh', ',', 'stupid', 'little', 'bitch', ',', 'madam', 'winking_face']\nUnmatched tokens:  []\n\nBishop appeals to church groups to take action as migrants now account for 11 percent of reported cases \nMatched tokens:  ['bishop', 'appeals', 'church', 'groups', 'take', 'action', 'migrants', 'account', 'percent', 'reported', 'cases']\nUnmatched tokens:  []\n\nBecause some women are stupid \nMatched tokens:  ['women', 'stupid']\nUnmatched tokens:  []\n\n@user BITCH TEXT ME \nMatched tokens:  ['bitch', 'text']\nUnmatched tokens:  []\n\nbecause they had a cross on !! The lovely NHS  cannot get 100 Indian Doctors over from India because of Immigration rules ,good  do we want to hire from a land of Rapists and ignorant beliefs sadly we cannot get enough training places here, why dont we use nurse Practitioners# \nMatched tokens:  ['cross', '!', '!', 'lovely', 'nhs', 'cannot', 'get', 'indian', 'doctors', 'india', 'immigration', 'rules', ',', 'good', 'want', 'hire', 'land', 'rapists', 'ignorant', 'beliefs', 'sadly', 'cannot', 'get', 'enough', 'training', 'places', ',', 'use', 'nurse', 'practitioners#']\nUnmatched tokens:  []\n\n@user RT @user Don't betray Your #Voters on #Immigration. #Americans, #WeThePeople, & the #USA reject #DACA, #Amnesty, the #DreamAct, & all #illegal immigration. Do Not Break Our Constitutional Laws. Deport all illegals & #DACA immigr \nMatched tokens:  ['rt', 'betray', '#voters', '#immigration', '.', '#americans', ',', '#wethepeople', ',', '#usa', 'reject', '#daca', ',', '#amnesty', ',', '#dreamact', ',', '#illegal', 'immigration', '.', 'break', 'constitutional', 'laws', '.', 'deport', 'illegals', '#daca', 'immigr']\nUnmatched tokens:  ['&', '&', '&']\n\n@user Elizabeth Warren's radical agenda to abolish ICE and create open borders must be stopped. Geoff Diehl is the only candidate with a proven record of fighting illegal immigration. VOTE FOR @user FOR SENATE in MA \nMatched tokens:  ['elizabeth', \"warren's\", 'radical', 'agenda', 'abolish', 'ice', 'create', 'open', 'borders', 'must', 'stopped', '.', 'geoff', 'diehl', 'candidate', 'proven', 'record', 'fighting', 'illegal', 'immigration', '.', 'vote', 'senate']\nUnmatched tokens:  []\n\nWhat an absolute cock womble this cunt is. Does she also alude to the fact she recieved FREE university education aswel. \nMatched tokens:  ['absolute', 'cock', 'womble', 'cunt', '.', 'also', 'alude', 'fact', 'recieved', 'free', 'university', 'education', 'aswel', '.']\nUnmatched tokens:  []\n\nNo matter what color a girl is she still a ho 😂😂 \nMatched tokens:  ['matter', 'color', 'girl', 'still', 'ho', 'face_with_tears_of_joy', 'face_with_tears_of_joy']\nUnmatched tokens:  []\n\n@user I am not forcing anyone. I am just putting out my view. People believe it or not is their prerogative.Even if a single person agree with me, it is ok with me. Thanks, \nMatched tokens:  ['forcing', 'anyone', '.', 'putting', 'view', '.', 'people', 'believe', 'prerogative.even', 'single', 'person', 'agree', ',', 'ok', '.', 'thanks', ',']\nUnmatched tokens:  []\n\n#FactCheck 👍 #BoycottUnitedArlines #AidingAndAbetting #Felons #WeThePeople are FED UP #EnoughIsEnough #ICE #DHS #DOJ #WakeUpAmerica #StopTheInvasion \nMatched tokens:  ['#factcheck', 'thumbs_up', '#boycottunitedarlines', '#aidingandabetting', '#felons', '#wethepeople', 'fed', '#enoughisenough', '#ice', '#dhs', '#doj', '#wakeupamerica', '#stoptheinvasion']\nUnmatched tokens:  []\n\n#NRC Assam Govt must initiate immediate action 2 cancel Voting id cards &amp; Aadhaar cards of the identified illegal migrants Let \"commited\" political dogs bark any length &amp; as loud as they can Nation must remain firm on its security concerns \nMatched tokens:  ['#nrc', 'assam', 'govt', 'must', 'initiate', 'immediate', 'action', 'cancel', 'voting', 'id', 'cards', 'aadhaar', 'cards', 'identified', 'illegal', 'migrants', 'let', 'commited', 'political', 'dogs', 'bark', 'length', 'loud', 'nation', 'must', 'remain', 'firm', 'security', 'concerns']\nUnmatched tokens:  ['&', '&']\n\n@user Dan, WAY too tough to choose between all the lying, deceitful corrupt losers representing Dems (& some GOP). The list is long & disgusting. Embarrassing that we pay these lying losers large salaries to corrupt our democracy.#MAGA #KAG #POTUS #Tr \nMatched tokens:  ['dan', ',', 'way', 'tough', 'choose', 'lying', ',', 'deceitful', 'corrupt', 'losers', 'representing', 'dems', 'gop', '.', 'list', 'long', 'disgusting', '.', 'embarrassing', 'pay', 'lying', 'losers', 'large', 'salaries', 'corrupt', 'democracy.#maga', '#kag', '#potus', '#tr']\nUnmatched tokens:  ['&', '&']\n\nRussia, Turkey, Jordan are in talks on return of Syrian refugees ‘“ Lavrov \nMatched tokens:  ['russia', ',', 'turkey', ',', 'jordan', 'talks', 'return', 'syrian', 'refugees', 'lavrov']\nUnmatched tokens:  ['‘“']\n\n@user @user No.....really? A refugee? They are here to enrich our cultures, right? I bet ya he's older than 17 too....#sendthemback it's not late to save Europe \nMatched tokens:  ['.....', 'really', '?', 'refugee', '?', 'enrich', 'cultures', ',', 'right', '?', 'bet', 'ya', 'older', '....', '#sendthemback', 'late', 'save', 'europe']\nUnmatched tokens:  []\n\nNEVERRRRRRRRRRR \nMatched tokens:  ['neverrrrrrrrrrr']\nUnmatched tokens:  []\n\nThank you, @user for taking a stand. It's up to all of us to fight misinformation and anti-immigrant hate. #SourcesMatter \nMatched tokens:  ['thank', ',', 'taking', 'stand', '.', 'us', 'fight', 'misinformation', 'anti-immigrant', 'hate', '.', '#sourcesmatter']\nUnmatched tokens:  []\n\nAnd now another flood of immigrants coming our way.#BuildThatWall \nMatched tokens:  ['another', 'flood', 'immigrants', 'coming', 'way.#buildthatwall']\nUnmatched tokens:  []\n\nNothing irks me more than when bitches end it with a good guy then complain about getting hurt by a douche bag. #WakeUpYouWhore \nMatched tokens:  ['nothing', 'irks', 'bitches', 'end', 'good', 'guy', 'complain', 'getting', 'hurt', 'douche', 'bag', '.', '#wakeupyouwhore']\nUnmatched tokens:  []\n\nRealizing the rights of Eritrean refugees in Israel. A new article:https://t.co/0SsTUvgQ6z \nMatched tokens:  ['realizing', 'rights', 'eritrean', 'refugees', 'israel', '.', 'new', 'article']\nUnmatched tokens:  [':']\n\nJudge orders government to release immigrant kids from Texas shelter | The Texas Tribune \nMatched tokens:  ['judge', 'orders', 'government', 'release', 'immigrant', 'kids', 'texas', 'shelter', 'texas', 'tribune']\nUnmatched tokens:  ['|']\n\n@user @user @user Don't dare to tell us about Syrian refugees. \nMatched tokens:  ['dare', 'tell', 'us', 'syrian', 'refugees', '.']\nUnmatched tokens:  []\n\n@user @user It should foment anger. Only idiots open their borders to people who will NEVER assimilate. Majority of Black Africans coming into Europe are NOT refugees and had the money to pay for trip over, which is expensive. \nMatched tokens:  ['foment', 'anger', '.', 'idiots', 'open', 'borders', 'people', 'never', 'assimilate', '.', 'majority', 'black', 'africans', 'coming', 'europe', 'refugees', 'money', 'pay', 'trip', ',', 'expensive', '.']\nUnmatched tokens:  []\n\nThis is what Trump supporters call humane smh \nMatched tokens:  ['trump', 'supporters', 'call', 'humane', 'smh']\nUnmatched tokens:  []\n\nMegynKelly is skank. Whore paid $$ for what? Only thing left to watch on .@nbc anymore is SNL. More truth to them t… \nMatched tokens:  ['megynkelly', 'skank', '.', 'whore', 'paid', '$$', '?', 'thing', 'left', 'watch', '.', '@nbc', 'anymore', 'snl', '.', 'truth', '…']\nUnmatched tokens:  []\n\n#OccupyICEPHL was delighted to learn that Charlie Kirk, the anti-immigrant, anti-Muslim, conspiracy theory-touting, founder &amp; executive director of the white nationalist-allied Turning Point USA (TPUSA) didn't have a very good morning either. #NationalistsNotWelcome \nMatched tokens:  ['#occupyicephl', 'delighted', 'learn', 'charlie', 'kirk', ',', 'anti-immigrant', ',', 'anti-muslim', ',', 'conspiracy', 'theory-touting', ',', 'founder', 'executive', 'director', 'white', 'nationalist-allied', 'turning', 'point', 'usa', 'tpusa', 'good', 'morning', 'either', '.', '#nationalistsnotwelcome']\nUnmatched tokens:  ['&']\n\nMed not a house/EU not adult day care camp for migrants seeking handouts or to profit from crime.Tunisia abusing #Italy EU, which has leverage bt lacks courage to use it. #Salvini must send messageðŸ‘‰either stop boats &amp; take back citizens or we bury you economically, esp. leaders \nMatched tokens:  ['med', 'house/eu', 'adult', 'day', 'care', 'camp', 'migrants', 'seeking', 'handouts', 'profit', 'crime.tunisia', 'abusing', '#italy', 'eu', ',', 'leverage', 'bt', 'lacks', 'courage', 'use', '.', '#salvini', 'must', 'send', 'message', 'either', 'stop', 'boats', 'take', 'back', 'citizens', 'bury', 'economically', ',', 'esp', '.', 'leaders']\nUnmatched tokens:  ['ðÿ‘‰', '&']\n\n@user good girl \nMatched tokens:  ['good', 'girl']\nUnmatched tokens:  []\n\nyou know your women are stupid just like you're_ bitch please did i fuck you_ what importance do you have in my life_ are you retarded_ 😏🌹 \nMatched tokens:  ['know', 'women', 'stupid', 'like', '_', 'bitch', 'please', 'fuck', 'you_', 'importance', 'life_', 'retarded_', 'smirking_face', 'rose']\nUnmatched tokens:  []\n\nDon't you hate how girls just Whore around because they never got daddy's attention ?? And so they have to interfere in relationships.. hoe \nMatched tokens:  ['hate', 'girls', 'whore', 'around', 'never', 'got', \"daddy's\", 'attention', '?', '?', 'interfere', 'relationships', '..', 'hoe']\nUnmatched tokens:  []\n\n@user Greedy, you have to talk about this tomorrow including the hysterical responses. \nMatched tokens:  ['greedy', ',', 'talk', 'tomorrow', 'including', 'hysterical', 'responses', '.']\nUnmatched tokens:  []\n\n@user Wow!! Never seen a woman juggle a big cock like that \nMatched tokens:  ['wow', '!', '!', 'never', 'seen', 'woman', 'juggle', 'big', 'cock', 'like']\nUnmatched tokens:  []\n\nFuck you, you hoe I don’t want you back \nMatched tokens:  ['fuck', ',', 'hoe', 'want', 'back']\nUnmatched tokens:  []\n\n@user Screw her and her beliefs!! Send them packing!! This is a Christian nation with Christian laws. #BuildThatWall #kag \nMatched tokens:  ['screw', 'beliefs', '!', '!', 'send', 'packing', '!', '!', 'christian', 'nation', 'christian', 'laws', '.', '#buildthatwall', '#kag']\nUnmatched tokens:  []\n\n@user You are the sloppy queen of sucking cock \nMatched tokens:  ['sloppy', 'queen', 'sucking', 'cock']\nUnmatched tokens:  []\n\nWorld Relief is continuing to provide legal aid and advocating for immigrant families who have been separated at the U.S.-Mexico border. You can make a difference and help reunite families by making a donation today. âž \nMatched tokens:  ['world', 'relief', 'continuing', 'provide', 'legal', 'aid', 'advocating', 'immigrant', 'families', 'separated', 'you.s', '.', 'mexico', 'border', '.', 'make', 'difference', 'help', 'reunite', 'families', 'making', 'donation', 'today', '.']\nUnmatched tokens:  ['-', 'âž\\x9d']\n\n@user Africa for Africans, Asia for Asians, White countries for everyone IS White Genocide.Some basic truths:  Access to White people is not a human righthttps://t.co/c0gHvd6iMBRemigration 2018:  Easy come, easy GO!!   \nMatched tokens:  ['africa', 'africans', ',', 'asia', 'asians', ',', 'white', 'countries', 'everyone', 'white', 'genocide.some', 'basic', 'truths', 'access', 'white', 'people', 'human', 'right', 'easy', 'come', ',', 'easy', 'go', '!', '!']\nUnmatched tokens:  [':', ':']\n\n@user you dumb cunt you trick 12 and 30 year old virgins into giving you money you fucking bitch. kys honest… \nMatched tokens:  ['dumb', 'cunt', 'trick', 'year', 'old', 'virgins', 'giving', 'money', 'fucking', 'bitch', '.', 'kys', 'honest', '…']\nUnmatched tokens:  []\n\nFrom refugee to sole survivor - How one Syrian has become shoemaker to the famous \nMatched tokens:  ['refugee', 'sole', 'survivor', 'one', 'syrian', 'become', 'shoemaker', 'famous']\nUnmatched tokens:  ['-']\n\n@user @user @user @user Earth to Andrew, come in Andrew:   its about immigration.Denying Canadians their right to survive and defend their racial interests IS 'racial hatred'.  IN fact its White Genocide. Its a crime: Access to White peopl \nMatched tokens:  ['earth', 'andrew', ',', 'come', 'andrew', 'immigration.denying', 'canadians', 'right', 'survive', 'defend', 'racial', 'interests', \"'racial\", \"hatred'\", '.', 'fact', 'white', 'genocide', '.', 'crime', 'access', 'white', 'peopl']\nUnmatched tokens:  [':', ':']\n\nWhen you're sneaking in after a long, hard night of cheating and don't wanna wake your girl cause you're a good guy \nMatched tokens:  ['sneaking', 'long', ',', 'hard', 'night', 'cheating', 'want', 'wake', 'girl', 'good', 'guy']\nUnmatched tokens:  []\n\n@user sweetie, how the hell can you take “oh my god that’s a DICK?!?!?!?!” Style monologue \nMatched tokens:  ['sweetie', ',', 'hell', 'take', 'oh', 'god', 'dick', '?', '!', '?', '!', '?', '!', '?', '!', 'style', 'monologue']\nUnmatched tokens:  ['“', '”']\n\nAbsolutely perfect keep the whole lot of Illegal Aliens out, now maybe libtarded snowflakes will be happy they are not being split up? #maga #kag #nodaca #noamnesty #BuildThatWall #BuildTheWallNow #BuildTheDamnWall #BuildTheWall \nMatched tokens:  ['absolutely', 'perfect', 'keep', 'whole', 'lot', 'illegal', 'aliens', ',', 'maybe', 'libtarded', 'snowflakes', 'happy', 'split', '?', '#maga', '#kag', '#nodaca', '#noamnesty', '#buildthatwall', '#buildthewallnow', '#buildthedamnwall', '#buildthewall']\nUnmatched tokens:  []\n\nHundreds of Syrian refugees return home from Lebanon - ABC News \nMatched tokens:  ['hundreds', 'syrian', 'refugees', 'return', 'home', 'lebanon', 'abc', 'news']\nUnmatched tokens:  ['-']\n\nVIDEO: Immigrant activist who climbed Statue of Liberty has a new song: \"America, you motherfuckers,... \nMatched tokens:  ['video', 'immigrant', 'activist', 'climbed', 'statue', 'liberty', 'new', 'song', 'america', ',', 'motherfuckers', ',', '...']\nUnmatched tokens:  [':', ':']\n\nTurkish government must immediately take precautions to protect it's borders and find solution for the trouble in Syria or else Turkey will be a refugee storage in the near future and this is a big threat for our survival #nomorerefugees \nMatched tokens:  ['turkish', 'government', 'must', 'immediately', 'take', 'precautions', 'protect', 'borders', 'find', 'solution', 'trouble', 'syria', 'else', 'turkey', 'refugee', 'storage', 'near', 'future', 'big', 'threat', 'survival', '#nomorerefugees']\nUnmatched tokens:  []\n\n//'We will send back the illegal immigrants to Bangladesh. Tough days are ahead, we will not tolerate any illegal immigrants in Bengal.'With these statements, West Bengal... \nMatched tokens:  [\"'we\", 'send', 'back', 'illegal', 'immigrants', 'bangladesh', '.', 'tough', 'days', 'ahead', ',', 'tolerate', 'illegal', 'immigrants', \"bengal.'with\", 'statements', ',', 'west', 'bengal', '...']\nUnmatched tokens:  ['//']\n\nRT @user I bet a lot of people's therapists are dying to meet me just to see if the stories are true. \nMatched tokens:  ['rt', 'bet', 'lot', \"people's\", 'therapists', 'dying', 'meet', 'see', 'stories', 'true', '.']\nUnmatched tokens:  []\n\nHOLLERINGGGGGGG. stupid baby bitch. \nMatched tokens:  ['holleringgggggg', '.', 'stupid', 'baby', 'bitch', '.']\nUnmatched tokens:  []\n\na bitch in which I find attractive can take her sock off and my dick will suddenly become hard as shit .. \nMatched tokens:  ['bitch', 'find', 'attractive', 'take', 'sock', 'dick', 'suddenly', 'become', 'hard', 'shit', '..']\nUnmatched tokens:  []\n\nRT @user 'You miss 100% of the shots you don't take.' -- Wayne Gretzky \nMatched tokens:  ['rt', \"'you\", 'miss', 'shots', \"take.'\", 'wayne', 'gretzky']\nUnmatched tokens:  ['%', '--']\n\n@user Actually that is any benefits which would make a Immigrant a \"Public Charge\" law on the books for over 100 years not entitled to hold a green card or become a citizen but #Dems wont enforce it !  That is why 73% of  Mexican and Central Amer \nMatched tokens:  ['actually', 'benefits', 'would', 'make', 'immigrant', 'public', 'charge', 'law', 'books', 'years', 'entitled', 'hold', 'green', 'card', 'become', 'citizen', '#dems', 'enforce', '!', 'mexican', 'central', 'amer']\nUnmatched tokens:  ['%']\n\nHow much is John McCains funeral costing tax payers? Not including his no vote to scrap Obamacare. Next time use our hard earned money for something useful like building the wall!!#BuildThatWall#McCainFuneral #Baloney \nMatched tokens:  ['much', 'john', 'mccains', 'funeral', 'costing', 'tax', 'payers', '?', 'including', 'vote', 'scrap', 'obamacare', '.', 'next', 'time', 'use', 'hard', 'earned', 'money', 'something', 'useful', 'like', 'building', 'wall', '!', '!', '#buildthatwall#mccainfuneral', '#baloney']\nUnmatched tokens:  []\n\nI've never in my LIFE met a woman who was smarter then ME. Maybe that has to do with their small retard brains? #womenaredumb.. \nMatched tokens:  ['never', 'life', 'met', 'woman', 'smarter', '.', 'maybe', 'small', 'retard', 'brains', '?', '#womenaredumb', '..']\nUnmatched tokens:  []\n\nSyrian activist alleges UN gave Rakban camp refugee children expired sweets \nMatched tokens:  ['syrian', 'activist', 'alleges', 'un', 'gave', 'rakban', 'camp', 'refugee', 'children', 'expired', 'sweets']\nUnmatched tokens:  []\n\n@user I bit my toungue when l heard Syrian refugees complain about Rothsey then again , maybe someone can swop them with a high rise \nMatched tokens:  ['bit', 'toungue', 'l', 'heard', 'syrian', 'refugees', 'complain', 'rothsey', ',', 'maybe', 'someone', 'swop', 'high', 'rise']\nUnmatched tokens:  []\n\n@user List fails without '50 Things To Think About To Stop You Doing Your Beans' by Kunt and the Gang \nMatched tokens:  ['list', 'fails', 'without', \"'\", 'things', 'think', 'stop', \"beans'\", 'kunt', 'gang']\nUnmatched tokens:  []\n\nSWEDEN Dentist fined nearly $50,000 for revealing that many adult Muslim migrants are posing as 'unaccompanied refugee children' via @user Swedenstan update... \nMatched tokens:  ['sweden', 'dentist', 'fined', 'nearly', '$', ',', 'revealing', 'many', 'adult', 'muslim', 'migrants', 'posing', \"'unaccompanied\", 'refugee', \"children'\", 'via', 'swedenstan', 'update', '...']\nUnmatched tokens:  []\n\nThe US bill is an illegal endeavour and cannot impact the current situation. It is a part of the “deal of the century” which aims to revoke the Palestinian refugees’ right of return and works hand in hand with the Israeli racist Nation State Law,  \nMatched tokens:  ['us', 'bill', 'illegal', 'endeavour', 'cannot', 'impact', 'current', 'situation', '.', 'part', 'deal', 'century', 'aims', 'revoke', 'palestinian', 'refugees’', 'right', 'return', 'works', 'hand', 'hand', 'israeli', 'racist', 'nation', 'state', 'law', ',']\nUnmatched tokens:  ['“', '”']\n\nUGH! Fake Christians really out here trying to take away our rights!! IF YOU CARE SO MUCH ABOUT LIFE THEN FIX THE ALREADY BROKEN FOSTER CARE SYSTEM AND WELCOME REFUGEES WITH OPEN ARMS. FOLLOWER OF CHRIST?? WHILE NOT LOVING YOUR NEIGHBORS? YIKES. \nMatched tokens:  ['ugh', '!', 'fake', 'christians', 'really', 'trying', 'take', 'away', 'rights', '!', '!', 'care', 'much', 'life', 'fix', 'already', 'broken', 'foster', 'care', 'system', 'welcome', 'refugees', 'open', 'arms', '.', 'follower', 'christ', '?', '?', 'loving', 'neighbors', '?', 'yikes', '.']\nUnmatched tokens:  []\n\n@user Lmao on my grandmother , you never knew me in 2012 so stop while you really ahead hoe \nMatched tokens:  ['lmao', 'grandmother', ',', 'never', 'knew', 'stop', 'really', 'ahead', 'hoe']\nUnmatched tokens:  []\n\nCould you please explain why you praised the research of an anti-Muslim and anti-immigrant foundation linked to Orban's far-right government?  Or why you are hosting events at the Hungarian Embassy for this foundation? \nMatched tokens:  ['could', 'please', 'explain', 'praised', 'research', 'anti-muslim', 'anti-immigrant', 'foundation', 'linked', \"orban's\", 'far-right', 'government', '?', 'hosting', 'events', 'hungarian', 'embassy', 'foundation', '?']\nUnmatched tokens:  []\n\nWas a legal Resident until she was Convicted of Shoplifting Deported then Came Back Illegally  Now She wants U,S Taxpayers to pay her Medical Bills  #SendHerBack let her family go with her !  #Immigration \nMatched tokens:  ['legal', 'resident', 'convicted', 'shoplifting', 'deported', 'came', 'back', 'illegally', 'wants', ',', 'taxpayers', 'pay', 'medical', 'bills', '#sendherback', 'let', 'family', 'go', '!', '#immigration']\nUnmatched tokens:  []\n\nItaly and France try to patch up migrant row, draw papal rebuke    Send them to the Vatican... \nMatched tokens:  ['italy', 'france', 'try', 'patch', 'migrant', 'row', ',', 'draw', 'papal', 'rebuke', 'send', 'vatican', '...']\nUnmatched tokens:  []\n\n@user @user in an interview with @user Trump doesn't need Congress to Build The Wall.We are being invaded by a foreign country; defending our Borders is the # 1 job of the Commander-In-Chief, use DOD funds.\"PLEASE @user \nMatched tokens:  ['interview', 'trump', 'need', 'congress', 'build', 'wall.we', 'invaded', 'foreign', 'country', 'defending', 'borders', '#', 'job', 'commander-in', 'chief', ',', 'use', 'dod', 'funds', '.', 'please']\nUnmatched tokens:  [';', '-']\n\nIf you hate fuckboys it's only cause you let one break your stupid little heart... Dumb dumb \nMatched tokens:  ['hate', 'fuckboys', 'let', 'one', 'break', 'stupid', 'little', 'heart', '...', 'dumb', 'dumb']\nUnmatched tokens:  []\n\n@user Then don't be a whore and open your legs for everyone, and not fuck everyone you want, and magically, you'll prevent getting an STD. \nMatched tokens:  ['whore', 'open', 'legs', 'everyone', ',', 'fuck', 'everyone', 'want', ',', 'magically', ',', 'prevent', 'getting', 'std', '.']\nUnmatched tokens:  []\n\n@ THE BROKE BITCHES WHO ARE PARTYING IN MY OVARIES. I HOPE YOU FUCKING DIE AND ROT IN HELL YOU STUPID UGLY ASS BITCH \nMatched tokens:  ['@', 'broke', 'bitches', 'partying', 'ovaries', '.', 'hope', 'fucking', 'die', 'rot', 'hell', 'stupid', 'ugly', 'ass', 'bitch']\nUnmatched tokens:  []\n\n@user @user We need to keep saying it until its built! #BuildThatWall \nMatched tokens:  ['need', 'keep', 'saying', 'built', '!', '#buildthatwall']\nUnmatched tokens:  []\n\nICE: 124 illegal immigrants released from jail later charged in 138 murder cases #BuildTheWall #EnforceUSLaws#KeepAmericansSafeThis is all the Congress should be comtemplating!#BanSanctuaryCities #NoAmnesty #NoDACADeal #EndChainMigration #Deport \nMatched tokens:  ['ice', 'illegal', 'immigrants', 'released', 'jail', 'later', 'charged', 'murder', 'cases', '#buildthewall', '#enforceuslaws#keepamericanssafethis', 'congress', 'comtemplating', '!', '#bansanctuarycities', '#noamnesty', '#nodacadeal', '#endchainmigration', '#deport']\nUnmatched tokens:  [':']\n\n@user Facts! like bitch stfu & sit in the corner hoe. Catch a fit in the corner, facing the wall \nMatched tokens:  ['facts', '!', 'like', 'bitch', 'stfu', 'sit', 'corner', 'hoe', '.', 'catch', 'fit', 'corner', ',', 'facing', 'wall']\nUnmatched tokens:  ['&']\n\n#information_warfare \nMatched tokens:  ['#information_warfare']\nUnmatched tokens:  []\n\nHere comes the results of socialism. To all Liberals who want communism; here comes your new roomies. #BuildThatWall \nMatched tokens:  ['comes', 'results', 'socialism', '.', 'liberals', 'want', 'communism', 'comes', 'new', 'roomies', '.', '#buildthatwall']\nUnmatched tokens:  [';']\n\nIraqi Immigrant Accused Of Critically Wounding Colorado Cop Evaded Deportation Despite Criminal Record \nMatched tokens:  ['iraqi', 'immigrant', 'accused', 'critically', 'wounding', 'colorado', 'cop', 'evaded', 'deportation', 'despite', 'criminal', 'record']\nUnmatched tokens:  []\n\nAnd why should he now buckle to their demands that he swear undying trust for these A******* ?????  THEY are the enemy of this nation! #Treason \nMatched tokens:  ['buckle', 'demands', 'swear', 'undying', 'trust', '?', '?', '?', '?', '?', 'enemy', 'nation', '!', '#treason']\nUnmatched tokens:  ['*******']\n\nTrump Administration May Be Creating 'Permanently Orphaned' Immigrant Kids, Judge Says – Texas Monthly \nMatched tokens:  ['trump', 'administration', 'may', 'creating', \"'permanently\", \"orphaned'\", 'immigrant', 'kids', ',', 'judge', 'says', 'texas', 'monthly']\nUnmatched tokens:  ['–']\n\n@user Families should not bring their kids into a country illegally, would you?  We can’t afford them #sendthemhome \nMatched tokens:  ['families', 'bring', 'kids', 'country', 'illegally', ',', 'would', '?', 'afford', '#sendthemhome']\nUnmatched tokens:  []\n\nEffects of Third World Immigration into Canada via @user \nMatched tokens:  ['effects', 'third', 'world', 'immigration', 'canada', 'via']\nUnmatched tokens:  []\n\nTHINGS GOT HEATED: BREAKING: Woman Sets Pedophile Muslim Man on Fire After Catching Him Rape 7 -Yr -Old Daughter \nMatched tokens:  ['things', 'got', 'heated', 'breaking', 'woman', 'sets', 'pedophile', 'muslim', 'man', 'fire', 'catching', 'rape', 'yr', 'old', 'daughter']\nUnmatched tokens:  [':', ':', '-', '-']\n\n#FactCheck true #WakeUpAmerica #LeftistSedition #DemocratsHateAmerica #OpenYourEyes #FreeYourMind #BuildTheWall #StopTheInvasion \nMatched tokens:  ['#factcheck', 'true', '#wakeupamerica', '#leftistsedition', '#democratshateamerica', '#openyoureyes', '#freeyourmind', '#buildthewall', '#stoptheinvasion']\nUnmatched tokens:  []\n\nYouth #Care Worker Accused of Sexually Abusing #Immigrant Boys - #PrescientInfo \nMatched tokens:  ['youth', '#care', 'worker', 'accused', 'sexually', 'abusing', '#immigrant', 'boys', '#prescientinfo']\nUnmatched tokens:  ['-']\n\nThis year a young immigrant from Mali saved the life of a child in France. The President of France personally awarded him a National hero medal for bravery after inviting him to the Elysée Palace, offered him French citizenship and a job.  This year, the…https://t.co/hKdEgTi5ya \nMatched tokens:  ['year', 'young', 'immigrant', 'mali', 'saved', 'life', 'child', 'france', '.', 'president', 'france', 'personally', 'awarded', 'national', 'hero', 'medal', 'bravery', 'inviting', 'elys', 'e', 'palace', ',', 'offered', 'french', 'citizenship', 'job', '.', 'year', ',', '…']\nUnmatched tokens:  ['é']\n\n'Come up here and say somethin now you broke, beggin, fingers in the booty ass bitch' \nMatched tokens:  [\"'come\", 'say', 'somethin', 'broke', ',', 'beggin', ',', 'fingers', 'booty', 'ass', \"bitch'\"]\nUnmatched tokens:  []\n\nGoals AF \nMatched tokens:  ['goals', 'af']\nUnmatched tokens:  []\n\nHmm... Someone named \"Garcia\" wants to eliminate the US/Mexico border. Imagine my surprise.What's it called when a foreign agent enters your country &amp; sabotages your #BorderSecurity for the benefit of their own country?#StopTheInvasion #SecureTheBorder #BuildTheWall #NoIllegals \nMatched tokens:  ['hmm', '...', 'someone', 'named', 'garcia', 'wants', 'eliminate', 'us/mexico', 'border', '.', 'imagine', 'surprise.what', 'called', 'foreign', 'agent', 'enters', 'country', 'sabotages', '#bordersecurity', 'benefit', 'country', '?', '#stoptheinvasion', '#securetheborder', '#buildthewall', '#noillegals']\nUnmatched tokens:  ['&']\n\n@user Coming from a hysterical woman. \nMatched tokens:  ['coming', 'hysterical', 'woman', '.']\nUnmatched tokens:  []\n\n@user Hahahahahahahaha no wonder you work for the sun you thick kunt. \nMatched tokens:  ['hahahahahahahaha', 'wonder', 'work', 'sun', 'thick', 'kunt', '.']\nUnmatched tokens:  []\n\n@user you guys nailed it. I've had 3 seperate fits of hysterical laughter and I didn't even make it to the school yet. \nMatched tokens:  ['guys', 'nailed', '.', 'seperate', 'fits', 'hysterical', 'laughter', 'even', 'make', 'school', 'yet', '.']\nUnmatched tokens:  []\n\nAmerican #FamiliesBelongTogether but the #Democrat Socialist Party Keeps allowing Illegals to Kill them  #FamiliesBelongTogetherMarch  #AmericansFirst Not Illegals Breaking #Inmigration laws \nMatched tokens:  ['american', '#familiesbelongtogether', '#democrat', 'socialist', 'party', 'keeps', 'allowing', 'illegals', 'kill', '#familiesbelongtogethermarch', '#americansfirst', 'illegals', 'breaking', '#inmigration', 'laws']\nUnmatched tokens:  []\n\n@user this your whore you going to marry and lie to me about will never marry women who show body to public \nMatched tokens:  ['whore', 'going', 'marry', 'lie', 'never', 'marry', 'women', 'show', 'body', 'public']\nUnmatched tokens:  []\n\nRussian immigrant seeks Democratic nomination for Alaska’s U.S. House seat \nMatched tokens:  ['russian', 'immigrant', 'seeks', 'democratic', 'nomination', 'alaska’s', 'you.s', '.', 'house', 'seat']\nUnmatched tokens:  []\n\ndawgg im fr boutta roast this bitch LMFOAOO DONT EVER POST IAN AGAIN U STUPID ASS SLUT \nMatched tokens:  ['dawgg', 'fr', 'boutta', 'roast', 'bitch', 'lmfoaoo', 'ever', 'post', 'ian', 'stupid', 'ass', 'slut']\nUnmatched tokens:  []\n\nFox News host: Lock Clinton up Get this CUNT Pirro off the air. She is a woman hating woman. \nMatched tokens:  ['fox', 'news', 'host', 'lock', 'clinton', 'get', 'cunt', 'pirro', 'air', '.', 'woman', 'hating', 'woman', '.']\nUnmatched tokens:  [':']\n\n@user sorry sweetie, but women are the causes of all problems \nMatched tokens:  ['sorry', 'sweetie', ',', 'women', 'causes', 'problems']\nUnmatched tokens:  []\n\nThousands march in #Munich to show support for migrants \nMatched tokens:  ['thousands', 'march', '#munich', 'show', 'support', 'migrants']\nUnmatched tokens:  []\n\nHow to Pronounce Whore Eyed Cunt ↺RT❤ # \nMatched tokens:  ['pronounce', 'whore', 'eyed', 'cunt', 'rt', 'red_heart', '#']\nUnmatched tokens:  ['↺']\n\n@user bitches love electric toothbrushes in their twats... \nMatched tokens:  ['bitches', 'love', 'electric', 'toothbrushes', 'twats', '...']\nUnmatched tokens:  []\n\nCan you bitches stop pulling ya pants up above your belly button, you look like my fuckin grandfather \nMatched tokens:  ['bitches', 'stop', 'pulling', 'ya', 'pants', 'belly', 'button', ',', 'look', 'like', 'fuckin', 'grandfather']\nUnmatched tokens:  []\n\nLast week, Her Justice staff members spoke about immigrant detention, focusing on the inhumane treatment and poor conditions they observed volunteering at South Texas Family Residential Center in Dilley, TX and how chaotic policy changes continue to adversely affect detainees. \nMatched tokens:  ['last', 'week', ',', 'justice', 'staff', 'members', 'spoke', 'immigrant', 'detention', ',', 'focusing', 'inhumane', 'treatment', 'poor', 'conditions', 'observed', 'volunteering', 'south', 'texas', 'family', 'residential', 'center', 'dilley', ',', 'tx', 'chaotic', 'policy', 'changes', 'continue', 'adversely', 'affect', 'detainees', '.']\nUnmatched tokens:  []\n\n@user : Vogue hijabi cover star on growing up in a #refugee camp via @user #WithRefugees #WorldRefugeeDay @user @user @user @user \nMatched tokens:  ['vogue', 'hijabi', 'cover', 'star', 'growing', '#refugee', 'camp', 'via', '#withrefugees', '#worldrefugeeday']\nUnmatched tokens:  [':']\n\n* Croatia ðŸ‡­ðŸ‡·:  Last Wednesday, illegal migrants from Iran were detained in a neighborhood near ZapreÅ¡iÄ‡.  #v4 #visegrad \nMatched tokens:  ['croatia', 'last', 'wednesday', ',', 'illegal', 'migrants', 'iran', 'detained', 'neighborhood', 'near', 'zapre', '.', '#visegrad']\nUnmatched tokens:  ['*', 'ðÿ‡\\xadðÿ‡·:', 'å¡', 'ä‡']\n\nParis dont like tentrefugees. Now they bring them to the parque \"Bois de Bologne\". Close of this place life the most rich people of France in the Avenue Foch. The rich have made big walls around their property. \nMatched tokens:  ['paris', 'like', 'tentrefugees', '.', 'bring', 'parque', 'bois', 'de', 'bologne', '.', 'close', 'place', 'life', 'rich', 'people', 'france', 'avenue', 'foch', '.', 'rich', 'made', 'big', 'walls', 'around', 'property', '.']\nUnmatched tokens:  []\n\nAlabama: Illegals Force 13-Year-Old Girl to Watch Murder of her Grandmother, Then Behead Girl#IllegalAliens #Alabama #Animals #KAG#RollTide #WalkAway #LockThemAllUp #SendThemBack #BuildTheWall #MAGA #Trump #Trump2020 #QResearch #PatriotsFight #RedPill \nMatched tokens:  ['alabama', 'illegals', 'force', 'year-old', 'girl', 'watch', 'murder', 'grandmother', ',', 'behead', 'girl#illegalaliens', '#alabama', '#animals', '#kag#rolltide', '#walkaway', '#lockthemallup', '#sendthemback', '#buildthewall', '#maga', '#trump', '#qresearch', '#patriotsfight', '#redpill']\nUnmatched tokens:  [':', '-']\n\nLike if you didnt want to have a party, don't fucking broadcast it #ThatsTheShitIDontLike #WomenSuck \nMatched tokens:  ['like', 'want', 'party', ',', 'fucking', 'broadcast', '#thatstheshitidontlike', '#womensuck']\nUnmatched tokens:  []\n\n@user Cameron you could not stop migration in ur one of many broken promises y do we need to stay in Europe to rub it in \nMatched tokens:  ['cameron', 'could', 'stop', 'migration', 'ur', 'one', 'many', 'broken', 'promises', 'need', 'stay', 'europe', 'rub']\nUnmatched tokens:  []\n\n@user I know you do, slut \nMatched tokens:  ['know', ',', 'slut']\nUnmatched tokens:  []\n\nWhen you thought you'd try a little s &; m and now your ass hurts so bad you can hardly sit \nMatched tokens:  ['thought', 'would', 'try', 'little', 'ass', 'hurts', 'bad', 'hardly', 'sit']\nUnmatched tokens:  ['&;']\n\n⁦@RepMcClintock⁩ has voted to destroy the #ACA more times than I can count. Don’t give him another opportunity. Choose to support healthcare, science, immigrant rights, civil rights &amp; social justice. Choose ⁦@Morse4America⁩ #TeamMorse  \nMatched tokens:  ['@repmcclintock', 'voted', 'destroy', '#aca', 'times', 'count', '.', 'give', 'another', 'opportunity', '.', 'choose', 'support', 'healthcare', ',', 'science', ',', 'immigrant', 'rights', ',', 'civil', 'rights', 'social', 'justice', '.', 'choose', '@america', '#teammorse']\nUnmatched tokens:  ['\\u2066', '\\u2069', '&', '\\u2066', '\\u2069']\n\ncocks of the beasts we keep. The life of a slut or breeding whore is quite exciting.” \nMatched tokens:  ['cocks', 'beasts', 'keep', '.', 'life', 'slut', 'breeding', 'whore', 'quite', 'exciting', '.']\nUnmatched tokens:  ['”']\n\nImmigrant Health Workers in the UK \nMatched tokens:  ['immigrant', 'health', 'workers', 'uk']\nUnmatched tokens:  []\n\nThat's the original it came from. But I appreciate the fact that you think I would follow or steal from u. Sit down \nMatched tokens:  ['original', 'came', '.', 'appreciate', 'fact', 'think', 'would', 'follow', 'steal', '.', 'sit']\nUnmatched tokens:  []\n\nIllegal immigration drives up real estate prices, widens wealth-gaps, reduces high-tech investment, increases state and local tax burdens, hurts kids’ schools and college education, pushes Americans away from high-tech jobs \nMatched tokens:  ['illegal', 'immigration', 'drives', 'real', 'estate', 'prices', ',', 'widens', 'wealth-gaps', ',', 'reduces', 'high-tech', 'investment', ',', 'increases', 'state', 'local', 'tax', 'burdens', ',', 'hurts', 'kids’', 'schools', 'college', 'education', ',', 'pushes', 'americans', 'away', 'high-tech', 'jobs']\nUnmatched tokens:  []\n\n@user Some women are aggressive, promiscuous whores, but all women must try harder not to make men feel uncomf… \nMatched tokens:  ['women', 'aggressive', ',', 'promiscuous', 'whores', ',', 'women', 'must', 'try', 'harder', 'make', 'men', 'feel', 'uncomf', '…']\nUnmatched tokens:  []\n\nTotally out of control. These people @user @user @user @user need to be reigned in. Hotel rooms for opportunist migrants, millions being spent trying to stuff the genie back in the bottle, no end or strategy in sight.  \nMatched tokens:  ['totally', 'control', '.', 'people', 'need', 'reigned', '.', 'hotel', 'rooms', 'opportunist', 'migrants', ',', 'millions', 'spent', 'trying', 'stuff', 'genie', 'back', 'bottle', ',', 'end', 'strategy', 'sight', '.']\nUnmatched tokens:  []\n\n@user Wake Up & Prepare to Stop the Evil Dead in it's Tracks! #SendThemBack #DeportTheUndesirables #KickOutTheLyers #SaveTheWorldUnderTheOneTrueGod \nMatched tokens:  ['wake', 'prepare', 'stop', 'evil', 'dead', 'tracks', '!', '#sendthemback', '#deporttheundesirables', '#kickoutthelyers', '#savetheworldundertheonetruegod']\nUnmatched tokens:  ['&']\n\nPlease rape my slut cunt and fill it up to the brim with thick, hot cum \nMatched tokens:  ['please', 'rape', 'slut', 'cunt', 'fill', 'brim', 'thick', ',', 'hot', 'cum']\nUnmatched tokens:  []\n\nAs long as the position is on all fours who cares \nMatched tokens:  ['long', 'position', 'fours', 'cares']\nUnmatched tokens:  []\n\n@user well stfu then BITCH you coming to some yeen got NO BUSINESS being in. You need to mind the business that pays you hoe \nMatched tokens:  ['well', 'stfu', 'bitch', 'coming', 'yeen', 'got', 'business', '.', 'need', 'mind', 'business', 'pays', 'hoe']\nUnmatched tokens:  []\n\nWhen the pizza man is more than a minute late \nMatched tokens:  ['pizza', 'man', 'minute', 'late']\nUnmatched tokens:  []\n\nLIBYA TELLS ITALY: \"We don't care how much you pay us, we don't want to take back the migrant wannabes that you reject because “they include terrorists, criminals, and human traffickers\" via @user \nMatched tokens:  ['libya', 'tells', 'italy', 'care', 'much', 'pay', 'us', ',', 'want', 'take', 'back', 'migrant', 'wannabes', 'reject', 'include', 'terrorists', ',', 'criminals', ',', 'human', 'traffickers', 'via']\nUnmatched tokens:  [':', '“']\n\nYou ever be talkin to someone that you really wanna fuck, then they say one thing and all of the sudden you have no desire to fuck at all? \nMatched tokens:  ['ever', 'talkin', 'someone', 'really', 'want', 'fuck', ',', 'say', 'one', 'thing', 'sudden', 'desire', 'fuck', '?']\nUnmatched tokens:  []\n\n500,000 angry Democrat women swarm Hollywood to protest rampant rape, misogyny and sexism Oh, wait............. Ne… \nMatched tokens:  [',', 'angry', 'democrat', 'women', 'swarm', 'hollywood', 'protest', 'rampant', 'rape', ',', 'misogyny', 'sexism', 'oh', ',', 'wait', '.............', 'ne', '…']\nUnmatched tokens:  []\n\nNumber of illegal migrants in Ukraine grows by 22% \nMatched tokens:  ['number', 'illegal', 'migrants', 'ukraine', 'grows']\nUnmatched tokens:  ['%']\n\n@user I get suspended at least every other day. But you still see that skank whore Chelsea Handler still tweeting away. \nMatched tokens:  ['get', 'suspended', 'least', 'every', 'day', '.', 'still', 'see', 'skank', 'whore', 'chelsea', 'handler', 'still', 'tweeting', 'away', '.']\nUnmatched tokens:  []\n\nRT @user Her:I don't get what u want outta this relationship Him:Well, I was only looking for a bj but u kept coming back \nMatched tokens:  ['rt', 'get', 'want', 'outta', 'relationship', 'well', ',', 'looking', 'bj', 'kept', 'coming', 'back']\nUnmatched tokens:  [':', ':']\n\nImagine when all the EU migrants go home after #Brexit. No more baguettes or pizza. People in the UK will be reduced to just eating traditional UK foods. Like chicken Balti. \nMatched tokens:  ['imagine', 'eu', 'migrants', 'go', 'home', '#brexit', '.', 'baguettes', 'pizza', '.', 'people', 'uk', 'reduced', 'eating', 'traditional', 'uk', 'foods', '.', 'like', 'chicken', 'balti', '.']\nUnmatched tokens:  []\n\nAn undercount would allow the federal government to direct resources away from California, which has the largest #immigrant population in the country.  #Census takers could miss counting millions of #Californians, researchers say  \nMatched tokens:  ['undercount', 'would', 'allow', 'federal', 'government', 'direct', 'resources', 'away', 'california', ',', 'largest', '#immigrant', 'population', 'country', '.', '#census', 'takers', 'could', 'miss', 'counting', 'millions', '#californians', ',', 'researchers', 'say']\nUnmatched tokens:  []\n\nNikki Haley: UN can’t 'dictate' US immigration policy \nMatched tokens:  ['nikki', 'haley', 'un', \"'dictate'\", 'us', 'immigration', 'policy']\nUnmatched tokens:  [':']\n\nI cannot stand girls that ALWAYS have to have a boyfriend. #AttentionWhores #WomenSuck \nMatched tokens:  ['cannot', 'stand', 'girls', 'always', 'boyfriend', '.', '#attentionwhores', '#womensuck']\nUnmatched tokens:  []\n\n@user Why you getting so hysterical. \nMatched tokens:  ['getting', 'hysterical', '.']\nUnmatched tokens:  []\n\nTHIS WOMEN CAN DO ONLY ONE THINK, BACK INTO HER RAT🐀 HOLE NEVER TO COME OUT AGAIN🐀IF SHE SHOW UP ON SURFACE AM CALL… \nMatched tokens:  ['women', 'one', 'think', ',', 'back', 'rat', 'rat', 'hole', 'never', 'come', 'rat', 'show', 'surface', 'call', '…']\nUnmatched tokens:  []\n\n#ACTNOW! #USA #EB5 #EB5Visa #Immigrant #Foreign #Investor #Visa Program Laws ARE Changing! $500k #Investment. Payment plans available. Use #bitcoin #ether #cryptocurrency. Become a US Citizen! Visit us at Contact us TODAY at gbibuildingco@outlook.com. RT \nMatched tokens:  ['#actnow', '!', '#usa', 'visa', '#immigrant', '#foreign', '#investor', '#visa', 'program', 'laws', 'changing', '!', '$', '#investment', '.', 'payment', 'plans', 'available', '.', 'use', '#bitcoin', '#ether', '#cryptocurrency', '.', 'become', 'us', 'citizen', '!', 'visit', 'us', 'contact', 'us', 'today', 'gbibuildingco@outlook.com', '.', 'rt']\nUnmatched tokens:  []\n\nThe Latest: Spanish PM lets migrant boat dock at Valencia    You idiots are killing Spain with islamists... \nMatched tokens:  ['latest', 'spanish', 'pm', 'let', 'us', 'migrant', 'boat', 'dock', 'valencia', 'idiots', 'killing', 'spain', 'islamists', '...']\nUnmatched tokens:  [':']\n\nAfghan and Pakistani migrants were shot at as they tried to invade Hungary - Free Speech Time - @user \nMatched tokens:  ['afghan', 'pakistani', 'migrants', 'shot', 'tried', 'invade', 'hungary', 'free', 'speech', 'time']\nUnmatched tokens:  ['-', '-']\n\n@user shut the fuck up hes not gonna dick you was gonna send u this dope steroline edit but u can go cry to olly \nMatched tokens:  ['shut', 'fuck', 'hes', 'going', 'dick', 'going', 'send', 'dope', 'steroline', 'edit', 'go', 'cry', 'olly']\nUnmatched tokens:  []\n\nyou low life scum, pathetic, deprave, pile of shit, maggots. like i said that brainless skank bitch should've died… \nMatched tokens:  ['low', 'life', 'scum', ',', 'pathetic', ',', 'deprave', ',', 'pile', 'shit', ',', 'maggots', '.', 'like', 'said', 'brainless', 'skank', 'bitch', 'died', '…']\nUnmatched tokens:  []\n\n@user @user bitch we r now TxF sluts \nMatched tokens:  ['bitch', 'r', 'txf', 'sluts']\nUnmatched tokens:  []\n\n@user At the very least Ryan and McConnell need to force the dems to vote against the wall. \nMatched tokens:  ['least', 'ryan', 'mcconnell', 'need', 'force', 'dems', 'vote', 'wall', '.']\nUnmatched tokens:  []\n\nRussia Liquidates Its US Treasury Holdings | Zero Hedge   No surprise here... \nMatched tokens:  ['russia', 'liquidates', 'us', 'treasury', 'holdings', 'zero', 'hedge', 'surprise', '...']\nUnmatched tokens:  ['|']\n\n#FactCheck wow #FactsMatter #VoteDemsOut #RedWaveRising2018 #StopTheInvasion #BuildTheWall #DeportThemAll #EndSanctuaryCities #TakeAmericaBack #WalkAwayMovementGrowing #MAGA \nMatched tokens:  ['#factcheck', 'wow', '#factsmatter', '#votedemsout', '#stoptheinvasion', '#buildthewall', '#deportthemall', '#endsanctuarycities', '#takeamericaback', '#walkawaymovementgrowing', '#maga']\nUnmatched tokens:  []\n\n@user @user @user THIS CANNOT BE ALLOWED TO HAPPEN----CHILD KIDNAPPER AND MOLESTER MILLER NEEDS TO BE GONE! \nMatched tokens:  ['cannot', 'allowed', 'happen', 'child', 'kidnapper', 'molester', 'miller', 'needs', 'gone', '!']\nUnmatched tokens:  ['----']\n\n@user  IDS the man who smirks at his own policies and implications on his own people y wont he admit its migration that fuels this \nMatched tokens:  ['ids', 'man', 'smirks', 'policies', 'implications', 'people', 'admit', 'migration', 'fuels']\nUnmatched tokens:  []\n\nUN seeks new funding pledges for Palestinian refugees... \nMatched tokens:  ['un', 'seeks', 'new', 'funding', 'pledges', 'palestinian', 'refugees', '...']\nUnmatched tokens:  []\n\n@user Total lie. CONG is the main culprit for influx of illegal migrants both Bangladeshis&amp; Rhongyias. If they deported few, millions came during their tenures&amp; they encouraged Muslim illegal migrants&amp;shooed away Hindu migrants \nMatched tokens:  ['total', 'lie', '.', 'cong', 'main', 'culprit', 'influx', 'illegal', 'migrants', 'bangladeshis', 'rhongyias', '.', 'deported', ',', 'millions', 'came', 'tenures', 'encouraged', 'muslim', 'illegal', 'migrants&shooed', 'away', 'hindu', 'migrants']\nUnmatched tokens:  ['&', '&']\n\nSigh... \nMatched tokens:  ['sigh', '...']\nUnmatched tokens:  []\n\nImmigration Will Not Make America Great Again \nMatched tokens:  ['immigration', 'make', 'america', 'great']\nUnmatched tokens:  []\n\nObama, our SMALLEST president. Must take credit for all good; disavows all that was bad during his 8 year assault on our great country.#MAGA #KAG #POTUS #Trump #NEWS #VoteRed #NoDACA #WalkAway #AmericaFirst #USA #BackTheBlue #AllLivesMatter #LiberalismIsAMentalDisorder #NRA \nMatched tokens:  ['obama', ',', 'smallest', 'president', '.', 'must', 'take', 'credit', 'good', 'disavows', 'bad', 'year', 'assault', 'great', 'country.#maga', '#kag', '#potus', '#trump', '#news', '#votered', '#nodaca', '#walkaway', '#americafirst', '#usa', '#backtheblue', '#alllivesmatter', '#liberalismisamentaldisorder', '#nra']\nUnmatched tokens:  [';']\n\n@user This trashy whore gold digger at again trying be something that makes her think shes good ughhh not happening hoe bag pos \nMatched tokens:  ['trashy', 'whore', 'gold', 'digger', 'trying', 'something', 'makes', 'think', 'good', 'ughhh', 'happening', 'hoe', 'bag', 'pos']\nUnmatched tokens:  []\n\nWhen his dick game is garbage but his mouth game is fire AF \nMatched tokens:  ['dick', 'game', 'garbage', 'mouth', 'game', 'fire', 'af']\nUnmatched tokens:  []\n\n“The verification will play a key role in establishing refugees’ identities and their declared places of origin in Myanmar. It will help to preserve their right to voluntarily return home, if and when they decide that the conditions are right to do so.” \nMatched tokens:  ['verification', 'play', 'key', 'role', 'establishing', 'refugees’', 'identities', 'declared', 'places', 'origin', 'myanmar', '.', 'help', 'preserve', 'right', 'voluntarily', 'return', 'home', ',', 'decide', 'conditions', 'right', '.']\nUnmatched tokens:  ['“', '”']\n\nI recently read a book with a passage between a woman and a powerful man. I had to ask author if it was rape or nah. That's how blurry it is \nMatched tokens:  ['recently', 'read', 'book', 'passage', 'woman', 'powerful', 'man', '.', 'ask', 'author', 'rape', 'nah', '.', 'blurry']\nUnmatched tokens:  []\n\n#Rohingya refugees move to higher ground to avert loss of lives in the upcoming monsoon season #ucanews #voiceforthevoiceless #refugee #Bangladesh @user @user @user @user @user \nMatched tokens:  ['#rohingya', 'refugees', 'move', 'higher', 'ground', 'avert', 'loss', 'lives', 'upcoming', 'monsoon', 'season', '#ucanews', '#voiceforthevoiceless', '#refugee', '#bangladesh']\nUnmatched tokens:  []\n\nTesla Driving Russian Immigrant Running As A Democrat For US House Seat In Alaska \nMatched tokens:  ['tesla', 'driving', 'russian', 'immigrant', 'running', 'democrat', 'us', 'house', 'seat', 'alaska']\nUnmatched tokens:  []\n\nNever try to Holla at women who dissed you in his school I got called misogynistic egotistical whore monger damn bitch OK have a nice day 😂 \nMatched tokens:  ['never', 'try', 'holla', 'women', 'dissed', 'school', 'got', 'called', 'misogynistic', 'egotistical', 'whore', 'monger', 'damn', 'bitch', 'ok', 'nice', 'day', 'face_with_tears_of_joy']\nUnmatched tokens:  []\n\nHIV-positive shelter worker in Mesa sexually abused 8 immigrant boys, authorities say \nMatched tokens:  ['hiv-positive', 'shelter', 'worker', 'mesa', 'sexually', 'abused', 'immigrant', 'boys', ',', 'authorities', 'say']\nUnmatched tokens:  []\n\n",
     "output_type": "stream"
    }
   ]
  },
  {
   "cell_type": "markdown",
   "source": "<h4 style=\"color:orange\">Sentiment analysis</h4>",
   "metadata": {
    "tags": [],
    "cell_id": "00007-c0dfaeb7-097c-4dbf-a29c-7d43c53b57c9",
    "deepnote_cell_type": "markdown"
   }
  },
  {
   "cell_type": "code",
   "metadata": {
    "tags": [],
    "cell_id": "00008-7b3a1f30-5b68-43a0-a9c2-034e86a93dc3",
    "deepnote_to_be_reexecuted": false,
    "source_hash": "8cba0eb",
    "execution_start": 1622656901441,
    "execution_millis": 1089,
    "deepnote_cell_type": "code"
   },
   "source": "# Use first 200 rows in training dataset to develop proper tokenizer\n# Seen main_script.py for detail of implementation\nwith open(FILEPATHS[\"train_sentiment\"], encoding='utf-8') as f:\n    for i in range(200):\n\n        # Get the line\n        line = f.readline().strip(\"\\n\")\n        print(line)\n\n        # Tokenize it\n        tweet = prepareTweetForTokenizer(line, use_extended = True)\n        tokenizer(tweet, saveTo=\"print\")\n        print()",
   "execution_count": 4,
   "outputs": [
    {
     "name": "stdout",
     "text": "\"QT @user In the original draft of the 7th book, Remus Lupin survived the Battle of Hogwarts. #HappyBirthdayRemusLupin\" \nMatched tokens:  ['qt', 'original', 'draft', 'book', ',', 'remus', 'lupin', 'survived', 'battle', 'hogwarts', '.', '#happybirthdayremuslupin']\nUnmatched tokens:  []\n\n\"Ben Smith / Smith (concussion) remains out of the lineup Thursday, Curtis #NHL #SJ\" \nMatched tokens:  ['ben', 'smith', 'smith', 'concussion', 'remains', 'lineup', 'thursday', ',', 'curtis', '#nhl', '#sj']\nUnmatched tokens:  ['/']\n\nSorry bout the stream last night I crashed out but will be on tonight for sure. Then back to Minecraft in pc tomorrow night. \nMatched tokens:  ['sorry', 'bout', 'stream', 'last', 'night', 'crashed', 'tonight', 'sure', '.', 'back', 'minecraft', 'pc', 'tomorrow', 'night', '.']\nUnmatched tokens:  []\n\nChase Headley's RBI double in the 8th inning off David Price snapped a Yankees streak of 33 consecutive scoreless innings against Blue Jays \nMatched tokens:  ['chase', \"headley's\", 'rbi', 'double', 'inning', 'david', 'price', 'snapped', 'yankees', 'streak', 'consecutive', 'scoreless', 'innings', 'blue', 'jays']\nUnmatched tokens:  []\n\n@user Alciato: Bee will invest 150 million in January, another 200 in the Summer and plans to bring Messi by 2017\" \nMatched tokens:  ['alciato', 'bee', 'invest', 'million', 'january', ',', 'another', 'summer', 'plans', 'bring', 'messi']\nUnmatched tokens:  [':']\n\n@user LIT MY MUM 'Kerry the louboutins I wonder how many Willam owns!!! Look Kerry Warner Wednesday!' \nMatched tokens:  ['lit', 'mum', \"'kerry\", 'louboutins', 'wonder', 'many', 'willam', 'owns', '!', '!', '!', 'look', 'kerry', 'warner', 'wednesday', '!', \"'\"]\nUnmatched tokens:  []\n\n\"\\\"\"\"\" SOUL TRAIN\\\"\"\"\" OCT 27 HALLOWEEN SPECIAL ft T.dot FINEST rocking the mic...CRAZY CACTUS NIGHT CLUB ..ADV ticket $10 wt out costume $15...\" \nMatched tokens:  ['soul', 'train', 'oct', 'halloween', 'special', 'ft', 't.dot', 'finest', 'rocking', 'mic', '...', 'crazy', 'cactus', 'night', 'club', '..', 'adv', 'ticket', '$', 'wt', 'costume', '$', '...']\nUnmatched tokens:  ['\\\\', '\\\\']\n\nSo disappointed in wwe summerslam! I want to see john cena wins his 16th title \nMatched tokens:  ['disappointed', 'wwe', 'summerslam', '!', 'want', 'see', 'john', 'cena', 'wins', 'title']\nUnmatched tokens:  []\n\n\"This is the last Sunday w/o football .....,NFL is back baby\" \nMatched tokens:  ['last', 'sunday', 'w/of', 'football', '.....', ',', 'nfl', 'back', 'baby']\nUnmatched tokens:  []\n\n@user @user CENA & AJ sitting in a tree K-I-S-S-I-N-G 1st goes AJ's  job then John's cred then goes Vicki with the GM position. \nMatched tokens:  ['cena', 'aj', 'sitting', 'tree', 'k-i', 's-s', 'i-n', 'g', 'goes', \"aj's\", 'job', \"john's\", 'cred', 'goes', 'vicki', 'gm', 'position', '.']\nUnmatched tokens:  ['&', '-', '-', '-']\n\n@user Well said on HMW. Can you now address why Texans fans file out of the stadium midway through the 4th qtr of every game? \nMatched tokens:  ['well', 'said', 'hmw', '.', 'address', 'texans', 'fans', 'file', 'stadium', 'midway', 'qtr', 'every', 'game', '?']\nUnmatched tokens:  []\n\nJust said hello to Dennis Kucinich as he walked casually through campus with his #hotwife. He's on 22nd st! \nMatched tokens:  ['said', 'hello', 'dennis', 'kucinich', 'walked', 'casually', 'campus', '#hotwife', '.', 'st', '!']\nUnmatched tokens:  []\n\nSuper excited for homecoming Saturday with Monroe! :D my new nephew is here but I can\\u2019t see him :( \nMatched tokens:  ['super', 'excited', 'homecoming', 'saturday', 'monroe', '!', 'laughing_big_grin_or_laugh_with_glasses', 'new', 'nephew', 'see', 'sad_face']\nUnmatched tokens:  []\n\nThat sucks if you have to take the SATs tomorrow \nMatched tokens:  ['sucks', 'take', 'sats', 'tomorrow']\nUnmatched tokens:  []\n\n@user  6 tickets for Sam smith concert  Sept 30 cheap! Flew our family of 6 here fir the concert! BEYOND UPSET! \nMatched tokens:  ['tickets', 'sam', 'smith', 'concert', 'sept', 'cheap', '!', 'flew', 'family', 'fir', 'concert', '!', 'beyond', 'upset', '!']\nUnmatched tokens:  []\n\n\"Fiorentina have reportedly opened talks with Chelsea over taking the 20yr old Kurt Zuoma on loan in January.\" \nMatched tokens:  ['fiorentina', 'reportedly', 'opened', 'talks', 'chelsea', 'taking', 'old', 'kurt', 'zuoma', 'loan', 'january', '.']\nUnmatched tokens:  []\n\nCreighton Volleyball leads 8-5 early in 2nd set. Match becomes even bigger with both Wichita St. & Missouri State down 0-1 at home tonight. \nMatched tokens:  ['creighton', 'volleyball', 'leads', 'early', 'set', '.', 'match', 'becomes', 'even', 'bigger', 'wichita', 'st', '.', 'missouri', 'state', 'home', 'tonight', '.']\nUnmatched tokens:  ['-', '&', '-']\n\nThis time tomorrow...we'll have the Iron on. Iron Maiden pieces Drops tomorrow nights. \nMatched tokens:  ['time', 'tomorrow', '...', 'iron', '.', 'iron', 'maiden', 'pieces', 'drops', 'tomorrow', 'nights', '.']\nUnmatched tokens:  []\n\nAmy Schumer sat down with The Hollywood Reporter and opened up about the sexist remarks and unnecessary criticism she's faced since \nMatched tokens:  ['amy', 'schumer', 'sat', 'hollywood', 'reporter', 'opened', 'sexist', 'remarks', 'unnecessary', 'criticism', 'faced', 'since']\nUnmatched tokens:  []\n\nWhat is Jamie Foxx doing sitting next to Niall like you could've sat in a better spot just saying lol  \nMatched tokens:  ['jamie', 'foxx', 'sitting', 'next', 'niall', 'like', 'could', 'sat', 'better', 'spot', 'saying', 'lol']\nUnmatched tokens:  []\n\n@user @user 1st uneasyness was when he got v defensive about the Charlie Hebdo stuff, even tho he had pals patiently explaining\" \nMatched tokens:  ['uneasyness', 'got', 'v', 'defensive', 'charlie', 'hebdo', 'stuff', ',', 'even', 'tho', 'pals', 'patiently', 'explaining']\nUnmatched tokens:  []\n\nReminder: Samsung Unveils the Galaxy Note 5 and S6 Edge+ Tomorrow Morning! - - #tech #news... \nMatched tokens:  ['reminder', 'samsung', 'unveils', 'galaxy', 'note', 'edge', 'tomorrow', 'morning', '!', '#tech', '#news', '...']\nUnmatched tokens:  [':', '+', '-', '-']\n\n\"Gonna do a movie marathon with my friend today and tomorrow. Twilight, New Moon, Eclipse, BD1, The Runaways, Adventureland, (c)\" \nMatched tokens:  ['going', 'movie', 'marathon', 'friend', 'today', 'tomorrow', '.', 'twilight', ',', 'new', 'moon', ',', 'eclipse', ',', ',', 'runaways', ',', 'adventureland', ',', 'c']\nUnmatched tokens:  []\n\nOscars Well makes his debut over fences at Punchestown tomorrow. It looks as though he\\u2019ll have Plan A and Darwins Fox to overcome. \nMatched tokens:  ['oscars', 'well', 'makes', 'debut', 'fences', 'punchestown', 'tomorrow', '.', 'looks', 'though', 'plan', 'darwins', 'fox', 'overcome', '.']\nUnmatched tokens:  []\n\nQ2 10:30. Philip Rivers pass to Eddie Royal to the San Diego 19 for 7 yards. 3rd & 1. \nMatched tokens:  ['.', 'philip', 'rivers', 'pass', 'eddie', 'royal', 'san', 'diego', 'yards', '.', '.']\nUnmatched tokens:  [':', '&']\n\n@user Work colleague of mine on Thursday night: \"\"oh, look, they're showing the Bee Gees on video.\"\" 23-yr old colleague: \"\"who?\"\"\" \nMatched tokens:  ['work', 'colleague', 'mine', 'thursday', 'night', 'oh', ',', 'look', ',', 'showing', 'bee', 'gees', 'video', '.', 'yr', 'old', 'colleague', '?']\nUnmatched tokens:  [':', '-', ':']\n\nWho's going to get them Gucci foams tomorrow \nMatched tokens:  ['going', 'get', 'gucci', 'foams', 'tomorrow']\nUnmatched tokens:  []\n\nYes glass of red\\u002c Rammstein and day off tomorrow (thank you @user just what I needed. \nMatched tokens:  ['yes', 'glass', 'red', ',', 'rammstein', 'day', 'tomorrow', 'thank', 'needed', '.']\nUnmatched tokens:  []\n\nVampettes we are back on the 21st place keep tweeting with the hashtag #MTVStars The Vamps #MTVStarsOf2015 \nMatched tokens:  ['vampettes', 'back', 'place', 'keep', 'tweeting', 'hashtag', '#mtvstars', 'vamps']\nUnmatched tokens:  []\n\nRyan Braun returned to the lineup on Wednesday after missing two games with lower back tightness. \nMatched tokens:  ['ryan', 'braun', 'returned', 'lineup', 'wednesday', 'missing', 'two', 'games', 'lower', 'back', 'tightness', '.']\nUnmatched tokens:  []\n\n\"#Ichiro has nothing. If you want to see hustle: Kenny Lofton, 17 October 1995, scores from second base on a past ball. #GoTribe #ALDS\" \nMatched tokens:  ['#ichiro', 'nothing', '.', 'want', 'see', 'hustle', 'kenny', 'lofton', ',', 'october', ',', 'scores', 'second', 'base', 'past', 'ball', '.', '#gotribe', '#alds']\nUnmatched tokens:  [':']\n\nLooking forward to going to Carrow Rd tonight. Last time we were there\\u002c Bale scored 2 and we were 3rd. Do not want extra time though \nMatched tokens:  ['looking', 'forward', 'going', 'carrow', 'rd', 'tonight', '.', 'last', 'time', ',', 'bale', 'scored', '.', 'want', 'extra', 'time', 'though']\nUnmatched tokens:  []\n\nGonna go to the north game tomorrow night. I better see some of you north kiddos \nMatched tokens:  ['going', 'go', 'north', 'game', 'tomorrow', 'night', '.', 'better', 'see', 'north', 'kiddos']\nUnmatched tokens:  []\n\nRight guys\\u002c last competition of the night... Like this status for a chance to win a copy of Judas Priest\\u2019s 30th... \nMatched tokens:  ['right', 'guys', ',', 'last', 'competition', 'night', '...', 'like', 'status', 'chance', 'win', 'copy', 'judas', 'priest’s', '...']\nUnmatched tokens:  []\n\nWe\\u2019re in the studio working on the new album and it sounds EPIC. We may as well pick up our Brit Award now\\u002c tbh. \nMatched tokens:  ['studio', 'working', 'new', 'album', 'sounds', 'epic', '.', 'may', 'well', 'pick', 'brit', 'award', ',', 'tbh', '.']\nUnmatched tokens:  []\n\n\"last day of august, waiting for frank ocean to pull a beyonce.  \nMatched tokens:  ['last', 'day', 'august', ',', 'waiting', 'frank', 'ocean', 'pull', 'beyonce', '.']\nUnmatched tokens:  []\n\n#INFO --> Grand opening sharetea bubble tea with @user 2 nov 2012 mall taman anggrek 11:00 - 14:00 * Jadwal ke-1 besok ! \nMatched tokens:  ['#info', 'grand', 'opening', 'sharetea', 'bubble', 'tea', 'nov', 'mall', 'taman', 'anggrek', 'jadwal', 'ke', 'besok', '!']\nUnmatched tokens:  ['-->', ':', '-', ':', '*', '-']\n\nSunday (tomorrow) is National Ice Cream Day and have we got a gift for you!   Join us for an ice cream sundae and... \nMatched tokens:  ['sunday', 'tomorrow', 'national', 'ice', 'cream', 'day', 'got', 'gift', '!', 'join', 'us', 'ice', 'cream', 'sundae', '...']\nUnmatched tokens:  []\n\nGucci pants himself store january lay open the span thine atomic irruptive concomitant so that cons comburent:... \nMatched tokens:  ['gucci', 'pants', 'store', 'january', 'lay', 'open', 'span', 'thine', 'atomic', 'irruptive', 'concomitant', 'cons', 'comburent', '...']\nUnmatched tokens:  [':']\n\nstill not over how Nicki snapped like a 12th grader on their last day of high school \nMatched tokens:  ['still', 'nicki', 'snapped', 'like', 'grader', 'last', 'day', 'high', 'school']\nUnmatched tokens:  []\n\nI may or may not buy myself the illustrated version of Harry potter for my birthday \nMatched tokens:  ['may', 'may', 'buy', 'illustrated', 'version', 'harry', 'potter', 'birthday']\nUnmatched tokens:  []\n\nI wanna see STUDIO FOOTAGE SO BAD. We are about to hear some unreleased STUFF! Likeeeeeeeeee I can\\u2019t wait until Sunday. \nMatched tokens:  ['want', 'see', 'studio', 'footage', 'bad', '.', 'hear', 'unreleased', 'stuff', '!', 'likeeeeeeeeee', 'wait', 'sunday', '.']\nUnmatched tokens:  []\n\n@user how the hell does every one else get to keep their religious and 1st amnt rights, except Christians!!! This is just wrong!!!\" \nMatched tokens:  ['hell', 'every', 'one', 'else', 'get', 'keep', 'religious', 'rights', ',', 'except', 'christians', '!', '!', '!', 'wrong', '!', '!', '!']\nUnmatched tokens:  []\n\nA @user rule change should allow Carly Fiorina to earn a spot on the main stage for the 2nd Republican debate. \nMatched tokens:  ['rule', 'change', 'allow', 'carly', 'fiorina', 'earn', 'spot', 'main', 'stage', 'republican', 'debate', '.']\nUnmatched tokens:  []\n\n\"TFI Friday doesn't look like it's coming back, as Chris Evans focuses on new-look Top Gear \nMatched tokens:  ['tfi', 'friday', 'look', 'like', 'coming', 'back', ',', 'chris', 'evans', 'focuses', 'new-look', 'top', 'gear']\nUnmatched tokens:  []\n\n#np The Way You Make Me Feel - 2012 Remaster by Michael Jackson from the album Bad 25th Anniversary. \nMatched tokens:  ['#np', 'way', 'make', 'feel', 'remaster', 'michael', 'jackson', 'album', 'bad', 'anniversary', '.']\nUnmatched tokens:  ['-']\n\n\"I'm going to see Paper Towns. Saturday, 22 August 2015 at 17:40 in Leigh #Cineworld\" \nMatched tokens:  ['going', 'see', 'paper', 'towns', '.', 'saturday', ',', 'august', 'leigh', '#cineworld']\nUnmatched tokens:  [':']\n\n@user Yepo I came in Milan it was my 1st concert and it was so good you guys did an amazing job! You are flawless live like PERFECT! \nMatched tokens:  ['yepo', 'came', 'milan', 'concert', 'good', 'guys', 'amazing', 'job', '!', 'flawless', 'live', 'like', 'perfect', '!']\nUnmatched tokens:  []\n\n#days #dool Tuesday Hope has to pick up Ciara. Rafe wants a real case not just publicity like Justin \nMatched tokens:  ['#days', '#dool', 'tuesday', 'hope', 'pick', 'ciara', '.', 'rafe', 'wants', 'real', 'case', 'publicity', 'like', 'justin']\nUnmatched tokens:  []\n\nSeth Rollins talks &amp; talks every Monday on RAW for about 45 minutes \nMatched tokens:  ['seth', 'rollins', 'talks', 'talks', 'every', 'monday', 'raw', 'minutes']\nUnmatched tokens:  ['&']\n\nThanks manager for putting me on the schedule for Sunday\" \nMatched tokens:  ['thanks', 'manager', 'putting', 'schedule', 'sunday']\nUnmatched tokens:  []\n\nI'm sat at work just laughing at all these Hulk Hogan tweets. Hahha ffs \nMatched tokens:  ['sat', 'work', 'laughing', 'hulk', 'hogan', 'tweets', '.', 'hahha', 'ffs']\nUnmatched tokens:  []\n\n@user #MLBCentral David Wright crushing a dinger on his first swing since April 14th. I didn't think he would pull a Wilmer Flores! \nMatched tokens:  ['#mlbcentral', 'david', 'wright', 'crushing', 'dinger', 'first', 'swing', 'since', 'april', '.', 'think', 'would', 'pull', 'wilmer', 'flores', '!']\nUnmatched tokens:  []\n\nI feel like the new Janet Jackson single is bringing back 90s R&amp;B. via @user \nMatched tokens:  ['feel', 'like', 'new', 'janet', 'jackson', 'single', 'bringing', 'back', 'r&b', '.', 'via']\nUnmatched tokens:  []\n\nAnyone want to see Sam smith with me on October 6th? \nMatched tokens:  ['anyone', 'want', 'see', 'sam', 'smith', 'october', '?']\nUnmatched tokens:  []\n\nThis Friday OUTHOUSE is playing at Still Partners in Sea Cliff ! Hop on the Expressway to Nirvana! \nMatched tokens:  ['friday', 'outhouse', 'playing', 'still', 'partners', 'sea', 'cliff', '!', 'hop', 'expressway', 'nirvana', '!']\nUnmatched tokens:  []\n\n\"You can't shit talk Kpop. Every group is so in sync and vocally on point. It may not be your thing, but it's talent.\" \nMatched tokens:  ['shit', 'talk', 'kpop', '.', 'every', 'group', 'sync', 'vocally', 'point', '.', 'may', 'thing', ',', 'talent', '.']\nUnmatched tokens:  []\n\nI hope Milan mom say that she can come over on the 28th \nMatched tokens:  ['hope', 'milan', 'mom', 'say', 'come']\nUnmatched tokens:  []\n\nDon\\u2019t forget Mitch Daniels is going to be on Steven Colbert\\u2019s show Thursday.  Think this will come up as a topic? \nMatched tokens:  ['forget', 'mitch', 'daniels', 'going', 'steven', 'colbert’s', 'show', 'thursday', '.', 'think', 'come', 'topic', '?']\nUnmatched tokens:  []\n\nAmazon prime is literally a lie....I ordered a book LAST MONDAY &amp; it still isn't here. do better @user \nMatched tokens:  ['amazon', 'prime', 'literally', 'lie', '....', 'ordered', 'book', 'last', 'monday', 'still', '.', 'better']\nUnmatched tokens:  ['&']\n\nWho the hell moshes at Matt and Kim?? Next time watch out for my face\\u002c mofos! My cheekbones better not be purple tomorrow. @user \nMatched tokens:  ['hell', 'moshes', 'matt', 'kim', '?', '?', 'next', 'time', 'watch', 'face', ',', 'mofos', '!', 'cheekbones', 'better', 'purple', 'tomorrow', '.']\nUnmatched tokens:  []\n\n\"What a difference not having Sterling on the pitch makes! Welbeck dragged wide 1st half, the Ox replaces Sterling, Welbeck down middle, goal\" \nMatched tokens:  ['difference', 'sterling', 'pitch', 'makes', '!', 'welbeck', 'dragged', 'wide', 'half', ',', 'ox', 'replaces', 'sterling', ',', 'welbeck', 'middle', ',', 'goal']\nUnmatched tokens:  []\n\n\"Dear lovely Christians, I wish to inform you, tomorrow we got one Mass @ 10am as we'll be submitting our parish family day collection!\" \nMatched tokens:  ['dear', 'lovely', 'christians', ',', 'wish', 'inform', ',', 'tomorrow', 'got', 'one', 'mass', '@', 'submitting', 'parish', 'family', 'day', 'collection', '!']\nUnmatched tokens:  []\n\n\"To Kpop fans, we song along to vocals, 2nd voices, raps, fanchants, do the instruments &amp; even perform its own choreo \nMatched tokens:  ['kpop', 'fans', ',', 'song', 'along', 'vocals', ',', 'voices', ',', 'raps', ',', 'fanchants', ',', 'instruments', 'even', 'perform', 'choreo']\nUnmatched tokens:  ['&']\n\nCherie Blair is sat on our coach going to the games! #Olympics2012 \nMatched tokens:  ['cherie', 'blair', 'sat', 'coach', 'going', 'games', '!']\nUnmatched tokens:  []\n\ncontinued : Emmanuel Adebayor has not travelled with the squad for our Europa League away tie in Greece tomorrow evening. \nMatched tokens:  ['continued', 'emmanuel', 'adebayor', 'travelled', 'squad', 'europa', 'league', 'away', 'tie', 'greece', 'tomorrow', 'evening', '.']\nUnmatched tokens:  [':']\n\nMario Williams is catching hell! He will be Exposed on Sunday... Not like Buffalo don't see him 4 who he is Already! \nMatched tokens:  ['mario', 'williams', 'catching', 'hell', '!', 'exposed', 'sunday', '...', 'like', 'buffalo', 'see', 'already', '!']\nUnmatched tokens:  []\n\n\"Kris Bryant hurt, Joe Maddon ejected in today's Cubs game, and it's only the 6th inning. \nMatched tokens:  ['kris', 'bryant', 'hurt', ',', 'joe', 'maddon', 'ejected', \"today's\", 'cubs', 'game', ',', 'inning', '.']\nUnmatched tokens:  []\n\n@user Last Wednesday, when I saw you dressed as Robin, all I can think about is \"Who's Batman? Where's the Teen Titans?\" \nMatched tokens:  ['last', 'wednesday', ',', 'saw', 'dressed', 'robin', ',', 'think', 'batman', '?', 'teen', 'titans', '?']\nUnmatched tokens:  []\n\n@user Brock lesnar live from madison square garden sounds like it could just be a live feed of him sat on a chair for 3 hours \nMatched tokens:  ['brock', 'lesnar', 'live', 'madison', 'square', 'garden', 'sounds', 'like', 'could', 'live', 'feed', 'sat', 'chair', 'hours']\nUnmatched tokens:  []\n\n@user Frank ocean releasing his second album december 31st 2015 on new years eve. heres the interview... \nMatched tokens:  ['frank', 'ocean', 'releasing', 'second', 'album', 'december', 'new', 'years', 'eve', '.', 'interview', '...']\nUnmatched tokens:  []\n\n@user @user at da end of da night no girl that roll with me is on da MTA! They are above that as long as I can afford that! \nMatched tokens:  ['da', 'end', 'da', 'night', 'girl', 'roll', 'da', 'mta', '!', 'long', 'afford', '!']\nUnmatched tokens:  []\n\n@user SCOTUS based their argument on the 14th. No matter how you stretch it race was not involved. \nMatched tokens:  ['scotus', 'based', 'argument', '.', 'matter', 'stretch', 'race', 'involved', '.']\nUnmatched tokens:  []\n\nMy mom's over here tryna tell me that we're taking the CAHSEE tomorrow ._. Nigga it's only the second month of school.. #SlowYourRoll \nMatched tokens:  [\"mom's\", 'tryna', 'tell', 'taking', 'cahsee', 'tomorrow', '.', '_', '.', 'nigga', 'second', 'month', 'school', '..', '#slowyourroll']\nUnmatched tokens:  []\n\n\"Rahul Gandhi held Indian citizenship from day one: Congress: New Delhi, Nov 18: Dismissing BJP leader Subraman... \nMatched tokens:  ['rahul', 'gandhi', 'held', 'indian', 'citizenship', 'day', 'one', 'congress', 'new', 'delhi', ',', 'nov', 'dismissing', 'bjp', 'leader', 'subraman', '...']\nUnmatched tokens:  [':', ':', ':']\n\n\"I'm going to Paramore at Rock Im Park in Nuremburg, Germany - Jun 8 \nMatched tokens:  ['going', 'paramore', 'rock', 'park', 'nuremburg', ',', 'germany', 'jun']\nUnmatched tokens:  ['-']\n\nHappy Birthday Nick J  May you live long and Happy :) \nMatched tokens:  ['happy', 'birthday', 'nick', 'j', 'may', 'live', 'long', 'happy', 'smiley_face']\nUnmatched tokens:  []\n\nECHO: Sex offender is warned he may face jail over offences #Dorset \nMatched tokens:  ['echo', 'sex', 'offender', 'warned', 'may', 'face', 'jail', 'offences', '#dorset']\nUnmatched tokens:  [':']\n\nI hope Bernie Sanders is a sun and the other two are shooting stars or black holes. \nMatched tokens:  ['hope', 'bernie', 'sanders', 'sun', 'two', 'shooting', 'stars', 'black', 'holes', '.']\nUnmatched tokens:  []\n\n\"Shows how much you can trust drivers answering these questions. Alonso was still saying on Monday that Ferrari split is \"\"\"\"just a rumor.\"\"\"\" #F1\" \nMatched tokens:  ['shows', 'much', 'trust', 'drivers', 'answering', 'questions', '.', 'alonso', 'still', 'saying', 'monday', 'ferrari', 'split', 'rumor', '.']\nUnmatched tokens:  []\n\nWho else is going to the Chris brown tour this Thursday #ChrisBrown#onehellofanighttour \nMatched tokens:  ['else', 'going', 'chris', 'brown', 'tour', 'thursday', '#chrisbrown#onehellofanighttour']\nUnmatched tokens:  []\n\nYour inspirational quotes on twitter/Feb never really got to me. But oh damn ur pics of them on IG have truly inspired me. #idiots\" \nMatched tokens:  ['inspirational', 'quotes', 'twitter/feb', 'never', 'really', 'got', '.', 'oh', 'damn', 'ur', 'pics', 'ig', 'truly', 'inspired', '.', '#idiots']\nUnmatched tokens:  []\n\nAnother beauty of a day in Athens\\u002c Greece. I trust you\\u2019ll have an exceptional Friday wherever in the world you are. Much love. \nMatched tokens:  ['another', 'beauty', 'day', 'athens', ',', 'greece', '.', 'trust', 'exceptional', 'friday', 'wherever', 'world', '.', 'much', 'love', '.']\nUnmatched tokens:  []\n\n\"Another great night in Split, off to Hvar on the 8:30 ferry tomorrow morning... dreading the packing but excited to get there!\" \nMatched tokens:  ['another', 'great', 'night', 'split', ',', 'hvar', 'ferry', 'tomorrow', 'morning', '...', 'dreading', 'packing', 'excited', 'get', '!']\nUnmatched tokens:  [':']\n\n@user and im seeing Ed live this Saturday at b'ham NIA! It would be amazing to get the book signed. Thanks for putting it together \nMatched tokens:  ['seeing', 'ed', 'live', 'saturday', \"b'ham\", 'nia', '!', 'would', 'amazing', 'get', 'book', 'signed', '.', 'thanks', 'putting', 'together']\nUnmatched tokens:  []\n\n\"Church tonight, who will you bring????\" \nMatched tokens:  ['church', 'tonight', ',', 'bring', '?', '?', '?', '?']\nUnmatched tokens:  []\n\nQ_Q Today was the day that Naruto shippuden: UNS4 was suppose to come out. WHYYYYYYY DID THEY PUSH IT ALL THE WAY TO JAN???? HELLO \nMatched tokens:  ['sad_or_crying', 'today', 'day', 'naruto', 'shippuden', 'suppose', 'come', '.', 'whyyyyyyy', 'push', 'way', 'jan', '?', '?', '?', '?', 'hello']\nUnmatched tokens:  [':']\n\nPics of the March Fourth Marching Band at the Oregon Country Fair closing out the show Sunday night. Their... \nMatched tokens:  ['pics', 'march', 'fourth', 'marching', 'band', 'oregon', 'country', 'fair', 'closing', 'show', 'sunday', 'night', '.', '...']\nUnmatched tokens:  []\n\nThe audio booth is ready to blow the roof off the Comcast Center tomorrow! Are you? #MDMadness \nMatched tokens:  ['audio', 'booth', 'ready', 'blow', 'roof', 'comcast', 'center', 'tomorrow', '!', '?', '#mdmadness']\nUnmatched tokens:  []\n\nwelllll who wants to see Ed Sheeran with me on the 17th???? \nMatched tokens:  ['welllll', 'wants', 'see', 'ed', 'sheeran', '?', '?', '?', '?']\nUnmatched tokens:  []\n\nGOALdotCOM: Premier League Team of the Week: Van Persie & Aguero both star after City & Arsenal wins \nMatched tokens:  ['goaldotcom', 'premier', 'league', 'team', 'week', 'van', 'persie', 'aguero', 'star', 'city', 'arsenal', 'wins']\nUnmatched tokens:  [':', ':', '&', '&']\n\nThe Hitchhiker's Guide to the Galaxy Game - 30th Anniversary Edition Need to sign up with the BBC online. \nMatched tokens:  [\"hitchhiker's\", 'guide', 'galaxy', 'game', 'anniversary', 'edition', 'need', 'sign', 'bbc', 'online', '.']\nUnmatched tokens:  ['-']\n\nI'm seeing Ed Sheeran on Wednesday in Miami so if you wanna meet up or say hi hmu! \nMatched tokens:  ['seeing', 'ed', 'sheeran', 'wednesday', 'miami', 'want', 'meet', 'say', 'hi', 'hmu', '!']\nUnmatched tokens:  []\n\n\"Chuck Close shares his best-kept secrets with @user on the eve of his new show, opening Thursday @user  \nMatched tokens:  ['chuck', 'close', 'shares', 'best-kept', 'secrets', 'eve', 'new', 'show', ',', 'opening', 'thursday']\nUnmatched tokens:  []\n\nVermaelen the hero for Barca: Thomas Vermaelen was the unlikely hero as Barcelona laboured to a 1-0 home win over Malaga on Saturday ... \nMatched tokens:  ['vermaelen', 'hero', 'barca', 'thomas', 'vermaelen', 'unlikely', 'hero', 'barcelona', 'laboured', 'home', 'win', 'malaga', 'saturday', '...']\nUnmatched tokens:  [':', '-']\n\n@user I\\u2019m sick with something ill be at school on Monday though \nMatched tokens:  ['sick', 'something', 'ill', 'school', 'monday', 'though']\nUnmatched tokens:  []\n\n\"There's something about Friday Night Lights, you just get chills thinking about it .\" \nMatched tokens:  ['something', 'friday', 'night', 'lights', ',', 'get', 'chills', 'thinking', '.']\nUnmatched tokens:  []\n\nGoogled the snake I stepped over on the trail Sunday. Baby timber rattler. So time to Google \"snake-proof hiking boots.\" \nMatched tokens:  ['googled', 'snake', 'stepped', 'trail', 'sunday', '.', 'baby', 'timber', 'rattler', '.', 'time', 'google', 'snake-proof', 'hiking', 'boots', '.']\nUnmatched tokens:  []\n\n@user Also, his anger against Hindus are justified but couldn't get why he was so anti Islam..may be he was just fed up of religions\" \nMatched tokens:  ['also', ',', 'anger', 'hindus', 'justified', 'could', 'get', 'anti', 'islam', '..', 'may', 'fed', 'religions']\nUnmatched tokens:  []\n\nRicky Ponting and I now have something in common. Today he passed 23\\u002c000 1st class runs. Last night at training\\u002c i was hit for 23\\u002c000 runs. \nMatched tokens:  ['ricky', 'ponting', 'something', 'common', '.', 'today', 'passed', ',', 'st', 'class', 'runs', '.', 'last', 'night', 'training', ',', 'hit', ',', 'runs', '.']\nUnmatched tokens:  []\n\nTed Nugent talks to us about #hunting and other stuff he\\u2019s got on his mind @user this Saturday at 7am on the Great Outdoors\\u002c #nuge \nMatched tokens:  ['ted', 'nugent', 'talks', 'us', '#hunting', 'stuff', 'got', 'mind', 'saturday', 'great', 'outdoors', ',', '#nuge']\nUnmatched tokens:  []\n\nCheck out Newsha Tavakolian at the Saatchi Gallery in London. Her photos of Iran may interest some of you! \nMatched tokens:  ['check', 'newsha', 'tavakolian', 'saatchi', 'gallery', 'london', '.', 'photos', 'iran', 'may', 'interest', '!']\nUnmatched tokens:  []\n\nMansbridge destroyed Justin tonite the polls for the lib's should tank tomorrow! Wake up people he is NOT ready!! \nMatched tokens:  ['mansbridge', 'destroyed', 'justin', 'tonite', 'polls', \"lib's\", 'tank', 'tomorrow', '!', 'wake', 'people', 'ready', '!', '!']\nUnmatched tokens:  []\n\nFor the ones tomorrow sunday in Milan (Italy): Aperitif and evening at Fiat Open Lounge: \nMatched tokens:  ['ones', 'tomorrow', 'sunday', 'milan', 'italy', 'aperitif', 'evening', 'fiat', 'open', 'lounge']\nUnmatched tokens:  [':', ':']\n\n\"J'regarde des infos sur Ragnarok (le film) &amp;bon: \"\"Thor will make it out of the third movie[..]Loki, on the other hand may not be so Lucky.\"\"\" \nMatched tokens:  [\"j'regarde\", 'des', 'infos', 'sur', 'ragnarok', 'le', 'film', 'bon', 'thor', 'make', 'third', 'movie', '..', 'loki', ',', 'hand', 'may', 'lucky', '.']\nUnmatched tokens:  ['&', ':', '[', ']']\n\n@user Donald trump said the same thing about the tax rate.  Fact check said he was a liar \"pant of fire\"   \nMatched tokens:  ['donald', 'trump', 'said', 'thing', 'tax', 'rate', '.', 'fact', 'check', 'said', 'liar', 'pant', 'fire']\nUnmatched tokens:  []\n\n\"If you\\u2019re calling this little thing right here a \\\"\"\"\"party\\\"\"\"\" then Friday night\\u2019s gonna be Project X\\u002c Y\\u002c & Z.\" \nMatched tokens:  ['calling', 'little', 'thing', 'right', 'party', 'friday', 'night’s', 'going', 'project', 'x', ',', ',', 'z', '.']\nUnmatched tokens:  ['\\\\', '\\\\', '&']\n\n\"Love this vid!! 1st time I\\u2019ve seen it!--- jules explains it all - David Archuleta sings \\\"\"\"\"Nandito Ako.\\\"\"\"\" via @user \nMatched tokens:  ['love', 'vid', '!', '!', 'time', 'seen', '!', 'jules', 'explains', 'david', 'archuleta', 'sings', 'nandito', 'ako', '.', 'via']\nUnmatched tokens:  ['---', '-', '\\\\', '\\\\']\n\n@user @user Not just Christians, you are in the prayers of \"\"all of us\"\" humans.May you stay safe and be free soon!God bless.\" \nMatched tokens:  ['christians', ',', 'prayers', 'us', 'humans.may', 'stay', 'safe', 'free', 'soon', '!', 'god', 'bless', '.']\nUnmatched tokens:  []\n\nHappy birthday @user ! National Bieber Day . Now he\\u2019s 18th years\\u002c but he\\u2019s #stillkidrauhl #IndonesiaSaysHBDforJustinBieber \nMatched tokens:  ['happy', 'birthday', '!', 'national', 'bieber', 'day', '.', 'years', ',', '#stillkidrauhl', '#indonesiasayshbdforjustinbieber']\nUnmatched tokens:  []\n\n\"If you put one over the plate he's gonna fuck you up  Called it, Kris Bryant with his 21st\" \nMatched tokens:  ['put', 'one', 'plate', 'going', 'fuck', 'called', ',', 'kris', 'bryant']\nUnmatched tokens:  []\n\nGood luck to Girls Tennis as the take on South Torrance today on 1st round CIF! #GoLions2012 \nMatched tokens:  ['good', 'luck', 'girls', 'tennis', 'take', 'south', 'torrance', 'today', 'round', 'cif', '!']\nUnmatched tokens:  []\n\n\"\\\"\"Hey\\u002c you\\u2019re missing Beauty and the Beast\\u002c Vampire Diaries & Grey\\u2019s Anatomy right now on TV. Saturday is Merlin\\\"\" - @user #sisterlife\" \nMatched tokens:  ['hey', ',', 'missing', 'beauty', 'beast', ',', 'vampire', 'diaries', 'grey’s', 'anatomy', 'right', 'tv', '.', 'saturday', 'merlin', '#sisterlife']\nUnmatched tokens:  ['\\\\', '&', '\\\\', '-']\n\nDecided to watch Rick and Morty will probably watch Naruto tomorrow such a good movie hits ya right in the feels \nMatched tokens:  ['decided', 'watch', 'rick', 'morty', 'probably', 'watch', 'naruto', 'tomorrow', 'good', 'movie', 'hits', 'ya', 'right', 'feels']\nUnmatched tokens:  []\n\nfirst Hasek now Modano want to come back...who's next Mario Lemieux for the 4th time! \nMatched tokens:  ['first', 'hasek', 'modano', 'want', 'come', 'back', '...', 'next', 'mario', 'lemieux', 'time', '!']\nUnmatched tokens:  []\n\n@user isn\\u2019t it just!  staying in and watching the lovely James Martin on Saturday kitchen. Great pumpkin soup recipe to warm u up \nMatched tokens:  ['!', 'staying', 'watching', 'lovely', 'james', 'martin', 'saturday', 'kitchen', '.', 'great', 'pumpkin', 'soup', 'recipe', 'warm']\nUnmatched tokens:  []\n\n@user how was your day today? Did you enjoy watching softball. We missed you on tiger woods \nMatched tokens:  ['day', 'today', '?', 'enjoy', 'watching', 'softball', '.', 'missed', 'tiger', 'woods']\nUnmatched tokens:  []\n\nAnd to think I wrote this Dustin Johnson Tweet after the second round of the British Open \nMatched tokens:  ['think', 'wrote', 'dustin', 'johnson', 'tweet', 'second', 'round', 'british', 'open']\nUnmatched tokens:  []\n\nJust Turned the corner into Ghetto n #Roma 1st thing I saw a group of Muslims! Now that's tourism for ya. It's a sm world after all #peace \nMatched tokens:  ['turned', 'corner', 'ghetto', 'n', '#roma', 'thing', 'saw', 'group', 'muslims', '!', 'tourism', 'ya', '.', 'sm', 'world', '#peace']\nUnmatched tokens:  []\n\nBe sure to look for Nash's new video with Skylynn tomorrow #NashNewVideo love you @user \nMatched tokens:  ['sure', 'look', \"nash's\", 'new', 'video', 'skylynn', 'tomorrow', '#nashnewvideo', 'love']\nUnmatched tokens:  []\n\nWho wants to be my date to the White Sox vs Red Sox game Tuesday \nMatched tokens:  ['wants', 'date', 'white', 'sox', 'vs', 'red', 'sox', 'game', 'tuesday']\nUnmatched tokens:  []\n\nAt long last, Lexus has developed a hoverboard, the 'Slide,' to be tested in public for the first time on Wed. \nMatched tokens:  ['long', 'last', ',', 'lexus', 'developed', 'hoverboard', ',', \"'slide\", ',', \"'\", 'tested', 'public', 'first', 'time', 'wed', '.']\nUnmatched tokens:  []\n\nI noticed all the Huddlestone haters were conspicuous by their absence yesterday\\u002c particularly when he assisted Bale for the 1st goal #THFC \nMatched tokens:  ['noticed', 'huddlestone', 'haters', 'conspicuous', 'absence', 'yesterday', ',', 'particularly', 'assisted', 'bale', 'goal', '#thfc']\nUnmatched tokens:  []\n\nUnexpected development-- saw Ant-Man on Saturday night in London. It was surprisingly charming. I actually quite enjoyed it. \nMatched tokens:  ['unexpected', 'development', 'saw', 'ant-man', 'saturday', 'night', 'london', '.', 'surprisingly', 'charming', '.', 'actually', 'quite', 'enjoyed', '.']\nUnmatched tokens:  ['--']\n\n\"Tomorrow is Star Wars day! New movie! And is @user and @user birthday! Great, isn't? @user \nMatched tokens:  ['tomorrow', 'star', 'wars', 'day', '!', 'new', 'movie', '!', 'birthday', '!', 'great', ',', '?']\nUnmatched tokens:  []\n\nSun is shining... Bob Marley on the radio... hiya Monday! \nMatched tokens:  ['sun', 'shining', '...', 'bob', 'marley', 'radio', '...', 'hiya', 'monday', '!']\nUnmatched tokens:  []\n\n\"Hope, Love &amp; Laughter; Warmth, Prosperity &amp; Joy; A fragrant bouquet filled with life; You may Enjoy! A very happy Eid -\" \nMatched tokens:  ['hope', ',', 'love', 'laughter', 'warmth', ',', 'prosperity', 'joy', 'fragrant', 'bouquet', 'filled', 'life', 'may', 'enjoy', '!', 'happy', 'eid']\nUnmatched tokens:  ['&', ';', '&', ';', ';', '-']\n\n'Frank Ocean' appeared on Sunday 16 at the 11th place in the Top20 of Dallas-Ft. Worth's Trends: #trndnl \nMatched tokens:  [\"'frank\", \"ocean'\", 'appeared', 'sunday', 'place', 'dallas-ft', '.', \"worth's\", 'trends', '#trndnl']\nUnmatched tokens:  [':']\n\n\"Also may take years to figure out if the song reaching #1 or John Cena co-opting \"\"I Can't Feel My Face\"\" as his signature tagline is stranger\" \nMatched tokens:  ['also', 'may', 'take', 'years', 'figure', 'song', 'reaching', 'john', 'cena', 'co-opting', 'feel', 'face', 'signature', 'tagline', 'stranger']\nUnmatched tokens:  []\n\nYakub death may be unfortunate bt we shud respect SC's decision n not vitiate atmosphere in the name of religion #YakubToHang #YakubVerdict \nMatched tokens:  ['yakub', 'death', 'may', 'unfortunate', 'bt', 'shud', 'respect', \"sc's\", 'decision', 'n', 'vitiate', 'atmosphere', 'name', 'religion', '#yakubtohang', '#yakubverdict']\nUnmatched tokens:  []\n\nIts the 1st video without zayn and its still perf #DragMeDownMusicVideo \nMatched tokens:  ['video', 'without', 'zayn', 'still', 'perf', '#dragmedownmusicvideo']\nUnmatched tokens:  []\n\nHas anyone ever seen @user and Iron Maiden's Bruce Dickinson together in the same room? \nMatched tokens:  ['anyone', 'ever', 'seen', 'iron', \"maiden's\", 'bruce', 'dickinson', 'together', 'room', '?']\nUnmatched tokens:  []\n\nWhy does everyone want to give Eli Manning credit for every win. The truth is Sunday\\u2019s game should have been a blowout. \nMatched tokens:  ['everyone', 'want', 'give', 'eli', 'manning', 'credit', 'every', 'win', '.', 'truth', 'sunday’s', 'game', 'blowout', '.']\nUnmatched tokens:  []\n\nThe pics were taken on a 2004 Nokia, and it's really blurry and may induce cataracts. Just a heads up. \nMatched tokens:  ['pics', 'taken', 'nokia', ',', 'really', 'blurry', 'may', 'induce', 'cataracts', '.', 'heads', '.']\nUnmatched tokens:  []\n\nI think this was the first night of Louis with Briana? (That's not her tho) I saved it on April 17 but I DK \nMatched tokens:  ['think', 'first', 'night', 'louis', 'briana', '?', 'tho', 'saved', 'april', 'dk']\nUnmatched tokens:  []\n\nOn Monday im going to eat so much you might as well call me Jordan and Ally. Im so fucking hungry. \nMatched tokens:  ['monday', 'going', 'eat', 'much', 'might', 'well', 'call', 'jordan', 'ally', '.', 'fucking', 'hungry', '.']\nUnmatched tokens:  []\n\n\"Be prepared to listen about Nicki and Miley tomorrow at school, or maybe Kanye\" \nMatched tokens:  ['prepared', 'listen', 'nicki', 'miley', 'tomorrow', 'school', ',', 'maybe', 'kanye']\nUnmatched tokens:  []\n\n@user I just wonder how peter is the 1st pope when the Romans crucified him 200 years before Christianity was legalized in Rome \nMatched tokens:  ['wonder', 'peter', 'pope', 'romans', 'crucified', 'years', 'christianity', 'legalized', 'rome']\nUnmatched tokens:  []\n\nSky : Melo and Perisic are set to debut in the Inter shirt against Milan in next Sunday's derby. Icardi is also probable. \nMatched tokens:  ['sky', 'melo', 'perisic', 'set', 'debut', 'inter', 'shirt', 'milan', 'next', \"sunday's\", 'derby', '.', 'icardi', 'also', 'probable', '.']\nUnmatched tokens:  [':']\n\n@user You really want to go there? He had a gr8 Milan team from 03 to 06. He finished 1st, 2nd and 2nd to a team that was relegated 4..\" \nMatched tokens:  ['really', 'want', 'go', '?', 'milan', 'team', '.', 'finished', ',', 'team', 'relegated', '..']\nUnmatched tokens:  []\n\n\"Christianity is nothing else but the imitation of God\\u2019s nature.  We seek a relationship with God through Jesus ...\\\"\"\"\"Lord that I may see\\\"\"\"\".\" \nMatched tokens:  ['christianity', 'nothing', 'else', 'imitation', 'god’s', 'nature', '.', 'seek', 'relationship', 'god', 'jesus', '...', 'lord', 'may', 'see', '.']\nUnmatched tokens:  ['\\\\', '\\\\']\n\n\"Wrap-up: Broncos 34, Saints 14:  Thoughts on the New Orleans Saints' 34-14 loss to the Denver Broncos on Sunday ... \nMatched tokens:  ['wrap-up', 'broncos', ',', 'saints', 'thoughts', 'new', 'orleans', \"saints'\", 'loss', 'denver', 'broncos', 'sunday', '...']\nUnmatched tokens:  [':', ':', '-']\n\n@user big ups SL!!! Copped the 10.5 Gucci's missed out Friday!!! \nMatched tokens:  ['big', 'ups', 'sl', '!', '!', '!', 'copped', '.', \"gucci's\", 'missed', 'friday', '!', '!', '!']\nUnmatched tokens:  []\n\n\"Officially going to the Kenny Chesney, Jason Aldean, Brantley Gilbert, and Cole Swindal concert on Saturday!! Excited beyond words!!\" \nMatched tokens:  ['officially', 'going', 'kenny', 'chesney', ',', 'jason', 'aldean', ',', 'brantley', 'gilbert', ',', 'cole', 'swindal', 'concert', 'saturday', '!', '!', 'excited', 'beyond', 'words', '!', '!']\nUnmatched tokens:  []\n\nJoin @user now for boosted 4/1 Arsenal &amp; Chelsea both to win in the #BPL tomorrow. #AFC #CFC \nMatched tokens:  ['join', 'boosted', 'arsenal', 'chelsea', 'win', '#bpl', 'tomorrow', '.', '#afc', '#cfc']\nUnmatched tokens:  ['/', '&']\n\nSnoop Dogg is playing at the State Fair on Wednesday and I wANnA GO sOooOoO BAd \nMatched tokens:  ['snoop', 'dogg', 'playing', 'state', 'fair', 'wednesday', 'want', 'go', 'soooooo', 'bad']\nUnmatched tokens:  []\n\n@user Hi, I have a sneaking suspicion Barack Obama and Sarah Palin may be part of the DKEU. Can you find out, please? \nMatched tokens:  ['hi', ',', 'sneaking', 'suspicion', 'barack', 'obama', 'sarah', 'palin', 'may', 'part', 'dkeu', '.', 'find', ',', 'please', '?']\nUnmatched tokens:  []\n\n2nd half about to start. No subs for the Red Stars to begin the half. WNY kicking off. 45 to go.... \nMatched tokens:  ['half', 'start', '.', 'subs', 'red', 'stars', 'begin', 'half', '.', 'wny', 'kicking', '.', 'go', '....']\nUnmatched tokens:  []\n\n\"Six good reviews for the new Deus Ex. I'm going to pre-order it today, I've seen enough coverage to know it's going to be worth a look.\" \nMatched tokens:  ['six', 'good', 'reviews', 'new', 'deus', 'ex', '.', 'going', 'pre-order', 'today', ',', 'seen', 'enough', 'coverage', 'know', 'going', 'worth', 'look', '.']\nUnmatched tokens:  []\n\nBob Marley playing in the lab. Happy Saturday!! \nMatched tokens:  ['bob', 'marley', 'playing', 'lab', '.', 'happy', 'saturday', '!', '!']\nUnmatched tokens:  []\n\nOctober day 1 was good :-)  Goodnight taking the CAHSEE tomorrow . Hope i pass :) \nMatched tokens:  ['october', 'day', 'good', 'smiley_face', 'goodnight', 'taking', 'cahsee', 'tomorrow', '.', 'hope', 'pass', 'smiley_face']\nUnmatched tokens:  []\n\n@user yea I was just thinking that! Btw Reece is going to be in Kyle and Jackie O tomorrow I think.... In the studio \nMatched tokens:  ['yea', 'thinking', '!', 'btw', 'reece', 'going', 'kyle', 'jackie', 'tomorrow', 'think', '....', 'studio']\nUnmatched tokens:  []\n\nOur paper needs to be turned into blackboard and Google by midnight on friday it needs to be less than 17 % on blackboard!!! #aumrsch \nMatched tokens:  ['paper', 'needs', 'turned', 'blackboard', 'google', 'midnight', 'friday', 'needs', 'less', 'blackboard', '!', '!', '!', '#aumrsch']\nUnmatched tokens:  []\n\nOn the bright side tomorrow\\u2019s CHOCOLATE DAY #getexcited \nMatched tokens:  ['bright', 'side', 'tomorrow’s', 'chocolate', 'day', '#getexcited']\nUnmatched tokens:  []\n\nImagine if this was clashing with tomorrow's Celebrity Big Brother launch though. I'd be so torn. \nMatched tokens:  ['imagine', 'clashing', \"tomorrow's\", 'celebrity', 'big', 'brother', 'launch', 'though', '.', 'would', 'torn', '.']\nUnmatched tokens:  []\n\n\"Off to ER, for the Edinburgh Derby, c'mon the Hibs\" \nMatched tokens:  ['er', ',', 'edinburgh', 'derby', ',', \"c'mon\", 'hibs']\nUnmatched tokens:  []\n\nThe verse of Kendrick Lamar on Black Friday.. Listen to that shit with a notebook \nMatched tokens:  ['verse', 'kendrick', 'lamar', 'black', 'friday', '..', 'listen', 'shit', 'notebook']\nUnmatched tokens:  []\n\nRandy Orton is going to be in Lawton tomorrow \nMatched tokens:  ['randy', 'orton', 'going', 'lawton', 'tomorrow']\nUnmatched tokens:  []\n\n\"Oomf is gay. He may not know it yet, but I do lol\" \nMatched tokens:  ['oomf', 'gay', '.', 'may', 'know', 'yet', ',', 'lol']\nUnmatched tokens:  []\n\nDelhi police says report about Sunanda Pushkar's death inconclusive: Delhi Police said Friday the forensic evi... \nMatched tokens:  ['delhi', 'police', 'says', 'report', 'sunanda', \"pushkar's\", 'death', 'inconclusive', 'delhi', 'police', 'said', 'friday', 'forensic', 'evi', '...']\nUnmatched tokens:  [':']\n\nOverall...tonight reconfirmed my love for nicki and why I never went back to side bangs after 7th grade \nMatched tokens:  ['overall', '...', 'tonight', 'reconfirmed', 'love', 'nicki', 'never', 'went', 'back', 'side', 'bangs', 'grade']\nUnmatched tokens:  []\n\n\"Harper Lee's Go Set a Watchman comes out tomorrow, I just want to call into work so I can read it all day.\" \nMatched tokens:  ['harper', \"lee's\", 'go', 'set', 'watchman', 'comes', 'tomorrow', ',', 'want', 'call', 'work', 'read', 'day', '.']\nUnmatched tokens:  []\n\n@user @user Is Wednesday normally Cascades help day? I might want to make a trip at some point before January 21st. \nMatched tokens:  ['wednesday', 'normally', 'cascades', 'help', 'day', '?', 'might', 'want', 'make', 'trip', 'point', 'january', '.']\nUnmatched tokens:  []\n\nYou just got to love Prince George Happy 2nd Birthday !! #princegeorge \nMatched tokens:  ['got', 'love', 'prince', 'george', 'happy', 'birthday', '!', '!', '#princegeorge']\nUnmatched tokens:  []\n\nYes it is. Bori practitioners have survived by not attempting to abandon Islam. So they blend in easily. \nMatched tokens:  ['yes', '.', 'bori', 'practitioners', 'survived', 'attempting', 'abandon', 'islam', '.', 'blend', 'easily', '.']\nUnmatched tokens:  []\n\nAirAsia aborts deal to buy Indonesia's Batavia Air - Southeast Asia's top budget carrier AirAsia said Monday it has ... \nMatched tokens:  ['airasia', 'aborts', 'deal', 'buy', \"indonesia's\", 'batavia', 'air', 'southeast', \"asia's\", 'top', 'budget', 'carrier', 'airasia', 'said', 'monday', '...']\nUnmatched tokens:  ['-']\n\n\"Happy Birthday George, you cutie. Royals celebrate Prince George's 2nd birthday via @user \nMatched tokens:  ['happy', 'birthday', 'george', ',', 'cutie', '.', 'royals', 'celebrate', 'prince', \"george's\", 'birthday', 'via']\nUnmatched tokens:  []\n\n\"Frank Gifford, dies at 84 - The Washington Post. I worked with Frank way back at Wide World of Sports. Class Act. RIP \nMatched tokens:  ['frank', 'gifford', ',', 'dies', 'washington', 'post', '.', 'worked', 'frank', 'way', 'back', 'wide', 'world', 'sports', '.', 'class', 'act', '.', 'rip']\nUnmatched tokens:  ['-']\n\nFloyd Mayweather is heavy favourite to go 49-0 on the 12th. Bet on the fight here - #Boxing \nMatched tokens:  ['floyd', 'mayweather', 'heavy', 'favourite', 'go', '.', 'bet', 'fight', '#boxing']\nUnmatched tokens:  ['-', '-']\n\n@user @user I'm watching the red carpet for Nicki mostly. They're gonna air the show tomorrow night so I might go to bed after \nMatched tokens:  ['watching', 'red', 'carpet', 'nicki', 'mostly', '.', 'going', 'air', 'show', 'tomorrow', 'night', 'might', 'go', 'bed']\nUnmatched tokens:  []\n\n\"Sumlin says he put Kyler Murray in for Kyle Allen during 1st half as a \"\"change of pace quarterback.\"\" That pace: Fast. Murray has some wheels\" \nMatched tokens:  ['sumlin', 'says', 'put', 'kyler', 'murray', 'kyle', 'allen', 'half', 'change', 'pace', 'quarterback', '.', 'pace', 'fast', '.', 'murray', 'wheels']\nUnmatched tokens:  [':']\n\nMy Friday: closet clean out\\u002c furniture rearranging\\u002c Al Green while taking a bath wrapping it all up with Downton Abbey. #lizlemon \nMatched tokens:  ['friday', 'closet', 'clean', ',', 'furniture', 'rearranging', ',', 'al', 'green', 'taking', 'bath', 'wrapping', 'downton', 'abbey', '.', '#lizlemon']\nUnmatched tokens:  [':']\n\n\"Happy birthday, Hank Williams. In honor if the Hank turning 88, we'll play 88 Hank songs in a row tonite @user #honkytonk\" \nMatched tokens:  ['happy', 'birthday', ',', 'hank', 'williams', '.', 'honor', 'hank', 'turning', ',', 'play', 'hank', 'songs', 'row', 'tonite', '#honkytonk']\nUnmatched tokens:  []\n\nWhich is more interesting unveil tomorrow? $AAPL 6s, Ipad, TV or $TM new Prius? I'm going with Prius. \nMatched tokens:  ['interesting', 'unveil', 'tomorrow', '?', '$aapl', ',', 'ipad', ',', 'tv', '$tm', 'new', 'prius', '?', 'going', 'prius', '.']\nUnmatched tokens:  []\n\nSitting 14th row for AC/DC tonight!! Let's go! \nMatched tokens:  ['sitting', 'row', 'ac/dc', 'tonight', '!', '!', 'let', 'us', 'go', '!']\nUnmatched tokens:  []\n\n\"Go Set a Watchman comes out tomorrow! Do you plan to read it?   I have to reread TKAM first, but then I definitely... \nMatched tokens:  ['go', 'set', 'watchman', 'comes', 'tomorrow', '!', 'plan', 'read', '?', 'reread', 'tkam', 'first', ',', 'definitely', '...']\nUnmatched tokens:  []\n\n#RAW Aaaaaand Randy Orton becomes the 3rd person ever to pin Rusev. Whoever's booking Rusev should step down or resign. \nMatched tokens:  ['#raw', 'aaaaaand', 'randy', 'orton', 'becomes', 'person', 'ever', 'pin', 'rusev', '.', \"whoever's\", 'booking', 'rusev', 'step', 'resign', '.']\nUnmatched tokens:  []\n\nSomething may be slightly amiss in the NFL when Tim Tebow &amp; Devon Still are cut &amp; Tom Brady is allowed to play. \nMatched tokens:  ['something', 'may', 'slightly', 'amiss', 'nfl', 'tim', 'tebow', 'devon', 'still', 'cut', 'tom', 'brady', 'allowed', 'play', '.']\nUnmatched tokens:  ['&', '&']\n\nShawn comes to Vegas the 18th or 19th &amp; I will go to the airport to meet him \nMatched tokens:  ['shawn', 'comes', 'vegas', 'go', 'airport', 'meet']\nUnmatched tokens:  ['&']\n\n@user I thought it was the football team at 1st until I scrolled down and saw Trey Burke. Lol \nMatched tokens:  ['thought', 'football', 'team', 'scrolled', 'saw', 'trey', 'burke', '.', 'lol']\nUnmatched tokens:  []\n\nMuslims will assist Muslims into high positions in the UK.....I think we may be fucked guys..... \nMatched tokens:  ['muslims', 'assist', 'muslims', 'high', 'positions', 'uk', '.....', 'think', 'may', 'fucked', 'guys', '.....']\nUnmatched tokens:  []\n\n@user Mate\\u002c how are you lads enjoying Andy Carroll over there? Can we have him back in January? We\\u2019re a bit desperate! \nMatched tokens:  ['mate', ',', 'lads', 'enjoying', 'andy', 'carroll', '?', 'back', 'january', '?', 'bit', 'desperate', '!']\nUnmatched tokens:  []\n\nA future Big Brother might be able to see you in the dark .. \nMatched tokens:  ['future', 'big', 'brother', 'might', 'able', 'see', 'dark', '..']\nUnmatched tokens:  []\n\nI\\u2019m going to Roger Sanchez at Factory in Toronto\\u002c Canada - Dec 7 \nMatched tokens:  ['going', 'roger', 'sanchez', 'factory', 'toronto', ',', 'canada', 'dec']\nUnmatched tokens:  ['-']\n\nDuring nap time I will: watch the end of Hart of Dixie\\u002c set up Activity Corner for tomorrow\\u002c & study more genetics stuff. #hotdiggitydog \nMatched tokens:  ['nap', 'time', 'watch', 'end', 'hart', 'dixie', ',', 'set', 'activity', 'corner', 'tomorrow', ',', 'study', 'genetics', 'stuff', '.', '#hotdiggitydog']\nUnmatched tokens:  [':', '&']\n\n@user @user @user I get it. You're like the caster version of Chuck Norris. You're just waiting for @user Championship Sunday \nMatched tokens:  ['get', '.', 'like', 'caster', 'version', 'chuck', 'norris', '.', 'waiting', 'championship', 'sunday']\nUnmatched tokens:  []\n\nMy little brother comes home with nike elite socks and jordans, when i was in 6th grade i got wilson socks and clearance shoes from Olympia \nMatched tokens:  ['little', 'brother', 'comes', 'home', 'nike', 'elite', 'socks', 'jordans', ',', 'grade', 'got', 'wilson', 'socks', 'clearance', 'shoes', 'olympia']\nUnmatched tokens:  []\n\nRousey to fight former boxer - Mixed martial arts star Ronda Rousey said Friday she will face female boxer Holly H... \nMatched tokens:  ['rousey', 'fight', 'former', 'boxer', 'mixed', 'martial', 'arts', 'star', 'ronda', 'rousey', 'said', 'friday', 'face', 'female', 'boxer', 'holly', 'h', '...']\nUnmatched tokens:  ['-']\n\n\"Tomorrow at work, when people talk to me, I'm just going to slap my crotch and twerk in response. See if I get the same reaction Nicki did.\" \nMatched tokens:  ['tomorrow', 'work', ',', 'people', 'talk', ',', 'going', 'slap', 'crotch', 'twerk', 'response', '.', 'see', 'get', 'reaction', 'nicki', '.']\nUnmatched tokens:  []\n\n@user   Maby cuz u are sooo good at bowling and they are now scared from u :p  They got sick from u taking the 1st place everytime \nMatched tokens:  ['maby', 'cuz', 'sooo', 'good', 'bowling', 'scared', 'p', 'got', 'sick', 'taking', 'place', 'everytime']\nUnmatched tokens:  [':']\n\nBIG BANG CONCERT IS TOMORROW. OH MY LORD !! BOO HOO HOOOO )\\u2019: *Cries all the 7 seas* \nMatched tokens:  ['big', 'bang', 'concert', 'tomorrow', '.', 'oh', 'lord', '!', '!', 'boo', 'hoo', 'hoooo', '’', 'cries', 'seas']\nUnmatched tokens:  [':', '*', '*']\n\n\" religious liberty\" is defined as religion that Bobby Jindal &amp; Huckabee approve of. Read the constitution! \nMatched tokens:  ['religious', 'liberty', 'defined', 'religion', 'bobby', 'jindal', 'huckabee', 'approve', '.', 'read', 'constitution', '!']\nUnmatched tokens:  ['&']\n\nI don\\u2019t doubt the 2nd coming will be in Jerusalem AND Missouri\\u002c but when is it due? \nMatched tokens:  ['doubt', 'coming', 'jerusalem', 'missouri', ',', 'due', '?']\nUnmatched tokens:  []\n\ntomorrow I am going to see Sam Smith live and it still is not real to me \nMatched tokens:  ['tomorrow', 'going', 'see', 'sam', 'smith', 'live', 'still', 'real']\nUnmatched tokens:  []\n\n\"rehearsing for Nov 6 \\\"\"\"\"@MlTTR0MNEY: just called Jim Leyland to congratulate New York Giants on their victorious baseball match #SFGChamps #p2\" \nMatched tokens:  ['rehearsing', 'nov', '@mney', 'called', 'jim', 'leyland', 'congratulate', 'new', 'york', 'giants', 'victorious', 'baseball', 'match', '#sfgchamps']\nUnmatched tokens:  ['\\\\', ':']\n\n\"Bryan sophomore Mykenzi Greenler gets by a Redskins defender Wednesday in Port Clinton. The Golden Bears, the No.... \nMatched tokens:  ['bryan', 'sophomore', 'mykenzi', 'greenler', 'gets', 'redskins', 'defender', 'wednesday', 'port', 'clinton', '.', 'golden', 'bears', ',', '....']\nUnmatched tokens:  []\n\nJosh Hamilton hits an RBI Double to give the Rangers a 4-2 lead in the 4th!! #Game106 \nMatched tokens:  ['josh', 'hamilton', 'hits', 'rbi', 'double', 'give', 'rangers', 'lead', '!', '!']\nUnmatched tokens:  ['-']\n\nHappy 18th Birthday to my boy Kyle!!  Very proud of him!  I would definitely rate him in the top 4 of all my kids!  @user \nMatched tokens:  ['happy', 'birthday', 'boy', 'kyle', '!', '!', 'proud', '!', 'would', 'definitely', 'rate', 'top', 'kids', '!']\nUnmatched tokens:  []\n\n\"Best day and weekend trips from Seoul, by season: by Elizabeth EunThere's just so much to see in Seoul, it may t... \nMatched tokens:  ['best', 'day', 'weekend', 'trips', 'seoul', ',', 'season', 'elizabeth', \"eunthere's\", 'much', 'see', 'seoul', ',', 'may', '...']\nUnmatched tokens:  [':']\n\nAmazon Prime day is like going on the 3rd date with a gal, and when you finally get her panties off she got a dick! \nMatched tokens:  ['amazon', 'prime', 'day', 'like', 'going', 'date', 'gal', ',', 'finally', 'get', 'panties', 'got', 'dick', '!']\nUnmatched tokens:  []\n\n",
     "output_type": "stream"
    }
   ]
  },
  {
   "cell_type": "markdown",
   "source": "<h3 style=\"color:green\">Tokenize the selected data and save it to proccessed folder</h3>",
   "metadata": {
    "tags": [],
    "cell_id": "00004-f8a1b1c4-84f5-4ab5-9cd6-e50a50ffca8c",
    "deepnote_cell_type": "markdown"
   }
  },
  {
   "cell_type": "code",
   "metadata": {
    "tags": [],
    "cell_id": "00004-64e0ab52-499e-428c-9554-38e5431bc5de",
    "deepnote_to_be_reexecuted": false,
    "source_hash": "3fb2069d",
    "execution_start": 1622656902534,
    "execution_millis": 320644,
    "output_cleared": false,
    "deepnote_cell_type": "code"
   },
   "source": "# TRAINING\n# Tokenize selected train datasets\nfor dataset in DATASETS:\n\n    # Make sure there is no file within the folder (we are using append method, so we want to append to empty file)\n    file_to_delete = glob.glob(FILEPATHS[f\"save_train_{dataset}\"])\n    if file_to_delete:\n        os.remove(file_to_delete[0])\n\n    # Run the tokenizer: Skip the first 200 lines since these were use for tokenizer development\n    tokenizeTweets(FILEPATHS[f\"train_{dataset}\"], saveTo = FILEPATHS[f\"save_train_{dataset}\"], use_extended = True, skip_lines = 200)\n\n# Tokenize selected validation datasets\nfor dataset in DATASETS:\n\n    # Run the tokenizer\n    tokenizeTweets(FILEPATHS[f\"validate_{dataset}\"], saveTo = FILEPATHS[f\"save_train_{dataset}\"], use_extended = True)\n\n# TEST\n# Tokenize selected test datasets\nfor dataset in DATASETS:\n\n    # Make sure there is no file within the folder (we are using append method, so we want to append to empty file)\n    file_to_delete = glob.glob(FILEPATHS[f\"save_test_{dataset}\"])\n    if file_to_delete:\n        os.remove(file_to_delete[0])\n\n    # Run the tokenizer\n    tokenizeTweets(FILEPATHS[f\"test_{dataset}\"], saveTo = FILEPATHS[f\"save_test_{dataset}\"], use_extended = True)",
   "execution_count": 5,
   "outputs": []
  },
  {
   "cell_type": "markdown",
   "source": "<h3 style=\"color:green\">Evaluate our tokenizer against NLTK tokenizer</h3>",
   "metadata": {
    "tags": [],
    "cell_id": "00006-0e157cc8-ae9c-4c22-bcd6-cb84f67465fb",
    "deepnote_cell_type": "markdown"
   }
  },
  {
   "cell_type": "markdown",
   "source": "__Quantitative evaluation__\n\n- Creating tokenized data sets using TweetTokenizer from the nltk library \n- Compare output with our own tokenized data using difflib\n- Compute evaluation scores",
   "metadata": {
    "tags": [],
    "cell_id": "00007-75dad70c-bc9a-45cd-a9c4-dc31c18ee3e8",
    "deepnote_cell_type": "markdown"
   }
  },
  {
   "cell_type": "code",
   "metadata": {
    "tags": [],
    "cell_id": "00007-79018411-1acd-4a0e-a838-238906217b23",
    "deepnote_to_be_reexecuted": false,
    "source_hash": "a41b1756",
    "execution_start": 1622657223179,
    "execution_millis": 115538,
    "deepnote_cell_type": "code"
   },
   "source": "for dataset in DATASETS:\n\n    # Get evaluation scores\n    evaluation = evaluateAgainstNltk(\n        filepaths = [FILEPATHS[f\"train_{dataset}\"], FILEPATHS[f\"validate_{dataset}\"]],\n        saveTo = FILEPATHS[f\"save_train_{dataset}_nltk\"],\n        compareTo = FILEPATHS[f\"save_train_{dataset}\"],\n        skip_lines = 200\n    )\n\n    # Show the result\n    mean_of_scores = sum(evaluation)/len(evaluation)\n    print(f\"Dataset: {dataset} - Mean of the score: {mean_of_scores}\")\n    print()",
   "execution_count": 6,
   "outputs": [
    {
     "name": "stdout",
     "text": "Dataset: hate - Mean of the score: 0.7312753982448997\n\nDataset: sentiment - Mean of the score: 0.7301337738711898\n\n",
     "output_type": "stream"
    }
   ]
  },
  {
   "cell_type": "markdown",
   "source": "__Qualitative evaluation__\n\nDoing a qaualitative comparison of textual differences for both data sets using difflib ",
   "metadata": {
    "tags": [],
    "cell_id": "00009-0508c429-dd2e-445c-9d4d-8056904d196e",
    "deepnote_cell_type": "markdown"
   }
  },
  {
   "cell_type": "code",
   "metadata": {
    "tags": [],
    "cell_id": "00008-e62f317f-d516-48d3-83bf-54a3b1adccab",
    "deepnote_to_be_reexecuted": false,
    "source_hash": "e0e69334",
    "execution_start": 1622657338716,
    "execution_millis": 18,
    "deepnote_cell_type": "code"
   },
   "source": "# Get arbitrary no. of comparable strings from both tokenized 'hate' data sets\ngetTokenDeltas(FILEPATHS[f'save_train_hate'], FILEPATHS[f'save_train_hate_nltk'], 30)",
   "execution_count": 7,
   "outputs": [
    {
     "name": "stdout",
     "text": "- #teenwolf #menstruafacts question day #feminist forget feminism ? answer restaurant check hits table .\n\n?  ^   ^                   ^        ^                               ^\n\n+ #TeenWolf #menstruafacts Question of the Day : When does a #feminist forget feminism ? Answer : When the restaurant check hits the table .\n\n?  ^   ^                   ^        ^^^^^^^^  ++++++++++++++                             ^     +++++++++++                      ++++\n\n- church's position immigration define witness hurt broken world . welcoming stranger . updated book written world relief's matthew soerens jenny yang . find copy today !\n\n+ \" The church's position on immigration will define its witness to a hurt and broken world . \" - Welcoming the Stranger . This updated book is written by World Relief's Matthew Soerens and Jenny Yang . Find your copy today !\n\n- grant first point   joke insult.about second point though   calling hysterical person hysterical set anyone back . hysterical women men   bitches douchebags   ass\n\n+ @user @user Grant you the first point   but it was a joke more than an insult.About the second point though   calling an hysterical person hysterical doesn't set anyone back . There are hysterical women ( and men )   bitches and douchebags   ass\n\n- ! scroungers/soldiers coming create caliphate create chaos . go home   look girlfriends/wives kids . fighting age . last thing   refugees ! bugger ! bye   bey   cheers ....\n\n+ No your not ! You are scroungers / soldiers coming to create a caliphate or create chaos . Go home   look after your girlfriends / wives / kids . All fighting age . The last thing you are   are refugees ! Bugger off ! Bye   bey   cheers ...\n\n- _southernsyria apparently secret meeting week bet #angelamerkel russia fm lavrov&headrussian army #europe come in&help rebuild #syria   russia wants sothat europe wants materialize returnof #refugees german journo #datelinelondon\n\n+ #act4_southernsyria Apparently secret meeting this week bet #angelamerkel @user & Russia fm Lavrov & headRussian army - #Europe will come in & help rebuild #Syria   which Russia wants - sothat what Europe wants most can materialize ‘ “ returnof #refugees - German journo #datelinelondon\n\n- make canada like hungary prime minster viktor orb n vowed allow christian country changed incompatible jihadi invaders . orb n   warned europe invasion   countries stop immigration lost\n\n+ Make Canada like Hungary Again :P rime Minster Viktor OrbÃ ¡ n has vowed to not allow his CHRISTIAN country to be changed by incompatible Jihadi Invaders . OrbÃ ¡ n   has warned : “ Europe is under invasion   countries that don ’ t stop immigration will be lost ”\n\n- immigrant . live child . year old female . earned $   last year . work hours per week . bachelor's degree accounting . live mi cc'rep . john moolenaar . #immigrantsareus\n\n+ I am an immigrant . I live with my child . I am a 29 year old female . I earned $ 13 000 last year . I work 40 hours per week . I have a Bachelor's degree in accounting . I live in MI cc'Rep . John Moolenaar . #ImmigrantsAreUS\n\n- africans say blacks europe   europeans africa   #landexpropriationhearings   currently underway #southafrica . #sendthemback\n\n? ^                   ^        ^         ^         ^   ^            ^                              ^    ^         ^   ^   ^\n\n+ Africans having their say about Blacks in Europe   and Europeans in Africa   at the #LandExpropriationHearings   currently underway in #SouthAfrica . #SendThemBack\n\n? ^        +++++++++++++    + +++++      ^^^^        ^^^^^         ^^^^        +++++++ ^   ^            ^                             +++ ^    ^         ^   ^   ^\n\n- dems suggest kavanaugh considered scotus b/c #trump investigation ! never mind said investigation trumped-up phony witch-hunt begun dems place#potus #maga #draintheswamp #votered #news #nodaca #kag #getoutthevote #buildthewall\n\n+ Dems suggest Kavanaugh should NOT be considered for SCOTUS b / c #Trump is under investigation ! NEVER MIND that said investigation is a TRUMPed-up phony witch-hunt begun by Dems in the 1st place #POTUS #MAGA #DrainTheSwamp #VoteRed #NEWS #NoDACA #KAG #GetOutTheVote #BuildTheWall\n\n- jail . bum   pussy bitch ! shit ! pray next child wayyyyy better fr .\n\n+ He is in and out of jail . He's a bum   he a pussy bitch ! He just ain't shit ! I pray his next child he do wayyyyy better with fr .\n\n- tweet face_with_tears_of_joy face_with_tears_of_joy bitch talk helllo tf whore face_with_rolling_eyes face_with_tears_of_joy\n\n+ U dont so why tweet it 😂 😂 the only bitch u talk to is HELLLO ME TF WHORE 🙄 😂\n\n- relocationprogramm eu work . refugees want go countries without comfortabel socialsystem .\n\n?                     ^\n\n+ The relocationprogramm of the EU doesnt work . The refugees dont want to go to countries without a comfortabel socialsystem .\n\n? ++++                   +++++ ^^^^^^^^^^       ++++          +++++     +++  +++                  ++\n\n- illegal immigrant killed kate steinle likely sentenced time served #preventabledeath#buildthewall #stoptheinvasion #therismoreofthemoutthere\n\n? ^                        ^    ^                                     ^          ^     ^    ^  ^     ^   ^  ^         ^   ^ ^   ^ ^   ^  ^\n\n+ Illegal immigrant who killed Kate Steinle likely will be sentenced to time served #PreventableDeath #BuildTheWall #StopTheInvasion #TherIsMoreOfThemOutThere\n\n? ^                 ++++       ^    ^             ++++++++           +++             ^          ^    + ^    ^  ^     ^   ^  ^         ^   ^ ^   ^ ^   ^  ^\n\n- never understood people stand wait food tolly ho ... good one\n\n?                                               ^\n\n+ I ’ ve never understood why people stand and wait on they food at Tolly Ho ... you a good one\n\n? +++++++                 ++++             ++++     ++++++++     + ++     ^     ++++++\n\n- friend carefree living life drinking   drugs unprotected sex complete strangers ?\n\n? ^\n\n+ Friend - how are you so carefree living a life of drinking   drugs and unprotected sex with complete strangers ? Me -\n\n? ^     +++++++++++++++++                 ++    +++                 ++++                +++++                     +++++\n\n- people including problem immigration illegal immigrant think stopped deported . different legal illegal immigrants .\n\n+ Most people and including me have no problem with immigration it the illegal immigrant that we think should be stopped and deported . There is a different between a legal and illegal immigrants .\n\n- virginia governor calls probe abuse allegations facility holds immigrant teens\n\n? ^\n\n+ Virginia governor calls for probe into abuse allegations at facility that holds immigrant teens\n\n? ^                       ++++      +++++                  +++         +++++\n\n- girlfriend close best friends .. much want tell girls ur fuckin\n\n+ When you and your girlfriend are so close that you're best friends .. So much so that you just wanna tell her about the other girls ur fuckin\n\n- rt fault dick extra special . makes people daydream ya know ? xp\n\n+ RT @user It's not her fault that your dick is extra special . It makes people daydream ya know ? xp\n\n? +++++++ ++ ++++++++++       ++++++++++    +++                +++\n\n- stupid fucking whore mom\n\n+ you stupid fucking whore mom\n\n? ++++\n\n- allies year old brother calling cunt bitch bc asked question skull\n\n?                                                              ^^^^^\n\n+ allies 10 year old brother is calling me a cunt and a bitch bc I asked him a question 💀\n\n?        +++                 +++        +++++    ++++++         ++      ++++++          ^\n\n- fucking cunt bitch learned nothing election\n\n? ^\n\n+ @user Fucking cunt bitch has learned nothing from the election\n\n? ^^^^^^^                 ++++                +++++++++\n\n- illegal alien awaiting deportation child rape   caught producing child porn\n\n? ^       ^     ^        ^           ^     ^      ^      ^         ^     ^\n\n+ Illegal Alien Awaiting Deportation For Child Rape   Now Caught Producing Child Porn\n\n? ^       ^     ^        ^           ^^^^^     ^      ^^^^^      ^         ^     ^\n\n- #commonweath va welcomes immigrants benefit\n\n+ The #commonweath of VA welcomes all immigrants to its benefit and theirs @user\n\n- denmark cut welfare benefits migrants move finland threaten finland treat us better free speech time\n\n? ^                                          ^                ^                       ^    ^      ^\n\n+ Denmark has cut welfare benefits for migrants - \" We'll move to Finland \" They threaten \" Finland will treat us better \" - Free Speech Time - @user\n\n? ^       ++++                     ++++         ++++++++++     ^^^^      +++++++          ^^^       +++++                ^^^^^    ^      ^   ++++++++\n\n- right settle turks could invade europe kebabs   cameron ur immigration policy nappy constipated people\n\n?                                 ^               ^\n\n+ @user o right settle down 75 m turks could invade Europe no more kebabs   Cameron ur immigration policy as a nappy for constipated people\n\n? ++++++++             ++++++++++                   ^     ++++++++          ^                             +++++     ++++\n\n- bitch hoe\n\n+ @user No bitch you a hoe\n\n- shoutout everyone accidentally blowing fingers video today good laugh tomorrow ... patriotic af\n\n? ^                                                                                            ^^\n\n+ Shoutout to everyone accidentally blowing fingers off on video today so we can all have a good laugh tomorrow ... Y'all patriotic AF\n\n? ^       +++                                       +++++++            +++++++++++++++++++++                       ++++++           ^^\n\n- women 's vacation literally fuck anything\n\n? ^\n\n+ Women in their 30 ' s on vacation will literally fuck anything\n\n? ^     ++++++++++++ + +++         +++++\n\n- #atlantahitrockbottoms fool promoting lawlessness illegals wants turn atl world city like chicago la . better brainless idiot ! #impeachbottoms #buildthatwall\n\n+ @user @user #AtlantaHitRockBottoms This FOOL is promoting lawlessness from illegals and wants to turn ATL into a 3rd world city like Chicago and LA . We are better than this brainless idiot ! #ImpeachBottoms #BuildThatWall\n\n",
     "output_type": "stream"
    }
   ]
  },
  {
   "cell_type": "code",
   "metadata": {
    "tags": [],
    "cell_id": "00011-3fa5f16a-49cd-45c3-aec9-f9aa778069c7",
    "deepnote_to_be_reexecuted": false,
    "source_hash": "c022761a",
    "execution_start": 1622657338730,
    "execution_millis": 30,
    "deepnote_cell_type": "code"
   },
   "source": "# Get arbitrary no. of comparable strings from both tokenized 'sentiment' data sets\ngetTokenDeltas(FILEPATHS[f'save_train_sentiment'], FILEPATHS[f'save_train_sentiment_nltk'], 20)",
   "execution_count": 8,
   "outputs": [
    {
     "name": "stdout",
     "text": "- nolan arenado   kris bryant   manny machado miguel sano going base spot next seasons\n\n+ \" Nolan Arenado   Kris Bryant   Manny Machado and Miguel Sano are gonna won the 3rd base spot for the next 5-10 seasons \"\n\n- december could biggest ufc card put together . aldo mcgregor   rousey co main event possibly fighting cyborg .\n\n? ^                      ^^^^^                   ^    ^ ^        ^                                      ^\n\n+ \" December 5th could be the biggest UFC Card put together . Aldo & McGregor   and Rousey as a co main event with her possibly fighting Cyborg . \"\n\n? ^^^        ++++     +++++++         ^^^^^                   ^    ^^^ ^        ^^^^^      +++++             +++++++++                   ^       ++\n\n- sun mommy ? asleep like harper's moon mommy dammit kid .\n\n+ \" Where's the sun mommy ? \" \" It's asleep like you should be \" \" But Harper's a moon mommy \" Dammit kid .\n\n- sure replay nfl network tomorrow .\n\n+ @user Im sure it will replay on NFL network tomorrow too .\n\n- iphone launch details leak ahead apple's september event iphone launch wednesday ...\n\n+ iPhone 6s Launch : More Details Leak Ahead of Apple's September 9 Event : iPhone 6s launch on Wednesday is just ...\n\n- yep ac/dc tonight ford field plane thursday san diego ...\n\n+ @user yep AC / DC tonight at Ford Field then on a plane Thursday to San Diego ...\n\n- amazing halloween weekend ! lot great costumes ! wait big night wednesday ! underworld cinema !\n\n?         ^         ^             ^                               ^           ^          ^\n\n+ What an Amazing Halloween Weekend ! A lot of Great costumes ! Can \\ u2019t wait for the big night This Wednesday ! Underworld at Cinema !\n\n? ++ ++++++       ^         ^        ++     ^^^^               +++++++++++++      ++++++++          ^^^^^^           ^          ^^^^\n\n- behind danny elfman tim burton movies . love whimsical music\n\n+ he's 2nd for me behind Danny Elfman who does all of the Tim Burton movies . i love the whimsical music\n\n- jdog ! would say missing gills   missing football ! eagles good start eh ? done sun dream team ?\n\n?        ^\n\n+ @user Im gr8 jdog ! Wouldnt say missing the gills   missing football ! The eagles didnt have a good start eh ? Have you done sun dream team ? \"\n\n? +++++++++++++       ^    ++             ++++                          ++++        +++++++++++++               +++++++++                      ++\n\n- naruto nakama would last strawhat crew . opinion . sorry .\n\n+ Naruto is the 10th Nakama and would be the last Strawhat Crew . Just my opinion . Sorry .\n\n- support ceo keith bradshaw spends night sleeping adelaide oval thursday raising money homeless\n\n+ Support CEO Keith Bradshaw as he spends a night sleeping at Adelaide Oval on THURSDAY raising money for the homeless\n\n- yes   download avaiable aug   play . waiting sep . read finish download . good luck\n\n+ @user @user yes   download avaiable 30 aug   but after can't play . waiting 1 sep . you read this in PS4 after finish download . good luck \"\n\n- social media week right ! tell excited ? #smwvan event tomorrow   see !\n\n+ Social Media Week is right now ! Can you tell I \\ u2019m excited ? #SMWVAN I \\ u2019ll be at the @user event tomorrow \\ u002c see you there !\n\n- rahul gandhi kid planning jail bharo supporters december great . judge less trouble arriving verdict .\n\n? ^     ^                                         ^  ^^^^^^^\n\n+ Rahul Gandhi the kid is planning jail bharo with all his supporters on 19 Dec . Great . The judge will have less trouble arriving at verdict .\n\n? ^     ^      ++++   +++                    +++++++++++++            ^^^^^^^  ^^^^      ++++       ++++++++++                      +++\n\n- babe get free trial want see beyonce live flatbush !\n\n? ^                            ^            ^\n\n+ Babe get your free trial I want to see Beyonce live and Flatbush ! @user\n\n? ^       +++++            ++     +++    ^            ^^^^^         ++++++\n\n- literally struggling speak traveling march listen soooo much kpop past time !\n\n?                                      ^                       ^^\n\n+ @user I'm literally struggling as we speak--I'm traveling in March and I listen to soooo much KPop that it's past time !\n\n? ++++++++++                     ++++++     +++++           ^^^^    ++++++        +++           ^^  ++++++++++\n\n- see think real madrid signed old ? #wow\n\n+ Did I just see what I think I did on @user Real Madrid signed a 7th old ? #wow\n\n- honestly   lack party support expected . company's fault siding nintendo\n\n+ Honestly   lack of 3rd party support should have been expected . its not the company's fault for not siding with Nintendo\n\n- great sets well sunday rock park .\n\n+ Great sets as well by @user and @user We do it all again Sunday at Rock Im Park . @user @user\n\n- started #theamericans friday courtesy vacationing cat-owning neighbors amazon prime . oops . uh   paying amazon .\n\n?          ^  ^         ^                                                ^      ^       ^      ^           ^\n\n+ I started #TheAmericans on Friday courtesy my vacationing cat-owning neighbors with Amazon Prime . Oops . Uh   I'm not paying Amazon myself .\n\n? ++         ^  ^         ^^^^              +++                                  ^^^^^^      ^       ^      ^   ++++++++        ^      +++++++\n\n",
     "output_type": "stream"
    }
   ]
  },
  {
   "cell_type": "markdown",
   "source": "<h2 style=\"color:#22198A\">Task 2: Characterizing our Data</h2>",
   "metadata": {
    "tags": [],
    "cell_id": "00008-4d8b41da-f715-4e26-8f71-f137c884a700",
    "deepnote_cell_type": "markdown"
   }
  },
  {
   "cell_type": "markdown",
   "source": "Building corpra, vocabulary and frequency counts for tokenized training data sets. The data frames being created, 'frq_x', includes log-transformed rank and frequencies for demonstrating Zipf's Law with a log-log plot.",
   "metadata": {
    "tags": [],
    "cell_id": "00009-b8a25583-72e8-4396-8653-dd12baca57cc",
    "deepnote_cell_type": "markdown"
   }
  },
  {
   "cell_type": "code",
   "metadata": {
    "tags": [],
    "cell_id": "00009-bb3a81ec-4cd3-436b-a56a-d9e1e24a6d53",
    "deepnote_to_be_reexecuted": false,
    "source_hash": "540fbe2",
    "execution_start": 1622657338755,
    "execution_millis": 567,
    "deepnote_cell_type": "code"
   },
   "source": "# Hate training data set\ncorpus_hate, voc_hate, frq_hate = build_corpus_freq(FILEPATHS['save_train_hate'])\n\n# Sentiment training data set\ncorpus_sent, voc_sent, frq_sent = build_corpus_freq(FILEPATHS['save_train_sentiment'])",
   "execution_count": 9,
   "outputs": []
  },
  {
   "cell_type": "code",
   "metadata": {
    "tags": [],
    "cell_id": "00011-ea1dd2e4-0106-49fd-b655-0022b00ac798",
    "deepnote_to_be_reexecuted": false,
    "source_hash": "7776bc43",
    "execution_start": 1622657339326,
    "execution_millis": 44,
    "deepnote_cell_type": "code"
   },
   "source": "frq_hate.head()",
   "execution_count": 10,
   "outputs": [
    {
     "output_type": "execute_result",
     "execution_count": 10,
     "data": {
      "application/vnd.deepnote.dataframe.v2+json": {
       "row_count": 5,
       "column_count": 7,
       "columns": [
        {
         "name": "token",
         "dtype": "object",
         "stats": {
          "unique_count": 5,
          "nan_count": 0,
          "categories": [
           {
            "name": ".",
            "count": 1
           },
           {
            "name": ",",
            "count": 1
           },
           {
            "name": "3 others",
            "count": 3
           }
          ]
         }
        },
        {
         "name": "frequency",
         "dtype": "int64",
         "stats": {
          "unique_count": 5,
          "nan_count": 0,
          "min": "1159",
          "max": "6830",
          "histogram": [
           {
            "bin_start": 1159,
            "bin_end": 1726.1,
            "count": 2
           },
           {
            "bin_start": 1726.1,
            "bin_end": 2293.2,
            "count": 0
           },
           {
            "bin_start": 2293.2,
            "bin_end": 2860.3,
            "count": 1
           },
           {
            "bin_start": 2860.3,
            "bin_end": 3427.4,
            "count": 0
           },
           {
            "bin_start": 3427.4,
            "bin_end": 3994.5,
            "count": 0
           },
           {
            "bin_start": 3994.5,
            "bin_end": 4561.6,
            "count": 0
           },
           {
            "bin_start": 4561.6,
            "bin_end": 5128.700000000001,
            "count": 1
           },
           {
            "bin_start": 5128.700000000001,
            "bin_end": 5695.8,
            "count": 0
           },
           {
            "bin_start": 5695.8,
            "bin_end": 6262.900000000001,
            "count": 0
           },
           {
            "bin_start": 6262.900000000001,
            "bin_end": 6830,
            "count": 1
           }
          ]
         }
        },
        {
         "name": "idx",
         "dtype": "int64",
         "stats": {
          "unique_count": 5,
          "nan_count": 0,
          "min": "1",
          "max": "5",
          "histogram": [
           {
            "bin_start": 1,
            "bin_end": 1.4,
            "count": 1
           },
           {
            "bin_start": 1.4,
            "bin_end": 1.8,
            "count": 0
           },
           {
            "bin_start": 1.8,
            "bin_end": 2.2,
            "count": 1
           },
           {
            "bin_start": 2.2,
            "bin_end": 2.6,
            "count": 0
           },
           {
            "bin_start": 2.6,
            "bin_end": 3,
            "count": 0
           },
           {
            "bin_start": 3,
            "bin_end": 3.4000000000000004,
            "count": 1
           },
           {
            "bin_start": 3.4000000000000004,
            "bin_end": 3.8000000000000003,
            "count": 0
           },
           {
            "bin_start": 3.8000000000000003,
            "bin_end": 4.2,
            "count": 1
           },
           {
            "bin_start": 4.2,
            "bin_end": 4.6,
            "count": 0
           },
           {
            "bin_start": 4.6,
            "bin_end": 5,
            "count": 1
           }
          ]
         }
        },
        {
         "name": "norm_freq",
         "dtype": "float64",
         "stats": {
          "unique_count": 5,
          "nan_count": 0,
          "min": "0.008770867702925641",
          "max": "0.05168682175235731",
          "histogram": [
           {
            "bin_start": 0.008770867702925641,
            "bin_end": 0.013062463107868807,
            "count": 2
           },
           {
            "bin_start": 0.013062463107868807,
            "bin_end": 0.017354058512811972,
            "count": 0
           },
           {
            "bin_start": 0.017354058512811972,
            "bin_end": 0.02164565391775514,
            "count": 1
           },
           {
            "bin_start": 0.02164565391775514,
            "bin_end": 0.025937249322698308,
            "count": 0
           },
           {
            "bin_start": 0.025937249322698308,
            "bin_end": 0.030228844727641473,
            "count": 0
           },
           {
            "bin_start": 0.030228844727641473,
            "bin_end": 0.03452044013258464,
            "count": 0
           },
           {
            "bin_start": 0.03452044013258464,
            "bin_end": 0.03881203553752781,
            "count": 1
           },
           {
            "bin_start": 0.03881203553752781,
            "bin_end": 0.04310363094247097,
            "count": 0
           },
           {
            "bin_start": 0.04310363094247097,
            "bin_end": 0.04739522634741414,
            "count": 0
           },
           {
            "bin_start": 0.04739522634741414,
            "bin_end": 0.05168682175235731,
            "count": 1
           }
          ]
         }
        },
        {
         "name": "cumul_frq",
         "dtype": "float64",
         "stats": {
          "unique_count": 5,
          "nan_count": 0,
          "min": "0.05168682175235731",
          "max": "0.12969381423014636",
          "histogram": [
           {
            "bin_start": 0.05168682175235731,
            "bin_end": 0.05948752100013621,
            "count": 1
           },
           {
            "bin_start": 0.05948752100013621,
            "bin_end": 0.06728822024791511,
            "count": 0
           },
           {
            "bin_start": 0.06728822024791511,
            "bin_end": 0.07508891949569402,
            "count": 0
           },
           {
            "bin_start": 0.07508891949569402,
            "bin_end": 0.08288961874347293,
            "count": 0
           },
           {
            "bin_start": 0.08288961874347293,
            "bin_end": 0.09069031799125184,
            "count": 1
           },
           {
            "bin_start": 0.09069031799125184,
            "bin_end": 0.09849101723903074,
            "count": 0
           },
           {
            "bin_start": 0.09849101723903074,
            "bin_end": 0.10629171648680966,
            "count": 0
           },
           {
            "bin_start": 0.10629171648680966,
            "bin_end": 0.11409241573458856,
            "count": 1
           },
           {
            "bin_start": 0.11409241573458856,
            "bin_end": 0.12189311498236746,
            "count": 1
           },
           {
            "bin_start": 0.12189311498236746,
            "bin_end": 0.12969381423014636,
            "count": 1
           }
          ]
         }
        },
        {
         "name": "log_frq",
         "dtype": "float64",
         "stats": {
          "unique_count": 5,
          "nan_count": 0,
          "min": "7.055312843339752",
          "max": "8.829079952564836",
          "histogram": [
           {
            "bin_start": 7.055312843339752,
            "bin_end": 7.23268955426226,
            "count": 1
           },
           {
            "bin_start": 7.23268955426226,
            "bin_end": 7.410066265184769,
            "count": 1
           },
           {
            "bin_start": 7.410066265184769,
            "bin_end": 7.587442976107277,
            "count": 0
           },
           {
            "bin_start": 7.587442976107277,
            "bin_end": 7.764819687029785,
            "count": 0
           },
           {
            "bin_start": 7.764819687029785,
            "bin_end": 7.942196397952294,
            "count": 1
           },
           {
            "bin_start": 7.942196397952294,
            "bin_end": 8.119573108874803,
            "count": 0
           },
           {
            "bin_start": 8.119573108874803,
            "bin_end": 8.29694981979731,
            "count": 0
           },
           {
            "bin_start": 8.29694981979731,
            "bin_end": 8.47432653071982,
            "count": 0
           },
           {
            "bin_start": 8.47432653071982,
            "bin_end": 8.651703241642327,
            "count": 1
           },
           {
            "bin_start": 8.651703241642327,
            "bin_end": 8.829079952564836,
            "count": 1
           }
          ]
         }
        },
        {
         "name": "log_rank",
         "dtype": "float64",
         "stats": {
          "unique_count": 5,
          "nan_count": 0,
          "min": "0.0",
          "max": "1.6094379124341003",
          "histogram": [
           {
            "bin_start": 0,
            "bin_end": 0.16094379124341002,
            "count": 1
           },
           {
            "bin_start": 0.16094379124341002,
            "bin_end": 0.32188758248682003,
            "count": 0
           },
           {
            "bin_start": 0.32188758248682003,
            "bin_end": 0.48283137373023005,
            "count": 0
           },
           {
            "bin_start": 0.48283137373023005,
            "bin_end": 0.6437751649736401,
            "count": 0
           },
           {
            "bin_start": 0.6437751649736401,
            "bin_end": 0.80471895621705,
            "count": 1
           },
           {
            "bin_start": 0.80471895621705,
            "bin_end": 0.9656627474604601,
            "count": 0
           },
           {
            "bin_start": 0.9656627474604601,
            "bin_end": 1.1266065387038702,
            "count": 1
           },
           {
            "bin_start": 1.1266065387038702,
            "bin_end": 1.2875503299472801,
            "count": 0
           },
           {
            "bin_start": 1.2875503299472801,
            "bin_end": 1.44849412119069,
            "count": 1
           },
           {
            "bin_start": 1.44849412119069,
            "bin_end": 1.6094379124341003,
            "count": 1
           }
          ]
         }
        },
        {
         "name": "_deepnote_index_column",
         "dtype": "int64"
        }
       ],
       "rows_top": [
        {
         "token": ".",
         "frequency": 6830,
         "idx": 1,
         "norm_freq": 0.05168682175235731,
         "cumul_frq": 0.05168682175235731,
         "log_frq": 8.829079952564836,
         "log_rank": 0,
         "_deepnote_index_column": 0
        },
        {
         "token": ",",
         "frequency": 4970,
         "idx": 2,
         "norm_freq": 0.03761105477440935,
         "cumul_frq": 0.08929787652676666,
         "log_frq": 8.511175119090675,
         "log_rank": 0.6931471805599453,
         "_deepnote_index_column": 1
        },
        {
         "token": "!",
         "frequency": 2553,
         "idx": 3,
         "norm_freq": 0.019320125319731804,
         "cumul_frq": 0.10861800184649846,
         "log_frq": 7.845024417241484,
         "log_rank": 1.0986122886681098,
         "_deepnote_index_column": 2
        },
        {
         "token": "?",
         "frequency": 1626,
         "idx": 4,
         "norm_freq": 0.012304944680722253,
         "cumul_frq": 0.12092294652722071,
         "log_frq": 7.3938782901077555,
         "log_rank": 1.3862943611198906,
         "_deepnote_index_column": 3
        },
        {
         "token": "bitch",
         "frequency": 1159,
         "idx": 5,
         "norm_freq": 0.008770867702925641,
         "cumul_frq": 0.12969381423014636,
         "log_frq": 7.055312843339752,
         "log_rank": 1.6094379124341003,
         "_deepnote_index_column": 4
        }
       ],
       "rows_bottom": null
      },
      "text/plain": "   token  frequency  idx  norm_freq  cumul_frq   log_frq  log_rank\n0      .       6830    1   0.051687   0.051687  8.829080  0.000000\n1      ,       4970    2   0.037611   0.089298  8.511175  0.693147\n2      !       2553    3   0.019320   0.108618  7.845024  1.098612\n3      ?       1626    4   0.012305   0.120923  7.393878  1.386294\n4  bitch       1159    5   0.008771   0.129694  7.055313  1.609438",
      "text/html": "<div>\n<style scoped>\n    .dataframe tbody tr th:only-of-type {\n        vertical-align: middle;\n    }\n\n    .dataframe tbody tr th {\n        vertical-align: top;\n    }\n\n    .dataframe thead th {\n        text-align: right;\n    }\n</style>\n<table border=\"1\" class=\"dataframe\">\n  <thead>\n    <tr style=\"text-align: right;\">\n      <th></th>\n      <th>token</th>\n      <th>frequency</th>\n      <th>idx</th>\n      <th>norm_freq</th>\n      <th>cumul_frq</th>\n      <th>log_frq</th>\n      <th>log_rank</th>\n    </tr>\n  </thead>\n  <tbody>\n    <tr>\n      <th>0</th>\n      <td>.</td>\n      <td>6830</td>\n      <td>1</td>\n      <td>0.051687</td>\n      <td>0.051687</td>\n      <td>8.829080</td>\n      <td>0.000000</td>\n    </tr>\n    <tr>\n      <th>1</th>\n      <td>,</td>\n      <td>4970</td>\n      <td>2</td>\n      <td>0.037611</td>\n      <td>0.089298</td>\n      <td>8.511175</td>\n      <td>0.693147</td>\n    </tr>\n    <tr>\n      <th>2</th>\n      <td>!</td>\n      <td>2553</td>\n      <td>3</td>\n      <td>0.019320</td>\n      <td>0.108618</td>\n      <td>7.845024</td>\n      <td>1.098612</td>\n    </tr>\n    <tr>\n      <th>3</th>\n      <td>?</td>\n      <td>1626</td>\n      <td>4</td>\n      <td>0.012305</td>\n      <td>0.120923</td>\n      <td>7.393878</td>\n      <td>1.386294</td>\n    </tr>\n    <tr>\n      <th>4</th>\n      <td>bitch</td>\n      <td>1159</td>\n      <td>5</td>\n      <td>0.008771</td>\n      <td>0.129694</td>\n      <td>7.055313</td>\n      <td>1.609438</td>\n    </tr>\n  </tbody>\n</table>\n</div>"
     },
     "metadata": {}
    }
   ]
  },
  {
   "cell_type": "code",
   "metadata": {
    "tags": [],
    "cell_id": "00012-73e64f98-3c76-4a98-9b1e-1a7a2f17d828",
    "deepnote_to_be_reexecuted": false,
    "source_hash": "d8fbefae",
    "execution_start": 1622657339423,
    "execution_millis": 14,
    "deepnote_cell_type": "code"
   },
   "source": "frq_sent.head()",
   "execution_count": 11,
   "outputs": [
    {
     "output_type": "execute_result",
     "execution_count": 11,
     "data": {
      "application/vnd.deepnote.dataframe.v2+json": {
       "row_count": 5,
       "column_count": 7,
       "columns": [
        {
         "name": "token",
         "dtype": "object",
         "stats": {
          "unique_count": 5,
          "nan_count": 0,
          "categories": [
           {
            "name": ".",
            "count": 1
           },
           {
            "name": ",",
            "count": 1
           },
           {
            "name": "3 others",
            "count": 3
           }
          ]
         }
        },
        {
         "name": "frequency",
         "dtype": "int64",
         "stats": {
          "unique_count": 5,
          "nan_count": 0,
          "min": "7521",
          "max": "33734",
          "histogram": [
           {
            "bin_start": 7521,
            "bin_end": 10142.3,
            "count": 2
           },
           {
            "bin_start": 10142.3,
            "bin_end": 12763.6,
            "count": 0
           },
           {
            "bin_start": 12763.6,
            "bin_end": 15384.900000000001,
            "count": 0
           },
           {
            "bin_start": 15384.900000000001,
            "bin_end": 18006.2,
            "count": 1
           },
           {
            "bin_start": 18006.2,
            "bin_end": 20627.5,
            "count": 0
           },
           {
            "bin_start": 20627.5,
            "bin_end": 23248.800000000003,
            "count": 1
           },
           {
            "bin_start": 23248.800000000003,
            "bin_end": 25870.100000000002,
            "count": 0
           },
           {
            "bin_start": 25870.100000000002,
            "bin_end": 28491.4,
            "count": 0
           },
           {
            "bin_start": 28491.4,
            "bin_end": 31112.7,
            "count": 0
           },
           {
            "bin_start": 31112.7,
            "bin_end": 33734,
            "count": 1
           }
          ]
         }
        },
        {
         "name": "idx",
         "dtype": "int64",
         "stats": {
          "unique_count": 5,
          "nan_count": 0,
          "min": "1",
          "max": "5",
          "histogram": [
           {
            "bin_start": 1,
            "bin_end": 1.4,
            "count": 1
           },
           {
            "bin_start": 1.4,
            "bin_end": 1.8,
            "count": 0
           },
           {
            "bin_start": 1.8,
            "bin_end": 2.2,
            "count": 1
           },
           {
            "bin_start": 2.2,
            "bin_end": 2.6,
            "count": 0
           },
           {
            "bin_start": 2.6,
            "bin_end": 3,
            "count": 0
           },
           {
            "bin_start": 3,
            "bin_end": 3.4000000000000004,
            "count": 1
           },
           {
            "bin_start": 3.4000000000000004,
            "bin_end": 3.8000000000000003,
            "count": 0
           },
           {
            "bin_start": 3.8000000000000003,
            "bin_end": 4.2,
            "count": 1
           },
           {
            "bin_start": 4.2,
            "bin_end": 4.6,
            "count": 0
           },
           {
            "bin_start": 4.6,
            "bin_end": 5,
            "count": 1
           }
          ]
         }
        },
        {
         "name": "norm_freq",
         "dtype": "float64",
         "stats": {
          "unique_count": 5,
          "nan_count": 0,
          "min": "0.012511790628384346",
          "max": "0.05611923215768084",
          "histogram": [
           {
            "bin_start": 0.012511790628384346,
            "bin_end": 0.016872534781313994,
            "count": 2
           },
           {
            "bin_start": 0.016872534781313994,
            "bin_end": 0.021233278934243646,
            "count": 0
           },
           {
            "bin_start": 0.021233278934243646,
            "bin_end": 0.025594023087173297,
            "count": 0
           },
           {
            "bin_start": 0.025594023087173297,
            "bin_end": 0.029954767240102945,
            "count": 1
           },
           {
            "bin_start": 0.029954767240102945,
            "bin_end": 0.03431551139303259,
            "count": 0
           },
           {
            "bin_start": 0.03431551139303259,
            "bin_end": 0.03867625554596224,
            "count": 1
           },
           {
            "bin_start": 0.03867625554596224,
            "bin_end": 0.043036999698891895,
            "count": 0
           },
           {
            "bin_start": 0.043036999698891895,
            "bin_end": 0.04739774385182154,
            "count": 0
           },
           {
            "bin_start": 0.04739774385182154,
            "bin_end": 0.05175848800475119,
            "count": 0
           },
           {
            "bin_start": 0.05175848800475119,
            "bin_end": 0.05611923215768084,
            "count": 1
           }
          ]
         }
        },
        {
         "name": "cumul_frq",
         "dtype": "float64",
         "stats": {
          "unique_count": 5,
          "nan_count": 0,
          "min": "0.05611923215768084",
          "max": "0.14933132372781824",
          "histogram": [
           {
            "bin_start": 0.05611923215768084,
            "bin_end": 0.06544044131469458,
            "count": 1
           },
           {
            "bin_start": 0.06544044131469458,
            "bin_end": 0.07476165047170832,
            "count": 0
           },
           {
            "bin_start": 0.07476165047170832,
            "bin_end": 0.08408285962872206,
            "count": 0
           },
           {
            "bin_start": 0.08408285962872206,
            "bin_end": 0.0934040687857358,
            "count": 0
           },
           {
            "bin_start": 0.0934040687857358,
            "bin_end": 0.10272527794274955,
            "count": 1
           },
           {
            "bin_start": 0.10272527794274955,
            "bin_end": 0.11204648709976328,
            "count": 0
           },
           {
            "bin_start": 0.11204648709976328,
            "bin_end": 0.12136769625677701,
            "count": 0
           },
           {
            "bin_start": 0.12136769625677701,
            "bin_end": 0.13068890541379077,
            "count": 1
           },
           {
            "bin_start": 0.13068890541379077,
            "bin_end": 0.1400101145708045,
            "count": 1
           },
           {
            "bin_start": 0.1400101145708045,
            "bin_end": 0.14933132372781824,
            "count": 1
           }
          ]
         }
        },
        {
         "name": "log_frq",
         "dtype": "float64",
         "stats": {
          "unique_count": 5,
          "nan_count": 0,
          "min": "8.925454386826402",
          "max": "10.42626150981796",
          "histogram": [
           {
            "bin_start": 8.925454386826402,
            "bin_end": 9.075535099125558,
            "count": 2
           },
           {
            "bin_start": 9.075535099125558,
            "bin_end": 9.225615811424714,
            "count": 0
           },
           {
            "bin_start": 9.225615811424714,
            "bin_end": 9.37569652372387,
            "count": 0
           },
           {
            "bin_start": 9.37569652372387,
            "bin_end": 9.525777236023025,
            "count": 0
           },
           {
            "bin_start": 9.525777236023025,
            "bin_end": 9.675857948322182,
            "count": 0
           },
           {
            "bin_start": 9.675857948322182,
            "bin_end": 9.825938660621338,
            "count": 1
           },
           {
            "bin_start": 9.825938660621338,
            "bin_end": 9.976019372920494,
            "count": 0
           },
           {
            "bin_start": 9.976019372920494,
            "bin_end": 10.12610008521965,
            "count": 1
           },
           {
            "bin_start": 10.12610008521965,
            "bin_end": 10.276180797518805,
            "count": 0
           },
           {
            "bin_start": 10.276180797518805,
            "bin_end": 10.42626150981796,
            "count": 1
           }
          ]
         }
        },
        {
         "name": "log_rank",
         "dtype": "float64",
         "stats": {
          "unique_count": 5,
          "nan_count": 0,
          "min": "0.0",
          "max": "1.6094379124341003",
          "histogram": [
           {
            "bin_start": 0,
            "bin_end": 0.16094379124341002,
            "count": 1
           },
           {
            "bin_start": 0.16094379124341002,
            "bin_end": 0.32188758248682003,
            "count": 0
           },
           {
            "bin_start": 0.32188758248682003,
            "bin_end": 0.48283137373023005,
            "count": 0
           },
           {
            "bin_start": 0.48283137373023005,
            "bin_end": 0.6437751649736401,
            "count": 0
           },
           {
            "bin_start": 0.6437751649736401,
            "bin_end": 0.80471895621705,
            "count": 1
           },
           {
            "bin_start": 0.80471895621705,
            "bin_end": 0.9656627474604601,
            "count": 0
           },
           {
            "bin_start": 0.9656627474604601,
            "bin_end": 1.1266065387038702,
            "count": 1
           },
           {
            "bin_start": 1.1266065387038702,
            "bin_end": 1.2875503299472801,
            "count": 0
           },
           {
            "bin_start": 1.2875503299472801,
            "bin_end": 1.44849412119069,
            "count": 1
           },
           {
            "bin_start": 1.44849412119069,
            "bin_end": 1.6094379124341003,
            "count": 1
           }
          ]
         }
        },
        {
         "name": "_deepnote_index_column",
         "dtype": "int64"
        }
       ],
       "rows_top": [
        {
         "token": ".",
         "frequency": 33734,
         "idx": 1,
         "norm_freq": 0.05611923215768084,
         "cumul_frq": 0.05611923215768084,
         "log_frq": 10.42626150981796,
         "log_rank": 0,
         "_deepnote_index_column": 0
        },
        {
         "token": ",",
         "frequency": 23223,
         "idx": 2,
         "norm_freq": 0.03863333516327213,
         "cumul_frq": 0.09475256732095297,
         "log_frq": 10.052898445872824,
         "log_rank": 0.6931471805599453,
         "_deepnote_index_column": 1
        },
        {
         "token": "!",
         "frequency": 17552,
         "idx": 3,
         "norm_freq": 0.02919916887507008,
         "cumul_frq": 0.12395173619602305,
         "log_frq": 9.772923182515012,
         "log_rank": 1.0986122886681098,
         "_deepnote_index_column": 2
        },
        {
         "token": "...",
         "frequency": 7735,
         "idx": 4,
         "norm_freq": 0.01286779690341084,
         "cumul_frq": 0.1368195330994339,
         "log_frq": 8.953510763007166,
         "log_rank": 1.3862943611198906,
         "_deepnote_index_column": 3
        },
        {
         "token": "?",
         "frequency": 7521,
         "idx": 5,
         "norm_freq": 0.012511790628384346,
         "cumul_frq": 0.14933132372781824,
         "log_frq": 8.925454386826402,
         "log_rank": 1.6094379124341003,
         "_deepnote_index_column": 4
        }
       ],
       "rows_bottom": null
      },
      "text/plain": "  token  frequency  idx  norm_freq  cumul_frq    log_frq  log_rank\n0     .      33734    1   0.056119   0.056119  10.426262  0.000000\n1     ,      23223    2   0.038633   0.094753  10.052898  0.693147\n2     !      17552    3   0.029199   0.123952   9.772923  1.098612\n3   ...       7735    4   0.012868   0.136820   8.953511  1.386294\n4     ?       7521    5   0.012512   0.149331   8.925454  1.609438",
      "text/html": "<div>\n<style scoped>\n    .dataframe tbody tr th:only-of-type {\n        vertical-align: middle;\n    }\n\n    .dataframe tbody tr th {\n        vertical-align: top;\n    }\n\n    .dataframe thead th {\n        text-align: right;\n    }\n</style>\n<table border=\"1\" class=\"dataframe\">\n  <thead>\n    <tr style=\"text-align: right;\">\n      <th></th>\n      <th>token</th>\n      <th>frequency</th>\n      <th>idx</th>\n      <th>norm_freq</th>\n      <th>cumul_frq</th>\n      <th>log_frq</th>\n      <th>log_rank</th>\n    </tr>\n  </thead>\n  <tbody>\n    <tr>\n      <th>0</th>\n      <td>.</td>\n      <td>33734</td>\n      <td>1</td>\n      <td>0.056119</td>\n      <td>0.056119</td>\n      <td>10.426262</td>\n      <td>0.000000</td>\n    </tr>\n    <tr>\n      <th>1</th>\n      <td>,</td>\n      <td>23223</td>\n      <td>2</td>\n      <td>0.038633</td>\n      <td>0.094753</td>\n      <td>10.052898</td>\n      <td>0.693147</td>\n    </tr>\n    <tr>\n      <th>2</th>\n      <td>!</td>\n      <td>17552</td>\n      <td>3</td>\n      <td>0.029199</td>\n      <td>0.123952</td>\n      <td>9.772923</td>\n      <td>1.098612</td>\n    </tr>\n    <tr>\n      <th>3</th>\n      <td>...</td>\n      <td>7735</td>\n      <td>4</td>\n      <td>0.012868</td>\n      <td>0.136820</td>\n      <td>8.953511</td>\n      <td>1.386294</td>\n    </tr>\n    <tr>\n      <th>4</th>\n      <td>?</td>\n      <td>7521</td>\n      <td>5</td>\n      <td>0.012512</td>\n      <td>0.149331</td>\n      <td>8.925454</td>\n      <td>1.609438</td>\n    </tr>\n  </tbody>\n</table>\n</div>"
     },
     "metadata": {}
    }
   ]
  },
  {
   "cell_type": "markdown",
   "source": "Examining the most common words in both data sets:",
   "metadata": {
    "tags": [],
    "cell_id": "00011-744d277d-a033-499b-9b3c-d1315baaee38",
    "deepnote_cell_type": "markdown"
   }
  },
  {
   "cell_type": "code",
   "metadata": {
    "tags": [],
    "cell_id": "00013-3c3ec539-0911-45b5-9369-390f99b76299",
    "deepnote_to_be_reexecuted": false,
    "source_hash": "fe0d3ecd",
    "execution_start": 1622657339437,
    "execution_millis": 495,
    "deepnote_cell_type": "code"
   },
   "source": "# Visualising the 30 most common words in the hate data set\nplt.figure(figsize=(20,10))\nplt.ylabel(\"Frequency\") \nplt.xlabel(\"Token\")\nplt.xticks(rotation=90)\nplt.title(\"30 most common words (Hate Speech)\")\n\nfor row in frq_hate.head(30).itertuples():\n    plt.bar(row[1], row[2])\nplt.show()",
   "execution_count": 12,
   "outputs": [
    {
     "data": {
      "text/plain": "<Figure size 1440x720 with 1 Axes>",
      "image/png": "[encoded data removed]"
     },
     "metadata": {
      "needs_background": "light",
      "image/png": {
       "width": 1176,
       "height": 655
      }
     },
     "output_type": "display_data"
    }
   ]
  },
  {
   "cell_type": "code",
   "metadata": {
    "tags": [],
    "cell_id": "00012-bf33a5fd-a7a1-4473-8d6c-24908c09dd8f",
    "deepnote_to_be_reexecuted": false,
    "source_hash": "94be8599",
    "execution_start": 1622657339940,
    "execution_millis": 510,
    "deepnote_cell_type": "code"
   },
   "source": "# Visualising the 30 most common words in the hate data set\nplt.figure(figsize=(20,10))\nplt.ylabel(\"Frequency\") \nplt.xlabel(\"Token\")\nplt.xticks(rotation=90)\nplt.title(\"30 most common words (Sentiment Analysis)\")\n\nfor row in frq_sent.head(30).itertuples():\n    plt.bar(row[1], row[2])\nplt.show()",
   "execution_count": 13,
   "outputs": [
    {
     "data": {
      "text/plain": "<Figure size 1440x720 with 1 Axes>",
      "image/png": "[encoded data removed]"
     },
     "metadata": {
      "needs_background": "light",
      "image/png": {
       "width": 1182,
       "height": 642
      }
     },
     "output_type": "display_data"
    }
   ]
  },
  {
   "cell_type": "markdown",
   "source": "Examining the least common words in both data sets:",
   "metadata": {
    "tags": [],
    "cell_id": "00031-df11699e-f595-41fe-ba38-b27ee4ea33f4",
    "deepnote_cell_type": "markdown"
   }
  },
  {
   "cell_type": "code",
   "metadata": {
    "tags": [],
    "cell_id": "00031-0349ffae-3758-4148-80a4-eb4cfb497d1b",
    "deepnote_to_be_reexecuted": false,
    "source_hash": "263abd5a",
    "execution_start": 1622657340451,
    "execution_millis": 42,
    "deepnote_cell_type": "code"
   },
   "source": "# 30 least common words for the hate training data set\nfrq_hate.iloc[-30:]",
   "execution_count": 14,
   "outputs": [
    {
     "output_type": "execute_result",
     "execution_count": 14,
     "data": {
      "application/vnd.deepnote.dataframe.v2+json": {
       "row_count": 30,
       "column_count": 7,
       "columns": [
        {
         "name": "token",
         "dtype": "object",
         "stats": {
          "unique_count": 30,
          "nan_count": 0,
          "categories": [
           {
            "name": "undercounting",
            "count": 1
           },
           {
            "name": "ghetto",
            "count": 1
           },
           {
            "name": "28 others",
            "count": 28
           }
          ]
         }
        },
        {
         "name": "frequency",
         "dtype": "int64",
         "stats": {
          "unique_count": 1,
          "nan_count": 0,
          "min": "1",
          "max": "1",
          "histogram": [
           {
            "bin_start": 0.5,
            "bin_end": 0.6,
            "count": 0
           },
           {
            "bin_start": 0.6,
            "bin_end": 0.7,
            "count": 0
           },
           {
            "bin_start": 0.7,
            "bin_end": 0.8,
            "count": 0
           },
           {
            "bin_start": 0.8,
            "bin_end": 0.9,
            "count": 0
           },
           {
            "bin_start": 0.9,
            "bin_end": 1,
            "count": 0
           },
           {
            "bin_start": 1,
            "bin_end": 1.1,
            "count": 30
           },
           {
            "bin_start": 1.1,
            "bin_end": 1.2000000000000002,
            "count": 0
           },
           {
            "bin_start": 1.2000000000000002,
            "bin_end": 1.3,
            "count": 0
           },
           {
            "bin_start": 1.3,
            "bin_end": 1.4,
            "count": 0
           },
           {
            "bin_start": 1.4,
            "bin_end": 1.5,
            "count": 0
           }
          ]
         }
        },
        {
         "name": "idx",
         "dtype": "int64",
         "stats": {
          "unique_count": 30,
          "nan_count": 0,
          "min": "19593",
          "max": "19622",
          "histogram": [
           {
            "bin_start": 19593,
            "bin_end": 19595.9,
            "count": 3
           },
           {
            "bin_start": 19595.9,
            "bin_end": 19598.8,
            "count": 3
           },
           {
            "bin_start": 19598.8,
            "bin_end": 19601.7,
            "count": 3
           },
           {
            "bin_start": 19601.7,
            "bin_end": 19604.6,
            "count": 3
           },
           {
            "bin_start": 19604.6,
            "bin_end": 19607.5,
            "count": 3
           },
           {
            "bin_start": 19607.5,
            "bin_end": 19610.4,
            "count": 3
           },
           {
            "bin_start": 19610.4,
            "bin_end": 19613.3,
            "count": 3
           },
           {
            "bin_start": 19613.3,
            "bin_end": 19616.2,
            "count": 3
           },
           {
            "bin_start": 19616.2,
            "bin_end": 19619.1,
            "count": 3
           },
           {
            "bin_start": 19619.1,
            "bin_end": 19622,
            "count": 3
           }
          ]
         }
        },
        {
         "name": "norm_freq",
         "dtype": "float64",
         "stats": {
          "unique_count": 1,
          "nan_count": 0,
          "min": "7.567616654810734e-06",
          "max": "7.567616654810734e-06",
          "histogram": [
           {
            "bin_start": -0.4999924323833452,
            "bin_end": -0.39999243238334514,
            "count": 0
           },
           {
            "bin_start": -0.39999243238334514,
            "bin_end": -0.29999243238334516,
            "count": 0
           },
           {
            "bin_start": -0.29999243238334516,
            "bin_end": -0.19999243238334513,
            "count": 0
           },
           {
            "bin_start": -0.19999243238334513,
            "bin_end": -0.09999243238334515,
            "count": 0
           },
           {
            "bin_start": -0.09999243238334515,
            "bin_end": 0.000007567616654824416,
            "count": 30
           },
           {
            "bin_start": 0.000007567616654824416,
            "bin_end": 0.10000756761665491,
            "count": 0
           },
           {
            "bin_start": 0.10000756761665491,
            "bin_end": 0.2000075676166549,
            "count": 0
           },
           {
            "bin_start": 0.2000075676166549,
            "bin_end": 0.30000756761665487,
            "count": 0
           },
           {
            "bin_start": 0.30000756761665487,
            "bin_end": 0.40000756761665485,
            "count": 0
           },
           {
            "bin_start": 0.40000756761665485,
            "bin_end": 0.5000075676166548,
            "count": 0
           }
          ]
         }
        },
        {
         "name": "cumul_frq",
         "dtype": "float64",
         "stats": {
          "unique_count": 30,
          "nan_count": 0,
          "min": "0.999780539116636",
          "max": "0.9999999999996243",
          "histogram": [
           {
            "bin_start": 0.999780539116636,
            "bin_end": 0.9998024852049349,
            "count": 3
           },
           {
            "bin_start": 0.9998024852049349,
            "bin_end": 0.9998244312932336,
            "count": 3
           },
           {
            "bin_start": 0.9998244312932336,
            "bin_end": 0.9998463773815325,
            "count": 3
           },
           {
            "bin_start": 0.9998463773815325,
            "bin_end": 0.9998683234698313,
            "count": 3
           },
           {
            "bin_start": 0.9998683234698313,
            "bin_end": 0.9998902695581302,
            "count": 3
           },
           {
            "bin_start": 0.9998902695581302,
            "bin_end": 0.999912215646429,
            "count": 3
           },
           {
            "bin_start": 0.999912215646429,
            "bin_end": 0.9999341617347278,
            "count": 3
           },
           {
            "bin_start": 0.9999341617347278,
            "bin_end": 0.9999561078230267,
            "count": 3
           },
           {
            "bin_start": 0.9999561078230267,
            "bin_end": 0.9999780539113254,
            "count": 3
           },
           {
            "bin_start": 0.9999780539113254,
            "bin_end": 0.9999999999996243,
            "count": 3
           }
          ]
         }
        },
        {
         "name": "log_frq",
         "dtype": "float64",
         "stats": {
          "unique_count": 1,
          "nan_count": 0,
          "min": "0.0",
          "max": "0.0",
          "histogram": [
           {
            "bin_start": -0.5,
            "bin_end": -0.4,
            "count": 0
           },
           {
            "bin_start": -0.4,
            "bin_end": -0.3,
            "count": 0
           },
           {
            "bin_start": -0.3,
            "bin_end": -0.19999999999999996,
            "count": 0
           },
           {
            "bin_start": -0.19999999999999996,
            "bin_end": -0.09999999999999998,
            "count": 0
           },
           {
            "bin_start": -0.09999999999999998,
            "bin_end": 0,
            "count": 0
           },
           {
            "bin_start": 0,
            "bin_end": 0.10000000000000009,
            "count": 30
           },
           {
            "bin_start": 0.10000000000000009,
            "bin_end": 0.20000000000000007,
            "count": 0
           },
           {
            "bin_start": 0.20000000000000007,
            "bin_end": 0.30000000000000004,
            "count": 0
           },
           {
            "bin_start": 0.30000000000000004,
            "bin_end": 0.4,
            "count": 0
           },
           {
            "bin_start": 0.4,
            "bin_end": 0.5,
            "count": 0
           }
          ]
         }
        },
        {
         "name": "log_rank",
         "dtype": "float64",
         "stats": {
          "unique_count": 1,
          "nan_count": 0,
          "min": "9.537952040879484",
          "max": "9.537952040879484",
          "histogram": [
           {
            "bin_start": 9.037952040879484,
            "bin_end": 9.137952040879483,
            "count": 0
           },
           {
            "bin_start": 9.137952040879483,
            "bin_end": 9.237952040879483,
            "count": 0
           },
           {
            "bin_start": 9.237952040879483,
            "bin_end": 9.337952040879484,
            "count": 0
           },
           {
            "bin_start": 9.337952040879484,
            "bin_end": 9.437952040879484,
            "count": 0
           },
           {
            "bin_start": 9.437952040879484,
            "bin_end": 9.537952040879484,
            "count": 0
           },
           {
            "bin_start": 9.537952040879484,
            "bin_end": 9.637952040879483,
            "count": 30
           },
           {
            "bin_start": 9.637952040879483,
            "bin_end": 9.737952040879483,
            "count": 0
           },
           {
            "bin_start": 9.737952040879483,
            "bin_end": 9.837952040879484,
            "count": 0
           },
           {
            "bin_start": 9.837952040879484,
            "bin_end": 9.937952040879484,
            "count": 0
           },
           {
            "bin_start": 9.937952040879484,
            "bin_end": 10.037952040879484,
            "count": 0
           }
          ]
         }
        },
        {
         "name": "_deepnote_index_column",
         "dtype": "int64"
        }
       ],
       "rows_top": [
        {
         "token": "undercounting",
         "frequency": 1,
         "idx": 19593,
         "norm_freq": 0.000007567616654810734,
         "cumul_frq": 0.999780539116636,
         "log_frq": 0,
         "log_rank": 9.537952040879484,
         "_deepnote_index_column": 19592
        },
        {
         "token": "ghetto",
         "frequency": 1,
         "idx": 19594,
         "norm_freq": 0.000007567616654810734,
         "cumul_frq": 0.9997881067332908,
         "log_frq": 0,
         "log_rank": 9.537952040879484,
         "_deepnote_index_column": 19593
        },
        {
         "token": "conditioning",
         "frequency": 1,
         "idx": 19595,
         "norm_freq": 0.000007567616654810734,
         "cumul_frq": 0.9997956743499455,
         "log_frq": 0,
         "log_rank": 9.537952040879484,
         "_deepnote_index_column": 19594
        },
        {
         "token": "disres",
         "frequency": 1,
         "idx": 19596,
         "norm_freq": 0.000007567616654810734,
         "cumul_frq": 0.9998032419666003,
         "log_frq": 0,
         "log_rank": 9.537952040879484,
         "_deepnote_index_column": 19595
        },
        {
         "token": "whisper",
         "frequency": 1,
         "idx": 19597,
         "norm_freq": 0.000007567616654810734,
         "cumul_frq": 0.9998108095832551,
         "log_frq": 0,
         "log_rank": 9.537952040879484,
         "_deepnote_index_column": 19596
        },
        {
         "token": "creature-zippy",
         "frequency": 1,
         "idx": 19598,
         "norm_freq": 0.000007567616654810734,
         "cumul_frq": 0.9998183771999098,
         "log_frq": 0,
         "log_rank": 9.537952040879484,
         "_deepnote_index_column": 19597
        },
        {
         "token": "therapisti",
         "frequency": 1,
         "idx": 19599,
         "norm_freq": 0.000007567616654810734,
         "cumul_frq": 0.9998259448165646,
         "log_frq": 0,
         "log_rank": 9.537952040879484,
         "_deepnote_index_column": 19598
        },
        {
         "token": "aloe",
         "frequency": 1,
         "idx": 19600,
         "norm_freq": 0.000007567616654810734,
         "cumul_frq": 0.9998335124332194,
         "log_frq": 0,
         "log_rank": 9.537952040879484,
         "_deepnote_index_column": 19599
        },
        {
         "token": "darlin",
         "frequency": 1,
         "idx": 19601,
         "norm_freq": 0.000007567616654810734,
         "cumul_frq": 0.9998410800498742,
         "log_frq": 0,
         "log_rank": 9.537952040879484,
         "_deepnote_index_column": 19600
        },
        {
         "token": "stupud",
         "frequency": 1,
         "idx": 19602,
         "norm_freq": 0.000007567616654810734,
         "cumul_frq": 0.9998486476665289,
         "log_frq": 0,
         "log_rank": 9.537952040879484,
         "_deepnote_index_column": 19601
        },
        {
         "token": "edater",
         "frequency": 1,
         "idx": 19603,
         "norm_freq": 0.000007567616654810734,
         "cumul_frq": 0.9998562152831837,
         "log_frq": 0,
         "log_rank": 9.537952040879484,
         "_deepnote_index_column": 19602
        },
        {
         "token": "streamline",
         "frequency": 1,
         "idx": 19604,
         "norm_freq": 0.000007567616654810734,
         "cumul_frq": 0.9998637828998385,
         "log_frq": 0,
         "log_rank": 9.537952040879484,
         "_deepnote_index_column": 19603
        },
        {
         "token": "adjudicate",
         "frequency": 1,
         "idx": 19605,
         "norm_freq": 0.000007567616654810734,
         "cumul_frq": 0.9998713505164932,
         "log_frq": 0,
         "log_rank": 9.537952040879484,
         "_deepnote_index_column": 19604
        },
        {
         "token": "expedite",
         "frequency": 1,
         "idx": 19606,
         "norm_freq": 0.000007567616654810734,
         "cumul_frq": 0.999878918133148,
         "log_frq": 0,
         "log_rank": 9.537952040879484,
         "_deepnote_index_column": 19605
        },
        {
         "token": "latter.#maga",
         "frequency": 1,
         "idx": 19607,
         "norm_freq": 0.000007567616654810734,
         "cumul_frq": 0.9998864857498028,
         "log_frq": 0,
         "log_rank": 9.537952040879484,
         "_deepnote_index_column": 19606
        },
        {
         "token": "compounded",
         "frequency": 1,
         "idx": 19608,
         "norm_freq": 0.000007567616654810734,
         "cumul_frq": 0.9998940533664575,
         "log_frq": 0,
         "log_rank": 9.537952040879484,
         "_deepnote_index_column": 19607
        },
        {
         "token": "#immigrationchildren",
         "frequency": 1,
         "idx": 19609,
         "norm_freq": 0.000007567616654810734,
         "cumul_frq": 0.9999016209831123,
         "log_frq": 0,
         "log_rank": 9.537952040879484,
         "_deepnote_index_column": 19608
        },
        {
         "token": "#borderpatroli",
         "frequency": 1,
         "idx": 19610,
         "norm_freq": 0.000007567616654810734,
         "cumul_frq": 0.9999091885997671,
         "log_frq": 0,
         "log_rank": 9.537952040879484,
         "_deepnote_index_column": 19609
        },
        {
         "token": "isolationism",
         "frequency": 1,
         "idx": 19611,
         "norm_freq": 0.000007567616654810734,
         "cumul_frq": 0.9999167562164218,
         "log_frq": 0,
         "log_rank": 9.537952040879484,
         "_deepnote_index_column": 19610
        },
        {
         "token": "enlighten",
         "frequency": 1,
         "idx": 19612,
         "norm_freq": 0.000007567616654810734,
         "cumul_frq": 0.9999243238330766,
         "log_frq": 0,
         "log_rank": 9.537952040879484,
         "_deepnote_index_column": 19611
        },
        {
         "token": "vain",
         "frequency": 1,
         "idx": 19613,
         "norm_freq": 0.000007567616654810734,
         "cumul_frq": 0.9999318914497314,
         "log_frq": 0,
         "log_rank": 9.537952040879484,
         "_deepnote_index_column": 19612
        },
        {
         "token": "furthermore",
         "frequency": 1,
         "idx": 19614,
         "norm_freq": 0.000007567616654810734,
         "cumul_frq": 0.9999394590663861,
         "log_frq": 0,
         "log_rank": 9.537952040879484,
         "_deepnote_index_column": 19613
        },
        {
         "token": "lolso",
         "frequency": 1,
         "idx": 19615,
         "norm_freq": 0.000007567616654810734,
         "cumul_frq": 0.9999470266830409,
         "log_frq": 0,
         "log_rank": 9.537952040879484,
         "_deepnote_index_column": 19614
        },
        {
         "token": "whatabouterry",
         "frequency": 1,
         "idx": 19616,
         "norm_freq": 0.000007567616654810734,
         "cumul_frq": 0.9999545942996957,
         "log_frq": 0,
         "log_rank": 9.537952040879484,
         "_deepnote_index_column": 19615
        },
        {
         "token": "statesman",
         "frequency": 1,
         "idx": 19617,
         "norm_freq": 0.000007567616654810734,
         "cumul_frq": 0.9999621619163505,
         "log_frq": 0,
         "log_rank": 9.537952040879484,
         "_deepnote_index_column": 19616
        },
        {
         "token": "fry",
         "frequency": 1,
         "idx": 19618,
         "norm_freq": 0.000007567616654810734,
         "cumul_frq": 0.9999697295330052,
         "log_frq": 0,
         "log_rank": 9.537952040879484,
         "_deepnote_index_column": 19617
        },
        {
         "token": "unsung",
         "frequency": 1,
         "idx": 19619,
         "norm_freq": 0.000007567616654810734,
         "cumul_frq": 0.99997729714966,
         "log_frq": 0,
         "log_rank": 9.537952040879484,
         "_deepnote_index_column": 19618
        },
        {
         "token": "tombak",
         "frequency": 1,
         "idx": 19620,
         "norm_freq": 0.000007567616654810734,
         "cumul_frq": 0.9999848647663148,
         "log_frq": 0,
         "log_rank": 9.537952040879484,
         "_deepnote_index_column": 19619
        },
        {
         "token": "chaeyoung",
         "frequency": 1,
         "idx": 19621,
         "norm_freq": 0.000007567616654810734,
         "cumul_frq": 0.9999924323829695,
         "log_frq": 0,
         "log_rank": 9.537952040879484,
         "_deepnote_index_column": 19620
        },
        {
         "token": "infeuenc",
         "frequency": 1,
         "idx": 19622,
         "norm_freq": 0.000007567616654810734,
         "cumul_frq": 0.9999999999996243,
         "log_frq": 0,
         "log_rank": 9.537952040879484,
         "_deepnote_index_column": 19621
        }
       ],
       "rows_bottom": null
      },
      "text/plain": "                      token  frequency    idx  norm_freq  cumul_frq  log_frq  \\\n19592         undercounting          1  19593   0.000008   0.999781      0.0   \n19593                ghetto          1  19594   0.000008   0.999788      0.0   \n19594          conditioning          1  19595   0.000008   0.999796      0.0   \n19595                disres          1  19596   0.000008   0.999803      0.0   \n19596               whisper          1  19597   0.000008   0.999811      0.0   \n19597        creature-zippy          1  19598   0.000008   0.999818      0.0   \n19598            therapisti          1  19599   0.000008   0.999826      0.0   \n19599                  aloe          1  19600   0.000008   0.999834      0.0   \n19600                darlin          1  19601   0.000008   0.999841      0.0   \n19601                stupud          1  19602   0.000008   0.999849      0.0   \n19602                edater          1  19603   0.000008   0.999856      0.0   \n19603            streamline          1  19604   0.000008   0.999864      0.0   \n19604            adjudicate          1  19605   0.000008   0.999871      0.0   \n19605              expedite          1  19606   0.000008   0.999879      0.0   \n19606          latter.#maga          1  19607   0.000008   0.999886      0.0   \n19607            compounded          1  19608   0.000008   0.999894      0.0   \n19608  #immigrationchildren          1  19609   0.000008   0.999902      0.0   \n19609        #borderpatroli          1  19610   0.000008   0.999909      0.0   \n19610          isolationism          1  19611   0.000008   0.999917      0.0   \n19611             enlighten          1  19612   0.000008   0.999924      0.0   \n19612                  vain          1  19613   0.000008   0.999932      0.0   \n19613           furthermore          1  19614   0.000008   0.999939      0.0   \n19614                 lolso          1  19615   0.000008   0.999947      0.0   \n19615         whatabouterry          1  19616   0.000008   0.999955      0.0   \n19616             statesman          1  19617   0.000008   0.999962      0.0   \n19617                   fry          1  19618   0.000008   0.999970      0.0   \n19618                unsung          1  19619   0.000008   0.999977      0.0   \n19619                tombak          1  19620   0.000008   0.999985      0.0   \n19620             chaeyoung          1  19621   0.000008   0.999992      0.0   \n19621              infeuenc          1  19622   0.000008   1.000000      0.0   \n\n       log_rank  \n19592  9.537952  \n19593  9.537952  \n19594  9.537952  \n19595  9.537952  \n19596  9.537952  \n19597  9.537952  \n19598  9.537952  \n19599  9.537952  \n19600  9.537952  \n19601  9.537952  \n19602  9.537952  \n19603  9.537952  \n19604  9.537952  \n19605  9.537952  \n19606  9.537952  \n19607  9.537952  \n19608  9.537952  \n19609  9.537952  \n19610  9.537952  \n19611  9.537952  \n19612  9.537952  \n19613  9.537952  \n19614  9.537952  \n19615  9.537952  \n19616  9.537952  \n19617  9.537952  \n19618  9.537952  \n19619  9.537952  \n19620  9.537952  \n19621  9.537952  ",
      "text/html": "<div>\n<style scoped>\n    .dataframe tbody tr th:only-of-type {\n        vertical-align: middle;\n    }\n\n    .dataframe tbody tr th {\n        vertical-align: top;\n    }\n\n    .dataframe thead th {\n        text-align: right;\n    }\n</style>\n<table border=\"1\" class=\"dataframe\">\n  <thead>\n    <tr style=\"text-align: right;\">\n      <th></th>\n      <th>token</th>\n      <th>frequency</th>\n      <th>idx</th>\n      <th>norm_freq</th>\n      <th>cumul_frq</th>\n      <th>log_frq</th>\n      <th>log_rank</th>\n    </tr>\n  </thead>\n  <tbody>\n    <tr>\n      <th>19592</th>\n      <td>undercounting</td>\n      <td>1</td>\n      <td>19593</td>\n      <td>0.000008</td>\n      <td>0.999781</td>\n      <td>0.0</td>\n      <td>9.537952</td>\n    </tr>\n    <tr>\n      <th>19593</th>\n      <td>ghetto</td>\n      <td>1</td>\n      <td>19594</td>\n      <td>0.000008</td>\n      <td>0.999788</td>\n      <td>0.0</td>\n      <td>9.537952</td>\n    </tr>\n    <tr>\n      <th>19594</th>\n      <td>conditioning</td>\n      <td>1</td>\n      <td>19595</td>\n      <td>0.000008</td>\n      <td>0.999796</td>\n      <td>0.0</td>\n      <td>9.537952</td>\n    </tr>\n    <tr>\n      <th>19595</th>\n      <td>disres</td>\n      <td>1</td>\n      <td>19596</td>\n      <td>0.000008</td>\n      <td>0.999803</td>\n      <td>0.0</td>\n      <td>9.537952</td>\n    </tr>\n    <tr>\n      <th>19596</th>\n      <td>whisper</td>\n      <td>1</td>\n      <td>19597</td>\n      <td>0.000008</td>\n      <td>0.999811</td>\n      <td>0.0</td>\n      <td>9.537952</td>\n    </tr>\n    <tr>\n      <th>19597</th>\n      <td>creature-zippy</td>\n      <td>1</td>\n      <td>19598</td>\n      <td>0.000008</td>\n      <td>0.999818</td>\n      <td>0.0</td>\n      <td>9.537952</td>\n    </tr>\n    <tr>\n      <th>19598</th>\n      <td>therapisti</td>\n      <td>1</td>\n      <td>19599</td>\n      <td>0.000008</td>\n      <td>0.999826</td>\n      <td>0.0</td>\n      <td>9.537952</td>\n    </tr>\n    <tr>\n      <th>19599</th>\n      <td>aloe</td>\n      <td>1</td>\n      <td>19600</td>\n      <td>0.000008</td>\n      <td>0.999834</td>\n      <td>0.0</td>\n      <td>9.537952</td>\n    </tr>\n    <tr>\n      <th>19600</th>\n      <td>darlin</td>\n      <td>1</td>\n      <td>19601</td>\n      <td>0.000008</td>\n      <td>0.999841</td>\n      <td>0.0</td>\n      <td>9.537952</td>\n    </tr>\n    <tr>\n      <th>19601</th>\n      <td>stupud</td>\n      <td>1</td>\n      <td>19602</td>\n      <td>0.000008</td>\n      <td>0.999849</td>\n      <td>0.0</td>\n      <td>9.537952</td>\n    </tr>\n    <tr>\n      <th>19602</th>\n      <td>edater</td>\n      <td>1</td>\n      <td>19603</td>\n      <td>0.000008</td>\n      <td>0.999856</td>\n      <td>0.0</td>\n      <td>9.537952</td>\n    </tr>\n    <tr>\n      <th>19603</th>\n      <td>streamline</td>\n      <td>1</td>\n      <td>19604</td>\n      <td>0.000008</td>\n      <td>0.999864</td>\n      <td>0.0</td>\n      <td>9.537952</td>\n    </tr>\n    <tr>\n      <th>19604</th>\n      <td>adjudicate</td>\n      <td>1</td>\n      <td>19605</td>\n      <td>0.000008</td>\n      <td>0.999871</td>\n      <td>0.0</td>\n      <td>9.537952</td>\n    </tr>\n    <tr>\n      <th>19605</th>\n      <td>expedite</td>\n      <td>1</td>\n      <td>19606</td>\n      <td>0.000008</td>\n      <td>0.999879</td>\n      <td>0.0</td>\n      <td>9.537952</td>\n    </tr>\n    <tr>\n      <th>19606</th>\n      <td>latter.#maga</td>\n      <td>1</td>\n      <td>19607</td>\n      <td>0.000008</td>\n      <td>0.999886</td>\n      <td>0.0</td>\n      <td>9.537952</td>\n    </tr>\n    <tr>\n      <th>19607</th>\n      <td>compounded</td>\n      <td>1</td>\n      <td>19608</td>\n      <td>0.000008</td>\n      <td>0.999894</td>\n      <td>0.0</td>\n      <td>9.537952</td>\n    </tr>\n    <tr>\n      <th>19608</th>\n      <td>#immigrationchildren</td>\n      <td>1</td>\n      <td>19609</td>\n      <td>0.000008</td>\n      <td>0.999902</td>\n      <td>0.0</td>\n      <td>9.537952</td>\n    </tr>\n    <tr>\n      <th>19609</th>\n      <td>#borderpatroli</td>\n      <td>1</td>\n      <td>19610</td>\n      <td>0.000008</td>\n      <td>0.999909</td>\n      <td>0.0</td>\n      <td>9.537952</td>\n    </tr>\n    <tr>\n      <th>19610</th>\n      <td>isolationism</td>\n      <td>1</td>\n      <td>19611</td>\n      <td>0.000008</td>\n      <td>0.999917</td>\n      <td>0.0</td>\n      <td>9.537952</td>\n    </tr>\n    <tr>\n      <th>19611</th>\n      <td>enlighten</td>\n      <td>1</td>\n      <td>19612</td>\n      <td>0.000008</td>\n      <td>0.999924</td>\n      <td>0.0</td>\n      <td>9.537952</td>\n    </tr>\n    <tr>\n      <th>19612</th>\n      <td>vain</td>\n      <td>1</td>\n      <td>19613</td>\n      <td>0.000008</td>\n      <td>0.999932</td>\n      <td>0.0</td>\n      <td>9.537952</td>\n    </tr>\n    <tr>\n      <th>19613</th>\n      <td>furthermore</td>\n      <td>1</td>\n      <td>19614</td>\n      <td>0.000008</td>\n      <td>0.999939</td>\n      <td>0.0</td>\n      <td>9.537952</td>\n    </tr>\n    <tr>\n      <th>19614</th>\n      <td>lolso</td>\n      <td>1</td>\n      <td>19615</td>\n      <td>0.000008</td>\n      <td>0.999947</td>\n      <td>0.0</td>\n      <td>9.537952</td>\n    </tr>\n    <tr>\n      <th>19615</th>\n      <td>whatabouterry</td>\n      <td>1</td>\n      <td>19616</td>\n      <td>0.000008</td>\n      <td>0.999955</td>\n      <td>0.0</td>\n      <td>9.537952</td>\n    </tr>\n    <tr>\n      <th>19616</th>\n      <td>statesman</td>\n      <td>1</td>\n      <td>19617</td>\n      <td>0.000008</td>\n      <td>0.999962</td>\n      <td>0.0</td>\n      <td>9.537952</td>\n    </tr>\n    <tr>\n      <th>19617</th>\n      <td>fry</td>\n      <td>1</td>\n      <td>19618</td>\n      <td>0.000008</td>\n      <td>0.999970</td>\n      <td>0.0</td>\n      <td>9.537952</td>\n    </tr>\n    <tr>\n      <th>19618</th>\n      <td>unsung</td>\n      <td>1</td>\n      <td>19619</td>\n      <td>0.000008</td>\n      <td>0.999977</td>\n      <td>0.0</td>\n      <td>9.537952</td>\n    </tr>\n    <tr>\n      <th>19619</th>\n      <td>tombak</td>\n      <td>1</td>\n      <td>19620</td>\n      <td>0.000008</td>\n      <td>0.999985</td>\n      <td>0.0</td>\n      <td>9.537952</td>\n    </tr>\n    <tr>\n      <th>19620</th>\n      <td>chaeyoung</td>\n      <td>1</td>\n      <td>19621</td>\n      <td>0.000008</td>\n      <td>0.999992</td>\n      <td>0.0</td>\n      <td>9.537952</td>\n    </tr>\n    <tr>\n      <th>19621</th>\n      <td>infeuenc</td>\n      <td>1</td>\n      <td>19622</td>\n      <td>0.000008</td>\n      <td>1.000000</td>\n      <td>0.0</td>\n      <td>9.537952</td>\n    </tr>\n  </tbody>\n</table>\n</div>"
     },
     "metadata": {}
    }
   ]
  },
  {
   "cell_type": "code",
   "metadata": {
    "tags": [],
    "cell_id": "00033-22d7590c-d0f8-474d-9eaf-9fef8561c994",
    "deepnote_to_be_reexecuted": false,
    "source_hash": "70166956",
    "execution_start": 1622657340529,
    "execution_millis": 43,
    "deepnote_cell_type": "code"
   },
   "source": "# 30 least common words for the sentiment training data set\nfrq_sent.iloc[-30:]",
   "execution_count": 15,
   "outputs": [
    {
     "output_type": "execute_result",
     "execution_count": 15,
     "data": {
      "application/vnd.deepnote.dataframe.v2+json": {
       "row_count": 30,
       "column_count": 7,
       "columns": [
        {
         "name": "token",
         "dtype": "object",
         "stats": {
          "unique_count": 30,
          "nan_count": 0,
          "categories": [
           {
            "name": "buddists",
            "count": 1
           },
           {
            "name": "fertittas",
            "count": 1
           },
           {
            "name": "28 others",
            "count": 28
           }
          ]
         }
        },
        {
         "name": "frequency",
         "dtype": "int64",
         "stats": {
          "unique_count": 1,
          "nan_count": 0,
          "min": "1",
          "max": "1",
          "histogram": [
           {
            "bin_start": 0.5,
            "bin_end": 0.6,
            "count": 0
           },
           {
            "bin_start": 0.6,
            "bin_end": 0.7,
            "count": 0
           },
           {
            "bin_start": 0.7,
            "bin_end": 0.8,
            "count": 0
           },
           {
            "bin_start": 0.8,
            "bin_end": 0.9,
            "count": 0
           },
           {
            "bin_start": 0.9,
            "bin_end": 1,
            "count": 0
           },
           {
            "bin_start": 1,
            "bin_end": 1.1,
            "count": 30
           },
           {
            "bin_start": 1.1,
            "bin_end": 1.2000000000000002,
            "count": 0
           },
           {
            "bin_start": 1.2000000000000002,
            "bin_end": 1.3,
            "count": 0
           },
           {
            "bin_start": 1.3,
            "bin_end": 1.4,
            "count": 0
           },
           {
            "bin_start": 1.4,
            "bin_end": 1.5,
            "count": 0
           }
          ]
         }
        },
        {
         "name": "idx",
         "dtype": "int64",
         "stats": {
          "unique_count": 30,
          "nan_count": 0,
          "min": "48745",
          "max": "48774",
          "histogram": [
           {
            "bin_start": 48745,
            "bin_end": 48747.9,
            "count": 3
           },
           {
            "bin_start": 48747.9,
            "bin_end": 48750.8,
            "count": 3
           },
           {
            "bin_start": 48750.8,
            "bin_end": 48753.7,
            "count": 3
           },
           {
            "bin_start": 48753.7,
            "bin_end": 48756.6,
            "count": 3
           },
           {
            "bin_start": 48756.6,
            "bin_end": 48759.5,
            "count": 3
           },
           {
            "bin_start": 48759.5,
            "bin_end": 48762.4,
            "count": 3
           },
           {
            "bin_start": 48762.4,
            "bin_end": 48765.3,
            "count": 3
           },
           {
            "bin_start": 48765.3,
            "bin_end": 48768.2,
            "count": 3
           },
           {
            "bin_start": 48768.2,
            "bin_end": 48771.1,
            "count": 3
           },
           {
            "bin_start": 48771.1,
            "bin_end": 48774,
            "count": 3
           }
          ]
         }
        },
        {
         "name": "norm_freq",
         "dtype": "float64",
         "stats": {
          "unique_count": 1,
          "nan_count": 0,
          "min": "1.6635807244228624e-06",
          "max": "1.6635807244228624e-06",
          "histogram": [
           {
            "bin_start": -0.4999983364192756,
            "bin_end": -0.3999983364192756,
            "count": 0
           },
           {
            "bin_start": -0.3999983364192756,
            "bin_end": -0.2999983364192756,
            "count": 0
           },
           {
            "bin_start": -0.2999983364192756,
            "bin_end": -0.19999833641927556,
            "count": 0
           },
           {
            "bin_start": -0.19999833641927556,
            "bin_end": -0.09999833641927558,
            "count": 0
           },
           {
            "bin_start": -0.09999833641927558,
            "bin_end": 0.000001663580724398095,
            "count": 0
           },
           {
            "bin_start": 0.000001663580724398095,
            "bin_end": 0.10000166358072449,
            "count": 30
           },
           {
            "bin_start": 0.10000166358072449,
            "bin_end": 0.20000166358072446,
            "count": 0
           },
           {
            "bin_start": 0.20000166358072446,
            "bin_end": 0.30000166358072444,
            "count": 0
           },
           {
            "bin_start": 0.30000166358072444,
            "bin_end": 0.4000016635807244,
            "count": 0
           },
           {
            "bin_start": 0.4000016635807244,
            "bin_end": 0.5000016635807244,
            "count": 0
           }
          ]
         }
        },
        {
         "name": "cumul_frq",
         "dtype": "float64",
         "stats": {
          "unique_count": 30,
          "nan_count": 0,
          "min": "0.999951756158078",
          "max": "0.9999999999990855",
          "histogram": [
           {
            "bin_start": 0.999951756158078,
            "bin_end": 0.9999565805421787,
            "count": 3
           },
           {
            "bin_start": 0.9999565805421787,
            "bin_end": 0.9999614049262795,
            "count": 3
           },
           {
            "bin_start": 0.9999614049262795,
            "bin_end": 0.9999662293103803,
            "count": 3
           },
           {
            "bin_start": 0.9999662293103803,
            "bin_end": 0.999971053694481,
            "count": 3
           },
           {
            "bin_start": 0.999971053694481,
            "bin_end": 0.9999758780785817,
            "count": 3
           },
           {
            "bin_start": 0.9999758780785817,
            "bin_end": 0.9999807024626824,
            "count": 3
           },
           {
            "bin_start": 0.9999807024626824,
            "bin_end": 0.9999855268467832,
            "count": 3
           },
           {
            "bin_start": 0.9999855268467832,
            "bin_end": 0.999990351230884,
            "count": 3
           },
           {
            "bin_start": 0.999990351230884,
            "bin_end": 0.9999951756149847,
            "count": 3
           },
           {
            "bin_start": 0.9999951756149847,
            "bin_end": 0.9999999999990855,
            "count": 3
           }
          ]
         }
        },
        {
         "name": "log_frq",
         "dtype": "float64",
         "stats": {
          "unique_count": 1,
          "nan_count": 0,
          "min": "0.0",
          "max": "0.0",
          "histogram": [
           {
            "bin_start": -0.5,
            "bin_end": -0.4,
            "count": 0
           },
           {
            "bin_start": -0.4,
            "bin_end": -0.3,
            "count": 0
           },
           {
            "bin_start": -0.3,
            "bin_end": -0.19999999999999996,
            "count": 0
           },
           {
            "bin_start": -0.19999999999999996,
            "bin_end": -0.09999999999999998,
            "count": 0
           },
           {
            "bin_start": -0.09999999999999998,
            "bin_end": 0,
            "count": 0
           },
           {
            "bin_start": 0,
            "bin_end": 0.10000000000000009,
            "count": 30
           },
           {
            "bin_start": 0.10000000000000009,
            "bin_end": 0.20000000000000007,
            "count": 0
           },
           {
            "bin_start": 0.20000000000000007,
            "bin_end": 0.30000000000000004,
            "count": 0
           },
           {
            "bin_start": 0.30000000000000004,
            "bin_end": 0.4,
            "count": 0
           },
           {
            "bin_start": 0.4,
            "bin_end": 0.5,
            "count": 0
           }
          ]
         }
        },
        {
         "name": "log_rank",
         "dtype": "float64",
         "stats": {
          "unique_count": 1,
          "nan_count": 0,
          "min": "10.449018904541134",
          "max": "10.449018904541134",
          "histogram": [
           {
            "bin_start": 9.949018904541134,
            "bin_end": 10.049018904541134,
            "count": 0
           },
           {
            "bin_start": 10.049018904541134,
            "bin_end": 10.149018904541133,
            "count": 0
           },
           {
            "bin_start": 10.149018904541133,
            "bin_end": 10.249018904541135,
            "count": 0
           },
           {
            "bin_start": 10.249018904541135,
            "bin_end": 10.349018904541134,
            "count": 0
           },
           {
            "bin_start": 10.349018904541134,
            "bin_end": 10.449018904541134,
            "count": 0
           },
           {
            "bin_start": 10.449018904541134,
            "bin_end": 10.549018904541134,
            "count": 30
           },
           {
            "bin_start": 10.549018904541134,
            "bin_end": 10.649018904541133,
            "count": 0
           },
           {
            "bin_start": 10.649018904541133,
            "bin_end": 10.749018904541135,
            "count": 0
           },
           {
            "bin_start": 10.749018904541135,
            "bin_end": 10.849018904541134,
            "count": 0
           },
           {
            "bin_start": 10.849018904541134,
            "bin_end": 10.949018904541134,
            "count": 0
           }
          ]
         }
        },
        {
         "name": "_deepnote_index_column",
         "dtype": "int64"
        }
       ],
       "rows_top": [
        {
         "token": "buddists",
         "frequency": 1,
         "idx": 48745,
         "norm_freq": 0.0000016635807244228624,
         "cumul_frq": 0.999951756158078,
         "log_frq": 0,
         "log_rank": 10.449018904541134,
         "_deepnote_index_column": 48744
        },
        {
         "token": "fertittas",
         "frequency": 1,
         "idx": 48746,
         "norm_freq": 0.0000016635807244228624,
         "cumul_frq": 0.9999534197388024,
         "log_frq": 0,
         "log_rank": 10.449018904541134,
         "_deepnote_index_column": 48745
        },
        {
         "token": "#raggedtalk",
         "frequency": 1,
         "idx": 48747,
         "norm_freq": 0.0000016635807244228624,
         "cumul_frq": 0.9999550833195268,
         "log_frq": 0,
         "log_rank": 10.449018904541134,
         "_deepnote_index_column": 48746
        },
        {
         "token": "freewheelin'",
         "frequency": 1,
         "idx": 48748,
         "norm_freq": 0.0000016635807244228624,
         "cumul_frq": 0.9999567469002512,
         "log_frq": 0,
         "log_rank": 10.449018904541134,
         "_deepnote_index_column": 48747
        },
        {
         "token": "drillhall",
         "frequency": 1,
         "idx": 48749,
         "norm_freq": 0.0000016635807244228624,
         "cumul_frq": 0.9999584104809756,
         "log_frq": 0,
         "log_rank": 10.449018904541134,
         "_deepnote_index_column": 48748
        },
        {
         "token": "#skiing",
         "frequency": 1,
         "idx": 48750,
         "norm_freq": 0.0000016635807244228624,
         "cumul_frq": 0.9999600740617,
         "log_frq": 0,
         "log_rank": 10.449018904541134,
         "_deepnote_index_column": 48749
        },
        {
         "token": "#newnickname",
         "frequency": 1,
         "idx": 48751,
         "norm_freq": 0.0000016635807244228624,
         "cumul_frq": 0.9999617376424244,
         "log_frq": 0,
         "log_rank": 10.449018904541134,
         "_deepnote_index_column": 48750
        },
        {
         "token": "motors",
         "frequency": 1,
         "idx": 48752,
         "norm_freq": 0.0000016635807244228624,
         "cumul_frq": 0.9999634012231488,
         "log_frq": 0,
         "log_rank": 10.449018904541134,
         "_deepnote_index_column": 48751
        },
        {
         "token": "pats'",
         "frequency": 1,
         "idx": 48753,
         "norm_freq": 0.0000016635807244228624,
         "cumul_frq": 0.9999650648038731,
         "log_frq": 0,
         "log_rank": 10.449018904541134,
         "_deepnote_index_column": 48752
        },
        {
         "token": "pecking",
         "frequency": 1,
         "idx": 48754,
         "norm_freq": 0.0000016635807244228624,
         "cumul_frq": 0.9999667283845975,
         "log_frq": 0,
         "log_rank": 10.449018904541134,
         "_deepnote_index_column": 48753
        },
        {
         "token": "daniel's",
         "frequency": 1,
         "idx": 48755,
         "norm_freq": 0.0000016635807244228624,
         "cumul_frq": 0.999968391965322,
         "log_frq": 0,
         "log_rank": 10.449018904541134,
         "_deepnote_index_column": 48754
        },
        {
         "token": "stirs",
         "frequency": 1,
         "idx": 48756,
         "norm_freq": 0.0000016635807244228624,
         "cumul_frq": 0.9999700555460463,
         "log_frq": 0,
         "log_rank": 10.449018904541134,
         "_deepnote_index_column": 48755
        },
        {
         "token": "makings",
         "frequency": 1,
         "idx": 48757,
         "norm_freq": 0.0000016635807244228624,
         "cumul_frq": 0.9999717191267707,
         "log_frq": 0,
         "log_rank": 10.449018904541134,
         "_deepnote_index_column": 48756
        },
        {
         "token": "breeders",
         "frequency": 1,
         "idx": 48758,
         "norm_freq": 0.0000016635807244228624,
         "cumul_frq": 0.9999733827074951,
         "log_frq": 0,
         "log_rank": 10.449018904541134,
         "_deepnote_index_column": 48757
        },
        {
         "token": "awkard",
         "frequency": 1,
         "idx": 48759,
         "norm_freq": 0.0000016635807244228624,
         "cumul_frq": 0.9999750462882195,
         "log_frq": 0,
         "log_rank": 10.449018904541134,
         "_deepnote_index_column": 48758
        },
        {
         "token": "@tunnyking",
         "frequency": 1,
         "idx": 48760,
         "norm_freq": 0.0000016635807244228624,
         "cumul_frq": 0.9999767098689439,
         "log_frq": 0,
         "log_rank": 10.449018904541134,
         "_deepnote_index_column": 48759
        },
        {
         "token": "@_eryflores",
         "frequency": 1,
         "idx": 48761,
         "norm_freq": 0.0000016635807244228624,
         "cumul_frq": 0.9999783734496683,
         "log_frq": 0,
         "log_rank": 10.449018904541134,
         "_deepnote_index_column": 48760
        },
        {
         "token": "abrahamic",
         "frequency": 1,
         "idx": 48762,
         "norm_freq": 0.0000016635807244228624,
         "cumul_frq": 0.9999800370303927,
         "log_frq": 0,
         "log_rank": 10.449018904541134,
         "_deepnote_index_column": 48761
        },
        {
         "token": "bagrangi",
         "frequency": 1,
         "idx": 48763,
         "norm_freq": 0.0000016635807244228624,
         "cumul_frq": 0.9999817006111171,
         "log_frq": 0,
         "log_rank": 10.449018904541134,
         "_deepnote_index_column": 48762
        },
        {
         "token": "cenema's",
         "frequency": 1,
         "idx": 48764,
         "norm_freq": 0.0000016635807244228624,
         "cumul_frq": 0.9999833641918415,
         "log_frq": 0,
         "log_rank": 10.449018904541134,
         "_deepnote_index_column": 48763
        },
        {
         "token": "milion",
         "frequency": 1,
         "idx": 48765,
         "norm_freq": 0.0000016635807244228624,
         "cumul_frq": 0.9999850277725659,
         "log_frq": 0,
         "log_rank": 10.449018904541134,
         "_deepnote_index_column": 48764
        },
        {
         "token": "lolywood/bolywood",
         "frequency": 1,
         "idx": 48766,
         "norm_freq": 0.0000016635807244228624,
         "cumul_frq": 0.9999866913532903,
         "log_frq": 0,
         "log_rank": 10.449018904541134,
         "_deepnote_index_column": 48765
        },
        {
         "token": "eksms",
         "frequency": 1,
         "idx": 48767,
         "norm_freq": 0.0000016635807244228624,
         "cumul_frq": 0.9999883549340147,
         "log_frq": 0,
         "log_rank": 10.449018904541134,
         "_deepnote_index_column": 48766
        },
        {
         "token": "jewelry.rsvp",
         "frequency": 1,
         "idx": 48768,
         "norm_freq": 0.0000016635807244228624,
         "cumul_frq": 0.9999900185147391,
         "log_frq": 0,
         "log_rank": 10.449018904541134,
         "_deepnote_index_column": 48767
        },
        {
         "token": "kingpin",
         "frequency": 1,
         "idx": 48769,
         "norm_freq": 0.0000016635807244228624,
         "cumul_frq": 0.9999916820954635,
         "log_frq": 0,
         "log_rank": 10.449018904541134,
         "_deepnote_index_column": 48768
        },
        {
         "token": "#bride",
         "frequency": 1,
         "idx": 48770,
         "norm_freq": 0.0000016635807244228624,
         "cumul_frq": 0.9999933456761879,
         "log_frq": 0,
         "log_rank": 10.449018904541134,
         "_deepnote_index_column": 48769
        },
        {
         "token": "#groom",
         "frequency": 1,
         "idx": 48771,
         "norm_freq": 0.0000016635807244228624,
         "cumul_frq": 0.9999950092569123,
         "log_frq": 0,
         "log_rank": 10.449018904541134,
         "_deepnote_index_column": 48770
        },
        {
         "token": "#weddingcars",
         "frequency": 1,
         "idx": 48772,
         "norm_freq": 0.0000016635807244228624,
         "cumul_frq": 0.9999966728376367,
         "log_frq": 0,
         "log_rank": 10.449018904541134,
         "_deepnote_index_column": 48771
        },
        {
         "token": "#jamesbond",
         "frequency": 1,
         "idx": 48773,
         "norm_freq": 0.0000016635807244228624,
         "cumul_frq": 0.9999983364183611,
         "log_frq": 0,
         "log_rank": 10.449018904541134,
         "_deepnote_index_column": 48772
        },
        {
         "token": "escalators",
         "frequency": 1,
         "idx": 48774,
         "norm_freq": 0.0000016635807244228624,
         "cumul_frq": 0.9999999999990855,
         "log_frq": 0,
         "log_rank": 10.449018904541134,
         "_deepnote_index_column": 48773
        }
       ],
       "rows_bottom": null
      },
      "text/plain": "                   token  frequency    idx  norm_freq  cumul_frq  log_frq  \\\n48744           buddists          1  48745   0.000002   0.999952      0.0   \n48745          fertittas          1  48746   0.000002   0.999953      0.0   \n48746        #raggedtalk          1  48747   0.000002   0.999955      0.0   \n48747       freewheelin'          1  48748   0.000002   0.999957      0.0   \n48748          drillhall          1  48749   0.000002   0.999958      0.0   \n48749            #skiing          1  48750   0.000002   0.999960      0.0   \n48750       #newnickname          1  48751   0.000002   0.999962      0.0   \n48751             motors          1  48752   0.000002   0.999963      0.0   \n48752              pats'          1  48753   0.000002   0.999965      0.0   \n48753            pecking          1  48754   0.000002   0.999967      0.0   \n48754           daniel's          1  48755   0.000002   0.999968      0.0   \n48755              stirs          1  48756   0.000002   0.999970      0.0   \n48756            makings          1  48757   0.000002   0.999972      0.0   \n48757           breeders          1  48758   0.000002   0.999973      0.0   \n48758             awkard          1  48759   0.000002   0.999975      0.0   \n48759         @tunnyking          1  48760   0.000002   0.999977      0.0   \n48760        @_eryflores          1  48761   0.000002   0.999978      0.0   \n48761          abrahamic          1  48762   0.000002   0.999980      0.0   \n48762           bagrangi          1  48763   0.000002   0.999982      0.0   \n48763           cenema's          1  48764   0.000002   0.999983      0.0   \n48764             milion          1  48765   0.000002   0.999985      0.0   \n48765  lolywood/bolywood          1  48766   0.000002   0.999987      0.0   \n48766              eksms          1  48767   0.000002   0.999988      0.0   \n48767       jewelry.rsvp          1  48768   0.000002   0.999990      0.0   \n48768            kingpin          1  48769   0.000002   0.999992      0.0   \n48769             #bride          1  48770   0.000002   0.999993      0.0   \n48770             #groom          1  48771   0.000002   0.999995      0.0   \n48771       #weddingcars          1  48772   0.000002   0.999997      0.0   \n48772         #jamesbond          1  48773   0.000002   0.999998      0.0   \n48773         escalators          1  48774   0.000002   1.000000      0.0   \n\n        log_rank  \n48744  10.449019  \n48745  10.449019  \n48746  10.449019  \n48747  10.449019  \n48748  10.449019  \n48749  10.449019  \n48750  10.449019  \n48751  10.449019  \n48752  10.449019  \n48753  10.449019  \n48754  10.449019  \n48755  10.449019  \n48756  10.449019  \n48757  10.449019  \n48758  10.449019  \n48759  10.449019  \n48760  10.449019  \n48761  10.449019  \n48762  10.449019  \n48763  10.449019  \n48764  10.449019  \n48765  10.449019  \n48766  10.449019  \n48767  10.449019  \n48768  10.449019  \n48769  10.449019  \n48770  10.449019  \n48771  10.449019  \n48772  10.449019  \n48773  10.449019  ",
      "text/html": "<div>\n<style scoped>\n    .dataframe tbody tr th:only-of-type {\n        vertical-align: middle;\n    }\n\n    .dataframe tbody tr th {\n        vertical-align: top;\n    }\n\n    .dataframe thead th {\n        text-align: right;\n    }\n</style>\n<table border=\"1\" class=\"dataframe\">\n  <thead>\n    <tr style=\"text-align: right;\">\n      <th></th>\n      <th>token</th>\n      <th>frequency</th>\n      <th>idx</th>\n      <th>norm_freq</th>\n      <th>cumul_frq</th>\n      <th>log_frq</th>\n      <th>log_rank</th>\n    </tr>\n  </thead>\n  <tbody>\n    <tr>\n      <th>48744</th>\n      <td>buddists</td>\n      <td>1</td>\n      <td>48745</td>\n      <td>0.000002</td>\n      <td>0.999952</td>\n      <td>0.0</td>\n      <td>10.449019</td>\n    </tr>\n    <tr>\n      <th>48745</th>\n      <td>fertittas</td>\n      <td>1</td>\n      <td>48746</td>\n      <td>0.000002</td>\n      <td>0.999953</td>\n      <td>0.0</td>\n      <td>10.449019</td>\n    </tr>\n    <tr>\n      <th>48746</th>\n      <td>#raggedtalk</td>\n      <td>1</td>\n      <td>48747</td>\n      <td>0.000002</td>\n      <td>0.999955</td>\n      <td>0.0</td>\n      <td>10.449019</td>\n    </tr>\n    <tr>\n      <th>48747</th>\n      <td>freewheelin'</td>\n      <td>1</td>\n      <td>48748</td>\n      <td>0.000002</td>\n      <td>0.999957</td>\n      <td>0.0</td>\n      <td>10.449019</td>\n    </tr>\n    <tr>\n      <th>48748</th>\n      <td>drillhall</td>\n      <td>1</td>\n      <td>48749</td>\n      <td>0.000002</td>\n      <td>0.999958</td>\n      <td>0.0</td>\n      <td>10.449019</td>\n    </tr>\n    <tr>\n      <th>48749</th>\n      <td>#skiing</td>\n      <td>1</td>\n      <td>48750</td>\n      <td>0.000002</td>\n      <td>0.999960</td>\n      <td>0.0</td>\n      <td>10.449019</td>\n    </tr>\n    <tr>\n      <th>48750</th>\n      <td>#newnickname</td>\n      <td>1</td>\n      <td>48751</td>\n      <td>0.000002</td>\n      <td>0.999962</td>\n      <td>0.0</td>\n      <td>10.449019</td>\n    </tr>\n    <tr>\n      <th>48751</th>\n      <td>motors</td>\n      <td>1</td>\n      <td>48752</td>\n      <td>0.000002</td>\n      <td>0.999963</td>\n      <td>0.0</td>\n      <td>10.449019</td>\n    </tr>\n    <tr>\n      <th>48752</th>\n      <td>pats'</td>\n      <td>1</td>\n      <td>48753</td>\n      <td>0.000002</td>\n      <td>0.999965</td>\n      <td>0.0</td>\n      <td>10.449019</td>\n    </tr>\n    <tr>\n      <th>48753</th>\n      <td>pecking</td>\n      <td>1</td>\n      <td>48754</td>\n      <td>0.000002</td>\n      <td>0.999967</td>\n      <td>0.0</td>\n      <td>10.449019</td>\n    </tr>\n    <tr>\n      <th>48754</th>\n      <td>daniel's</td>\n      <td>1</td>\n      <td>48755</td>\n      <td>0.000002</td>\n      <td>0.999968</td>\n      <td>0.0</td>\n      <td>10.449019</td>\n    </tr>\n    <tr>\n      <th>48755</th>\n      <td>stirs</td>\n      <td>1</td>\n      <td>48756</td>\n      <td>0.000002</td>\n      <td>0.999970</td>\n      <td>0.0</td>\n      <td>10.449019</td>\n    </tr>\n    <tr>\n      <th>48756</th>\n      <td>makings</td>\n      <td>1</td>\n      <td>48757</td>\n      <td>0.000002</td>\n      <td>0.999972</td>\n      <td>0.0</td>\n      <td>10.449019</td>\n    </tr>\n    <tr>\n      <th>48757</th>\n      <td>breeders</td>\n      <td>1</td>\n      <td>48758</td>\n      <td>0.000002</td>\n      <td>0.999973</td>\n      <td>0.0</td>\n      <td>10.449019</td>\n    </tr>\n    <tr>\n      <th>48758</th>\n      <td>awkard</td>\n      <td>1</td>\n      <td>48759</td>\n      <td>0.000002</td>\n      <td>0.999975</td>\n      <td>0.0</td>\n      <td>10.449019</td>\n    </tr>\n    <tr>\n      <th>48759</th>\n      <td>@tunnyking</td>\n      <td>1</td>\n      <td>48760</td>\n      <td>0.000002</td>\n      <td>0.999977</td>\n      <td>0.0</td>\n      <td>10.449019</td>\n    </tr>\n    <tr>\n      <th>48760</th>\n      <td>@_eryflores</td>\n      <td>1</td>\n      <td>48761</td>\n      <td>0.000002</td>\n      <td>0.999978</td>\n      <td>0.0</td>\n      <td>10.449019</td>\n    </tr>\n    <tr>\n      <th>48761</th>\n      <td>abrahamic</td>\n      <td>1</td>\n      <td>48762</td>\n      <td>0.000002</td>\n      <td>0.999980</td>\n      <td>0.0</td>\n      <td>10.449019</td>\n    </tr>\n    <tr>\n      <th>48762</th>\n      <td>bagrangi</td>\n      <td>1</td>\n      <td>48763</td>\n      <td>0.000002</td>\n      <td>0.999982</td>\n      <td>0.0</td>\n      <td>10.449019</td>\n    </tr>\n    <tr>\n      <th>48763</th>\n      <td>cenema's</td>\n      <td>1</td>\n      <td>48764</td>\n      <td>0.000002</td>\n      <td>0.999983</td>\n      <td>0.0</td>\n      <td>10.449019</td>\n    </tr>\n    <tr>\n      <th>48764</th>\n      <td>milion</td>\n      <td>1</td>\n      <td>48765</td>\n      <td>0.000002</td>\n      <td>0.999985</td>\n      <td>0.0</td>\n      <td>10.449019</td>\n    </tr>\n    <tr>\n      <th>48765</th>\n      <td>lolywood/bolywood</td>\n      <td>1</td>\n      <td>48766</td>\n      <td>0.000002</td>\n      <td>0.999987</td>\n      <td>0.0</td>\n      <td>10.449019</td>\n    </tr>\n    <tr>\n      <th>48766</th>\n      <td>eksms</td>\n      <td>1</td>\n      <td>48767</td>\n      <td>0.000002</td>\n      <td>0.999988</td>\n      <td>0.0</td>\n      <td>10.449019</td>\n    </tr>\n    <tr>\n      <th>48767</th>\n      <td>jewelry.rsvp</td>\n      <td>1</td>\n      <td>48768</td>\n      <td>0.000002</td>\n      <td>0.999990</td>\n      <td>0.0</td>\n      <td>10.449019</td>\n    </tr>\n    <tr>\n      <th>48768</th>\n      <td>kingpin</td>\n      <td>1</td>\n      <td>48769</td>\n      <td>0.000002</td>\n      <td>0.999992</td>\n      <td>0.0</td>\n      <td>10.449019</td>\n    </tr>\n    <tr>\n      <th>48769</th>\n      <td>#bride</td>\n      <td>1</td>\n      <td>48770</td>\n      <td>0.000002</td>\n      <td>0.999993</td>\n      <td>0.0</td>\n      <td>10.449019</td>\n    </tr>\n    <tr>\n      <th>48770</th>\n      <td>#groom</td>\n      <td>1</td>\n      <td>48771</td>\n      <td>0.000002</td>\n      <td>0.999995</td>\n      <td>0.0</td>\n      <td>10.449019</td>\n    </tr>\n    <tr>\n      <th>48771</th>\n      <td>#weddingcars</td>\n      <td>1</td>\n      <td>48772</td>\n      <td>0.000002</td>\n      <td>0.999997</td>\n      <td>0.0</td>\n      <td>10.449019</td>\n    </tr>\n    <tr>\n      <th>48772</th>\n      <td>#jamesbond</td>\n      <td>1</td>\n      <td>48773</td>\n      <td>0.000002</td>\n      <td>0.999998</td>\n      <td>0.0</td>\n      <td>10.449019</td>\n    </tr>\n    <tr>\n      <th>48773</th>\n      <td>escalators</td>\n      <td>1</td>\n      <td>48774</td>\n      <td>0.000002</td>\n      <td>1.000000</td>\n      <td>0.0</td>\n      <td>10.449019</td>\n    </tr>\n  </tbody>\n</table>\n</div>"
     },
     "metadata": {}
    }
   ]
  },
  {
   "cell_type": "markdown",
   "source": "Comparing corpus size, vocabulary size, and type/token ratio for the two datasets:",
   "metadata": {
    "tags": [],
    "cell_id": "00011-cb55dba3-ffaf-46d6-a8c0-5d35714511c5",
    "deepnote_cell_type": "markdown"
   }
  },
  {
   "cell_type": "code",
   "metadata": {
    "tags": [],
    "cell_id": "00011-f1c668ef-222b-461e-9dca-f38e7f5d1cf3",
    "deepnote_to_be_reexecuted": false,
    "source_hash": "da68c318",
    "execution_start": 1622657340569,
    "execution_millis": 17,
    "deepnote_cell_type": "code"
   },
   "source": "# hate training data\ncor_voc_size(corpus_hate, voc_hate)",
   "execution_count": 16,
   "outputs": [
    {
     "name": "stdout",
     "text": "Corpus size: 132142\nVocabulary size: 19622\nType / Token Ratio: 0.148\n",
     "output_type": "stream"
    }
   ]
  },
  {
   "cell_type": "code",
   "metadata": {
    "tags": [],
    "cell_id": "00015-e8aeb521-7a5f-4504-aeeb-774b28e989b4",
    "deepnote_to_be_reexecuted": false,
    "source_hash": "ad4918ac",
    "execution_start": 1622657340575,
    "execution_millis": 11,
    "deepnote_cell_type": "code"
   },
   "source": "# sentiment training data\ncor_voc_size(corpus_sent, voc_sent)",
   "execution_count": 17,
   "outputs": [
    {
     "name": "stdout",
     "text": "Corpus size: 601113\nVocabulary size: 48774\nType / Token Ratio: 0.081\n",
     "output_type": "stream"
    }
   ]
  },
  {
   "cell_type": "markdown",
   "source": "Plotting token frequency counts for both data sets:",
   "metadata": {
    "tags": [],
    "cell_id": "00013-e35a19d4-2191-4206-9b51-0f647bd86615",
    "deepnote_cell_type": "markdown"
   }
  },
  {
   "cell_type": "code",
   "source": "# Set plot style\nsns.set_theme(style='whitegrid')\n\n# Create subplots\nfig1, axes1 = plt.subplots(ncols=3, figsize=(20,5))\nfig2, axes2 = plt.subplots(ncols=3, figsize=(20,5))\nfig1.suptitle('Frequency plots - Hate Speech')\nfig2.suptitle('Frequency plots - Sentiment')\n\n# Define coulmns and data\nx = ['idx', 'idx', 'log_rank']\ny = ['cumul_frq', 'cumul_frq', 'log_frq']\ndata_hate = [frq_hate, frq_hate[:5000], frq_hate]\ndata_sent = [frq_sent, frq_sent[:5000], frq_sent]\n\n# Plot data\nfor i in range(3):\n    sns.scatterplot(x=x[i], y=y[i], data=data_hate[i], ax=axes1[i])\n    sns.scatterplot(x=x[i], y=y[i], data=data_sent[i], ax=axes2[i])",
   "metadata": {
    "tags": [],
    "cell_id": "00038-7b450179-9e43-4e42-b481-5f36a64bc19d",
    "deepnote_to_be_reexecuted": false,
    "source_hash": "d95d2bc8",
    "execution_start": 1622659327228,
    "execution_millis": 1837,
    "deepnote_cell_type": "code"
   },
   "outputs": [
    {
     "data": {
      "text/plain": "<Figure size 1440x360 with 3 Axes>",
      "image/png": "[encoded data removed]"
     },
     "metadata": {
      "image/png": {
       "width": 1180,
       "height": 358
      }
     },
     "output_type": "display_data"
    },
    {
     "data": {
      "text/plain": "<Figure size 1440x360 with 3 Axes>",
      "image/png": "[encoded data removed]"
     },
     "metadata": {
      "image/png": {
       "width": 1174,
       "height": 358
      }
     },
     "output_type": "display_data"
    }
   ],
   "execution_count": 37
  },
  {
   "cell_type": "markdown",
   "source": "<h2 style=\"color:#22198A\">Task 3: Manual Annotation and Inter-Annotator Agreement</h2>",
   "metadata": {
    "tags": [],
    "cell_id": "00009-1e40e756-79bd-4a9e-a42f-2b4db46f3a53",
    "deepnote_cell_type": "markdown"
   }
  },
  {
   "cell_type": "markdown",
   "source": "<h3 style=\"color:green\">Annotation quality control</h3>",
   "metadata": {
    "tags": [],
    "cell_id": "00017-3520b62b-81e0-46dc-8292-20984b99aa77",
    "deepnote_cell_type": "markdown"
   }
  },
  {
   "cell_type": "markdown",
   "source": "Read all annotations into a single dataframe:",
   "metadata": {
    "tags": [],
    "cell_id": "00022-e5f1e550-e841-4d02-af5c-42e7a29aeb43",
    "deepnote_cell_type": "markdown"
   }
  },
  {
   "cell_type": "code",
   "metadata": {
    "tags": [],
    "cell_id": "00011-ebfb5f25-346e-4109-a80c-ee8835a0dd6b",
    "deepnote_to_be_reexecuted": false,
    "source_hash": "9d1ed1b9",
    "execution_start": 1622657341990,
    "execution_millis": 37,
    "deepnote_cell_type": "code"
   },
   "source": "# Read published labels to df\noriginal_labels = pd.read_csv(\"/work/fyp2021p04g13/data/raw/datasets/hate/iaa_labels.txt\", delimiter = \"\\t\", names=['original_label'])\n\n# Read group member labels to df\ngroup_labels = pd.read_csv(\"/work/fyp2021p04g13/data/raw/datasets/hate/iaa_group.labels.csv\", usecols = ['A','B','C'])\n\n# Merge df's\niaa = original_labels.merge(group_labels, left_index=True, right_index=True)",
   "execution_count": 19,
   "outputs": []
  },
  {
   "cell_type": "markdown",
   "source": "Examining the distribution of categories for each annotator:",
   "metadata": {
    "tags": [],
    "cell_id": "00027-75daf724-10b5-4f3c-9500-48476f0c22b0",
    "deepnote_cell_type": "markdown"
   }
  },
  {
   "cell_type": "code",
   "metadata": {
    "tags": [],
    "cell_id": "00027-0a2dbe4e-fc29-4a4f-ba23-1bdb6fd5b2b9",
    "deepnote_to_be_reexecuted": false,
    "source_hash": "3aa5099b",
    "execution_start": 1622657342035,
    "execution_millis": 20,
    "deepnote_cell_type": "code"
   },
   "source": "for col in iaa.columns:\n    print(iaa[col].value_counts(normalize=True), \"\\n\")",
   "execution_count": 20,
   "outputs": [
    {
     "name": "stdout",
     "text": "0    0.675\n1    0.325\nName: original_label, dtype: float64 \n\n0    0.666667\n1    0.333333\nName: A, dtype: float64 \n\n0    0.75\n1    0.25\nName: B, dtype: float64 \n\n0    0.65\n1    0.35\nName: C, dtype: float64 \n\n",
     "output_type": "stream"
    }
   ]
  },
  {
   "cell_type": "markdown",
   "source": "<h3 style=\"color:green\">Cohen's Kappa</h3>\n",
   "metadata": {
    "tags": [],
    "cell_id": "00027-a6c22734-6462-4671-bd03-590f30f9addd",
    "deepnote_cell_type": "markdown"
   }
  },
  {
   "cell_type": "markdown",
   "source": "Prepare input to function:",
   "metadata": {
    "tags": [],
    "cell_id": "00028-7616c118-2188-4a20-aa1b-052e19c3b057",
    "deepnote_cell_type": "markdown"
   }
  },
  {
   "cell_type": "code",
   "metadata": {
    "tags": [],
    "cell_id": "00029-3969ce83-878e-474c-b1e3-af8e75e8e16b",
    "deepnote_to_be_reexecuted": false,
    "source_hash": "8a3adcb6",
    "execution_start": 1622657342041,
    "execution_millis": 3,
    "deepnote_cell_type": "code"
   },
   "source": "# Create a list of labels for each annotator\noriginal_list = iaa['original_label'].tolist()\na_list = iaa['A'].tolist()\nb_list = iaa['B'].tolist()\nc_list = iaa['C'].tolist()",
   "execution_count": 21,
   "outputs": []
  },
  {
   "cell_type": "markdown",
   "source": "Running pairwise agreement:",
   "metadata": {
    "tags": [],
    "cell_id": "00030-ecf0a806-d54c-4d1a-800b-57af7b83f893",
    "deepnote_cell_type": "markdown"
   }
  },
  {
   "cell_type": "code",
   "metadata": {
    "tags": [],
    "cell_id": "00030-af1a5e42-2a8b-4a2c-8cd5-39811dbcfa0a",
    "deepnote_to_be_reexecuted": false,
    "source_hash": "17ebc71a",
    "execution_start": 1622657342051,
    "execution_millis": 49,
    "deepnote_cell_type": "code"
   },
   "source": "col_lists = [original_list, a_list, b_list, c_list]\npairs_list = list(itertools.combinations(range(4), 2))\n\nagreement_l = []\nfor pair in pairs_list:\n    k = cohen_kappa(col_lists[pair[0]],col_lists[pair[1]])\n    agreement_l.append(k)\n    print(pair[0], \"-\",pair[1], \":\", k) \n\navg_agreement = statistics.mean(agreement_l)\nprint(\"\\nAvg. pairwise annotator agreement (Cohen's Kappa):\",round(avg_agreement, 3))\n ",
   "execution_count": 22,
   "outputs": [
    {
     "name": "stdout",
     "text": "0 - 1 : 0.491\n0 - 2 : 0.535\n0 - 3 : 0.534\n1 - 2 : 0.36\n1 - 3 : 0.704\n2 - 3 : 0.49\n\nAvg. pairwise annotator agreement (Cohen's Kappa): 0.519\n",
     "output_type": "stream"
    }
   ]
  },
  {
   "cell_type": "markdown",
   "source": "<h3 style=\"color:green\">Fleiss’s Multi-π</h3>",
   "metadata": {
    "tags": [],
    "cell_id": "00032-3bcc811d-224d-45d4-9b31-96840bc1b43b",
    "deepnote_cell_type": "markdown"
   }
  },
  {
   "cell_type": "code",
   "metadata": {
    "tags": [],
    "cell_id": "00032-0bb50f5d-c041-4c52-b630-6c051e5ed7cc",
    "deepnote_to_be_reexecuted": false,
    "source_hash": "9ffbfc1d",
    "execution_start": 1622657342095,
    "execution_millis": 91,
    "deepnote_cell_type": "code"
   },
   "source": "# Create agreement table (df with no. of judgements for each category)\nagreement_table = iaa.apply(pd.Series.value_counts, axis=1).fillna(0)\n\n# Compute Fleiss's Kappa\nprint(\"Fleiss's Kappa:\", fleiss_kappa(agreement_table))",
   "execution_count": 23,
   "outputs": [
    {
     "name": "stdout",
     "text": "Fleiss's Kappa: 0.5201\n",
     "output_type": "stream"
    }
   ]
  },
  {
   "cell_type": "markdown",
   "source": "Comparing metrics with values computed using nltk library AnnotationTask:",
   "metadata": {
    "tags": [],
    "cell_id": "00032-807a84ec-f34b-4b68-9605-513240d815ee",
    "deepnote_cell_type": "markdown"
   }
  },
  {
   "cell_type": "code",
   "metadata": {
    "tags": [],
    "cell_id": "00035-9ab1cfb8-6822-4bc7-a94c-f258be5ffe4d",
    "deepnote_to_be_reexecuted": false,
    "source_hash": "7753cf78",
    "execution_start": 1622657342274,
    "execution_millis": 7,
    "deepnote_cell_type": "code"
   },
   "source": "# Prepare input for nltk\ndata = []\nfor idx, row in iaa.iterrows():\n    data.append((\"a1\", idx, row[\"original_label\"]))\n    data.append((\"a2\", idx, row[\"A\"]))\n    data.append((\"a3\", idx, row[\"B\"]))\n    data.append((\"a4\", idx, row[\"C\"]))\n\n# Create AnnotationTask object\nanno_task = agreement.AnnotationTask(data=data)\n\n# Retrieve metrics\nprint(\"Cohen's Kappa (nltk):\", anno_task.kappa())\nprint(\"Fleiss's Kappa (nltk):\", anno_task.multi_kappa())",
   "execution_count": 24,
   "outputs": [
    {
     "name": "stdout",
     "text": "Cohen's Kappa (nltk): 0.5190450011655913\nFleiss's Kappa (nltk): 0.5212082262210798\n",
     "output_type": "stream"
    }
   ]
  },
  {
   "cell_type": "markdown",
   "source": "<h2 style=\"color:#22198A\">Task 4: Automatic Prediction</h2>\n<h3 style=\"color:green\">Examine label distribution</h3>",
   "metadata": {
    "tags": [],
    "cell_id": "00057-ec27d112-1f1b-4435-b9e5-044e728862d3",
    "deepnote_cell_type": "markdown"
   }
  },
  {
   "cell_type": "markdown",
   "source": "- Here we compared the distribution of the different labels in each data set and plot the data.\n- From the plots we can clearly see that the train sentiment label distribution is quite unbalanced when it comes number of negative tweets examples which might cause some complications when evaluating it.",
   "metadata": {
    "tags": [],
    "cell_id": "00055-949c6a34-ea8c-410b-be3b-1fd1f43f468e",
    "deepnote_cell_type": "markdown"
   }
  },
  {
   "cell_type": "code",
   "source": "# Get titles\ntitles = ['Train hate label distribution','Test hate label distribution','Train sentiment label distribution','Test sentiment label distribution']\ntitle_index = 0\n\n# Get labels\nall_labels = [\n    Counter(loadLabels(FILEPATHS[\"train_labels_hate\"])),\n    Counter(loadLabels(FILEPATHS[\"test_labels_hate\"])),\n    Counter(loadLabels(FILEPATHS[\"train_labels_sentiment\"])),\n    Counter(loadLabels(FILEPATHS[\"test_labels_sentiment\"]))\n    ]\n\n# Get figure\nfig, axs = plt.subplots(2,2, figsize=(8,8))\nfig.subplots_adjust(wspace = 0.4, hspace=0.4)\n\n# Plot the data\nfor row in axs:\n    for ax in row:\n\n        # Get labels for given dataset\n        labels_dict = all_labels[title_index] # Key: label Value: Count\n        labels = list(labels_dict.keys())\n        counts = [labels_dict[key] for key in labels_dict.keys()]\n        ax = sns.barplot(x = labels, y = counts, ax = ax)\n\n        # Set title\n        ax.set_title(titles[title_index])\n\n        # Increase title index\n        title_index += 1",
   "metadata": {
    "tags": [],
    "cell_id": "00058-e3941a9d-dd89-49e8-ba86-b5b9c99d5889",
    "deepnote_to_be_reexecuted": false,
    "source_hash": "4f1c2cef",
    "execution_start": 1622657725668,
    "execution_millis": 525,
    "deepnote_cell_type": "code"
   },
   "outputs": [
    {
     "data": {
      "text/plain": "<Figure size 576x576 with 4 Axes>",
      "image/png": "[encoded data removed]"
     },
     "metadata": {
      "needs_background": "light",
      "image/png": {
       "width": 503,
       "height": 482
      }
     },
     "output_type": "display_data"
    }
   ],
   "execution_count": 26
  },
  {
   "cell_type": "markdown",
   "source": "<h3 style=\"color:green\">Feature extraction</h3>\n\n- Here we define which extraction methods our classifiers will be evaluated on\n- We run our loadModelData function with each of the extraction methods and transfer the outputs in to their respective dictionaries to later run with our Models",
   "metadata": {
    "tags": [],
    "cell_id": "00060-3c2f4acf-32da-4621-93d5-60f10910942e",
    "deepnote_cell_type": "markdown"
   }
  },
  {
   "cell_type": "code",
   "source": "# Define feature extractin methods\nFEATURE_EXTRACTION_METHODS = [\"CountVectorizer\", \"TfidfVectorizer\", \"LSA\", \"Word2Vec\"]\n\n# Key: Name of extraction method Value: X_train, X_test, y_train, y_test\n# * Hate data set\nFEATURES_HATE = {\n    extraction_method: loadModelData(\"hate\", FILEPATHS, method = extraction_method, skip_lines = 200) for extraction_method in FEATURE_EXTRACTION_METHODS\n}\n\n# * Sentiment data set\nFEATURES_SENTIMENT = {\n    extraction_method: loadModelData(\"sentiment\", FILEPATHS, method = extraction_method, skip_lines = 200) for extraction_method in FEATURE_EXTRACTION_METHODS\n}",
   "metadata": {
    "tags": [],
    "cell_id": "00060-72db0619-9a1b-4f70-9755-d4426f69a6d4",
    "deepnote_cell_type": "code"
   },
   "outputs": [],
   "execution_count": null
  },
  {
   "cell_type": "markdown",
   "source": "<h2 style=\"color:green\">Choosing the best model</h2>",
   "metadata": {
    "tags": [],
    "cell_id": "00037-fc5caaa9-668a-4830-b2e5-8f0e0937cb36",
    "deepnote_cell_type": "markdown"
   }
  },
  {
   "cell_type": "markdown",
   "source": "<h3 style=\"color:orange\">Hate speech</h3>",
   "metadata": {
    "tags": [],
    "cell_id": "00055-d59e58b6-4583-419d-b6a5-cb3693190056",
    "deepnote_cell_type": "markdown"
   }
  },
  {
   "cell_type": "markdown",
   "source": "- We start by defining what metrics we want to look at, then we place all the methods with the chosen parameters we want to evaluate in dictionaries. (Two dictionaries had to be created since the Naive-Bayes classifiers only run with \"CountVectorizer\" and \"TfidfVectorizer\")",
   "metadata": {
    "tags": [],
    "cell_id": "00059-3cc5e43b-f916-4c18-838c-881dcf2712ba",
    "deepnote_cell_type": "markdown"
   }
  },
  {
   "cell_type": "code",
   "source": "# Naive-Bayes type of classifiers only run with the \"CountVectorizer\" and \"TfidfVectorizer\"\n# feature extractors, so we separate in to two dictionaries\n\n# Define metrics which we are interested in\nmetrics_hate = [\"accuracy\", \"precision\", \"recall\", \"f1\", \"f1_macro\"]\n\nCLFS_hate_without_NB = {\n    \"SGDClassifier_log\": SGDClassifier(loss='log'),\n    \"SGDClassifier_hinge\": SGDClassifier(loss='hinge'),\n    \"SVC_kernel3\": SVC(kernel='poly', degree=3),\n    \"SVC_kernel2\": SVC(kernel='poly', degree=2),\n    \"SVC_linear\": SVC(kernel='linear')\n}\n\nCLFS_hate_with_NB = {\n    \"SGDClassifier_log\": SGDClassifier(loss='log'),\n    \"SGDClassifier_hinge\": SGDClassifier(loss='hinge'),\n    \"SVC_kernel3\": SVC(kernel='poly', degree=3), \n    \"SVC_kernel2\": SVC(kernel='poly', degree=2),\n    \"SVC_linear\": SVC(kernel='linear'),\n    \"Naive Bayes\": MultinomialNB(), \n    \"BernoulliNB\": BernoulliNB(), \n    \"ComplementNB\": ComplementNB()\n}",
   "metadata": {
    "tags": [],
    "cell_id": "00059-f9efd984-8a02-467a-9816-03c6207f2d9c",
    "deepnote_to_be_reexecuted": false,
    "source_hash": "fc787a14",
    "execution_start": 1622657726190,
    "execution_millis": 34,
    "deepnote_cell_type": "code"
   },
   "outputs": [],
   "execution_count": 27
  },
  {
   "cell_type": "markdown",
   "source": "Next we loop through all our feature extractions, perform ***cross validation*** and print out a summary of the results of each different method\n",
   "metadata": {
    "tags": [],
    "cell_id": "00061-ac4a4281-d649-41d9-91d8-ae60eaf0eee4",
    "deepnote_cell_type": "markdown"
   }
  },
  {
   "cell_type": "code",
   "metadata": {
    "tags": [],
    "cell_id": "00055-15234434-84a8-4a70-bd88-084cd898c557",
    "deepnote_to_be_reexecuted": false,
    "source_hash": "c3478d5e",
    "execution_start": 1622657726233,
    "execution_millis": 1017609,
    "deepnote_cell_type": "code"
   },
   "source": "# Get summary for all Features extraction types\nfor extraction_method in FEATURES_HATE:\n\n    # Get data\n    X_train_hate, X_test_hate, y_train_hate, y_test_hate = FEATURES_HATE[extraction_method]\n\n    # Start timer\n    start = timeit.default_timer()\n    \n    # Do the cross validation\n    if extraction_method in [\"CountVectorizer\", \"TfidfVectorizer\"]:\n        summary, _ = crossValidate(X_train_hate, y_train_hate, CLFS_hate_with_NB, metrics_hate)\n    else:\n        summary, _ = crossValidate(X_train_hate, y_train_hate, CLFS_hate_without_NB, metrics_hate)\n\n    # Show the summary\n    stop = timeit.default_timer()\n    print(f'Running time:{stop - start}')\n    print(extraction_method)\n    print(summary)\n    print(\"=============================================================================\")",
   "execution_count": 28,
   "outputs": [
    {
     "name": "stdout",
     "text": "Running time:417.79584158200305\nCountVectorizer\n       classifier_name  accuracy  precision    recall        f1  f1_macro\n0    SGDClassifier_log  0.767041   0.757823  0.655583  0.702962  0.755665\n1  SGDClassifier_hinge  0.759286   0.738764  0.662136  0.698145  0.748958\n2          SVC_kernel3  0.588980   0.611964  0.062136  0.112639  0.422586\n3          SVC_kernel2  0.635612   0.756842  0.196359  0.311607  0.531908\n4           SVC_linear  0.767347   0.756047  0.659951  0.704598  0.756335\n5          Naive Bayes  0.738878   0.661501  0.776214  0.714212  0.736897\n6          BernoulliNB  0.629490   0.890061  0.135437  0.234781  0.495165\n7         ComplementNB  0.729592   0.643297  0.800971  0.713471  0.728712\n=============================================================================\nRunning time:369.33719447700423\nTfidfVectorizer\n       classifier_name  accuracy  precision    recall        f1  f1_macro\n0    SGDClassifier_log  0.749694   0.798131  0.541748  0.645211  0.725907\n1  SGDClassifier_hinge  0.772551   0.781210  0.637864  0.702258  0.759121\n2          SVC_kernel3  0.592143   0.866614  0.035680  0.068464  0.403688\n3          SVC_kernel2  0.641531   0.844856  0.180825  0.297748  0.528540\n4           SVC_linear  0.771122   0.788715  0.622816  0.695901  0.756194\n5          Naive Bayes  0.725000   0.825469  0.438835  0.572926  0.685061\n6          BernoulliNB  0.674184   0.863171  0.267233  0.407957  0.591596\n7         ComplementNB  0.750306   0.703316  0.702427  0.702779  0.743736\n=============================================================================\nRunning time:96.00208651900175\nLSA\n       classifier_name  accuracy  precision    recall        f1  f1_macro\n0    SGDClassifier_log  0.739388   0.768017  0.558981  0.637098  0.715905\n1  SGDClassifier_hinge  0.740612   0.767268  0.559223  0.639972  0.717929\n2          SVC_kernel3  0.709592   0.801324  0.411408  0.543243  0.665152\n3          SVC_kernel2  0.743367   0.794024  0.526214  0.632839  0.717783\n4           SVC_linear  0.729796   0.795886  0.480825  0.599299  0.697722\n=============================================================================\nRunning time:134.41561498798546\nWord2Vec\n       classifier_name  accuracy  precision    recall        f1  f1_macro\n0    SGDClassifier_log  0.737143   0.704103  0.657524  0.676227  0.726848\n1  SGDClassifier_hinge  0.728571   0.723094  0.608981  0.647038  0.711094\n2          SVC_kernel3  0.761837   0.761814  0.630825  0.690089  0.748340\n3          SVC_kernel2  0.758469   0.753246  0.633010  0.687807  0.745415\n4           SVC_linear  0.741224   0.728195  0.613592  0.665923  0.727363\n=============================================================================\n",
     "output_type": "stream"
    }
   ]
  },
  {
   "cell_type": "markdown",
   "source": "<h3 style=\"color:orange\">Sentiment analysis</h3>",
   "metadata": {
    "tags": [],
    "cell_id": "00057-bac5ed62-78c3-40a1-ae9f-e16b430f1947",
    "deepnote_cell_type": "markdown"
   }
  },
  {
   "cell_type": "markdown",
   "source": "Just like the Hate dataset we specify the metrics and create two dictionaries due to the Naive-Bayers constraint",
   "metadata": {
    "tags": [],
    "cell_id": "00065-d0eee307-05ee-42ae-8e46-ff6a677e3a7b",
    "deepnote_cell_type": "markdown"
   }
  },
  {
   "cell_type": "code",
   "source": "metrics_sent = [\"precision\", \"recall\", \"f1\"]\n\nCLFS_sent_with_NB = {\n    \"Naive Bayes\": MultinomialNB(),\n    \"SGDClassifier_hinge\": SGDClassifier(loss=\"hinge\"),\n    \"SGDClassifier_log\": SGDClassifier(loss=\"log\"),\n    'ComplementNB': ComplementNB()\n}\n\nCLFS_sent = {\n    \"SGDClassifier_hinge\": SGDClassifier(loss=\"hinge\"),\n    \"SGDClassifier_log\": SGDClassifier(loss=\"log\"),\n}",
   "metadata": {
    "tags": [],
    "cell_id": "00061-5bb0347e-5f78-479a-b809-997cea69bc31",
    "deepnote_to_be_reexecuted": false,
    "source_hash": "472e6307",
    "execution_start": 1622658743839,
    "execution_millis": 1,
    "deepnote_cell_type": "code"
   },
   "outputs": [],
   "execution_count": 29
  },
  {
   "cell_type": "markdown",
   "source": "Similar as we did for the Hate dataset. We loop through the feature extractions and perform ***cross validation***. But this time we print out the results for each different label, as well as an ***Overall Metrics Summary*** of all three combined for each classifier",
   "metadata": {
    "tags": [],
    "cell_id": "00063-54d1dfcd-970c-44f2-9d03-4492e9cf04c1",
    "deepnote_cell_type": "markdown"
   }
  },
  {
   "cell_type": "code",
   "metadata": {
    "tags": [],
    "cell_id": "00058-85b30aca-4d8a-41ee-a9e9-0bc7395d3bc4",
    "deepnote_to_be_reexecuted": false,
    "source_hash": "9a496f02",
    "execution_start": 1622658743848,
    "execution_millis": 140424,
    "deepnote_cell_type": "code"
   },
   "source": "# Get summary for all Features extraction types\nall_cms = dict()\nfor extraction_method in FEATURES_SENTIMENT:\n\n    # Get training data\n    X_train_sent, _, y_train_sent, _ = FEATURES_SENTIMENT[extraction_method]\n\n    # Run the cross validation and get the summary\n    if extraction_method in [\"CountVectorizer\", \"TfidfVectorizer\"]:\n        summary, overall = crossValidate(X_train_sent, y_train_sent, CLFS_sent_with_NB, metrics_sent, binary = False)\n    else:\n        summary, overall = crossValidate(X_train_sent, y_train_sent, CLFS_sent, metrics_sent, binary = False)\n\n    # Show the summary\n    print(extraction_method.upper())\n    clf_confusion_matrix = dict()\n    for clf_name in summary:\n        results, confusion_matrix_final = summary[clf_name]\n        clf_confusion_matrix[clf_name] = confusion_matrix_final\n        print(clf_name)\n        print(results)\n        print()\n    print()\n    print(\"Overall metrics summary\")\n    print(overall)\n    print()\n\n    # Save the confusion matrices for later use\n    all_cms[extraction_method] = clf_confusion_matrix",
   "execution_count": 31,
   "outputs": [
    {
     "name": "stdout",
     "text": "COUNTVECTORIZER\nNaive Bayes\n  Metrics/Classes  Negative   Neutral  Positive\n0       precision  0.593314  0.635869  0.618995\n1          recall  0.219932  0.649930  0.757665\n2              f1  0.320798  0.642812  0.681337\n\nSGDClassifier_hinge\n  Metrics/Classes  Negative   Neutral  Positive\n0       precision  0.616101  0.635594  0.706847\n1          recall  0.334644  0.757995  0.677784\n2              f1  0.433543  0.691390  0.691966\n\nSGDClassifier_log\n  Metrics/Classes  Negative   Neutral  Positive\n0       precision  0.632826  0.632016  0.714555\n1          recall  0.300068  0.778275  0.672566\n2              f1  0.406746  0.697510  0.692846\n\nComplementNB\n  Metrics/Classes  Negative   Neutral  Positive\n0       precision  0.364671  0.689012  0.646927\n1          recall  0.610169  0.462051  0.719849\n2              f1  0.456448  0.553148  0.681423\n\n\nOverall metrics summary\n            Clasiffier  accuracy  f1_macro  recall_macro\n0          Naive Bayes  0.625287  0.548315      0.542509\n1  SGDClassifier_hinge  0.660002  0.607466      0.592648\n2    SGDClassifier_log  0.663440  0.598299      0.582928\n3         ComplementNB  0.586165  0.563673      0.597357\n\n/shared-libs/python3.8/py/lib/python3.8/site-packages/sklearn/metrics/_classification.py:1248: UndefinedMetricWarning: Precision is ill-defined and being set to 0.0 in labels with no predicted samples. Use `zero_division` parameter to control this behavior.\n  _warn_prf(average, modifier, msg_start, len(result))\nTFIDFVECTORIZER\nNaive Bayes\n  Metrics/Classes  Negative   Neutral  Positive\n0       precision  0.500000  0.580326  0.693410\n1          recall  0.000949  0.820839  0.636525\n2              f1  0.001894  0.679939  0.663746\n\nSGDClassifier_hinge\n  Metrics/Classes  Negative   Neutral  Positive\n0       precision  0.774337  0.584448  0.724317\n1          recall  0.070644  0.855291  0.598063\n2              f1  0.129439  0.694386  0.655135\n\nSGDClassifier_log\n  Metrics/Classes  Negative   Neutral  Positive\n0       precision  0.743882  0.569136  0.713197\n1          recall  0.012339  0.854033  0.579505\n2              f1  0.024274  0.683067  0.639429\n\nComplementNB\n  Metrics/Classes  Negative   Neutral  Positive\n0       precision  0.604231  0.633668  0.627033\n1          recall  0.201085  0.672914  0.748144\n2              f1  0.301703  0.652700  0.682253\n\n\nOverall metrics summary\n            Clasiffier  accuracy  f1_macro  recall_macro\n0          Naive Bayes  0.621048  0.448526      0.486104\n1  SGDClassifier_hinge  0.632458  0.492527      0.507857\n2    SGDClassifier_log  0.616619  0.450492      0.483241\n3         ComplementNB  0.629020  0.545552      0.540714\n\n/shared-libs/python3.8/py/lib/python3.8/site-packages/sklearn/metrics/_classification.py:1248: UndefinedMetricWarning: Precision is ill-defined and being set to 0.0 in labels with no predicted samples. Use `zero_division` parameter to control this behavior.\n  _warn_prf(average, modifier, msg_start, len(result))\nLSA\nSGDClassifier_hinge\n  Metrics/Classes  Negative   Neutral  Positive\n0       precision  0.238793  0.546549  0.657628\n1          recall  0.002305  0.834685  0.516138\n2              f1  0.004562  0.660490  0.578031\n\nSGDClassifier_log\n  Metrics/Classes  Negative   Neutral  Positive\n0       precision  0.391429  0.555325  0.642004\n1          recall  0.002305  0.799580  0.566487\n2              f1  0.004579  0.654862  0.600096\n\n\nOverall metrics summary\n            Clasiffier  accuracy  f1_macro  recall_macro\n0  SGDClassifier_hinge  0.581208  0.416479      0.452626\n1    SGDClassifier_log  0.581883  0.416229      0.453313\n\nWORD2VEC\nSGDClassifier_hinge\n  Metrics/Classes  Negative   Neutral  Positive\n0       precision  0.564742  0.594536  0.621474\n1          recall  0.064407  0.729184  0.672620\n2              f1  0.113376  0.653900  0.644024\n\nSGDClassifier_log\n  Metrics/Classes  Negative   Neutral  Positive\n0       precision  0.557097  0.602619  0.649599\n1          recall  0.218441  0.722611  0.647875\n2              f1  0.312670  0.654777  0.644992\n\n\nOverall metrics summary\n            Clasiffier  accuracy  f1_macro  recall_macro\n0  SGDClassifier_hinge  0.603986  0.464667      0.485259\n1    SGDClassifier_log  0.614721  0.527944      0.521584\n\n",
     "output_type": "stream"
    }
   ]
  },
  {
   "cell_type": "markdown",
   "source": "- Our best method was SGDClassifier_hinge utilizing CountVectorizer, but we can see that it had quite poor performance on recall with the negative label\n\n- Examining the respective confusion matrix, we can see that the reason behind those values are due to the negative tweets being mislabeled as neutral. We can also see that another common mistake is classifying positive tweets with neutral",
   "metadata": {
    "tags": [],
    "cell_id": "00069-33b17978-7a1a-4b69-ac02-c824238c818e",
    "deepnote_cell_type": "markdown"
   }
  },
  {
   "cell_type": "code",
   "source": "# Show selected confusion matrix\ncm = all_cms[\"CountVectorizer\"][\"SGDClassifier_hinge\"]\ncm = cm / cm.astype(np.float).sum(axis=1, keepdims=True)\ndisp = ConfusionMatrixDisplay(confusion_matrix=cm,\n                              display_labels=[\"Negative\", \"Neutral\", \"Positive\"])\n\n# Show the plot\ndisp.plot();\n\n# Save the plot\ndisp.figure_.savefig(\"figures/task4.png\")",
   "metadata": {
    "tags": [],
    "cell_id": "00069-5bd34125-1078-4297-a8b3-aed61a1c2d2d",
    "deepnote_to_be_reexecuted": false,
    "source_hash": "1cc6936",
    "execution_start": 1622658884271,
    "execution_millis": 380,
    "deepnote_cell_type": "code"
   },
   "outputs": [
    {
     "data": {
      "text/plain": "<Figure size 432x288 with 2 Axes>",
      "image/png": "[encoded data removed]"
     },
     "metadata": {
      "needs_background": "light",
      "image/png": {
       "width": 348,
       "height": 262
      }
     },
     "output_type": "display_data"
    }
   ],
   "execution_count": 32
  },
  {
   "cell_type": "markdown",
   "source": "<h2 style=\"color:green\">Evaluating models on test data</h2>",
   "metadata": {
    "tags": [],
    "cell_id": "00058-eb021dcd-d558-4e27-8c9e-4954657252cc",
    "deepnote_cell_type": "markdown"
   }
  },
  {
   "cell_type": "markdown",
   "source": "<h4 style=\"color:orange\">Hate speech</h4>",
   "metadata": {
    "tags": [],
    "cell_id": "00059-8bdf1d59-dc66-4ad1-835d-ec015c8cb736",
    "deepnote_cell_type": "markdown"
   }
  },
  {
   "cell_type": "code",
   "metadata": {
    "tags": [],
    "cell_id": "00063-613b8396-0425-42f1-a90b-fdc47494d11e",
    "deepnote_to_be_reexecuted": false,
    "source_hash": "a7c286b4",
    "execution_start": 1622658884643,
    "execution_millis": 395981,
    "deepnote_cell_type": "code"
   },
   "source": "# Get summary for all Features extraction types\nfor extraction_method in FEATURES_HATE:\n\n    # Get data\n    X_train_hate, X_test_hate, y_train_hate, y_test_hate = FEATURES_HATE[extraction_method]\n\n    # Start timer\n    start = timeit.default_timer()\n\n    # Fit the classifiers\n    if extraction_method in [\"CountVectorizer\", \"TfidfVectorizer\"]:\n        fitted_clfs_hate = fitClassifiers(CLFS_hate_with_NB, X_train_hate, y_train_hate)\n\n    else:\n        fitted_clfs_hate = fitClassifiers(CLFS_hate_without_NB, X_train_hate, y_train_hate)\n\n    # Get the summary\n    summary = evaluateTestDataBinary(X_test_hate, y_test_hate, fitted_clfs_hate)\n    stop = timeit.default_timer()\n\n    # Show the summary\n    print(f'Running time: {stop - start}')\n    print(extraction_method)\n    print(summary)\n    print(\"=============================================================================\")",
   "execution_count": 33,
   "outputs": [
    {
     "name": "stdout",
     "text": "Running time: 167.64227661999757\nCountVectorizer\n       classifier_name  accuracy  precision    recall        f1  f1_macro\n0    SGDClassifier_log  0.522222   0.463457  0.845847  0.598813  0.504150\n1  SGDClassifier_hinge  0.538384   0.472517  0.817093  0.598771  0.527685\n2          SVC_kernel3  0.582828   0.518006  0.149361  0.231866  0.472762\n3          SVC_kernel2  0.589562   0.516616  0.409744  0.457016  0.563555\n4           SVC_linear  0.512458   0.458369  0.861821  0.598447  0.489026\n5          Naive Bayes  0.465320   0.438953  0.964856  0.603397  0.391574\n6          BernoulliNB  0.563636   0.475281  0.337859  0.394958  0.526863\n7         ComplementNB  0.461616   0.437477  0.969649  0.602930  0.383535\n=============================================================================\nRunning time: 153.79466409000452\nTfidfVectorizer\n       classifier_name  accuracy  precision    recall        f1  f1_macro\n0    SGDClassifier_log  0.524242   0.463326  0.812300  0.590078  0.511646\n1  SGDClassifier_hinge  0.503704   0.453440  0.863419  0.594609  0.477426\n2          SVC_kernel3  0.584848   0.526316  0.151757  0.235586  0.475315\n3          SVC_kernel2  0.617508   0.569544  0.379393  0.455417  0.580329\n4           SVC_linear  0.502357   0.452759  0.865016  0.594402  0.475337\n5          Naive Bayes  0.561616   0.486979  0.746805  0.589533  0.559579\n6          BernoulliNB  0.563973   0.485324  0.567891  0.523371  0.560786\n7         ComplementNB  0.494949   0.451525  0.922524  0.606299  0.451037\n=============================================================================\nRunning time: 30.278027257998474\nLSA\n       classifier_name  accuracy  precision    recall        f1  f1_macro\n0    SGDClassifier_log  0.548822   0.477131  0.733227  0.578086  0.546641\n1  SGDClassifier_hinge  0.486869   0.441329  0.817093  0.573109  0.465036\n2          SVC_kernel3  0.558249   0.481297  0.616613  0.540616  0.557597\n3          SVC_kernel2  0.503367   0.447430  0.757987  0.562704  0.494052\n4           SVC_linear  0.510774   0.453408  0.781150  0.573775  0.499847\n=============================================================================\nRunning time: 44.19873189000646\nWord2Vec\n       classifier_name  accuracy  precision    recall        f1  f1_macro\n0    SGDClassifier_log  0.503704   0.456057  0.920128  0.609846  0.464035\n1  SGDClassifier_hinge  0.525589   0.466091  0.861821  0.604990  0.505614\n2          SVC_kernel3  0.526599   0.467262  0.877796  0.609878  0.503997\n3          SVC_kernel2  0.526936   0.467817  0.888179  0.612841  0.502440\n4           SVC_linear  0.522222   0.464664  0.876997  0.607469  0.498573\n=============================================================================\n",
     "output_type": "stream"
    }
   ]
  },
  {
   "cell_type": "markdown",
   "source": "<h4 style=\"color:orange\">Sentiment</h4>",
   "metadata": {
    "tags": [],
    "cell_id": "00060-8f478c6b-0110-44c4-95b4-4dcde869ac16",
    "deepnote_cell_type": "markdown"
   }
  },
  {
   "cell_type": "code",
   "metadata": {
    "tags": [],
    "cell_id": "00067-14264fc4-1d52-4381-9d4d-26e21274fdcb",
    "deepnote_to_be_reexecuted": false,
    "source_hash": "57734f65",
    "execution_start": 1622659280623,
    "execution_millis": 19239,
    "deepnote_cell_type": "code"
   },
   "source": "# Get summary for all Features extraction types\nclfs_all_details = dict()\nfor extraction_method in FEATURES_SENTIMENT:\n\n    # Get data\n    X_train_sent, X_test_sent, y_train_sent, y_test_sent = FEATURES_SENTIMENT[extraction_method]\n\n    # Start timer\n    start = timeit.default_timer()\n\n    # Fit the classifiers\n    if extraction_method in [\"CountVectorizer\", \"TfidfVectorizer\"]:\n        fitted_clfs_sent = fitClassifiers(CLFS_sent_with_NB, X_train_sent, y_train_sent)\n\n    else:\n        fitted_clfs_sent = fitClassifiers(CLFS_sent, X_train_sent, y_train_sent)\n\n    # Get the summary\n    clfs_detail, summary = evaluateTestDataMulti(X_test_sent, y_test_sent, fitted_clfs_sent)\n    stop = timeit.default_timer()\n\n    # Save details into dictionary for further lookup\n    clfs_all_details[extraction_method] = clfs_detail\n\n    # Show the summary\n    print(f'Running time: {stop - start}')\n    print(extraction_method)\n    print(summary)\n    print(\"=============================================================================\")",
   "execution_count": 34,
   "outputs": [
    {
     "name": "stdout",
     "text": "Running time: 5.2407723020005506\nCountVectorizer\n       classifier_name  accuracy  f1_macro  recall_macro\n0          Naive Bayes  0.522712  0.525133      0.553785\n1  SGDClassifier_hinge  0.586210  0.527857      0.532279\n2    SGDClassifier_log  0.578557  0.510229      0.523352\n3         ComplementNB  0.446434  0.427001      0.499838\n=============================================================================\nRunning time: 2.6232185139961075\nTfidfVectorizer\n       classifier_name  accuracy  f1_macro  recall_macro\n0          Naive Bayes  0.526132  0.397857      0.474635\n1  SGDClassifier_hinge  0.536877  0.410011      0.467441\n2    SGDClassifier_log  0.526539  0.384667      0.449480\n3         ComplementNB  0.523527  0.525960      0.551015\n=============================================================================\nRunning time: 2.9892286930116825\nLSA\n       classifier_name  accuracy  f1_macro  recall_macro\n0  SGDClassifier_hinge  0.510583  0.363505      0.430562\n1    SGDClassifier_log  0.514572  0.363767      0.429750\n=============================================================================\nRunning time: 8.381814909022069\nWord2Vec\n       classifier_name  accuracy  f1_macro  recall_macro\n0  SGDClassifier_hinge  0.547379  0.507749      0.531926\n1    SGDClassifier_log  0.580348  0.573909      0.582916\n=============================================================================\n",
     "output_type": "stream"
    }
   ]
  },
  {
   "cell_type": "code",
   "source": "# Show a detail for specified feature extraction method and model\nclfs_all_details[\"CountVectorizer\"][\"SGDClassifier_hinge\"]",
   "metadata": {
    "tags": [],
    "cell_id": "00073-1397a870-be9d-43b6-a096-0afc700673ef",
    "deepnote_to_be_reexecuted": false,
    "source_hash": "65ed2d8b",
    "execution_start": 1622659299974,
    "execution_millis": 17,
    "deepnote_cell_type": "code"
   },
   "outputs": [
    {
     "output_type": "execute_result",
     "execution_count": 35,
     "data": {
      "application/vnd.deepnote.dataframe.v2+json": {
       "row_count": 3,
       "column_count": 4,
       "columns": [
        {
         "name": "Metrics/Classes",
         "dtype": "object",
         "stats": {
          "unique_count": 3,
          "nan_count": 0,
          "categories": [
           {
            "name": "precision",
            "count": 1
           },
           {
            "name": "recall",
            "count": 1
           },
           {
            "name": "f1",
            "count": 1
           }
          ]
         }
        },
        {
         "name": "Negative",
         "dtype": "float64",
         "stats": {
          "unique_count": 3,
          "nan_count": 0,
          "min": "0.2540281973816717",
          "max": "0.7269452449567724",
          "histogram": [
           {
            "bin_start": 0.2540281973816717,
            "bin_end": 0.30131990213918175,
            "count": 1
           },
           {
            "bin_start": 0.30131990213918175,
            "bin_end": 0.34861160689669185,
            "count": 0
           },
           {
            "bin_start": 0.34861160689669185,
            "bin_end": 0.3959033116542019,
            "count": 1
           },
           {
            "bin_start": 0.3959033116542019,
            "bin_end": 0.443195016411712,
            "count": 0
           },
           {
            "bin_start": 0.443195016411712,
            "bin_end": 0.49048672116922204,
            "count": 0
           },
           {
            "bin_start": 0.49048672116922204,
            "bin_end": 0.5377784259267321,
            "count": 0
           },
           {
            "bin_start": 0.5377784259267321,
            "bin_end": 0.5850701306842422,
            "count": 0
           },
           {
            "bin_start": 0.5850701306842422,
            "bin_end": 0.6323618354417522,
            "count": 0
           },
           {
            "bin_start": 0.6323618354417522,
            "bin_end": 0.6796535401992623,
            "count": 0
           },
           {
            "bin_start": 0.6796535401992623,
            "bin_end": 0.7269452449567724,
            "count": 1
           }
          ]
         }
        },
        {
         "name": "Neutral",
         "dtype": "float64",
         "stats": {
          "unique_count": 3,
          "nan_count": 0,
          "min": "0.571608040201005",
          "max": "0.8430183594407951",
          "histogram": [
           {
            "bin_start": 0.571608040201005,
            "bin_end": 0.598749072124984,
            "count": 1
           },
           {
            "bin_start": 0.598749072124984,
            "bin_end": 0.625890104048963,
            "count": 0
           },
           {
            "bin_start": 0.625890104048963,
            "bin_end": 0.6530311359729419,
            "count": 0
           },
           {
            "bin_start": 0.6530311359729419,
            "bin_end": 0.680172167896921,
            "count": 0
           },
           {
            "bin_start": 0.680172167896921,
            "bin_end": 0.7073131998209,
            "count": 1
           },
           {
            "bin_start": 0.7073131998209,
            "bin_end": 0.734454231744879,
            "count": 0
           },
           {
            "bin_start": 0.734454231744879,
            "bin_end": 0.761595263668858,
            "count": 0
           },
           {
            "bin_start": 0.761595263668858,
            "bin_end": 0.788736295592837,
            "count": 0
           },
           {
            "bin_start": 0.788736295592837,
            "bin_end": 0.8158773275168161,
            "count": 0
           },
           {
            "bin_start": 0.8158773275168161,
            "bin_end": 0.8430183594407951,
            "count": 1
           }
          ]
         }
        },
        {
         "name": "Positive",
         "dtype": "float64",
         "stats": {
          "unique_count": 3,
          "nan_count": 0,
          "min": "0.4997894736842105",
          "max": "0.5546728971962617",
          "histogram": [
           {
            "bin_start": 0.4997894736842105,
            "bin_end": 0.5052778160354157,
            "count": 1
           },
           {
            "bin_start": 0.5052778160354157,
            "bin_end": 0.5107661583866208,
            "count": 0
           },
           {
            "bin_start": 0.5107661583866208,
            "bin_end": 0.5162545007378259,
            "count": 0
           },
           {
            "bin_start": 0.5162545007378259,
            "bin_end": 0.521742843089031,
            "count": 0
           },
           {
            "bin_start": 0.521742843089031,
            "bin_end": 0.5272311854402361,
            "count": 1
           },
           {
            "bin_start": 0.5272311854402361,
            "bin_end": 0.5327195277914412,
            "count": 0
           },
           {
            "bin_start": 0.5327195277914412,
            "bin_end": 0.5382078701426464,
            "count": 0
           },
           {
            "bin_start": 0.5382078701426464,
            "bin_end": 0.5436962124938515,
            "count": 0
           },
           {
            "bin_start": 0.5436962124938515,
            "bin_end": 0.5491845548450566,
            "count": 0
           },
           {
            "bin_start": 0.5491845548450566,
            "bin_end": 0.5546728971962617,
            "count": 1
           }
          ]
         }
        },
        {
         "name": "_deepnote_index_column",
         "dtype": "int64"
        }
       ],
       "rows_top": [
        {
         "Metrics/Classes": "precision",
         "Negative": 0.7269452449567724,
         "Neutral": 0.571608040201005,
         "Positive": 0.5546728971962617,
         "_deepnote_index_column": 0
        },
        {
         "Metrics/Classes": "recall",
         "Negative": 0.2540281973816717,
         "Neutral": 0.8430183594407951,
         "Positive": 0.4997894736842105,
         "_deepnote_index_column": 1
        },
        {
         "Metrics/Classes": "f1",
         "Negative": 0.37649253731343285,
         "Neutral": 0.6812767984754644,
         "Positive": 0.5258028792912515,
         "_deepnote_index_column": 2
        }
       ],
       "rows_bottom": null
      },
      "text/plain": "  Metrics/Classes  Negative   Neutral  Positive\n0       precision  0.726945  0.571608  0.554673\n1          recall  0.254028  0.843018  0.499789\n2              f1  0.376493  0.681277  0.525803",
      "text/html": "<div>\n<style scoped>\n    .dataframe tbody tr th:only-of-type {\n        vertical-align: middle;\n    }\n\n    .dataframe tbody tr th {\n        vertical-align: top;\n    }\n\n    .dataframe thead th {\n        text-align: right;\n    }\n</style>\n<table border=\"1\" class=\"dataframe\">\n  <thead>\n    <tr style=\"text-align: right;\">\n      <th></th>\n      <th>Metrics/Classes</th>\n      <th>Negative</th>\n      <th>Neutral</th>\n      <th>Positive</th>\n    </tr>\n  </thead>\n  <tbody>\n    <tr>\n      <th>0</th>\n      <td>precision</td>\n      <td>0.726945</td>\n      <td>0.571608</td>\n      <td>0.554673</td>\n    </tr>\n    <tr>\n      <th>1</th>\n      <td>recall</td>\n      <td>0.254028</td>\n      <td>0.843018</td>\n      <td>0.499789</td>\n    </tr>\n    <tr>\n      <th>2</th>\n      <td>f1</td>\n      <td>0.376493</td>\n      <td>0.681277</td>\n      <td>0.525803</td>\n    </tr>\n  </tbody>\n</table>\n</div>"
     },
     "metadata": {}
    }
   ],
   "execution_count": 35
  },
  {
   "cell_type": "markdown",
   "source": "<a style='text-decoration:none;line-height:16px;display:flex;color:#5B5B62;padding:10px;justify-content:end;' href='https://deepnote.com?utm_source=created-in-deepnote-cell&projectId=0dd92353-c33e-4f0a-a863-89d0a125a6a7' target=\"_blank\">\n<img alt='Created in deepnote.com' style='display:inline;max-height:16px;margin:0px;margin-right:7.5px;' src='data:image/svg+xml;base64,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' > </img>\nCreated in <span style='font-weight:600;margin-left:4px;'>Deepnote</span></a>",
   "metadata": {
    "tags": [],
    "created_in_deepnote_cell": true,
    "deepnote_cell_type": "markdown"
   }
  }
 ],
 "nbformat": 4,
 "nbformat_minor": 2,
 "metadata": {
  "orig_nbformat": 2,
  "deepnote": {
   "is_reactive": false
  },
  "deepnote_notebook_id": "b83cb758-ea3c-4c01-82f8-ee8867f6dc49",
  "deepnote_execution_queue": []
 }
}