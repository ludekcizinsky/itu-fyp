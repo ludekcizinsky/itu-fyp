{
  "cells": [
    {
      "cell_type": "markdown",
      "source": "<h2 style=\"color:#22198A\">PROJECT INFO</h2>",
      "metadata": {
        "tags": [],
        "cell_id": "00000-c1f9c057-83e9-4ac0-a5b2-049d9a29f0c4",
        "deepnote_cell_type": "markdown"
      }
    },
    {
      "cell_type": "markdown",
      "source": "<h3 style=\"color:green\">About project-03</h3>\n<p> The goal of this project is to find out if some characteristics of skin lesions can be reliably measured with a <b>smartphone app.</b> The\ncharacteristics the dermatologist is especially interested in are: asymmetry, border and color.</p>\n<p><b>Contact:</b> jtih@itu.dk, joap@itu.dk, luci@itu.dk</p>\n<p><b>Created:</b> 06. 04. 2021</p>\n<p><b>Last modified:</b> 22. 04. 2021 </p>",
      "metadata": {
        "tags": [],
        "cell_id": "00001-1502495e-3b84-459d-8a51-9c278b385c24",
        "deepnote_cell_type": "markdown"
      }
    },
    {
      "cell_type": "markdown",
      "source": "<h2 style=\"color:#22198A\">NOTEBOOK SETUP</h2>\n<p>Before you start working with the notebook, please make sure to go through this setup to ensure smooth running. (by default, no changes should be needed if you just downloaded the repository)</p>\n<h3 style=\"color:green\">Important highlights</h3>\n<ul>\n<li><b>BASE_DIR:</b> This should lead to the root directory relative to the location of this notebook</li>\n<li><b>SCRIPTS IMPORT:</b> All scripts are saved within one file. In the file, there are comments splitting the whole file into sections which gather scripts with similar functionality, e.g. loading data. All functions should contain a docstring, which might be useful for any troubleshooting or just knowing how the given thing was implemented. The way the scripts are imported was implemented according to <a href='# https://stackoverflow.com/questions/34478398/import-local-function-from-a-module-housed-in-another-directory-with-relative-im\n'>this</a> SO question. <b>Once you run the below cell, all scripts should be loaded.</b></li>\n<li><b>PACKAGES USED WITHIN DIRECTORY: </b> In <b>all_scripts.py</b> you can see in the beginning all the packages used, but it is worth highlight these \"not so standard\" packages which you should make sure you have installed: <b>pandas, scipy.</b></li>\n</ul>",
      "metadata": {
        "tags": [],
        "cell_id": "00002-d2142d45-c537-453e-9dbe-109d8861dc67",
        "deepnote_cell_type": "markdown"
      }
    },
    {
      "cell_type": "code",
      "metadata": {
        "tags": [],
        "deepnote_to_be_reexecuted": false,
        "source_hash": "ee37355a",
        "execution_millis": 3684,
        "output_cleared": false,
        "cell_id": "00003-c53c1b5b-4990-43bc-a3a1-3b2603e4f3ba",
        "execution_start": 1619027243443,
        "deepnote_cell_type": "code"
      },
      "source": "import os\nimport sys\nBASE_DIR = f\"..{os.sep}..{os.sep}..{os.sep}\"\nUSE_DEEPNOTE = True # In case you would open this notebook via Deepnote\n\n# SCRIPTS IMPORT\nscripts_path = os.path.abspath(os.path.join(f'{BASE_DIR}scripts'))\n\nif scripts_path not in sys.path:\n    # Add the scripts to the path\n    sys.path.append(scripts_path)\n    \n    # Import the needed scripts\n    from all_scripts import *\n    \n    # Remove the added path to avoid possible future conflicts\n    sys.path.remove(scripts_path)\nelse:\n    \n    # Import the needed scripts\n    from all_scripts import *\n    \n    # Remove the added path to avoid possible future conflicts\n    sys.path.remove(scripts_path)\n\n# PLOTS COLOR SETTING - see more here: https://seaborn.pydata.org/generated/seaborn.color_palette.html#seaborn.color_palette\nPLOT_COLOR_SETTINGS = sns.color_palette(\"flare\", as_cmap=True)",
      "execution_count": null,
      "outputs": []
    },
    {
      "cell_type": "markdown",
      "source": "<h2 style=\"color:#22198A\">CONSTANTS</h2>",
      "metadata": {
        "tags": [],
        "cell_id": "00004-da2e5eaf-2e4d-4baf-a205-d3d6fc30b20c",
        "deepnote_cell_type": "markdown"
      }
    },
    {
      "cell_type": "code",
      "metadata": {
        "tags": [],
        "deepnote_to_be_reexecuted": false,
        "source_hash": "35fc778e",
        "execution_millis": 17,
        "output_cleared": true,
        "cell_id": "00005-db6ed448-ae29-487f-bc83-a1d292844ce5",
        "execution_start": 1619027247131,
        "deepnote_cell_type": "code"
      },
      "source": "PATH_DATA = {\n    \"raw\": f\"{BASE_DIR}data{os.sep}raw{os.sep}\",\n    \"processed\": f\"{BASE_DIR}data{os.sep}processed{os.sep}\"\n}\n\nFILENAMES = {\n    \"GT_train_ISIC_2017\": \"ISIC-2017_Training_Part3_GroundTruth.csv\",\n    \"GT_validate_ISIC_2017\": \"ISIC-2017_Validation_Part3_GroundTruth.csv\",\n    \"GT_test_ISIC_2017\": \"ISIC-2017_Test_v2_Part3_GroundTruth.csv\",\n    \"model_input\": \"model_input.csv\"\n}",
      "execution_count": null,
      "outputs": []
    },
    {
      "cell_type": "markdown",
      "source": "<h2 style=\"color:#22198A\">LOAD DATA</h2>",
      "metadata": {
        "tags": [],
        "cell_id": "00006-78ef305a-666c-470f-969e-c8f8a20655be",
        "deepnote_cell_type": "markdown"
      }
    },
    {
      "cell_type": "code",
      "metadata": {
        "tags": [],
        "deepnote_to_be_reexecuted": false,
        "source_hash": "6f6bed1f",
        "execution_millis": 36,
        "output_cleared": false,
        "cell_id": "00007-1447f65c-69fc-4bb5-8fc8-30656f60b992",
        "execution_start": 1619027247175,
        "deepnote_cell_type": "code"
      },
      "source": " all_dfs_raw = {\n    \"train\": pd.read_csv(f\"{PATH_DATA['raw']}{FILENAMES['GT_train_ISIC_2017']}\"),\n    \"validate\": pd.read_csv(f\"{PATH_DATA['raw']}{FILENAMES['GT_validate_ISIC_2017']}\"),\n    \"test\": pd.read_csv(f\"{PATH_DATA['raw']}{FILENAMES['GT_test_ISIC_2017']}\")\n}",
      "execution_count": null,
      "outputs": []
    },
    {
      "cell_type": "markdown",
      "source": "<h2 style=\"color:#22198A\"> Clean data, extract features, prepare model input</h2>\n<h3 style=\"color:green\">Brief summary</h3>\n<ul>\n<li><b>Source of data:</b> The data comes from the <a href = 'https://challenge.isic-archive.com/landing/2017'>2017 ISIC challenge.</a></li>\n</ul>",
      "metadata": {
        "tags": [],
        "cell_id": "00008-7cbf8987-c3a4-435e-95c5-d5838041c382",
        "deepnote_cell_type": "markdown"
      }
    },
    {
      "cell_type": "markdown",
      "source": "<h3 style=\"color:green\">Initial exploration</h3>",
      "metadata": {
        "tags": [],
        "cell_id": "00009-5c8e3eb6-6738-49ab-b85d-01f2f7323937",
        "deepnote_cell_type": "markdown"
      }
    },
    {
      "cell_type": "markdown",
      "source": "<h4 style=\"color:#ff9900\">Shape</h4>",
      "metadata": {
        "tags": [],
        "cell_id": "00010-6265e780-2530-4656-8e2d-c0edb06059d1",
        "deepnote_cell_type": "markdown"
      }
    },
    {
      "cell_type": "code",
      "metadata": {
        "tags": [],
        "deepnote_to_be_reexecuted": false,
        "source_hash": "5f36f4cb",
        "execution_millis": 23,
        "output_cleared": false,
        "cell_id": "00011-dafcb66f-a0a5-47d5-b207-cec0c7f689b5",
        "execution_start": 1619027247215,
        "deepnote_cell_type": "code"
      },
      "source": "for name_df, df in all_dfs_raw.items():\n    print(f\"{name_df}: {df.shape}\")",
      "execution_count": null,
      "outputs": [
        {
          "name": "stdout",
          "text": "train: (2000, 3)\nvalidate: (150, 3)\ntest: (600, 3)\n",
          "output_type": "stream"
        }
      ]
    },
    {
      "cell_type": "markdown",
      "source": "<h4 style=\"color:#ff9900\">Are there any missing values?</h4>",
      "metadata": {
        "tags": [],
        "cell_id": "00012-0e15a82f-0cd9-49eb-9281-54c7e9b8ec81",
        "deepnote_cell_type": "markdown"
      }
    },
    {
      "cell_type": "code",
      "metadata": {
        "tags": [],
        "deepnote_to_be_reexecuted": false,
        "source_hash": "f8c1b70a",
        "execution_millis": 53,
        "output_cleared": false,
        "cell_id": "00013-7e5c3359-5311-4f47-b864-1c7e5337f63f",
        "execution_start": 1619027247239,
        "deepnote_cell_type": "code"
      },
      "source": "for name_df, df in all_dfs_raw.items():\n    print(f\"{name_df}:\\n{df.isnull().sum()}\\n\")",
      "execution_count": null,
      "outputs": [
        {
          "name": "stdout",
          "text": "train:\nimage_id                0\nmelanoma                0\nseborrheic_keratosis    0\ndtype: int64\n\nvalidate:\nimage_id                0\nmelanoma                0\nseborrheic_keratosis    0\ndtype: int64\n\ntest:\nimage_id                0\nmelanoma                0\nseborrheic_keratosis    0\ndtype: int64\n\n",
          "output_type": "stream"
        }
      ]
    },
    {
      "cell_type": "markdown",
      "source": "<h4 style=\"color:#ff9900\">What are the variable names?</h4>",
      "metadata": {
        "tags": [],
        "cell_id": "00014-d1916dc4-3489-4551-82ea-839cb456054e",
        "deepnote_cell_type": "markdown"
      }
    },
    {
      "cell_type": "code",
      "metadata": {
        "tags": [],
        "deepnote_to_be_reexecuted": false,
        "source_hash": "5009eb67",
        "execution_millis": 38,
        "output_cleared": false,
        "cell_id": "00015-55a073af-0287-458d-8b55-af8debcc4699",
        "execution_start": 1619027247289,
        "deepnote_cell_type": "code"
      },
      "source": "for name_df, df in all_dfs_raw.items():\n    print(f\"{name_df}:\\n{list(df.columns)}\\n\")",
      "execution_count": null,
      "outputs": [
        {
          "name": "stdout",
          "text": "train:\n['image_id', 'melanoma', 'seborrheic_keratosis']\n\nvalidate:\n['image_id', 'melanoma', 'seborrheic_keratosis']\n\ntest:\n['image_id', 'melanoma', 'seborrheic_keratosis']\n\n",
          "output_type": "stream"
        }
      ]
    },
    {
      "cell_type": "markdown",
      "source": "<h4 style=\"color:#ff9900\">Can the same image contain example of both skin cancers?</h4>\nNo.",
      "metadata": {
        "tags": [],
        "cell_id": "00016-22179817-9811-49e7-af06-5b03f3d4d72b",
        "deepnote_cell_type": "markdown"
      }
    },
    {
      "cell_type": "code",
      "metadata": {
        "tags": [],
        "deepnote_to_be_reexecuted": false,
        "source_hash": "770261b0",
        "execution_millis": 41,
        "cell_id": "00017-300c5dda-1cf9-4849-b672-bb6e3927aef1",
        "execution_start": 1619027247322,
        "deepnote_cell_type": "code"
      },
      "source": "for name_df, df in all_dfs_raw.items():\n    count_both = sum((df[\"melanoma\"] + df[\"seborrheic_keratosis\"]) > 2)\n    print(f\"{name_df}:\\n{count_both}\\n\")",
      "execution_count": null,
      "outputs": [
        {
          "name": "stdout",
          "text": "train:\n0\n\nvalidate:\n0\n\ntest:\n0\n\n",
          "output_type": "stream"
        }
      ]
    },
    {
      "cell_type": "markdown",
      "source": "<h3 style=\"color:green\">Explore the distribution of data</h3>",
      "metadata": {
        "tags": [],
        "cell_id": "00018-89355ae2-6e40-4b22-b3cb-4ab3534f5855",
        "deepnote_cell_type": "markdown"
      }
    },
    {
      "cell_type": "markdown",
      "source": "<h4 style=\"color:#ff9900\">How many melanomas examples are there?</h4>",
      "metadata": {
        "tags": [],
        "cell_id": "00019-2322f761-0135-41ec-9f83-11acdbe70f10",
        "deepnote_cell_type": "markdown"
      }
    },
    {
      "cell_type": "code",
      "metadata": {
        "tags": [],
        "deepnote_to_be_reexecuted": false,
        "source_hash": "67bd4bba",
        "execution_millis": 6,
        "cell_id": "00020-75718c39-074e-4aae-9a11-6a5c699ab6a2",
        "execution_start": 1619027247418,
        "deepnote_cell_type": "code"
      },
      "source": "for name_df, df in all_dfs_raw.items():\n    print(f\"{name_df}:\\n{sum(df['melanoma'])/df.shape[0]*100} %\\n\")",
      "execution_count": null,
      "outputs": [
        {
          "name": "stdout",
          "text": "train:\n18.7 %\n\nvalidate:\n20.0 %\n\ntest:\n19.5 %\n\n",
          "output_type": "stream"
        }
      ]
    },
    {
      "cell_type": "markdown",
      "source": "<h4 style=\"color:#ff9900\">How many keratosis examples are there?</h4>",
      "metadata": {
        "tags": [],
        "cell_id": "00021-86195405-d7bd-487f-99eb-53e97ea710b6",
        "deepnote_cell_type": "markdown"
      }
    },
    {
      "cell_type": "code",
      "metadata": {
        "tags": [],
        "deepnote_to_be_reexecuted": false,
        "source_hash": "4eabe9d8",
        "execution_millis": 19,
        "cell_id": "00022-01fb5ec2-30f7-4a9d-bc86-f021dccc8d4d",
        "execution_start": 1619027247462,
        "deepnote_cell_type": "code"
      },
      "source": "for name_df, df in all_dfs_raw.items():\n    print(f\"{name_df}:\\n{sum(df['seborrheic_keratosis'])/df.shape[0]*100} %\\n\")",
      "execution_count": null,
      "outputs": [
        {
          "name": "stdout",
          "text": "train:\n12.7 %\n\nvalidate:\n28.000000000000004 %\n\ntest:\n15.0 %\n\n",
          "output_type": "stream"
        }
      ]
    },
    {
      "cell_type": "markdown",
      "source": "<h4 style=\"color:#ff9900\">How many healthy examples are there?</h4>",
      "metadata": {
        "tags": [],
        "cell_id": "00023-78f9c790-d8f7-4dd3-be9f-867dfe75c6b9",
        "deepnote_cell_type": "markdown"
      }
    },
    {
      "cell_type": "code",
      "metadata": {
        "tags": [],
        "deepnote_to_be_reexecuted": false,
        "source_hash": "963669",
        "execution_millis": 18,
        "cell_id": "00024-03f85b0c-d878-4249-8565-a78ac6e79bbd",
        "execution_start": 1619027247463,
        "deepnote_cell_type": "code"
      },
      "source": "for name_df, df in all_dfs_raw.items():\n    healthy = 1 - (sum(df['seborrheic_keratosis'])/df.shape[0] +  sum(df['melanoma'])/df.shape[0])\n    print(f\"{name_df}:\\n{healthy*100} %\\n\")",
      "execution_count": null,
      "outputs": [
        {
          "name": "stdout",
          "text": "train:\n68.6 %\n\nvalidate:\n52.0 %\n\ntest:\n65.5 %\n\n",
          "output_type": "stream"
        }
      ]
    },
    {
      "cell_type": "markdown",
      "source": "<h3 style=\"color:green\">Merge all the datasets into one</h3>",
      "metadata": {
        "tags": [],
        "cell_id": "00025-460161a6-9263-4bb0-b385-6d8f8125660f",
        "deepnote_cell_type": "markdown"
      }
    },
    {
      "cell_type": "code",
      "metadata": {
        "tags": [],
        "deepnote_to_be_reexecuted": false,
        "source_hash": "419522ee",
        "execution_millis": 48,
        "cell_id": "00026-4e8e7250-800c-4830-8d7a-3f4c0402607e",
        "execution_start": 1619027247464,
        "deepnote_cell_type": "code"
      },
      "source": "all_data = all_dfs_raw[\"train\"].append(all_dfs_raw[\"validate\"], ignore_index=True).append(all_dfs_raw[\"test\"], ignore_index=True)\n\n# Make sure index is from 0 to N - 1\nall_data.reset_index(drop=True, inplace=True)\n\n# Show the shape\nall_data.shape",
      "execution_count": null,
      "outputs": [
        {
          "output_type": "execute_result",
          "execution_count": 11,
          "data": {
            "text/plain": "(2750, 3)"
          },
          "metadata": {}
        }
      ]
    },
    {
      "cell_type": "markdown",
      "source": "<h4 style=\"color:#ff9900\">Are all image IDs unique?</h4>",
      "metadata": {
        "tags": [],
        "cell_id": "00027-66f13faf-2c83-4f16-ac15-e1394e7d7545",
        "deepnote_cell_type": "markdown"
      }
    },
    {
      "cell_type": "code",
      "metadata": {
        "tags": [],
        "deepnote_to_be_reexecuted": false,
        "source_hash": "79533ca5",
        "execution_millis": 32,
        "cell_id": "00028-3240d962-6b05-412d-90cf-15cfee870239",
        "execution_start": 1619027247507,
        "deepnote_cell_type": "code"
      },
      "source": "unique_ids_count = len(pd.unique(all_data[\"image_id\"]))\nunique_ids_count == all_data.shape[0]",
      "execution_count": null,
      "outputs": [
        {
          "output_type": "execute_result",
          "execution_count": 12,
          "data": {
            "text/plain": "True"
          },
          "metadata": {}
        }
      ]
    },
    {
      "cell_type": "markdown",
      "source": "<h4 style=\"color:#ff9900\">Is index of DF corresponding to our expectation? (Important for next step)</h4>",
      "metadata": {
        "tags": [],
        "cell_id": "00029-2e4f0be3-dcef-4585-9489-f4f0606cf423",
        "deepnote_cell_type": "markdown"
      }
    },
    {
      "cell_type": "code",
      "metadata": {
        "tags": [],
        "deepnote_to_be_reexecuted": false,
        "source_hash": "181aef7d",
        "execution_millis": 69,
        "cell_id": "00030-709f3a2a-19f1-4396-834f-190b307c2efc",
        "execution_start": 1619027247533,
        "deepnote_cell_type": "code"
      },
      "source": "current_indices = all_data.index.to_list()\nexpected_indices = [i for i in range(all_data.shape[0])]\ncurrent_indices == expected_indices",
      "execution_count": null,
      "outputs": [
        {
          "output_type": "execute_result",
          "execution_count": 13,
          "data": {
            "text/plain": "True"
          },
          "metadata": {}
        }
      ]
    },
    {
      "cell_type": "markdown",
      "source": "<h3 style=\"color:green\">Add meta data</h3>",
      "metadata": {
        "tags": [],
        "cell_id": "00031-f923f15b-1a51-4b9f-b211-30e9b75f8323",
        "deepnote_cell_type": "markdown"
      }
    },
    {
      "cell_type": "code",
      "metadata": {
        "tags": [],
        "deepnote_to_be_reexecuted": false,
        "source_hash": "e3947bf2",
        "execution_millis": 33866,
        "cell_id": "00032-dda22fc0-5897-45c3-86d5-ca7a74c07615",
        "execution_start": 1619027247591,
        "deepnote_cell_type": "code"
      },
      "source": "all_data = getImageMetaData(all_data)",
      "execution_count": null,
      "outputs": []
    },
    {
      "cell_type": "code",
      "metadata": {
        "tags": [],
        "deepnote_to_be_reexecuted": false,
        "source_hash": "a9cbe14",
        "execution_millis": 55,
        "cell_id": "00033-3a50278d-3d73-44b4-8496-f3cecb147f24",
        "execution_start": 1619027281458,
        "deepnote_cell_type": "code"
      },
      "source": "# Check against missing values\nall_data.isnull().sum()",
      "execution_count": null,
      "outputs": [
        {
          "output_type": "execute_result",
          "execution_count": 15,
          "data": {
            "text/plain": "image_id                0\nmelanoma                0\nseborrheic_keratosis    0\ndb_id                   0\nsize_x                  0\nsize_y                  0\ndtype: int64"
          },
          "metadata": {}
        }
      ]
    },
    {
      "cell_type": "markdown",
      "source": "<h3 style=\"color:green\">Filter out too large images</h3>",
      "metadata": {
        "tags": [],
        "cell_id": "00034-83a4eea1-f2cd-46b8-b02c-8a40aeb83513",
        "deepnote_cell_type": "markdown"
      }
    },
    {
      "cell_type": "code",
      "metadata": {
        "tags": [],
        "deepnote_to_be_reexecuted": false,
        "source_hash": "71e94bc1",
        "execution_millis": 54,
        "cell_id": "00035-a4f8ce09-677b-4aa1-a129-fe81ce1c9e41",
        "execution_start": 1619027281459,
        "deepnote_cell_type": "code"
      },
      "source": "mask_x = all_data[\"size_x\"] <= 3200\nmask_y = all_data[\"size_y\"] <= 2100\nall_data = all_data[mask_x & mask_y]\nsum(all_data[\"seborrheic_keratosis\"])",
      "execution_count": null,
      "outputs": [
        {
          "output_type": "execute_result",
          "execution_count": 16,
          "data": {
            "text/plain": "193.0"
          },
          "metadata": {}
        }
      ]
    },
    {
      "cell_type": "code",
      "metadata": {
        "tags": [],
        "cell_id": "00036-853c127f-0c6b-4048-9490-145a94546d7a",
        "deepnote_to_be_reexecuted": false,
        "source_hash": "c37482a8",
        "execution_millis": 44,
        "execution_start": 1619034402969,
        "deepnote_cell_type": "code"
      },
      "source": "FEATURES=pd.read_csv(f\"{PATH_DATA['processed']}{'model_balanced.csv'}\")\nFEATURES.keys()[3:]",
      "execution_count": null,
      "outputs": [
        {
          "output_type": "execute_result",
          "execution_count": 26,
          "data": {
            "text/plain": "Index(['compactness', 'assymetry', 'border_irr', 'color_spread'], dtype='object')"
          },
          "metadata": {}
        }
      ]
    },
    {
      "cell_type": "markdown",
      "source": "<h3 style=\"color:green\">Sample from all data</h3>",
      "metadata": {
        "tags": [],
        "cell_id": "00036-0bebde83-cb6f-43ec-90a7-3649b92b9c2a",
        "deepnote_cell_type": "markdown"
      }
    },
    {
      "cell_type": "code",
      "metadata": {
        "tags": [],
        "deepnote_to_be_reexecuted": false,
        "source_hash": "20d8b3f4",
        "execution_millis": 45,
        "cell_id": "00037-537fb5e2-9ae7-41a4-af04-ae7b372216b1",
        "execution_start": 1619034414561,
        "deepnote_cell_type": "code"
      },
      "source": "sampled_data = sampleFromAllData(all_data, N = 100, cancer_frac = 0.5)",
      "execution_count": null,
      "outputs": [
        {
          "output_type": "error",
          "ename": "TypeError",
          "evalue": "sampleFromAllData() missing 1 required positional argument: 'cancer_type'",
          "traceback": [
            "\u001b[0;31m---------------------------------------------------------------------------\u001b[0m",
            "\u001b[0;31mTypeError\u001b[0m                                 Traceback (most recent call last)",
            "\u001b[0;32m<ipython-input-27-622938a188ca>\u001b[0m in \u001b[0;36m<module>\u001b[0;34m\u001b[0m\n\u001b[0;32m----> 1\u001b[0;31m \u001b[0msampled_data\u001b[0m \u001b[0;34m=\u001b[0m \u001b[0msampleFromAllData\u001b[0m\u001b[0;34m(\u001b[0m\u001b[0mall_data\u001b[0m\u001b[0;34m,\u001b[0m \u001b[0mN\u001b[0m \u001b[0;34m=\u001b[0m \u001b[0;36m100\u001b[0m\u001b[0;34m,\u001b[0m \u001b[0mcancer_frac\u001b[0m \u001b[0;34m=\u001b[0m \u001b[0;36m0.5\u001b[0m\u001b[0;34m)\u001b[0m\u001b[0;34m\u001b[0m\u001b[0;34m\u001b[0m\u001b[0m\n\u001b[0m",
            "\u001b[0;31mTypeError\u001b[0m: sampleFromAllData() missing 1 required positional argument: 'cancer_type'"
          ]
        }
      ]
    },
    {
      "cell_type": "code",
      "metadata": {
        "tags": [],
        "cell_id": "00039-edc94f29-3309-4285-b34a-aa2da2986a9d",
        "deepnote_cell_type": "code"
      },
      "source": "# TESTDF_kera=FEATURES\n# TESTDF_mela=FEATURES\n# TESTDF_kera=TESTDF_kera.drop('melanoma', axis=1)\n# TESTDF_mela=TESTDF_mela.drop('keratosis', axis=1)\n# TESTDF_mela=TESTDF_mela[FEATURES['melanoma']==1]\n# TESTDF_kera=TESTDF_kera[FEATURES['keratosis']==1]\n# for i in list(FEATURES.keys()[3:]):\n#     TESTDF_mela_comp=pd.DataFrame(TESTDF_mela[i])\n#     TESTDF_kera_comp=pd.DataFrame(TESTDF_kera[i])\n#     TESTDF_mela_comp.reset_index(drop=True, inplace=True)\n#     TESTDF_kera_comp.reset_index(drop=True, inplace=True)\n#     TESTDF_mela_comp=TESTDF_mela_comp.rename(columns={i: 'Melanoma_'+i})\n#     TESTDF_kera_comp=TESTDF_kera_comp.rename(columns={i: 'Keratosis_'+i})\n#     PLOTDATA=pd.concat([TESTDF_mela_comp,TESTDF_kera_comp], axis=1)\n#     sns.pairplot(data=PLOTDATA)",
      "execution_count": null,
      "outputs": []
    },
    {
      "cell_type": "code",
      "metadata": {
        "tags": [],
        "cell_id": "00040-2a0ce485-42de-4790-83e6-3b7efe37b347",
        "deepnote_to_be_reexecuted": false,
        "source_hash": "ba083063",
        "execution_start": 1619035506462,
        "execution_millis": 1333,
        "deepnote_cell_type": "code"
      },
      "source": "TESTDF_kera=FEATURES\nTESTDF_mela=FEATURES\nTESTDF_kera=TESTDF_kera.drop('melanoma', axis=1)\nTESTDF_mela=TESTDF_mela.drop('keratosis', axis=1)\nTESTDF_mela=TESTDF_mela[FEATURES['melanoma']==1]\nTESTDF_kera=TESTDF_kera[FEATURES['keratosis']==1]\nfig, axs= plt.subplots(2,2)\nfig.set_size_inches(10, 10)\ncount=0\nfor i in range(2):\n    for x in range(2):\n        Feat=FEATURES.keys()[3:][count]\n        count+=1\n        TESTDF_mela_feat=pd.DataFrame(TESTDF_mela[Feat])\n        TESTDF_kera_feat=pd.DataFrame(TESTDF_kera[Feat])\n        axs[i,x].set_xticklabels([])\n        axs[i,x].set_xticklabels([])\n        axs[i,x].scatter(range(len(TESTDF_kera_feat)),TESTDF_kera_feat,label='Keratosis')\n        axs[i,x].scatter(range(len(TESTDF_mela_feat)),TESTDF_mela_feat,label='Melanoma')\n        axs[i,x].legend()\n        axs[i,x].set_ylabel(Feat)",
      "execution_count": null,
      "outputs": [
        {
          "data": {
            "text/plain": "<Figure size 720x720 with 4 Axes>",
            "image/png": "[encoded data removed]"
          },
          "metadata": {
            "needs_background": "light"
          },
          "output_type": "display_data"
        }
      ]
    },
    {
      "cell_type": "markdown",
      "source": "# Pair plot",
      "metadata": {
        "tags": [],
        "cell_id": "00039-5577fbe0-0a7a-477c-be39-d45f030cb791",
        "deepnote_cell_type": "markdown"
      }
    },
    {
      "cell_type": "code",
      "metadata": {
        "tags": [],
        "cell_id": "00038-392159c2-cd25-4307-ac43-6dbda15f5612",
        "deepnote_to_be_reexecuted": false,
        "source_hash": "e9a5e761",
        "execution_millis": 7959,
        "execution_start": 1619034491767,
        "deepnote_cell_type": "code"
      },
      "source": "sns.pairplot(data=FEATURES, vars=list(FEATURES.columns[3:]),height=3, hue='melanoma',plot_kws={'alpha':0.5});",
      "execution_count": null,
      "outputs": [
        {
          "data": {
            "text/plain": "<Figure size 924.875x864 with 20 Axes>",
            "image/png": "[encoded data removed]"
          },
          "metadata": {
            "needs_background": "light"
          },
          "output_type": "display_data"
        }
      ]
    },
    {
      "cell_type": "code",
      "metadata": {
        "tags": [],
        "deepnote_to_be_reexecuted": true,
        "source_hash": "dff8f44b",
        "execution_millis": 145,
        "cell_id": "00038-521bee59-73ee-4e4e-af3f-c94d4ae869f2",
        "deepnote_cell_type": "code"
      },
      "source": "FEATURES",
      "execution_count": null,
      "outputs": [
        {
          "output_type": "execute_result",
          "execution_count": 81,
          "data": {
            "application/vnd.deepnote.dataframe.v2+json": {
              "row_count": 100,
              "column_count": 6,
              "columns": [
                {
                  "name": "melanoma",
                  "dtype": "float64",
                  "stats": {
                    "unique_count": 2,
                    "nan_count": 0,
                    "min": "0.0",
                    "max": "1.0",
                    "histogram": [
                      {
                        "bin_start": 0,
                        "bin_end": 0.1,
                        "count": 50
                      },
                      {
                        "bin_start": 0.1,
                        "bin_end": 0.2,
                        "count": 0
                      },
                      {
                        "bin_start": 0.2,
                        "bin_end": 0.30000000000000004,
                        "count": 0
                      },
                      {
                        "bin_start": 0.30000000000000004,
                        "bin_end": 0.4,
                        "count": 0
                      },
                      {
                        "bin_start": 0.4,
                        "bin_end": 0.5,
                        "count": 0
                      },
                      {
                        "bin_start": 0.5,
                        "bin_end": 0.6000000000000001,
                        "count": 0
                      },
                      {
                        "bin_start": 0.6000000000000001,
                        "bin_end": 0.7000000000000001,
                        "count": 0
                      },
                      {
                        "bin_start": 0.7000000000000001,
                        "bin_end": 0.8,
                        "count": 0
                      },
                      {
                        "bin_start": 0.8,
                        "bin_end": 0.9,
                        "count": 0
                      },
                      {
                        "bin_start": 0.9,
                        "bin_end": 1,
                        "count": 50
                      }
                    ]
                  }
                },
                {
                  "name": "keratosis",
                  "dtype": "float64",
                  "stats": {
                    "unique_count": 2,
                    "nan_count": 0,
                    "min": "0.0",
                    "max": "1.0",
                    "histogram": [
                      {
                        "bin_start": 0,
                        "bin_end": 0.1,
                        "count": 50
                      },
                      {
                        "bin_start": 0.1,
                        "bin_end": 0.2,
                        "count": 0
                      },
                      {
                        "bin_start": 0.2,
                        "bin_end": 0.30000000000000004,
                        "count": 0
                      },
                      {
                        "bin_start": 0.30000000000000004,
                        "bin_end": 0.4,
                        "count": 0
                      },
                      {
                        "bin_start": 0.4,
                        "bin_end": 0.5,
                        "count": 0
                      },
                      {
                        "bin_start": 0.5,
                        "bin_end": 0.6000000000000001,
                        "count": 0
                      },
                      {
                        "bin_start": 0.6000000000000001,
                        "bin_end": 0.7000000000000001,
                        "count": 0
                      },
                      {
                        "bin_start": 0.7000000000000001,
                        "bin_end": 0.8,
                        "count": 0
                      },
                      {
                        "bin_start": 0.8,
                        "bin_end": 0.9,
                        "count": 0
                      },
                      {
                        "bin_start": 0.9,
                        "bin_end": 1,
                        "count": 50
                      }
                    ]
                  }
                },
                {
                  "name": "compactness",
                  "dtype": "float64",
                  "stats": {
                    "unique_count": 100,
                    "nan_count": 0,
                    "min": "-0.251607614451466",
                    "max": "8.565928798219273",
                    "histogram": [
                      {
                        "bin_start": -0.251607614451466,
                        "bin_end": 0.6301460268156078,
                        "count": 95
                      },
                      {
                        "bin_start": 0.6301460268156078,
                        "bin_end": 1.5118996680826817,
                        "count": 2
                      },
                      {
                        "bin_start": 1.5118996680826817,
                        "bin_end": 2.3936533093497556,
                        "count": 0
                      },
                      {
                        "bin_start": 2.3936533093497556,
                        "bin_end": 3.2754069506168295,
                        "count": 1
                      },
                      {
                        "bin_start": 3.2754069506168295,
                        "bin_end": 4.157160591883904,
                        "count": 1
                      },
                      {
                        "bin_start": 4.157160591883904,
                        "bin_end": 5.038914233150978,
                        "count": 0
                      },
                      {
                        "bin_start": 5.038914233150978,
                        "bin_end": 5.920667874418052,
                        "count": 0
                      },
                      {
                        "bin_start": 5.920667874418052,
                        "bin_end": 6.8024215156851255,
                        "count": 0
                      },
                      {
                        "bin_start": 6.8024215156851255,
                        "bin_end": 7.684175156952199,
                        "count": 0
                      },
                      {
                        "bin_start": 7.684175156952199,
                        "bin_end": 8.565928798219273,
                        "count": 1
                      }
                    ]
                  }
                },
                {
                  "name": "assymetry",
                  "dtype": "float64",
                  "stats": {
                    "unique_count": 100,
                    "nan_count": 0,
                    "min": "-0.8952013725967435",
                    "max": "4.950306766951953",
                    "histogram": [
                      {
                        "bin_start": -0.8952013725967435,
                        "bin_end": -0.31065055864187385,
                        "count": 55
                      },
                      {
                        "bin_start": -0.31065055864187385,
                        "bin_end": 0.2739002553129958,
                        "count": 19
                      },
                      {
                        "bin_start": 0.2739002553129958,
                        "bin_end": 0.8584510692678654,
                        "count": 10
                      },
                      {
                        "bin_start": 0.8584510692678654,
                        "bin_end": 1.4430018832227351,
                        "count": 6
                      },
                      {
                        "bin_start": 1.4430018832227351,
                        "bin_end": 2.027552697177605,
                        "count": 4
                      },
                      {
                        "bin_start": 2.027552697177605,
                        "bin_end": 2.6121035111324744,
                        "count": 4
                      },
                      {
                        "bin_start": 2.6121035111324744,
                        "bin_end": 3.196654325087344,
                        "count": 1
                      },
                      {
                        "bin_start": 3.196654325087344,
                        "bin_end": 3.7812051390422137,
                        "count": 0
                      },
                      {
                        "bin_start": 3.7812051390422137,
                        "bin_end": 4.365755952997083,
                        "count": 0
                      },
                      {
                        "bin_start": 4.365755952997083,
                        "bin_end": 4.950306766951953,
                        "count": 1
                      }
                    ]
                  }
                },
                {
                  "name": "border_irr",
                  "dtype": "float64",
                  "stats": {
                    "unique_count": 100,
                    "nan_count": 0,
                    "min": "-2.3224369546324035",
                    "max": "2.252816705337323",
                    "histogram": [
                      {
                        "bin_start": -2.3224369546324035,
                        "bin_end": -1.8649115886354308,
                        "count": 2
                      },
                      {
                        "bin_start": -1.8649115886354308,
                        "bin_end": -1.4073862226384581,
                        "count": 6
                      },
                      {
                        "bin_start": -1.4073862226384581,
                        "bin_end": -0.9498608566414855,
                        "count": 10
                      },
                      {
                        "bin_start": -0.9498608566414855,
                        "bin_end": -0.49233549064451276,
                        "count": 14
                      },
                      {
                        "bin_start": -0.49233549064451276,
                        "bin_end": -0.034810124647540075,
                        "count": 21
                      },
                      {
                        "bin_start": -0.034810124647540075,
                        "bin_end": 0.4227152413494326,
                        "count": 15
                      },
                      {
                        "bin_start": 0.4227152413494326,
                        "bin_end": 0.8802406073464053,
                        "count": 7
                      },
                      {
                        "bin_start": 0.8802406073464053,
                        "bin_end": 1.337765973343378,
                        "count": 15
                      },
                      {
                        "bin_start": 1.337765973343378,
                        "bin_end": 1.7952913393403507,
                        "count": 6
                      },
                      {
                        "bin_start": 1.7952913393403507,
                        "bin_end": 2.252816705337323,
                        "count": 4
                      }
                    ]
                  }
                },
                {
                  "name": "color_spread",
                  "dtype": "float64",
                  "stats": {
                    "unique_count": 100,
                    "nan_count": 0,
                    "min": "-0.939342861283741",
                    "max": "4.023943188374556",
                    "histogram": [
                      {
                        "bin_start": -0.939342861283741,
                        "bin_end": -0.4430142563179113,
                        "count": 41
                      },
                      {
                        "bin_start": -0.4430142563179113,
                        "bin_end": 0.0533143486479184,
                        "count": 26
                      },
                      {
                        "bin_start": 0.0533143486479184,
                        "bin_end": 0.549642953613748,
                        "count": 15
                      },
                      {
                        "bin_start": 0.549642953613748,
                        "bin_end": 1.045971558579578,
                        "count": 6
                      },
                      {
                        "bin_start": 1.045971558579578,
                        "bin_end": 1.5423001635454074,
                        "count": 5
                      },
                      {
                        "bin_start": 1.5423001635454074,
                        "bin_end": 2.038628768511237,
                        "count": 2
                      },
                      {
                        "bin_start": 2.038628768511237,
                        "bin_end": 2.534957373477067,
                        "count": 1
                      },
                      {
                        "bin_start": 2.534957373477067,
                        "bin_end": 3.0312859784428965,
                        "count": 0
                      },
                      {
                        "bin_start": 3.0312859784428965,
                        "bin_end": 3.5276145834087265,
                        "count": 2
                      },
                      {
                        "bin_start": 3.5276145834087265,
                        "bin_end": 4.023943188374556,
                        "count": 2
                      }
                    ]
                  }
                },
                {
                  "name": "_deepnote_index_column",
                  "dtype": "int64"
                }
              ],
              "rows_top": [
                {
                  "melanoma": 1,
                  "keratosis": 0,
                  "compactness": -0.21880906463214223,
                  "assymetry": -0.6581222810042536,
                  "border_irr": -1.7195478490730878,
                  "color_spread": -0.07107709353498463,
                  "_deepnote_index_column": 0
                },
                {
                  "melanoma": 0,
                  "keratosis": 1,
                  "compactness": -0.18266049618056712,
                  "assymetry": -0.8864122254785657,
                  "border_irr": 1.9436696155221604,
                  "color_spread": -0.2866170130207314,
                  "_deepnote_index_column": 1
                },
                {
                  "melanoma": 1,
                  "keratosis": 0,
                  "compactness": -0.24580021651651515,
                  "assymetry": -0.8755688680123778,
                  "border_irr": 0.38867235731211175,
                  "color_spread": -0.0330254699988807,
                  "_deepnote_index_column": 2
                },
                {
                  "melanoma": 0,
                  "keratosis": 1,
                  "compactness": 0.8170676603283188,
                  "assymetry": -0.6221827504609692,
                  "border_irr": 1.8444240359493818,
                  "color_spread": -0.7709882640539402,
                  "_deepnote_index_column": 3
                },
                {
                  "melanoma": 0,
                  "keratosis": 1,
                  "compactness": -0.24251238646513956,
                  "assymetry": -0.8711228067644985,
                  "border_irr": -0.4693045187533529,
                  "color_spread": -0.8920392318894594,
                  "_deepnote_index_column": 4
                },
                {
                  "melanoma": 1,
                  "keratosis": 0,
                  "compactness": -0.1622307229282533,
                  "assymetry": 0.002239779881590646,
                  "border_irr": 1.489920343418639,
                  "color_spread": 0.782567168733238,
                  "_deepnote_index_column": 5
                },
                {
                  "melanoma": 1,
                  "keratosis": 0,
                  "compactness": -0.20563406932134803,
                  "assymetry": -0.011318246588716368,
                  "border_irr": -0.23395298130017506,
                  "color_spread": 0.23907810103071545,
                  "_deepnote_index_column": 6
                },
                {
                  "melanoma": 0,
                  "keratosis": 1,
                  "compactness": -0.1874071334470737,
                  "assymetry": -0.5410321396945204,
                  "border_irr": -1.4241493736907058,
                  "color_spread": 0.004584577101670744,
                  "_deepnote_index_column": 7
                },
                {
                  "melanoma": 0,
                  "keratosis": 1,
                  "compactness": -0.23516645700272748,
                  "assymetry": -0.34398485398210793,
                  "border_irr": -1.3607465257556355,
                  "color_spread": -0.738907898520142,
                  "_deepnote_index_column": 8
                },
                {
                  "melanoma": 1,
                  "keratosis": 0,
                  "compactness": -0.2251329142694442,
                  "assymetry": 2.6184985696394336,
                  "border_irr": -1.2541700446110249,
                  "color_spread": -0.7412628259953326,
                  "_deepnote_index_column": 9
                },
                {
                  "melanoma": 1,
                  "keratosis": 0,
                  "compactness": -0.17682395721211702,
                  "assymetry": -0.7022075434899987,
                  "border_irr": 0.8911512340697605,
                  "color_spread": -0.37713566121856396,
                  "_deepnote_index_column": 10
                },
                {
                  "melanoma": 0,
                  "keratosis": 1,
                  "compactness": -0.24262687280163128,
                  "assymetry": -0.48637019665050446,
                  "border_irr": -0.2369315697876148,
                  "color_spread": -0.5641304605087101,
                  "_deepnote_index_column": 11
                },
                {
                  "melanoma": 1,
                  "keratosis": 0,
                  "compactness": -0.20130862226691262,
                  "assymetry": -0.7978993959333166,
                  "border_irr": -1.1955228402536406,
                  "color_spread": -0.6572528530554619,
                  "_deepnote_index_column": 12
                },
                {
                  "melanoma": 0,
                  "keratosis": 1,
                  "compactness": -0.2371327015380928,
                  "assymetry": -0.7082416050442357,
                  "border_irr": 0.9231963019533662,
                  "color_spread": -0.2711944173141152,
                  "_deepnote_index_column": 13
                },
                {
                  "melanoma": 1,
                  "keratosis": 0,
                  "compactness": -0.2480861137313059,
                  "assymetry": -0.8598946915006982,
                  "border_irr": 0.9414541323202527,
                  "color_spread": 1.2861345689332098,
                  "_deepnote_index_column": 14
                },
                {
                  "melanoma": 1,
                  "keratosis": 0,
                  "compactness": -0.14188976739436213,
                  "assymetry": 0.8049523657991277,
                  "border_irr": 1.0638406409228363,
                  "color_spread": 0.798333024215861,
                  "_deepnote_index_column": 15
                },
                {
                  "melanoma": 0,
                  "keratosis": 1,
                  "compactness": -0.24632758395971074,
                  "assymetry": 1.0452309787978111,
                  "border_irr": 0.2621500062126288,
                  "color_spread": -0.7128501494458924,
                  "_deepnote_index_column": 16
                },
                {
                  "melanoma": 0,
                  "keratosis": 1,
                  "compactness": 3.6965518840658733,
                  "assymetry": 1.7957810333166542,
                  "border_irr": 1.2459648615860255,
                  "color_spread": 3.056537385540802,
                  "_deepnote_index_column": 17
                },
                {
                  "melanoma": 1,
                  "keratosis": 0,
                  "compactness": -0.22814073694422227,
                  "assymetry": 0.10440568424720599,
                  "border_irr": -0.7312779823220198,
                  "color_spread": -0.7927392332834784,
                  "_deepnote_index_column": 18
                },
                {
                  "melanoma": 1,
                  "keratosis": 0,
                  "compactness": 0.0003415304560552405,
                  "assymetry": 0.29728332157954507,
                  "border_irr": 1.3360602715273147,
                  "color_spread": 0.07239742410108,
                  "_deepnote_index_column": 19
                },
                {
                  "melanoma": 0,
                  "keratosis": 1,
                  "compactness": -0.1897573251829614,
                  "assymetry": -0.5039472586813818,
                  "border_irr": -0.5575709309003943,
                  "color_spread": 0.19369656558031317,
                  "_deepnote_index_column": 20
                },
                {
                  "melanoma": 0,
                  "keratosis": 1,
                  "compactness": -0.16656859171928196,
                  "assymetry": 0.5675837132787831,
                  "border_irr": 1.3048252334249573,
                  "color_spread": 1.393077719289304,
                  "_deepnote_index_column": 21
                },
                {
                  "melanoma": 0,
                  "keratosis": 1,
                  "compactness": -0.24338565293299913,
                  "assymetry": -0.846053547238131,
                  "border_irr": -0.2761852431416509,
                  "color_spread": -0.4957545057129042,
                  "_deepnote_index_column": 22
                },
                {
                  "melanoma": 1,
                  "keratosis": 0,
                  "compactness": -0.21966995925477917,
                  "assymetry": -0.1341661615590854,
                  "border_irr": 1.0466923002003001,
                  "color_spread": -0.17993446448574538,
                  "_deepnote_index_column": 23
                },
                {
                  "melanoma": 0,
                  "keratosis": 1,
                  "compactness": 2.6669522316830636,
                  "assymetry": 0.4717100760703623,
                  "border_irr": -0.31209245575075323,
                  "color_spread": 3.3132695699793127,
                  "_deepnote_index_column": 24
                },
                {
                  "melanoma": 0,
                  "keratosis": 1,
                  "compactness": -0.2409678062065231,
                  "assymetry": 0.9316041315610836,
                  "border_irr": -1.7742671739053333,
                  "color_spread": 0.17773034353016073,
                  "_deepnote_index_column": 25
                },
                {
                  "melanoma": 0,
                  "keratosis": 1,
                  "compactness": -0.1822238539223495,
                  "assymetry": -0.17076874603337286,
                  "border_irr": 1.198697859487839,
                  "color_spread": -0.8974479949449387,
                  "_deepnote_index_column": 26
                },
                {
                  "melanoma": 0,
                  "keratosis": 1,
                  "compactness": -0.1718637019667249,
                  "assymetry": -0.08182255576221642,
                  "border_irr": 0.6806994108313169,
                  "color_spread": -0.8698232766544661,
                  "_deepnote_index_column": 27
                },
                {
                  "melanoma": 1,
                  "keratosis": 0,
                  "compactness": -0.18618081512255846,
                  "assymetry": 0.43136499142573376,
                  "border_irr": -0.6581117151280088,
                  "color_spread": -0.436812585351896,
                  "_deepnote_index_column": 28
                },
                {
                  "melanoma": 0,
                  "keratosis": 1,
                  "compactness": -0.23097072465490487,
                  "assymetry": -0.8662509507737658,
                  "border_irr": -1.0745152343263336,
                  "color_spread": -0.5569488585630804,
                  "_deepnote_index_column": 29
                },
                {
                  "melanoma": 0,
                  "keratosis": 1,
                  "compactness": -0.215145523545396,
                  "assymetry": 2.1344377427908983,
                  "border_irr": -1.7010417314960595,
                  "color_spread": -0.4535704348065328,
                  "_deepnote_index_column": 30
                },
                {
                  "melanoma": 1,
                  "keratosis": 0,
                  "compactness": -0.16973363184418344,
                  "assymetry": -0.8502056635849367,
                  "border_irr": 0.37681921649199335,
                  "color_spread": -0.5059241652425402,
                  "_deepnote_index_column": 31
                },
                {
                  "melanoma": 1,
                  "keratosis": 0,
                  "compactness": -0.24252471170664125,
                  "assymetry": -0.6782506538989463,
                  "border_irr": -0.5816656239760544,
                  "color_spread": 0.3926200958607578,
                  "_deepnote_index_column": 32
                },
                {
                  "melanoma": 1,
                  "keratosis": 0,
                  "compactness": -0.24644850258603923,
                  "assymetry": -0.5216770619057932,
                  "border_irr": 0.412748318653415,
                  "color_spread": -0.286690565781781,
                  "_deepnote_index_column": 33
                },
                {
                  "melanoma": 0,
                  "keratosis": 1,
                  "compactness": -0.21740290156019498,
                  "assymetry": 2.5456422574540913,
                  "border_irr": -2.3224369546324035,
                  "color_spread": -0.939342861283741,
                  "_deepnote_index_column": 34
                },
                {
                  "melanoma": 1,
                  "keratosis": 0,
                  "compactness": -0.2173514198862303,
                  "assymetry": 0.6871132811386368,
                  "border_irr": 2.252816705337323,
                  "color_spread": 0.3475404072130484,
                  "_deepnote_index_column": 35
                },
                {
                  "melanoma": 0,
                  "keratosis": 1,
                  "compactness": -0.22390423643820115,
                  "assymetry": -0.44583738443371407,
                  "border_irr": -1.1282228981041678,
                  "color_spread": -0.2829567137711159,
                  "_deepnote_index_column": 36
                },
                {
                  "melanoma": 1,
                  "keratosis": 0,
                  "compactness": -0.1663661875273084,
                  "assymetry": 0.9266830453006099,
                  "border_irr": 0.7636456584869248,
                  "color_spread": -0.32491066122491497,
                  "_deepnote_index_column": 37
                },
                {
                  "melanoma": 1,
                  "keratosis": 0,
                  "compactness": -0.17346072106889535,
                  "assymetry": 0.16259193128333557,
                  "border_irr": -0.6647500548894932,
                  "color_spread": -0.3621825209355109,
                  "_deepnote_index_column": 38
                },
                {
                  "melanoma": 1,
                  "keratosis": 0,
                  "compactness": -0.2271755355162549,
                  "assymetry": -0.8519583518040407,
                  "border_irr": -0.09709171097619199,
                  "color_spread": 0.0501394233557213,
                  "_deepnote_index_column": 39
                },
                {
                  "melanoma": 0,
                  "keratosis": 1,
                  "compactness": -0.17984603409022534,
                  "assymetry": -0.8952013725967435,
                  "border_irr": 1.4469046189642338,
                  "color_spread": -0.1543902102424974,
                  "_deepnote_index_column": 40
                },
                {
                  "melanoma": 1,
                  "keratosis": 0,
                  "compactness": -0.23680096903356518,
                  "assymetry": 0.7937089537140996,
                  "border_irr": 0.6208750680896507,
                  "color_spread": -0.7225941667059582,
                  "_deepnote_index_column": 41
                },
                {
                  "melanoma": 1,
                  "keratosis": 0,
                  "compactness": -0.24177455922577837,
                  "assymetry": -0.8645471535005549,
                  "border_irr": -1.3225571113033125,
                  "color_spread": -0.5679264982274492,
                  "_deepnote_index_column": 42
                },
                {
                  "melanoma": 1,
                  "keratosis": 0,
                  "compactness": -0.24863935206389037,
                  "assymetry": -0.647295197681275,
                  "border_irr": -0.11802238278187231,
                  "color_spread": 0.7685756496657393,
                  "_deepnote_index_column": 43
                },
                {
                  "melanoma": 1,
                  "keratosis": 0,
                  "compactness": -0.2406629233517274,
                  "assymetry": -0.7354626641850632,
                  "border_irr": -0.2843230442792633,
                  "color_spread": 1.2852121853487426,
                  "_deepnote_index_column": 44
                },
                {
                  "melanoma": 0,
                  "keratosis": 1,
                  "compactness": -0.1562788691666632,
                  "assymetry": 0.2064507396450477,
                  "border_irr": 0.6500223364667524,
                  "color_spread": -0.5598410068930016,
                  "_deepnote_index_column": 45
                },
                {
                  "melanoma": 1,
                  "keratosis": 0,
                  "compactness": -0.24111882927159578,
                  "assymetry": -0.36785168859973766,
                  "border_irr": 0.6642304705372024,
                  "color_spread": -0.018100887737771354,
                  "_deepnote_index_column": 46
                },
                {
                  "melanoma": 0,
                  "keratosis": 1,
                  "compactness": -0.251607614451466,
                  "assymetry": -0.6851617245222343,
                  "border_irr": 1.1662385406181561,
                  "color_spread": -0.6051906733676804,
                  "_deepnote_index_column": 47
                },
                {
                  "melanoma": 1,
                  "keratosis": 0,
                  "compactness": 8.565928798219273,
                  "assymetry": 0.2016927360517831,
                  "border_irr": 0.6392605700053675,
                  "color_spread": 3.938153843418367,
                  "_deepnote_index_column": 48
                },
                {
                  "melanoma": 1,
                  "keratosis": 0,
                  "compactness": -0.24482557300665242,
                  "assymetry": 1.809703252470294,
                  "border_irr": 0.06628987181253979,
                  "color_spread": -0.30897664128531493,
                  "_deepnote_index_column": 49
                },
                {
                  "melanoma": 0,
                  "keratosis": 1,
                  "compactness": -0.24704531241598823,
                  "assymetry": 0.16422252827234093,
                  "border_irr": -0.8165888985940492,
                  "color_spread": -0.8536777388502598,
                  "_deepnote_index_column": 50
                },
                {
                  "melanoma": 0,
                  "keratosis": 1,
                  "compactness": 0.16526557860491212,
                  "assymetry": 0.8688911536250957,
                  "border_irr": -0.4726762343563626,
                  "color_spread": -0.29685720507762,
                  "_deepnote_index_column": 51
                },
                {
                  "melanoma": 1,
                  "keratosis": 0,
                  "compactness": -0.15878475699118816,
                  "assymetry": -0.7566400422799935,
                  "border_irr": 0.8959606502418906,
                  "color_spread": 0.36083043293690364,
                  "_deepnote_index_column": 52
                },
                {
                  "melanoma": 0,
                  "keratosis": 1,
                  "compactness": -0.15863885066440758,
                  "assymetry": -0.13571148281878587,
                  "border_irr": 0.20803129292452965,
                  "color_spread": -0.8000317621736006,
                  "_deepnote_index_column": 53
                },
                {
                  "melanoma": 1,
                  "keratosis": 0,
                  "compactness": -0.11208757442759677,
                  "assymetry": -0.36794412790740066,
                  "border_irr": 0.1655871699557395,
                  "color_spread": 0.19923099563511315,
                  "_deepnote_index_column": 54
                },
                {
                  "melanoma": 1,
                  "keratosis": 0,
                  "compactness": -0.238618559410227,
                  "assymetry": -0.008797206872523316,
                  "border_irr": -1.09655742979417,
                  "color_spread": -0.8807212254381522,
                  "_deepnote_index_column": 55
                },
                {
                  "melanoma": 1,
                  "keratosis": 0,
                  "compactness": -0.24749423981117402,
                  "assymetry": 0.4947321071381384,
                  "border_irr": -0.611737022870279,
                  "color_spread": -0.550201125500458,
                  "_deepnote_index_column": 56
                },
                {
                  "melanoma": 1,
                  "keratosis": 0,
                  "compactness": -0.19353872151180582,
                  "assymetry": -0.7901758150654293,
                  "border_irr": 1.0352450376709625,
                  "color_spread": 0.7280249399576156,
                  "_deepnote_index_column": 57
                },
                {
                  "melanoma": 0,
                  "keratosis": 1,
                  "compactness": -0.23201480962754953,
                  "assymetry": -0.4953683548930218,
                  "border_irr": 0.1056349340501835,
                  "color_spread": -0.7596795214162848,
                  "_deepnote_index_column": 58
                },
                {
                  "melanoma": 0,
                  "keratosis": 1,
                  "compactness": -0.15115218783308365,
                  "assymetry": -0.5688171085127802,
                  "border_irr": 0.0810765896855755,
                  "color_spread": -0.8052747978157233,
                  "_deepnote_index_column": 59
                },
                {
                  "melanoma": 1,
                  "keratosis": 0,
                  "compactness": -0.2227773990922304,
                  "assymetry": -0.545722836547304,
                  "border_irr": -1.6269942800049244,
                  "color_spread": -0.4797748924869983,
                  "_deepnote_index_column": 60
                },
                {
                  "melanoma": 0,
                  "keratosis": 1,
                  "compactness": 0.19070548903119874,
                  "assymetry": -0.5205341084758669,
                  "border_irr": -0.036395113825498544,
                  "color_spread": -0.25713483691342076,
                  "_deepnote_index_column": 61
                },
                {
                  "melanoma": 0,
                  "keratosis": 1,
                  "compactness": -0.24309636794109304,
                  "assymetry": -0.07384411392242138,
                  "border_irr": -0.699946023011347,
                  "color_spread": -0.8006333476466313,
                  "_deepnote_index_column": 62
                },
                {
                  "melanoma": 0,
                  "keratosis": 1,
                  "compactness": -0.24398356901265938,
                  "assymetry": -0.3765305640904964,
                  "border_irr": -0.17289186851166968,
                  "color_spread": -0.8775038390793899,
                  "_deepnote_index_column": 63
                },
                {
                  "melanoma": 0,
                  "keratosis": 1,
                  "compactness": -0.19235349821938003,
                  "assymetry": 4.950306766951953,
                  "border_irr": -2.079320850568168,
                  "color_spread": -0.8404379701212319,
                  "_deepnote_index_column": 64
                },
                {
                  "melanoma": 0,
                  "keratosis": 1,
                  "compactness": -0.1864510337561027,
                  "assymetry": -0.2869696050960179,
                  "border_irr": -1.6917566155943684,
                  "color_spread": 0.3517659587397349,
                  "_deepnote_index_column": 65
                },
                {
                  "melanoma": 0,
                  "keratosis": 1,
                  "compactness": 0.5211117812775228,
                  "assymetry": -0.8544602468385432,
                  "border_irr": 1.4885319089968254,
                  "color_spread": 0.3485050400674636,
                  "_deepnote_index_column": 66
                },
                {
                  "melanoma": 0,
                  "keratosis": 1,
                  "compactness": -0.24527065167654827,
                  "assymetry": -0.37930549253420465,
                  "border_irr": 0.25087942240027156,
                  "color_spread": 0.698024063576542,
                  "_deepnote_index_column": 67
                },
                {
                  "melanoma": 1,
                  "keratosis": 0,
                  "compactness": -0.24523032786945373,
                  "assymetry": 1.6478618946442936,
                  "border_irr": -1.242417498769326,
                  "color_spread": -0.8149966731129552,
                  "_deepnote_index_column": 68
                },
                {
                  "melanoma": 0,
                  "keratosis": 1,
                  "compactness": -0.24178851384245906,
                  "assymetry": -0.8029515677088398,
                  "border_irr": -0.6951889925215259,
                  "color_spread": -0.12716137486768828,
                  "_deepnote_index_column": 69
                },
                {
                  "melanoma": 0,
                  "keratosis": 1,
                  "compactness": -0.2510795526894398,
                  "assymetry": -0.39442198173835646,
                  "border_irr": 0.25604758012887946,
                  "color_spread": -0.6572726044716243,
                  "_deepnote_index_column": 70
                },
                {
                  "melanoma": 0,
                  "keratosis": 1,
                  "compactness": -0.24440329965406554,
                  "assymetry": 0.5576517524949902,
                  "border_irr": -0.19111202106354683,
                  "color_spread": -0.7687108641060592,
                  "_deepnote_index_column": 71
                },
                {
                  "melanoma": 1,
                  "keratosis": 0,
                  "compactness": -0.2390074064305978,
                  "assymetry": 1.371110135285572,
                  "border_irr": -0.6319059262739268,
                  "color_spread": 1.5404419296857024,
                  "_deepnote_index_column": 72
                },
                {
                  "melanoma": 0,
                  "keratosis": 1,
                  "compactness": 0.6775516624060833,
                  "assymetry": -0.5950878362933211,
                  "border_irr": 1.2857575810807456,
                  "color_spread": -0.26523880548368806,
                  "_deepnote_index_column": 73
                },
                {
                  "melanoma": 0,
                  "keratosis": 1,
                  "compactness": 0.4407391509642271,
                  "assymetry": -0.3027535084787508,
                  "border_irr": 1.3788588562104231,
                  "color_spread": -0.028501440486504104,
                  "_deepnote_index_column": 74
                },
                {
                  "melanoma": 0,
                  "keratosis": 1,
                  "compactness": -0.2379717333666152,
                  "assymetry": 0.735643417083236,
                  "border_irr": -0.9947467868391409,
                  "color_spread": -0.710148544013463,
                  "_deepnote_index_column": 75
                },
                {
                  "melanoma": 1,
                  "keratosis": 0,
                  "compactness": -0.2403466854805384,
                  "assymetry": -0.4370008253552632,
                  "border_irr": 0.5284761907406033,
                  "color_spread": 0.3230366101010434,
                  "_deepnote_index_column": 76
                },
                {
                  "melanoma": 1,
                  "keratosis": 0,
                  "compactness": -0.23521771985789183,
                  "assymetry": -0.49305425448400225,
                  "border_irr": -0.16009813374075169,
                  "color_spread": -0.2551104154275094,
                  "_deepnote_index_column": 77
                },
                {
                  "melanoma": 0,
                  "keratosis": 1,
                  "compactness": -0.18366150038746157,
                  "assymetry": -0.261974402426148,
                  "border_irr": -0.7814053023575793,
                  "color_spread": -0.873339597221852,
                  "_deepnote_index_column": 78
                },
                {
                  "melanoma": 1,
                  "keratosis": 0,
                  "compactness": -0.23988093264554805,
                  "assymetry": -0.8000644561102919,
                  "border_irr": 0.0436394541499021,
                  "color_spread": 0.2788346956617804,
                  "_deepnote_index_column": 79
                },
                {
                  "melanoma": 1,
                  "keratosis": 0,
                  "compactness": -0.14598797426213986,
                  "assymetry": -0.8829271149219063,
                  "border_irr": 1.3636093746559952,
                  "color_spread": -0.4254722539726353,
                  "_deepnote_index_column": 80
                },
                {
                  "melanoma": 1,
                  "keratosis": 0,
                  "compactness": -0.23602161850935646,
                  "assymetry": -0.8103593564822089,
                  "border_irr": -0.30853977583602243,
                  "color_spread": 0.3000477451269634,
                  "_deepnote_index_column": 81
                },
                {
                  "melanoma": 1,
                  "keratosis": 0,
                  "compactness": -0.18827266294749173,
                  "assymetry": -0.7480404021862014,
                  "border_irr": -0.16415116188264348,
                  "color_spread": -0.4249837625226722,
                  "_deepnote_index_column": 82
                },
                {
                  "melanoma": 0,
                  "keratosis": 1,
                  "compactness": -0.15088765161399992,
                  "assymetry": -0.3289329976093323,
                  "border_irr": -0.27034164728725024,
                  "color_spread": -0.8532055196438277,
                  "_deepnote_index_column": 83
                },
                {
                  "melanoma": 1,
                  "keratosis": 0,
                  "compactness": -0.05721762417844198,
                  "assymetry": 0.8862926401688973,
                  "border_irr": -0.7830272020023225,
                  "color_spread": -0.15192507021540622,
                  "_deepnote_index_column": 84
                },
                {
                  "melanoma": 0,
                  "keratosis": 1,
                  "compactness": -0.24621956346227608,
                  "assymetry": -0.4632461491611162,
                  "border_irr": -0.11140409415354183,
                  "color_spread": -0.797512667744907,
                  "_deepnote_index_column": 85
                },
                {
                  "melanoma": 1,
                  "keratosis": 0,
                  "compactness": -0.23068849203114516,
                  "assymetry": -0.5575032333464242,
                  "border_irr": -0.95267429213197,
                  "color_spread": 0.9344508620753088,
                  "_deepnote_index_column": 86
                },
                {
                  "melanoma": 1,
                  "keratosis": 0,
                  "compactness": -0.12506515337011143,
                  "assymetry": -0.08698088914999705,
                  "border_irr": 1.279319450298809,
                  "color_spread": 0.2949169055689802,
                  "_deepnote_index_column": 87
                },
                {
                  "melanoma": 1,
                  "keratosis": 0,
                  "compactness": -0.21219634150795347,
                  "assymetry": -0.43150544478934455,
                  "border_irr": -0.13775812862777578,
                  "color_spread": -0.8430249611255667,
                  "_deepnote_index_column": 88
                },
                {
                  "melanoma": 0,
                  "keratosis": 1,
                  "compactness": -0.1863973098727119,
                  "assymetry": -0.3780079385403368,
                  "border_irr": 0.20912492054230425,
                  "color_spread": -0.4756413185989224,
                  "_deepnote_index_column": 89
                },
                {
                  "melanoma": 0,
                  "keratosis": 1,
                  "compactness": -0.09321709526749565,
                  "assymetry": -0.6260114860116628,
                  "border_irr": -0.35883915687782886,
                  "color_spread": -0.5349147215534115,
                  "_deepnote_index_column": 90
                },
                {
                  "melanoma": 1,
                  "keratosis": 0,
                  "compactness": -0.23317676602810797,
                  "assymetry": -0.4264933435544115,
                  "border_irr": -0.7658857085168763,
                  "color_spread": 1.8250028581510402,
                  "_deepnote_index_column": 91
                },
                {
                  "melanoma": 0,
                  "keratosis": 1,
                  "compactness": 0.23998305635020714,
                  "assymetry": 1.6065420488233804,
                  "border_irr": 1.8959684358317657,
                  "color_spread": 4.023943188374556,
                  "_deepnote_index_column": 92
                },
                {
                  "melanoma": 0,
                  "keratosis": 1,
                  "compactness": -0.23782610554761568,
                  "assymetry": -0.48515129526516665,
                  "border_irr": -0.48593793381093464,
                  "color_spread": 0.5393087081475594,
                  "_deepnote_index_column": 93
                },
                {
                  "melanoma": 1,
                  "keratosis": 0,
                  "compactness": -0.01792410769494908,
                  "assymetry": 2.2057393117028616,
                  "border_irr": 0.2568557625763397,
                  "color_spread": -0.3717553983489353,
                  "_deepnote_index_column": 94
                },
                {
                  "melanoma": 1,
                  "keratosis": 0,
                  "compactness": 0.362219853774107,
                  "assymetry": -0.09232066500619344,
                  "border_irr": 1.6383783181668066,
                  "color_spread": 1.5623402315024186,
                  "_deepnote_index_column": 95
                },
                {
                  "melanoma": 1,
                  "keratosis": 0,
                  "compactness": -0.22230507736969804,
                  "assymetry": 2.5681934062330427,
                  "border_irr": -0.7375322769775122,
                  "color_spread": 1.0817178015255298,
                  "_deepnote_index_column": 96
                },
                {
                  "melanoma": 1,
                  "keratosis": 0,
                  "compactness": -0.24171644248452415,
                  "assymetry": -0.7965020102389246,
                  "border_irr": -0.48908360716063254,
                  "color_spread": 2.0582538872249234,
                  "_deepnote_index_column": 97
                },
                {
                  "melanoma": 0,
                  "keratosis": 1,
                  "compactness": -0.24210030754008904,
                  "assymetry": -0.6885172669633498,
                  "border_irr": 1.0264122064142716,
                  "color_spread": -0.6887859526258091,
                  "_deepnote_index_column": 98
                },
                {
                  "melanoma": 0,
                  "keratosis": 1,
                  "compactness": -0.24495683594206547,
                  "assymetry": -0.03442047482782558,
                  "border_irr": 0.050706818175264685,
                  "color_spread": -0.8401544338354728,
                  "_deepnote_index_column": 99
                }
              ],
              "rows_bottom": null
            },
            "text/plain": "    melanoma  keratosis  compactness  assymetry  border_irr  color_spread\n0        1.0        0.0    -0.218809  -0.658122   -1.719548     -0.071077\n1        0.0        1.0    -0.182660  -0.886412    1.943670     -0.286617\n2        1.0        0.0    -0.245800  -0.875569    0.388672     -0.033025\n3        0.0        1.0     0.817068  -0.622183    1.844424     -0.770988\n4        0.0        1.0    -0.242512  -0.871123   -0.469305     -0.892039\n..       ...        ...          ...        ...         ...           ...\n95       1.0        0.0     0.362220  -0.092321    1.638378      1.562340\n96       1.0        0.0    -0.222305   2.568193   -0.737532      1.081718\n97       1.0        0.0    -0.241716  -0.796502   -0.489084      2.058254\n98       0.0        1.0    -0.242100  -0.688517    1.026412     -0.688786\n99       0.0        1.0    -0.244957  -0.034420    0.050707     -0.840154\n\n[100 rows x 6 columns]",
            "text/html": "<div>\n<style scoped>\n    .dataframe tbody tr th:only-of-type {\n        vertical-align: middle;\n    }\n\n    .dataframe tbody tr th {\n        vertical-align: top;\n    }\n\n    .dataframe thead th {\n        text-align: right;\n    }\n</style>\n<table border=\"1\" class=\"dataframe\">\n  <thead>\n    <tr style=\"text-align: right;\">\n      <th></th>\n      <th>melanoma</th>\n      <th>keratosis</th>\n      <th>compactness</th>\n      <th>assymetry</th>\n      <th>border_irr</th>\n      <th>color_spread</th>\n    </tr>\n  </thead>\n  <tbody>\n    <tr>\n      <th>0</th>\n      <td>1.0</td>\n      <td>0.0</td>\n      <td>-0.218809</td>\n      <td>-0.658122</td>\n      <td>-1.719548</td>\n      <td>-0.071077</td>\n    </tr>\n    <tr>\n      <th>1</th>\n      <td>0.0</td>\n      <td>1.0</td>\n      <td>-0.182660</td>\n      <td>-0.886412</td>\n      <td>1.943670</td>\n      <td>-0.286617</td>\n    </tr>\n    <tr>\n      <th>2</th>\n      <td>1.0</td>\n      <td>0.0</td>\n      <td>-0.245800</td>\n      <td>-0.875569</td>\n      <td>0.388672</td>\n      <td>-0.033025</td>\n    </tr>\n    <tr>\n      <th>3</th>\n      <td>0.0</td>\n      <td>1.0</td>\n      <td>0.817068</td>\n      <td>-0.622183</td>\n      <td>1.844424</td>\n      <td>-0.770988</td>\n    </tr>\n    <tr>\n      <th>4</th>\n      <td>0.0</td>\n      <td>1.0</td>\n      <td>-0.242512</td>\n      <td>-0.871123</td>\n      <td>-0.469305</td>\n      <td>-0.892039</td>\n    </tr>\n    <tr>\n      <th>...</th>\n      <td>...</td>\n      <td>...</td>\n      <td>...</td>\n      <td>...</td>\n      <td>...</td>\n      <td>...</td>\n    </tr>\n    <tr>\n      <th>95</th>\n      <td>1.0</td>\n      <td>0.0</td>\n      <td>0.362220</td>\n      <td>-0.092321</td>\n      <td>1.638378</td>\n      <td>1.562340</td>\n    </tr>\n    <tr>\n      <th>96</th>\n      <td>1.0</td>\n      <td>0.0</td>\n      <td>-0.222305</td>\n      <td>2.568193</td>\n      <td>-0.737532</td>\n      <td>1.081718</td>\n    </tr>\n    <tr>\n      <th>97</th>\n      <td>1.0</td>\n      <td>0.0</td>\n      <td>-0.241716</td>\n      <td>-0.796502</td>\n      <td>-0.489084</td>\n      <td>2.058254</td>\n    </tr>\n    <tr>\n      <th>98</th>\n      <td>0.0</td>\n      <td>1.0</td>\n      <td>-0.242100</td>\n      <td>-0.688517</td>\n      <td>1.026412</td>\n      <td>-0.688786</td>\n    </tr>\n    <tr>\n      <th>99</th>\n      <td>0.0</td>\n      <td>1.0</td>\n      <td>-0.244957</td>\n      <td>-0.034420</td>\n      <td>0.050707</td>\n      <td>-0.840154</td>\n    </tr>\n  </tbody>\n</table>\n<p>100 rows × 6 columns</p>\n</div>"
          },
          "metadata": {}
        }
      ]
    },
    {
      "cell_type": "code",
      "metadata": {
        "tags": [],
        "deepnote_to_be_reexecuted": true,
        "source_hash": "bc18afc6",
        "execution_millis": 54,
        "cell_id": "00039-2383d71c-62d2-4446-af16-08f64b045dfb",
        "deepnote_cell_type": "code"
      },
      "source": "# FEATURES[FEATURES['melanoma']==1]\nTESTDF_kera=FEATURES\nTESTDF_mela=FEATURES\nTESTDF_kera=TESTDF_kera.drop('melanoma', axis=1)\nTESTDF_mela=TESTDF_mela.drop('keratosis', axis=1)\nTESTDF_mela=TESTDF_mela[FEATURES['melanoma']==1]\nTESTDF_kera=TESTDF_kera[FEATURES['keratosis']==1]\nTESTDF_mela_comp=pd.DataFrame(TESTDF_mela['compactness'])\nTESTDF_kera_comp=pd.DataFrame(TESTDF_kera['compactness'])\nPLOTDATA=pd.concat([TESTDF_mela_comp,TESTDF_kera_comp], axis=1,ignore_index=True)\nPLOTDATA\n# sns.pairplot(data=PLOTDATA)",
      "execution_count": null,
      "outputs": [
        {
          "output_type": "execute_result",
          "execution_count": 144,
          "data": {
            "application/vnd.deepnote.dataframe.v2+json": {
              "row_count": 100,
              "column_count": 2,
              "columns": [
                {
                  "name": 0,
                  "dtype": "float64",
                  "stats": {
                    "unique_count": 50,
                    "nan_count": 50,
                    "min": "-0.24863935206389037",
                    "max": "8.565928798219273",
                    "histogram": [
                      {
                        "bin_start": -0.24863935206389037,
                        "bin_end": 0.6328174629644259,
                        "count": 49
                      },
                      {
                        "bin_start": 0.6328174629644259,
                        "bin_end": 1.5142742779927423,
                        "count": 0
                      },
                      {
                        "bin_start": 1.5142742779927423,
                        "bin_end": 2.3957310930210585,
                        "count": 0
                      },
                      {
                        "bin_start": 2.3957310930210585,
                        "bin_end": 3.277187908049375,
                        "count": 0
                      },
                      {
                        "bin_start": 3.277187908049375,
                        "bin_end": 4.158644723077691,
                        "count": 0
                      },
                      {
                        "bin_start": 4.158644723077691,
                        "bin_end": 5.040101538106007,
                        "count": 0
                      },
                      {
                        "bin_start": 5.040101538106007,
                        "bin_end": 5.921558353134324,
                        "count": 0
                      },
                      {
                        "bin_start": 5.921558353134324,
                        "bin_end": 6.80301516816264,
                        "count": 0
                      },
                      {
                        "bin_start": 6.80301516816264,
                        "bin_end": 7.684471983190956,
                        "count": 0
                      },
                      {
                        "bin_start": 7.684471983190956,
                        "bin_end": 8.565928798219273,
                        "count": 1
                      }
                    ]
                  }
                },
                {
                  "name": 1,
                  "dtype": "float64",
                  "stats": {
                    "unique_count": 50,
                    "nan_count": 50,
                    "min": "-0.251607614451466",
                    "max": "3.6965518840658733",
                    "histogram": [
                      {
                        "bin_start": -0.251607614451466,
                        "bin_end": 0.14320833540026795,
                        "count": 41
                      },
                      {
                        "bin_start": 0.14320833540026795,
                        "bin_end": 0.5380242852520019,
                        "count": 5
                      },
                      {
                        "bin_start": 0.5380242852520019,
                        "bin_end": 0.9328402351037357,
                        "count": 2
                      },
                      {
                        "bin_start": 0.9328402351037357,
                        "bin_end": 1.3276561849554698,
                        "count": 0
                      },
                      {
                        "bin_start": 1.3276561849554698,
                        "bin_end": 1.7224721348072038,
                        "count": 0
                      },
                      {
                        "bin_start": 1.7224721348072038,
                        "bin_end": 2.1172880846589375,
                        "count": 0
                      },
                      {
                        "bin_start": 2.1172880846589375,
                        "bin_end": 2.5121040345106715,
                        "count": 0
                      },
                      {
                        "bin_start": 2.5121040345106715,
                        "bin_end": 2.9069199843624056,
                        "count": 1
                      },
                      {
                        "bin_start": 2.9069199843624056,
                        "bin_end": 3.3017359342141397,
                        "count": 0
                      },
                      {
                        "bin_start": 3.3017359342141397,
                        "bin_end": 3.6965518840658733,
                        "count": 1
                      }
                    ]
                  }
                },
                {
                  "name": "_deepnote_index_column",
                  "dtype": "int64"
                }
              ],
              "rows_top": [
                {
                  "0": "-0.21880906463214223",
                  "1": "nan",
                  "_deepnote_index_column": 0
                },
                {
                  "0": "nan",
                  "1": "-0.18266049618056712",
                  "_deepnote_index_column": 1
                },
                {
                  "0": "-0.24580021651651515",
                  "1": "nan",
                  "_deepnote_index_column": 2
                },
                {
                  "0": "nan",
                  "1": "0.8170676603283188",
                  "_deepnote_index_column": 3
                },
                {
                  "0": "nan",
                  "1": "-0.24251238646513956",
                  "_deepnote_index_column": 4
                },
                {
                  "0": "-0.1622307229282533",
                  "1": "nan",
                  "_deepnote_index_column": 5
                },
                {
                  "0": "-0.20563406932134803",
                  "1": "nan",
                  "_deepnote_index_column": 6
                },
                {
                  "0": "nan",
                  "1": "-0.1874071334470737",
                  "_deepnote_index_column": 7
                },
                {
                  "0": "nan",
                  "1": "-0.23516645700272748",
                  "_deepnote_index_column": 8
                },
                {
                  "0": "-0.2251329142694442",
                  "1": "nan",
                  "_deepnote_index_column": 9
                },
                {
                  "0": "-0.17682395721211702",
                  "1": "nan",
                  "_deepnote_index_column": 10
                },
                {
                  "0": "nan",
                  "1": "-0.24262687280163128",
                  "_deepnote_index_column": 11
                },
                {
                  "0": "-0.20130862226691262",
                  "1": "nan",
                  "_deepnote_index_column": 12
                },
                {
                  "0": "nan",
                  "1": "-0.2371327015380928",
                  "_deepnote_index_column": 13
                },
                {
                  "0": "-0.2480861137313059",
                  "1": "nan",
                  "_deepnote_index_column": 14
                },
                {
                  "0": "-0.14188976739436213",
                  "1": "nan",
                  "_deepnote_index_column": 15
                },
                {
                  "0": "nan",
                  "1": "-0.24632758395971074",
                  "_deepnote_index_column": 16
                },
                {
                  "0": "nan",
                  "1": "3.6965518840658733",
                  "_deepnote_index_column": 17
                },
                {
                  "0": "-0.22814073694422227",
                  "1": "nan",
                  "_deepnote_index_column": 18
                },
                {
                  "0": "0.0003415304560552405",
                  "1": "nan",
                  "_deepnote_index_column": 19
                },
                {
                  "0": "nan",
                  "1": "-0.1897573251829614",
                  "_deepnote_index_column": 20
                },
                {
                  "0": "nan",
                  "1": "-0.16656859171928196",
                  "_deepnote_index_column": 21
                },
                {
                  "0": "nan",
                  "1": "-0.24338565293299913",
                  "_deepnote_index_column": 22
                },
                {
                  "0": "-0.21966995925477917",
                  "1": "nan",
                  "_deepnote_index_column": 23
                },
                {
                  "0": "nan",
                  "1": "2.6669522316830636",
                  "_deepnote_index_column": 24
                },
                {
                  "0": "nan",
                  "1": "-0.2409678062065231",
                  "_deepnote_index_column": 25
                },
                {
                  "0": "nan",
                  "1": "-0.1822238539223495",
                  "_deepnote_index_column": 26
                },
                {
                  "0": "nan",
                  "1": "-0.1718637019667249",
                  "_deepnote_index_column": 27
                },
                {
                  "0": "-0.18618081512255846",
                  "1": "nan",
                  "_deepnote_index_column": 28
                },
                {
                  "0": "nan",
                  "1": "-0.23097072465490487",
                  "_deepnote_index_column": 29
                },
                {
                  "0": "nan",
                  "1": "-0.215145523545396",
                  "_deepnote_index_column": 30
                },
                {
                  "0": "-0.16973363184418344",
                  "1": "nan",
                  "_deepnote_index_column": 31
                },
                {
                  "0": "-0.24252471170664125",
                  "1": "nan",
                  "_deepnote_index_column": 32
                },
                {
                  "0": "-0.24644850258603923",
                  "1": "nan",
                  "_deepnote_index_column": 33
                },
                {
                  "0": "nan",
                  "1": "-0.21740290156019498",
                  "_deepnote_index_column": 34
                },
                {
                  "0": "-0.2173514198862303",
                  "1": "nan",
                  "_deepnote_index_column": 35
                },
                {
                  "0": "nan",
                  "1": "-0.22390423643820115",
                  "_deepnote_index_column": 36
                },
                {
                  "0": "-0.1663661875273084",
                  "1": "nan",
                  "_deepnote_index_column": 37
                },
                {
                  "0": "-0.17346072106889535",
                  "1": "nan",
                  "_deepnote_index_column": 38
                },
                {
                  "0": "-0.2271755355162549",
                  "1": "nan",
                  "_deepnote_index_column": 39
                },
                {
                  "0": "nan",
                  "1": "-0.17984603409022534",
                  "_deepnote_index_column": 40
                },
                {
                  "0": "-0.23680096903356518",
                  "1": "nan",
                  "_deepnote_index_column": 41
                },
                {
                  "0": "-0.24177455922577837",
                  "1": "nan",
                  "_deepnote_index_column": 42
                },
                {
                  "0": "-0.24863935206389037",
                  "1": "nan",
                  "_deepnote_index_column": 43
                },
                {
                  "0": "-0.2406629233517274",
                  "1": "nan",
                  "_deepnote_index_column": 44
                },
                {
                  "0": "nan",
                  "1": "-0.1562788691666632",
                  "_deepnote_index_column": 45
                },
                {
                  "0": "-0.24111882927159578",
                  "1": "nan",
                  "_deepnote_index_column": 46
                },
                {
                  "0": "nan",
                  "1": "-0.251607614451466",
                  "_deepnote_index_column": 47
                },
                {
                  "0": "8.565928798219273",
                  "1": "nan",
                  "_deepnote_index_column": 48
                },
                {
                  "0": "-0.24482557300665242",
                  "1": "nan",
                  "_deepnote_index_column": 49
                },
                {
                  "0": "nan",
                  "1": "-0.24704531241598823",
                  "_deepnote_index_column": 50
                },
                {
                  "0": "nan",
                  "1": "0.16526557860491212",
                  "_deepnote_index_column": 51
                },
                {
                  "0": "-0.15878475699118816",
                  "1": "nan",
                  "_deepnote_index_column": 52
                },
                {
                  "0": "nan",
                  "1": "-0.15863885066440758",
                  "_deepnote_index_column": 53
                },
                {
                  "0": "-0.11208757442759677",
                  "1": "nan",
                  "_deepnote_index_column": 54
                },
                {
                  "0": "-0.238618559410227",
                  "1": "nan",
                  "_deepnote_index_column": 55
                },
                {
                  "0": "-0.24749423981117402",
                  "1": "nan",
                  "_deepnote_index_column": 56
                },
                {
                  "0": "-0.19353872151180582",
                  "1": "nan",
                  "_deepnote_index_column": 57
                },
                {
                  "0": "nan",
                  "1": "-0.23201480962754953",
                  "_deepnote_index_column": 58
                },
                {
                  "0": "nan",
                  "1": "-0.15115218783308365",
                  "_deepnote_index_column": 59
                },
                {
                  "0": "-0.2227773990922304",
                  "1": "nan",
                  "_deepnote_index_column": 60
                },
                {
                  "0": "nan",
                  "1": "0.19070548903119874",
                  "_deepnote_index_column": 61
                },
                {
                  "0": "nan",
                  "1": "-0.24309636794109304",
                  "_deepnote_index_column": 62
                },
                {
                  "0": "nan",
                  "1": "-0.24398356901265938",
                  "_deepnote_index_column": 63
                },
                {
                  "0": "nan",
                  "1": "-0.19235349821938003",
                  "_deepnote_index_column": 64
                },
                {
                  "0": "nan",
                  "1": "-0.1864510337561027",
                  "_deepnote_index_column": 65
                },
                {
                  "0": "nan",
                  "1": "0.5211117812775228",
                  "_deepnote_index_column": 66
                },
                {
                  "0": "nan",
                  "1": "-0.24527065167654827",
                  "_deepnote_index_column": 67
                },
                {
                  "0": "-0.24523032786945373",
                  "1": "nan",
                  "_deepnote_index_column": 68
                },
                {
                  "0": "nan",
                  "1": "-0.24178851384245906",
                  "_deepnote_index_column": 69
                },
                {
                  "0": "nan",
                  "1": "-0.2510795526894398",
                  "_deepnote_index_column": 70
                },
                {
                  "0": "nan",
                  "1": "-0.24440329965406554",
                  "_deepnote_index_column": 71
                },
                {
                  "0": "-0.2390074064305978",
                  "1": "nan",
                  "_deepnote_index_column": 72
                },
                {
                  "0": "nan",
                  "1": "0.6775516624060833",
                  "_deepnote_index_column": 73
                },
                {
                  "0": "nan",
                  "1": "0.4407391509642271",
                  "_deepnote_index_column": 74
                },
                {
                  "0": "nan",
                  "1": "-0.2379717333666152",
                  "_deepnote_index_column": 75
                },
                {
                  "0": "-0.2403466854805384",
                  "1": "nan",
                  "_deepnote_index_column": 76
                },
                {
                  "0": "-0.23521771985789183",
                  "1": "nan",
                  "_deepnote_index_column": 77
                },
                {
                  "0": "nan",
                  "1": "-0.18366150038746157",
                  "_deepnote_index_column": 78
                },
                {
                  "0": "-0.23988093264554805",
                  "1": "nan",
                  "_deepnote_index_column": 79
                },
                {
                  "0": "-0.14598797426213986",
                  "1": "nan",
                  "_deepnote_index_column": 80
                },
                {
                  "0": "-0.23602161850935646",
                  "1": "nan",
                  "_deepnote_index_column": 81
                },
                {
                  "0": "-0.18827266294749173",
                  "1": "nan",
                  "_deepnote_index_column": 82
                },
                {
                  "0": "nan",
                  "1": "-0.15088765161399992",
                  "_deepnote_index_column": 83
                },
                {
                  "0": "-0.05721762417844198",
                  "1": "nan",
                  "_deepnote_index_column": 84
                },
                {
                  "0": "nan",
                  "1": "-0.24621956346227608",
                  "_deepnote_index_column": 85
                },
                {
                  "0": "-0.23068849203114516",
                  "1": "nan",
                  "_deepnote_index_column": 86
                },
                {
                  "0": "-0.12506515337011143",
                  "1": "nan",
                  "_deepnote_index_column": 87
                },
                {
                  "0": "-0.21219634150795347",
                  "1": "nan",
                  "_deepnote_index_column": 88
                },
                {
                  "0": "nan",
                  "1": "-0.1863973098727119",
                  "_deepnote_index_column": 89
                },
                {
                  "0": "nan",
                  "1": "-0.09321709526749565",
                  "_deepnote_index_column": 90
                },
                {
                  "0": "-0.23317676602810797",
                  "1": "nan",
                  "_deepnote_index_column": 91
                },
                {
                  "0": "nan",
                  "1": "0.23998305635020714",
                  "_deepnote_index_column": 92
                },
                {
                  "0": "nan",
                  "1": "-0.23782610554761568",
                  "_deepnote_index_column": 93
                },
                {
                  "0": "-0.01792410769494908",
                  "1": "nan",
                  "_deepnote_index_column": 94
                },
                {
                  "0": "0.362219853774107",
                  "1": "nan",
                  "_deepnote_index_column": 95
                },
                {
                  "0": "-0.22230507736969804",
                  "1": "nan",
                  "_deepnote_index_column": 96
                },
                {
                  "0": "-0.24171644248452415",
                  "1": "nan",
                  "_deepnote_index_column": 97
                },
                {
                  "0": "nan",
                  "1": "-0.24210030754008904",
                  "_deepnote_index_column": 98
                },
                {
                  "0": "nan",
                  "1": "-0.24495683594206547",
                  "_deepnote_index_column": 99
                }
              ],
              "rows_bottom": null
            },
            "text/plain": "           0         1\n0  -0.218809       NaN\n1        NaN -0.182660\n2  -0.245800       NaN\n3        NaN  0.817068\n4        NaN -0.242512\n..       ...       ...\n95  0.362220       NaN\n96 -0.222305       NaN\n97 -0.241716       NaN\n98       NaN -0.242100\n99       NaN -0.244957\n\n[100 rows x 2 columns]",
            "text/html": "<div>\n<style scoped>\n    .dataframe tbody tr th:only-of-type {\n        vertical-align: middle;\n    }\n\n    .dataframe tbody tr th {\n        vertical-align: top;\n    }\n\n    .dataframe thead th {\n        text-align: right;\n    }\n</style>\n<table border=\"1\" class=\"dataframe\">\n  <thead>\n    <tr style=\"text-align: right;\">\n      <th></th>\n      <th>0</th>\n      <th>1</th>\n    </tr>\n  </thead>\n  <tbody>\n    <tr>\n      <th>0</th>\n      <td>-0.218809</td>\n      <td>NaN</td>\n    </tr>\n    <tr>\n      <th>1</th>\n      <td>NaN</td>\n      <td>-0.182660</td>\n    </tr>\n    <tr>\n      <th>2</th>\n      <td>-0.245800</td>\n      <td>NaN</td>\n    </tr>\n    <tr>\n      <th>3</th>\n      <td>NaN</td>\n      <td>0.817068</td>\n    </tr>\n    <tr>\n      <th>4</th>\n      <td>NaN</td>\n      <td>-0.242512</td>\n    </tr>\n    <tr>\n      <th>...</th>\n      <td>...</td>\n      <td>...</td>\n    </tr>\n    <tr>\n      <th>95</th>\n      <td>0.362220</td>\n      <td>NaN</td>\n    </tr>\n    <tr>\n      <th>96</th>\n      <td>-0.222305</td>\n      <td>NaN</td>\n    </tr>\n    <tr>\n      <th>97</th>\n      <td>-0.241716</td>\n      <td>NaN</td>\n    </tr>\n    <tr>\n      <th>98</th>\n      <td>NaN</td>\n      <td>-0.242100</td>\n    </tr>\n    <tr>\n      <th>99</th>\n      <td>NaN</td>\n      <td>-0.244957</td>\n    </tr>\n  </tbody>\n</table>\n<p>100 rows × 2 columns</p>\n</div>"
          },
          "metadata": {}
        }
      ]
    },
    {
      "cell_type": "markdown",
      "source": "<h3 style=\"color:green\">Build the model input csv</h3>",
      "metadata": {
        "tags": [],
        "cell_id": "00040-da6cd4b5-4443-4164-a1f9-73a1bf0f68a5",
        "deepnote_cell_type": "markdown"
      }
    },
    {
      "cell_type": "code",
      "metadata": {
        "tags": [],
        "deepnote_to_be_reexecuted": true,
        "source_hash": "bf9dca6e",
        "execution_millis": 2,
        "cell_id": "00041-eaa27267-1b6a-42a0-a0e1-f752f916ec1e",
        "deepnote_cell_type": "code"
      },
      "source": "run_building_the_model_input = False\n# {FILENAMES['model_input']}\npath_to_save = f\"{PATH_DATA['processed']}model_balanced.csv\"\nif run_building_the_model_input:\n    buildClassifierInput(sampled_data, chunk_size = 100, temp_img_fold = \"imageData/\", path_to_save = path_to_save)",
      "execution_count": null,
      "outputs": []
    },
    {
      "cell_type": "markdown",
      "source": "<h2 style=\"color:#22198A\"> Load model input, normalize it</h2>",
      "metadata": {
        "tags": [],
        "cell_id": "00042-7caf3141-248a-4f4b-8dd3-899c62c82536",
        "deepnote_cell_type": "markdown"
      }
    },
    {
      "cell_type": "code",
      "metadata": {
        "tags": [],
        "deepnote_to_be_reexecuted": true,
        "source_hash": "52e7df6c",
        "execution_millis": 18,
        "cell_id": "00043-676ac0f9-d444-4e4b-808b-17d8cce69c0d",
        "deepnote_cell_type": "code"
      },
      "source": "# Load the data\nFEATURES_UNNORMALIZED = pd.read_csv(path_to_save)\n\n# Separate Image Ids\nIMAGE_IDs = FEATURES_UNNORMALIZED['image_id']\n\n# Drop Image Id\nFEATURES_UNNORMALIZED = FEATURES_UNNORMALIZED.drop(['image_id'],axis=1)\n\n# Normalize the data\nFEATURES = normalizeFeatures(FEATURES_UNNORMALIZED)\n\n# Shuffle randomly the rows\nFEATURES = FEATURES.sample(frac=1).reset_index(drop=True)",
      "execution_count": null,
      "outputs": []
    },
    {
      "cell_type": "markdown",
      "source": "<h2 style=\"color:#22198A\">Split the data into training and test</h2>",
      "metadata": {
        "tags": [],
        "cell_id": "00044-87d90c46-959a-4d6a-a31f-7c3ba9a4cc4d",
        "deepnote_cell_type": "markdown"
      }
    },
    {
      "cell_type": "code",
      "metadata": {
        "tags": [],
        "deepnote_to_be_reexecuted": true,
        "source_hash": "cf677a5e",
        "execution_millis": 48,
        "cell_id": "00045-b0e4cd60-bd9b-449f-a4db-767508b5910a",
        "deepnote_cell_type": "code"
      },
      "source": "columns_with_features = list(FEATURES.columns[3:])\ncolumns_with_features",
      "execution_count": null,
      "outputs": [
        {
          "output_type": "execute_result",
          "execution_count": 20,
          "data": {
            "text/plain": "['assymetry', 'border_irr', 'color_spread']"
          },
          "metadata": {}
        }
      ]
    },
    {
      "cell_type": "markdown",
      "source": "<h3 style=\"color:green\">Melanoma</h3>",
      "metadata": {
        "tags": [],
        "cell_id": "00046-200cd838-bfba-4319-95a1-261bd42e836c",
        "deepnote_cell_type": "markdown"
      }
    },
    {
      "cell_type": "code",
      "metadata": {
        "tags": [],
        "deepnote_to_be_reexecuted": true,
        "source_hash": "68639e3f",
        "execution_millis": 29,
        "cell_id": "00047-e30dd2cf-fe38-4ee4-a742-95f58c016587",
        "deepnote_cell_type": "code"
      },
      "source": "X_train_mel, X_test_mel, y_train_mel, y_test_mel = splitDataIntoTrainTest(FEATURES[columns_with_features], FEATURES.iloc[:, 0])",
      "execution_count": null,
      "outputs": []
    },
    {
      "cell_type": "markdown",
      "source": "<h3 style=\"color:green\">Keratosis</h3>",
      "metadata": {
        "tags": [],
        "cell_id": "00048-65c59eed-44be-43f9-9149-05a2f808206c",
        "deepnote_cell_type": "markdown"
      }
    },
    {
      "cell_type": "code",
      "metadata": {
        "tags": [],
        "deepnote_to_be_reexecuted": true,
        "source_hash": "791ff9a4",
        "execution_millis": 9,
        "cell_id": "00049-8dac0065-909d-45f3-8e3a-3eb5b537f69d",
        "deepnote_cell_type": "code"
      },
      "source": "X_train_ker, X_test_ker, y_train_ker, y_test_ker = splitDataIntoTrainTest(FEATURES[columns_with_features], FEATURES.iloc[:, 1])",
      "execution_count": null,
      "outputs": []
    },
    {
      "cell_type": "markdown",
      "source": "<h2 style=\"color:#22198A\">Feature selection</h2>",
      "metadata": {
        "tags": [],
        "cell_id": "00050-95785c94-5a05-4ae6-b406-88496bd9d25d",
        "deepnote_cell_type": "markdown"
      }
    },
    {
      "cell_type": "code",
      "metadata": {
        "tags": [],
        "deepnote_to_be_reexecuted": true,
        "source_hash": "d7f787ab",
        "execution_millis": 559,
        "cell_id": "00051-014ae422-7a7f-40b1-8101-d1e91a6131fe",
        "deepnote_cell_type": "code"
      },
      "source": "# Get feature scores for melanoma data set\nfeature_scores_mel = featureScores(X_train_mel, y_train_mel, k=2)\n\n# Get feature scores for keratosis data set\nfeature_scores_ker = featureScores(X_train_ker, y_train_ker, k=2)\n\n# Get no. of features\nfeatures_mel = len(feature_scores_mel)\nfeatures_ker = len(feature_scores_ker)\n\n# Visualize feature scores\nplt.bar(np.arange(0,features_ker), feature_scores_ker, width=.2)\nplt.show()",
      "execution_count": null,
      "outputs": [
        {
          "data": {
            "text/plain": "<Figure size 432x288 with 1 Axes>",
            "image/png": "[encoded data removed]"
          },
          "metadata": {
            "needs_background": "light"
          },
          "output_type": "display_data"
        }
      ]
    },
    {
      "cell_type": "markdown",
      "source": "<h2 style=\"color:#22198A\">Select and build classifiers</h2>",
      "metadata": {
        "tags": [],
        "cell_id": "00052-79a7285d-440d-4cdf-aa75-6c6b13c615b9",
        "deepnote_cell_type": "markdown"
      }
    },
    {
      "cell_type": "code",
      "metadata": {
        "tags": [],
        "deepnote_to_be_reexecuted": true,
        "source_hash": "89c5e441",
        "execution_millis": 64,
        "cell_id": "00053-ce944037-9e12-4f26-bce6-eedf872eafb8",
        "deepnote_cell_type": "code"
      },
      "source": "from sklearn.tree import DecisionTreeClassifier\nfrom sklearn.ensemble import RandomForestClassifier",
      "execution_count": null,
      "outputs": []
    },
    {
      "cell_type": "code",
      "metadata": {
        "tags": [],
        "deepnote_to_be_reexecuted": true,
        "source_hash": "ff0b33d6",
        "execution_millis": 10,
        "cell_id": "00054-f92e7d90-452f-46cd-a5fb-5ba2665027b6",
        "deepnote_cell_type": "code"
      },
      "source": "CLFS = {\n    \"linear_svc\": svm.LinearSVC(max_iter = 5000),\n    \"knn5\": KNeighborsClassifier(n_neighbors=5),\n    \"knn10\": KNeighborsClassifier(n_neighbors=10),\n    \"DTC\": DecisionTreeClassifier(random_state=0),\n    \"RFC\": RandomForestClassifier(max_depth=2, random_state=0)\n}",
      "execution_count": null,
      "outputs": []
    },
    {
      "cell_type": "markdown",
      "source": "<h2 style=\"color:#22198A\">Evaluate the results using cross-validation</h2>",
      "metadata": {
        "tags": [],
        "cell_id": "00055-f236350c-a8f6-4773-849d-c861780b78e5",
        "deepnote_cell_type": "markdown"
      }
    },
    {
      "cell_type": "markdown",
      "source": "<h3 style=\"color:green\">Melanoma</h3>",
      "metadata": {
        "tags": [],
        "cell_id": "00056-ece48e5b-de52-4365-8d7e-df7d59074b2e",
        "deepnote_cell_type": "markdown"
      }
    },
    {
      "cell_type": "code",
      "metadata": {
        "tags": [],
        "deepnote_to_be_reexecuted": true,
        "source_hash": "ab80193f",
        "execution_millis": 2187,
        "cell_id": "00057-dcbfe6e2-1812-41f7-92f6-e3a77512e125",
        "deepnote_cell_type": "code"
      },
      "source": "crossValidate(X_train_mel, y_train_mel, CLFS)",
      "execution_count": null,
      "outputs": [
        {
          "output_type": "execute_result",
          "execution_count": 26,
          "data": {
            "application/vnd.deepnote.dataframe.v2+json": {
              "row_count": 5,
              "column_count": 5,
              "columns": [
                {
                  "name": "classifier_name",
                  "dtype": "object",
                  "stats": {
                    "unique_count": 5,
                    "nan_count": 0,
                    "categories": [
                      {
                        "name": "linear_svc",
                        "count": 1
                      },
                      {
                        "name": "knn5",
                        "count": 1
                      },
                      {
                        "name": "3 others",
                        "count": 3
                      }
                    ]
                  }
                },
                {
                  "name": "accuracy",
                  "dtype": "float64",
                  "stats": {
                    "unique_count": 4,
                    "nan_count": 0,
                    "min": "0.5625",
                    "max": "0.6625",
                    "histogram": [
                      {
                        "bin_start": 0.5625,
                        "bin_end": 0.5725,
                        "count": 1
                      },
                      {
                        "bin_start": 0.5725,
                        "bin_end": 0.5825,
                        "count": 1
                      },
                      {
                        "bin_start": 0.5825,
                        "bin_end": 0.5925,
                        "count": 1
                      },
                      {
                        "bin_start": 0.5925,
                        "bin_end": 0.6025,
                        "count": 0
                      },
                      {
                        "bin_start": 0.6025,
                        "bin_end": 0.6125,
                        "count": 0
                      },
                      {
                        "bin_start": 0.6125,
                        "bin_end": 0.6224999999999999,
                        "count": 0
                      },
                      {
                        "bin_start": 0.6224999999999999,
                        "bin_end": 0.6325,
                        "count": 0
                      },
                      {
                        "bin_start": 0.6325,
                        "bin_end": 0.6425,
                        "count": 0
                      },
                      {
                        "bin_start": 0.6425,
                        "bin_end": 0.6525,
                        "count": 0
                      },
                      {
                        "bin_start": 0.6525,
                        "bin_end": 0.6625,
                        "count": 2
                      }
                    ]
                  }
                },
                {
                  "name": "precision",
                  "dtype": "float64",
                  "stats": {
                    "unique_count": 5,
                    "nan_count": 0,
                    "min": "0.5672727272727273",
                    "max": "0.6516666666666666",
                    "histogram": [
                      {
                        "bin_start": 0.5672727272727273,
                        "bin_end": 0.5757121212121212,
                        "count": 1
                      },
                      {
                        "bin_start": 0.5757121212121212,
                        "bin_end": 0.5841515151515151,
                        "count": 0
                      },
                      {
                        "bin_start": 0.5841515151515151,
                        "bin_end": 0.5925909090909091,
                        "count": 1
                      },
                      {
                        "bin_start": 0.5925909090909091,
                        "bin_end": 0.601030303030303,
                        "count": 0
                      },
                      {
                        "bin_start": 0.601030303030303,
                        "bin_end": 0.6094696969696969,
                        "count": 1
                      },
                      {
                        "bin_start": 0.6094696969696969,
                        "bin_end": 0.6179090909090909,
                        "count": 0
                      },
                      {
                        "bin_start": 0.6179090909090909,
                        "bin_end": 0.6263484848484848,
                        "count": 0
                      },
                      {
                        "bin_start": 0.6263484848484848,
                        "bin_end": 0.6347878787878788,
                        "count": 0
                      },
                      {
                        "bin_start": 0.6347878787878788,
                        "bin_end": 0.6432272727272726,
                        "count": 1
                      },
                      {
                        "bin_start": 0.6432272727272726,
                        "bin_end": 0.6516666666666666,
                        "count": 1
                      }
                    ]
                  }
                },
                {
                  "name": "recall",
                  "dtype": "float64",
                  "stats": {
                    "unique_count": 5,
                    "nan_count": 0,
                    "min": "0.4",
                    "max": "0.75",
                    "histogram": [
                      {
                        "bin_start": 0.4,
                        "bin_end": 0.435,
                        "count": 1
                      },
                      {
                        "bin_start": 0.435,
                        "bin_end": 0.47000000000000003,
                        "count": 0
                      },
                      {
                        "bin_start": 0.47000000000000003,
                        "bin_end": 0.505,
                        "count": 0
                      },
                      {
                        "bin_start": 0.505,
                        "bin_end": 0.54,
                        "count": 1
                      },
                      {
                        "bin_start": 0.54,
                        "bin_end": 0.575,
                        "count": 0
                      },
                      {
                        "bin_start": 0.575,
                        "bin_end": 0.61,
                        "count": 0
                      },
                      {
                        "bin_start": 0.61,
                        "bin_end": 0.645,
                        "count": 0
                      },
                      {
                        "bin_start": 0.645,
                        "bin_end": 0.6799999999999999,
                        "count": 1
                      },
                      {
                        "bin_start": 0.6799999999999999,
                        "bin_end": 0.715,
                        "count": 0
                      },
                      {
                        "bin_start": 0.715,
                        "bin_end": 0.75,
                        "count": 2
                      }
                    ]
                  }
                },
                {
                  "name": "roc_auc",
                  "dtype": "float64",
                  "stats": {
                    "unique_count": 5,
                    "nan_count": 0,
                    "min": "0.5875",
                    "max": "0.6875",
                    "histogram": [
                      {
                        "bin_start": 0.5875,
                        "bin_end": 0.5975,
                        "count": 2
                      },
                      {
                        "bin_start": 0.5975,
                        "bin_end": 0.6075,
                        "count": 0
                      },
                      {
                        "bin_start": 0.6075,
                        "bin_end": 0.6175,
                        "count": 0
                      },
                      {
                        "bin_start": 0.6175,
                        "bin_end": 0.6275000000000001,
                        "count": 0
                      },
                      {
                        "bin_start": 0.6275000000000001,
                        "bin_end": 0.6375,
                        "count": 2
                      },
                      {
                        "bin_start": 0.6375,
                        "bin_end": 0.6475,
                        "count": 0
                      },
                      {
                        "bin_start": 0.6475,
                        "bin_end": 0.6575,
                        "count": 0
                      },
                      {
                        "bin_start": 0.6575,
                        "bin_end": 0.6675,
                        "count": 0
                      },
                      {
                        "bin_start": 0.6675,
                        "bin_end": 0.6775,
                        "count": 0
                      },
                      {
                        "bin_start": 0.6775,
                        "bin_end": 0.6875,
                        "count": 1
                      }
                    ]
                  }
                },
                {
                  "name": "_deepnote_index_column",
                  "dtype": "int64"
                }
              ],
              "rows_top": [
                {
                  "classifier_name": "linear_svc",
                  "accuracy": 0.575,
                  "precision": 0.5888888888888888,
                  "recall": 0.525,
                  "roc_auc": 0.628125,
                  "_deepnote_index_column": 0
                },
                {
                  "classifier_name": "knn5",
                  "accuracy": 0.6625,
                  "precision": 0.6516666666666666,
                  "recall": 0.675,
                  "roc_auc": 0.634375,
                  "_deepnote_index_column": 1
                },
                {
                  "classifier_name": "knn10",
                  "accuracy": 0.5625,
                  "precision": 0.6087301587301587,
                  "recall": 0.4,
                  "roc_auc": 0.590625,
                  "_deepnote_index_column": 2
                },
                {
                  "classifier_name": "DTC",
                  "accuracy": 0.5875,
                  "precision": 0.5672727272727273,
                  "recall": 0.725,
                  "roc_auc": 0.5875,
                  "_deepnote_index_column": 3
                },
                {
                  "classifier_name": "RFC",
                  "accuracy": 0.6625,
                  "precision": 0.6367171717171717,
                  "recall": 0.75,
                  "roc_auc": 0.6875,
                  "_deepnote_index_column": 4
                }
              ],
              "rows_bottom": null
            },
            "text/plain": "  classifier_name  accuracy  precision  recall   roc_auc\n0      linear_svc    0.5750   0.588889   0.525  0.628125\n1            knn5    0.6625   0.651667   0.675  0.634375\n2           knn10    0.5625   0.608730   0.400  0.590625\n3             DTC    0.5875   0.567273   0.725  0.587500\n4             RFC    0.6625   0.636717   0.750  0.687500",
            "text/html": "<div>\n<style scoped>\n    .dataframe tbody tr th:only-of-type {\n        vertical-align: middle;\n    }\n\n    .dataframe tbody tr th {\n        vertical-align: top;\n    }\n\n    .dataframe thead th {\n        text-align: right;\n    }\n</style>\n<table border=\"1\" class=\"dataframe\">\n  <thead>\n    <tr style=\"text-align: right;\">\n      <th></th>\n      <th>classifier_name</th>\n      <th>accuracy</th>\n      <th>precision</th>\n      <th>recall</th>\n      <th>roc_auc</th>\n    </tr>\n  </thead>\n  <tbody>\n    <tr>\n      <th>0</th>\n      <td>linear_svc</td>\n      <td>0.5750</td>\n      <td>0.588889</td>\n      <td>0.525</td>\n      <td>0.628125</td>\n    </tr>\n    <tr>\n      <th>1</th>\n      <td>knn5</td>\n      <td>0.6625</td>\n      <td>0.651667</td>\n      <td>0.675</td>\n      <td>0.634375</td>\n    </tr>\n    <tr>\n      <th>2</th>\n      <td>knn10</td>\n      <td>0.5625</td>\n      <td>0.608730</td>\n      <td>0.400</td>\n      <td>0.590625</td>\n    </tr>\n    <tr>\n      <th>3</th>\n      <td>DTC</td>\n      <td>0.5875</td>\n      <td>0.567273</td>\n      <td>0.725</td>\n      <td>0.587500</td>\n    </tr>\n    <tr>\n      <th>4</th>\n      <td>RFC</td>\n      <td>0.6625</td>\n      <td>0.636717</td>\n      <td>0.750</td>\n      <td>0.687500</td>\n    </tr>\n  </tbody>\n</table>\n</div>"
          },
          "metadata": {}
        }
      ]
    },
    {
      "cell_type": "markdown",
      "source": "<h3 style=\"color:green\">Keratosis</h3>",
      "metadata": {
        "tags": [],
        "cell_id": "00058-96a69a3c-d169-4422-897b-fef0b8b67c46",
        "deepnote_cell_type": "markdown"
      }
    },
    {
      "cell_type": "code",
      "metadata": {
        "tags": [],
        "deepnote_to_be_reexecuted": true,
        "source_hash": "e488da74",
        "execution_millis": 2174,
        "cell_id": "00059-319b466a-7629-47fb-8041-ddc6b500e597",
        "deepnote_cell_type": "code"
      },
      "source": "crossValidate(X_train_ker, y_train_ker, CLFS)",
      "execution_count": null,
      "outputs": [
        {
          "output_type": "execute_result",
          "execution_count": 27,
          "data": {
            "application/vnd.deepnote.dataframe.v2+json": {
              "row_count": 5,
              "column_count": 5,
              "columns": [
                {
                  "name": "classifier_name",
                  "dtype": "object",
                  "stats": {
                    "unique_count": 5,
                    "nan_count": 0,
                    "categories": [
                      {
                        "name": "linear_svc",
                        "count": 1
                      },
                      {
                        "name": "knn5",
                        "count": 1
                      },
                      {
                        "name": "3 others",
                        "count": 3
                      }
                    ]
                  }
                },
                {
                  "name": "accuracy",
                  "dtype": "float64",
                  "stats": {
                    "unique_count": 5,
                    "nan_count": 0,
                    "min": "0.525",
                    "max": "0.6625",
                    "histogram": [
                      {
                        "bin_start": 0.525,
                        "bin_end": 0.5387500000000001,
                        "count": 1
                      },
                      {
                        "bin_start": 0.5387500000000001,
                        "bin_end": 0.5525,
                        "count": 0
                      },
                      {
                        "bin_start": 0.5525,
                        "bin_end": 0.56625,
                        "count": 0
                      },
                      {
                        "bin_start": 0.56625,
                        "bin_end": 0.58,
                        "count": 0
                      },
                      {
                        "bin_start": 0.58,
                        "bin_end": 0.59375,
                        "count": 1
                      },
                      {
                        "bin_start": 0.59375,
                        "bin_end": 0.6074999999999999,
                        "count": 0
                      },
                      {
                        "bin_start": 0.6074999999999999,
                        "bin_end": 0.62125,
                        "count": 1
                      },
                      {
                        "bin_start": 0.62125,
                        "bin_end": 0.635,
                        "count": 1
                      },
                      {
                        "bin_start": 0.635,
                        "bin_end": 0.6487499999999999,
                        "count": 0
                      },
                      {
                        "bin_start": 0.6487499999999999,
                        "bin_end": 0.6625,
                        "count": 1
                      }
                    ]
                  }
                },
                {
                  "name": "precision",
                  "dtype": "float64",
                  "stats": {
                    "unique_count": 5,
                    "nan_count": 0,
                    "min": "0.5180652680652681",
                    "max": "0.6861904761904762",
                    "histogram": [
                      {
                        "bin_start": 0.5180652680652681,
                        "bin_end": 0.5348777888777889,
                        "count": 1
                      },
                      {
                        "bin_start": 0.5348777888777889,
                        "bin_end": 0.5516903096903097,
                        "count": 0
                      },
                      {
                        "bin_start": 0.5516903096903097,
                        "bin_end": 0.5685028305028306,
                        "count": 0
                      },
                      {
                        "bin_start": 0.5685028305028306,
                        "bin_end": 0.5853153513153514,
                        "count": 0
                      },
                      {
                        "bin_start": 0.5853153513153514,
                        "bin_end": 0.6021278721278722,
                        "count": 1
                      },
                      {
                        "bin_start": 0.6021278721278722,
                        "bin_end": 0.6189403929403929,
                        "count": 2
                      },
                      {
                        "bin_start": 0.6189403929403929,
                        "bin_end": 0.6357529137529138,
                        "count": 0
                      },
                      {
                        "bin_start": 0.6357529137529138,
                        "bin_end": 0.6525654345654346,
                        "count": 0
                      },
                      {
                        "bin_start": 0.6525654345654346,
                        "bin_end": 0.6693779553779554,
                        "count": 0
                      },
                      {
                        "bin_start": 0.6693779553779554,
                        "bin_end": 0.6861904761904762,
                        "count": 1
                      }
                    ]
                  }
                },
                {
                  "name": "recall",
                  "dtype": "float64",
                  "stats": {
                    "unique_count": 4,
                    "nan_count": 0,
                    "min": "0.6",
                    "max": "0.8",
                    "histogram": [
                      {
                        "bin_start": 0.6,
                        "bin_end": 0.62,
                        "count": 1
                      },
                      {
                        "bin_start": 0.62,
                        "bin_end": 0.64,
                        "count": 1
                      },
                      {
                        "bin_start": 0.64,
                        "bin_end": 0.66,
                        "count": 0
                      },
                      {
                        "bin_start": 0.66,
                        "bin_end": 0.68,
                        "count": 0
                      },
                      {
                        "bin_start": 0.68,
                        "bin_end": 0.7,
                        "count": 0
                      },
                      {
                        "bin_start": 0.7,
                        "bin_end": 0.72,
                        "count": 2
                      },
                      {
                        "bin_start": 0.72,
                        "bin_end": 0.74,
                        "count": 0
                      },
                      {
                        "bin_start": 0.74,
                        "bin_end": 0.76,
                        "count": 0
                      },
                      {
                        "bin_start": 0.76,
                        "bin_end": 0.78,
                        "count": 0
                      },
                      {
                        "bin_start": 0.78,
                        "bin_end": 0.8,
                        "count": 1
                      }
                    ]
                  }
                },
                {
                  "name": "roc_auc",
                  "dtype": "float64",
                  "stats": {
                    "unique_count": 5,
                    "nan_count": 0,
                    "min": "0.553125",
                    "max": "0.6890625",
                    "histogram": [
                      {
                        "bin_start": 0.553125,
                        "bin_end": 0.5667187499999999,
                        "count": 1
                      },
                      {
                        "bin_start": 0.5667187499999999,
                        "bin_end": 0.5803125,
                        "count": 0
                      },
                      {
                        "bin_start": 0.5803125,
                        "bin_end": 0.59390625,
                        "count": 1
                      },
                      {
                        "bin_start": 0.59390625,
                        "bin_end": 0.6075,
                        "count": 0
                      },
                      {
                        "bin_start": 0.6075,
                        "bin_end": 0.62109375,
                        "count": 0
                      },
                      {
                        "bin_start": 0.62109375,
                        "bin_end": 0.6346875000000001,
                        "count": 0
                      },
                      {
                        "bin_start": 0.6346875000000001,
                        "bin_end": 0.64828125,
                        "count": 0
                      },
                      {
                        "bin_start": 0.64828125,
                        "bin_end": 0.661875,
                        "count": 0
                      },
                      {
                        "bin_start": 0.661875,
                        "bin_end": 0.6754687500000001,
                        "count": 2
                      },
                      {
                        "bin_start": 0.6754687500000001,
                        "bin_end": 0.6890625,
                        "count": 1
                      }
                    ]
                  }
                },
                {
                  "name": "_deepnote_index_column",
                  "dtype": "int64"
                }
              ],
              "rows_top": [
                {
                  "classifier_name": "linear_svc",
                  "accuracy": 0.525,
                  "precision": 0.5180652680652681,
                  "recall": 0.8,
                  "roc_auc": 0.553125,
                  "_deepnote_index_column": 0
                },
                {
                  "classifier_name": "knn5",
                  "accuracy": 0.6125,
                  "precision": 0.6027777777777777,
                  "recall": 0.7,
                  "roc_auc": 0.675,
                  "_deepnote_index_column": 1
                },
                {
                  "classifier_name": "knn10",
                  "accuracy": 0.625,
                  "precision": 0.6063636363636363,
                  "recall": 0.7,
                  "roc_auc": 0.6890625,
                  "_deepnote_index_column": 2
                },
                {
                  "classifier_name": "DTC",
                  "accuracy": 0.5875,
                  "precision": 0.5961904761904762,
                  "recall": 0.6,
                  "roc_auc": 0.5875,
                  "_deepnote_index_column": 3
                },
                {
                  "classifier_name": "RFC",
                  "accuracy": 0.6625,
                  "precision": 0.6861904761904762,
                  "recall": 0.625,
                  "roc_auc": 0.6734375,
                  "_deepnote_index_column": 4
                }
              ],
              "rows_bottom": null
            },
            "text/plain": "  classifier_name  accuracy  precision  recall   roc_auc\n0      linear_svc    0.5250   0.518065   0.800  0.553125\n1            knn5    0.6125   0.602778   0.700  0.675000\n2           knn10    0.6250   0.606364   0.700  0.689063\n3             DTC    0.5875   0.596190   0.600  0.587500\n4             RFC    0.6625   0.686190   0.625  0.673438",
            "text/html": "<div>\n<style scoped>\n    .dataframe tbody tr th:only-of-type {\n        vertical-align: middle;\n    }\n\n    .dataframe tbody tr th {\n        vertical-align: top;\n    }\n\n    .dataframe thead th {\n        text-align: right;\n    }\n</style>\n<table border=\"1\" class=\"dataframe\">\n  <thead>\n    <tr style=\"text-align: right;\">\n      <th></th>\n      <th>classifier_name</th>\n      <th>accuracy</th>\n      <th>precision</th>\n      <th>recall</th>\n      <th>roc_auc</th>\n    </tr>\n  </thead>\n  <tbody>\n    <tr>\n      <th>0</th>\n      <td>linear_svc</td>\n      <td>0.5250</td>\n      <td>0.518065</td>\n      <td>0.800</td>\n      <td>0.553125</td>\n    </tr>\n    <tr>\n      <th>1</th>\n      <td>knn5</td>\n      <td>0.6125</td>\n      <td>0.602778</td>\n      <td>0.700</td>\n      <td>0.675000</td>\n    </tr>\n    <tr>\n      <th>2</th>\n      <td>knn10</td>\n      <td>0.6250</td>\n      <td>0.606364</td>\n      <td>0.700</td>\n      <td>0.689063</td>\n    </tr>\n    <tr>\n      <th>3</th>\n      <td>DTC</td>\n      <td>0.5875</td>\n      <td>0.596190</td>\n      <td>0.600</td>\n      <td>0.587500</td>\n    </tr>\n    <tr>\n      <th>4</th>\n      <td>RFC</td>\n      <td>0.6625</td>\n      <td>0.686190</td>\n      <td>0.625</td>\n      <td>0.673438</td>\n    </tr>\n  </tbody>\n</table>\n</div>"
          },
          "metadata": {}
        }
      ]
    },
    {
      "cell_type": "code",
      "metadata": {
        "tags": [],
        "deepnote_to_be_reexecuted": true,
        "source_hash": "b623e53d",
        "execution_millis": 2,
        "cell_id": "00060-89e941fa-0f32-4c3a-9799-9df225fcee54",
        "deepnote_cell_type": "code"
      },
      "source": "",
      "execution_count": null,
      "outputs": []
    },
    {
      "cell_type": "markdown",
      "source": "<a style='text-decoration:none;line-height:16px;display:flex;color:#5B5B62;padding:10px;justify-content:end;' href='https://deepnote.com?utm_source=created-in-deepnote-cell&projectId=2a47fbf6-c653-4328-90db-f0771def66a6' target=\"_blank\">\n<img alt='Created in deepnote.com' style='display:inline;max-height:16px;margin:0px;margin-right:7.5px;' src='data:image/svg+xml;base64,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' > </img>\nCreated in <span style='font-weight:600;margin-left:4px;'>Deepnote</span></a>",
      "metadata": {
        "tags": [],
        "created_in_deepnote_cell": true,
        "deepnote_cell_type": "markdown"
      }
    }
  ],
  "nbformat": 4,
  "nbformat_minor": 2,
  "metadata": {
    "orig_nbformat": 2,
    "deepnote_notebook_id": "b4dd4b6c-91f7-4fe7-b69f-06db230d997a",
    "deepnote": {},
    "deepnote_execution_queue": []
  }
}