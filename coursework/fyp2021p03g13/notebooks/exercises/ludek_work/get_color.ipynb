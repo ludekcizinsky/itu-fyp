{
  "cells": [
    {
      "cell_type": "code",
      "metadata": {
        "tags": [],
        "deepnote_to_be_reexecuted": false,
        "source_hash": "ee37355a",
        "execution_millis": 2661,
        "cell_id": "00000-6a3b71dd-5e73-46e1-a602-10774c174de6",
        "execution_start": 1619076313966,
        "deepnote_cell_type": "code"
      },
      "source": "import os\nimport sys\nBASE_DIR = f\"..{os.sep}..{os.sep}..{os.sep}\"\nUSE_DEEPNOTE = True # In case you would open this notebook via Deepnote\n\n# SCRIPTS IMPORT\nscripts_path = os.path.abspath(os.path.join(f'{BASE_DIR}scripts'))\n\nif scripts_path not in sys.path:\n    # Add the scripts to the path\n    sys.path.append(scripts_path)\n    \n    # Import the needed scripts\n    from all_scripts import *\n    \n    # Remove the added path to avoid possible future conflicts\n    sys.path.remove(scripts_path)\nelse:\n    \n    # Import the needed scripts\n    from all_scripts import *\n    \n    # Remove the added path to avoid possible future conflicts\n    sys.path.remove(scripts_path)\n\n# PLOTS COLOR SETTING - see more here: https://seaborn.pydata.org/generated/seaborn.color_palette.html#seaborn.color_palette\nPLOT_COLOR_SETTINGS = sns.color_palette(\"flare\", as_cmap=True)",
      "execution_count": null,
      "outputs": []
    },
    {
      "cell_type": "code",
      "metadata": {
        "tags": [],
        "cell_id": "00001-3022d5cb-03df-4324-8444-414218450289",
        "deepnote_to_be_reexecuted": false,
        "source_hash": "5942dba7",
        "execution_millis": 2,
        "execution_start": 1619076317386,
        "deepnote_cell_type": "code"
      },
      "source": "def rgb_to_hsv(r, g, b):\n\n    \"\"\"\n    Credit for the entire function goes to: \n    https://www.w3resource.com/python-exercises/math/python-math-exercise-77.php\n    \"\"\"\n    r, g, b = r/255.0, g/255.0, b/255.0\n    mx = max(r, g, b)\n    mn = min(r, g, b)\n    df = mx-mn\n    if mx == mn:\n        h = 0\n    elif mx == r:\n        h = (60 * ((g-b)/df) + 360) % 360\n    elif mx == g:\n        h = (60 * ((b-r)/df) + 120) % 360\n    elif mx == b:\n        h = (60 * ((r-g)/df) + 240) % 360\n    if mx == 0:\n        s = 0\n    else:\n        s = (df/mx)*100\n    v = mx*100\n    return h, s, v\n\ndef getColorFeatures(image, mask):\n\n    \"\"\"\n    TODO: Add rest of the description\n\n    This function computes the color brightness variations of an image, quantified as the IQR. This method \n    uses SLIC segmentation to select superpixels for grathering average regional color intensities. \n    These averages are converted to HSV to measure the spread of brightness ('Value') across all regions.\n\n    :image: RGB image read as numpy.array\n    :mask: Corresponding binary mask as numpy.array\n    :return: list with extracted features\n    \"\"\"\n\n    # Mask and crop image to only contain lesion\n    im_lesion = lesionMaskCrop(image, mask)\n\n    # Get SLIC boundaries\n    segments = slic(im_lesion, n_segments=250, compactness=50, sigma=1, start_label=1)\n\n    # Fetch RegionProps - this includes min/mean/max values for color intensity\n    regions = regionprops(segments, intensity_image=im_lesion)\n\n    # Access mean color intensity for each region\n    mean_intensity = [r.mean_intensity for r in regions]\n\n    # Get only segments with color in them\n    color_intensity = []\n    for mean in mean_intensity:\n        if sum(mean) != 0:\n            color_intensity.append(mean)\n    \n    # Convert RGB color means to HSV\n    color_mean_hsv = [rgb_to_hsv(col_int[0], col_int[1], col_int[2]) for col_int in color_intensity]\n\n    # Extract values for each channel\n    color_mean_hue = [hsv[0] for hsv in color_mean_hsv]\n    color_mean_satur = [hsv[1] for hsv in color_mean_hsv]\n    color_mean_value = [hsv[2] for hsv in color_mean_hsv]\n\n    # Compute different features based on the above values\n    # * Compute SD for hue\n    hue_sd = np.std(np.array(color_mean_hue))\n\n    # * Compute SD for satur\n    satur_sd = np.std(np.array(color_mean_satur))\n\n    # * Compute SD for value\n    value_sd =np.std(np.array(color_mean_value))\n\n    # * Computing IQR range for color values\n    q1 = np.quantile(color_mean_value, 0.25, interpolation='midpoint')\n    q3 = np.quantile(color_mean_value, 0.75, interpolation='midpoint')\n    iqr_val = q3 - q1\n    \n    return [hue_sd, satur_sd, value_sd, iqr_val]",
      "execution_count": null,
      "outputs": []
    },
    {
      "cell_type": "markdown",
      "source": "### Example 1",
      "metadata": {
        "tags": [],
        "cell_id": "00004-c65d5252-108f-4820-b905-544445b63847",
        "deepnote_cell_type": "markdown"
      }
    },
    {
      "cell_type": "code",
      "metadata": {
        "tags": [],
        "deepnote_to_be_reexecuted": false,
        "source_hash": "fad4b1b0",
        "execution_millis": 1383,
        "cell_id": "00005-e534cd91-a5f7-4d1d-959d-70298592864e",
        "execution_start": 1619076319665,
        "deepnote_cell_type": "code"
      },
      "source": "# Get image and mask\nfile_image = \"/datasets/exampleimages/\" + \"ISIC_0001852\" + '.jpg'\nimage = plt.imread(file_image)\nfile_mask = \"/datasets/examplesegmentation/\" + \"ISIC_0001852\" + '_segmentation.png'\nmask = plt.imread(file_mask)\n\ngetColorFeatures(image, mask)",
      "execution_count": null,
      "outputs": [
        {
          "name": "stdout",
          "text": "[150.45797101  90.10869565  57.65942029]\n(20.98046258843374, 61.67739076828235, 59.00312588803638)\n",
          "output_type": "stream"
        },
        {
          "output_type": "execute_result",
          "execution_count": 5,
          "data": {
            "text/plain": "[5.1800957921937645, 14.00137582294176, 17.191719355426034, 21.54553793603943]"
          },
          "metadata": {}
        }
      ]
    },
    {
      "cell_type": "code",
      "metadata": {
        "tags": [],
        "cell_id": "00005-f5a9e929-a143-4891-bd87-45e9aa57bb46",
        "deepnote_cell_type": "code"
      },
      "source": "",
      "execution_count": null,
      "outputs": []
    },
    {
      "cell_type": "markdown",
      "source": "<a style='text-decoration:none;line-height:16px;display:flex;color:#5B5B62;padding:10px;justify-content:end;' href='https://deepnote.com?utm_source=created-in-deepnote-cell&projectId=2a47fbf6-c653-4328-90db-f0771def66a6' target=\"_blank\">\n<img alt='Created in deepnote.com' style='display:inline;max-height:16px;margin:0px;margin-right:7.5px;' src='data:image/svg+xml;base64,PD94bWwgdmVyc2lvbj0iMS4wIiBlbmNvZGluZz0iVVRGLTgiPz4KPHN2ZyB3aWR0aD0iODBweCIgaGVpZ2h0PSI4MHB4IiB2aWV3Qm94PSIwIDAgODAgODAiIHZlcnNpb249IjEuMSIgeG1sbnM9Imh0dHA6Ly93d3cudzMub3JnLzIwMDAvc3ZnIiB4bWxuczp4bGluaz0iaHR0cDovL3d3dy53My5vcmcvMTk5OS94bGluayI+CiAgICA8IS0tIEdlbmVyYXRvcjogU2tldGNoIDU0LjEgKDc2NDkwKSAtIGh0dHBzOi8vc2tldGNoYXBwLmNvbSAtLT4KICAgIDx0aXRsZT5Hcm91cCAzPC90aXRsZT4KICAgIDxkZXNjPkNyZWF0ZWQgd2l0aCBTa2V0Y2guPC9kZXNjPgogICAgPGcgaWQ9IkxhbmRpbmciIHN0cm9rZT0ibm9uZSIgc3Ryb2tlLXdpZHRoPSIxIiBmaWxsPSJub25lIiBmaWxsLXJ1bGU9ImV2ZW5vZGQiPgogICAgICAgIDxnIGlkPSJBcnRib2FyZCIgdHJhbnNmb3JtPSJ0cmFuc2xhdGUoLTEyMzUuMDAwMDAwLCAtNzkuMDAwMDAwKSI+CiAgICAgICAgICAgIDxnIGlkPSJHcm91cC0zIiB0cmFuc2Zvcm09InRyYW5zbGF0ZSgxMjM1LjAwMDAwMCwgNzkuMDAwMDAwKSI+CiAgICAgICAgICAgICAgICA8cG9seWdvbiBpZD0iUGF0aC0yMCIgZmlsbD0iIzAyNjVCNCIgcG9pbnRzPSIyLjM3NjIzNzYyIDgwIDM4LjA0NzY2NjcgODAgNTcuODIxNzgyMiA3My44MDU3NTkyIDU3LjgyMTc4MjIgMzIuNzU5MjczOSAzOS4xNDAyMjc4IDMxLjY4MzE2ODMiPjwvcG9seWdvbj4KICAgICAgICAgICAgICAgIDxwYXRoIGQ9Ik0zNS4wMDc3MTgsODAgQzQyLjkwNjIwMDcsNzYuNDU0OTM1OCA0Ny41NjQ5MTY3LDcxLjU0MjI2NzEgNDguOTgzODY2LDY1LjI2MTk5MzkgQzUxLjExMjI4OTksNTUuODQxNTg0MiA0MS42NzcxNzk1LDQ5LjIxMjIyODQgMjUuNjIzOTg0Niw0OS4yMTIyMjg0IEMyNS40ODQ5Mjg5LDQ5LjEyNjg0NDggMjkuODI2MTI5Niw0My4yODM4MjQ4IDM4LjY0NzU4NjksMzEuNjgzMTY4MyBMNzIuODcxMjg3MSwzMi41NTQ0MjUgTDY1LjI4MDk3Myw2Ny42NzYzNDIxIEw1MS4xMTIyODk5LDc3LjM3NjE0NCBMMzUuMDA3NzE4LDgwIFoiIGlkPSJQYXRoLTIyIiBmaWxsPSIjMDAyODY4Ij48L3BhdGg+CiAgICAgICAgICAgICAgICA8cGF0aCBkPSJNMCwzNy43MzA0NDA1IEwyNy4xMTQ1MzcsMC4yNTcxMTE0MzYgQzYyLjM3MTUxMjMsLTEuOTkwNzE3MDEgODAsMTAuNTAwMzkyNyA4MCwzNy43MzA0NDA1IEM4MCw2NC45NjA0ODgyIDY0Ljc3NjUwMzgsNzkuMDUwMzQxNCAzNC4zMjk1MTEzLDgwIEM0Ny4wNTUzNDg5LDc3LjU2NzA4MDggNTMuNDE4MjY3Nyw3MC4zMTM2MTAzIDUzLjQxODI2NzcsNTguMjM5NTg4NSBDNTMuNDE4MjY3Nyw0MC4xMjg1NTU3IDM2LjMwMzk1NDQsMzcuNzMwNDQwNSAyNS4yMjc0MTcsMzcuNzMwNDQwNSBDMTcuODQzMDU4NiwzNy43MzA0NDA1IDkuNDMzOTE5NjYsMzcuNzMwNDQwNSAwLDM3LjczMDQ0MDUgWiIgaWQ9IlBhdGgtMTkiIGZpbGw9IiMzNzkzRUYiPjwvcGF0aD4KICAgICAgICAgICAgPC9nPgogICAgICAgIDwvZz4KICAgIDwvZz4KPC9zdmc+' > </img>\nCreated in <span style='font-weight:600;margin-left:4px;'>Deepnote</span></a>",
      "metadata": {
        "tags": [],
        "created_in_deepnote_cell": true,
        "deepnote_cell_type": "markdown"
      }
    }
  ],
  "nbformat": 4,
  "nbformat_minor": 2,
  "metadata": {
    "orig_nbformat": 2,
    "deepnote": {
      "is_reactive": false
    },
    "deepnote_notebook_id": "d7edb142-da3e-4e54-b86e-9c695f5ffa05",
    "deepnote_execution_queue": []
  }
}