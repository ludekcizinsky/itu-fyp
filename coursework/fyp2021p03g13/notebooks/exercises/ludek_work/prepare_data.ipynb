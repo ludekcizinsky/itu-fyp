{
  "cells": [
    {
      "cell_type": "markdown",
      "source": "<h2 style=\"color:#22198A\">PROJECT INFO</h2>",
      "metadata": {
        "tags": [],
        "cell_id": "00000-845a275f-bd0a-4008-87d9-f1fec4ed0412",
        "deepnote_cell_type": "markdown"
      }
    },
    {
      "cell_type": "markdown",
      "source": "<h3 style=\"color:green\">About project-03</h3>\n<p> The goal of this project is to find out if some characteristics of skin lesions can be reliably measured with a <b>smartphone app.</b> The\ncharacteristics the dermatologist is especially interested in are: asymmetry, border and color.</p>\n<p><b>Contact:</b> jtih@itu.dk, joap@itu.dk, luci@itu.dk</p>\n<p><b>Created:</b> 06. 04. 2021</p>\n<p><b>Last modified:</b> 22. 04. 2021 </p>",
      "metadata": {
        "tags": [],
        "cell_id": "00001-8901dd03-ec2a-48f8-8e25-d0b92e4667ec",
        "deepnote_cell_type": "markdown"
      }
    },
    {
      "cell_type": "markdown",
      "source": "<h2 style=\"color:#22198A\">NOTEBOOK SETUP</h2>\n<p>Before you start working with the notebook, please make sure to go through this setup to ensure smooth running. (by default, no changes should be needed if you just downloaded the repository)</p>\n<h3 style=\"color:green\">Important highlights</h3>\n<ul>\n<li><b>BASE_DIR:</b> This should lead to the root directory relative to the location of this notebook</li>\n<li><b>SCRIPTS IMPORT:</b> All scripts are saved within one file. In the file, there are comments splitting the whole file into sections which gather scripts with similar functionality, e.g. loading data. All functions should contain a docstring, which might be useful for any troubleshooting or just knowing how the given thing was implemented. The way the scripts are imported was implemented according to <a href='# https://stackoverflow.com/questions/34478398/import-local-function-from-a-module-housed-in-another-directory-with-relative-im\n'>this</a> SO question. <b>Once you run the below cell, all scripts should be loaded.</b></li>\n<li><b>PACKAGES USED WITHIN DIRECTORY: </b> In <b>all_scripts.py</b> you can see in the beginning all the packages used, but it is worth highlight these \"not so standard\" packages which you should make sure you have installed: <b>pandas, scipy.</b> Alternatively, you can also use provided <b>requirements.txt.</b></li>\n</ul>",
      "metadata": {
        "tags": [],
        "cell_id": "00002-ac814891-9564-4f02-8947-08794c8d239e",
        "deepnote_cell_type": "markdown"
      }
    },
    {
      "cell_type": "code",
      "metadata": {
        "tags": [],
        "deepnote_to_be_reexecuted": false,
        "source_hash": "ee37355a",
        "execution_millis": 1704,
        "cell_id": "00003-7690dc7c-32f9-42fb-855b-7ef1dff2f77d",
        "output_cleared": false,
        "execution_start": 1619001028719,
        "deepnote_cell_type": "code"
      },
      "source": "import os\nimport sys\nBASE_DIR = f\"..{os.sep}..{os.sep}..{os.sep}\"\nUSE_DEEPNOTE = True # In case you would open this notebook via Deepnote\n\n# SCRIPTS IMPORT\nscripts_path = os.path.abspath(os.path.join(f'{BASE_DIR}scripts'))\n\nif scripts_path not in sys.path:\n    # Add the scripts to the path\n    sys.path.append(scripts_path)\n    \n    # Import the needed scripts\n    from all_scripts import *\n    \n    # Remove the added path to avoid possible future conflicts\n    sys.path.remove(scripts_path)\nelse:\n    \n    # Import the needed scripts\n    from all_scripts import *\n    \n    # Remove the added path to avoid possible future conflicts\n    sys.path.remove(scripts_path)\n\n# PLOTS COLOR SETTING - see more here: https://seaborn.pydata.org/generated/seaborn.color_palette.html#seaborn.color_palette\nPLOT_COLOR_SETTINGS = sns.color_palette(\"flare\", as_cmap=True)",
      "execution_count": null,
      "outputs": []
    },
    {
      "cell_type": "markdown",
      "source": "<h2 style=\"color:#22198A\">CONSTANTS</h2>",
      "metadata": {
        "tags": [],
        "cell_id": "00004-e5d0085a-314a-4270-bbfd-21864c95aa87",
        "deepnote_cell_type": "markdown"
      }
    },
    {
      "cell_type": "code",
      "metadata": {
        "tags": [],
        "deepnote_to_be_reexecuted": false,
        "source_hash": "c6382320",
        "execution_millis": 3,
        "cell_id": "00005-eb3dd2b8-6f2b-404f-a946-e203442e22fd",
        "output_cleared": true,
        "execution_start": 1619001030426,
        "deepnote_cell_type": "code"
      },
      "source": "PATH_DATA = {\n    \"raw\": f\"{BASE_DIR}data{os.sep}raw{os.sep}\"\n}\n\nFILENAMES = {\n    \"GT_train_ISIC_2017\": \"ISIC-2017_Training_Part3_GroundTruth.csv\",\n    \"GT_validate_ISIC_2017\": \"ISIC-2017_Validation_Part3_GroundTruth.csv\",\n    \"GT_test_ISIC_2017\": \"ISIC-2017_Test_v2_Part3_GroundTruth.csv\",\n    \"meta_info\": \"ISIC_meta_data.csv\"\n}",
      "execution_count": null,
      "outputs": []
    },
    {
      "cell_type": "markdown",
      "source": "<h2 style=\"color:#22198A\">LOAD DATA</h2>",
      "metadata": {
        "tags": [],
        "cell_id": "00006-fda22ed6-2146-4041-bf73-e18a13ef1c2c",
        "deepnote_cell_type": "markdown"
      }
    },
    {
      "cell_type": "code",
      "metadata": {
        "tags": [],
        "deepnote_to_be_reexecuted": false,
        "source_hash": "6f6bed1f",
        "execution_millis": 11,
        "cell_id": "00007-10869feb-4bba-4b4e-b17c-64207ea66f84",
        "output_cleared": false,
        "execution_start": 1619001030431,
        "deepnote_cell_type": "code"
      },
      "source": " all_dfs_raw = {\n    \"train\": pd.read_csv(f\"{PATH_DATA['raw']}{FILENAMES['GT_train_ISIC_2017']}\"),\n    \"validate\": pd.read_csv(f\"{PATH_DATA['raw']}{FILENAMES['GT_validate_ISIC_2017']}\"),\n    \"test\": pd.read_csv(f\"{PATH_DATA['raw']}{FILENAMES['GT_test_ISIC_2017']}\")\n}",
      "execution_count": null,
      "outputs": []
    },
    {
      "cell_type": "markdown",
      "source": "<h2 style=\"color:#22198A\">Task 0: Explore the data, clean it and extract the features</h2>\n<p>Go through the data (csv file, images, segmentations) that you have available\nto understand what’s available to you, and write a brief description. Decide if\nthis data is sufficient, or if cleaning is needed. For example, what do you do with\nthe images that are malignant (cancer), but not of the class you want to focus\non? Are there images of low quality? Etc. You are allowed to search for and add\nother public dataset, to this set of images</p>\n<h3 style=\"color:green\">Brief summary</h3>\n<ul>\n<li><b>Source of data:</b> The data comes from the <a href = 'https://challenge.isic-archive.com/landing/2017'>2017 ISIC challenge.</a></li>\n</ul>",
      "metadata": {
        "tags": [],
        "cell_id": "00009-b35444c4-35e9-4d6a-b013-4f15cca73a78",
        "deepnote_cell_type": "markdown"
      }
    },
    {
      "cell_type": "markdown",
      "source": "<h3 style=\"color:green\">Initial exploration</h3>",
      "metadata": {
        "tags": [],
        "cell_id": "00009-a4971719-4a14-4a57-a902-bf5e977931cd",
        "deepnote_cell_type": "markdown"
      }
    },
    {
      "cell_type": "markdown",
      "source": "<h4 style=\"color:#ff9900\">Shape</h4>",
      "metadata": {
        "tags": [],
        "cell_id": "00009-46585ef9-a019-4d4a-91e4-df4cffd79640",
        "deepnote_cell_type": "markdown"
      }
    },
    {
      "cell_type": "code",
      "metadata": {
        "tags": [],
        "deepnote_to_be_reexecuted": false,
        "source_hash": "5f36f4cb",
        "execution_millis": 11,
        "cell_id": "00010-242964bf-b814-4007-91b5-dc52668006f2",
        "output_cleared": false,
        "execution_start": 1619001030445,
        "deepnote_cell_type": "code"
      },
      "source": "for name_df, df in all_dfs_raw.items():\n    print(f\"{name_df}: {df.shape}\")",
      "execution_count": null,
      "outputs": [
        {
          "name": "stdout",
          "text": "train: (2000, 3)\nvalidate: (150, 3)\ntest: (600, 3)\n",
          "output_type": "stream"
        }
      ]
    },
    {
      "cell_type": "markdown",
      "source": "<h4 style=\"color:#ff9900\">Are there any missing values?</h4>",
      "metadata": {
        "tags": [],
        "cell_id": "00011-9a2d4639-c259-44fd-98b1-d8c698566f26",
        "deepnote_cell_type": "markdown"
      }
    },
    {
      "cell_type": "code",
      "metadata": {
        "tags": [],
        "deepnote_to_be_reexecuted": false,
        "source_hash": "f8c1b70a",
        "execution_millis": 12,
        "cell_id": "00012-7e3bec9e-bc46-4b00-8777-c44d535bade0",
        "output_cleared": false,
        "execution_start": 1619001030453,
        "deepnote_cell_type": "code"
      },
      "source": "for name_df, df in all_dfs_raw.items():\n    print(f\"{name_df}:\\n{df.isnull().sum()}\\n\")",
      "execution_count": null,
      "outputs": [
        {
          "name": "stdout",
          "text": "train:\nimage_id                0\nmelanoma                0\nseborrheic_keratosis    0\ndtype: int64\n\nvalidate:\nimage_id                0\nmelanoma                0\nseborrheic_keratosis    0\ndtype: int64\n\ntest:\nimage_id                0\nmelanoma                0\nseborrheic_keratosis    0\ndtype: int64\n\n",
          "output_type": "stream"
        }
      ]
    },
    {
      "cell_type": "markdown",
      "source": "<h4 style=\"color:#ff9900\">What are the variable names?</h4>",
      "metadata": {
        "tags": [],
        "cell_id": "00013-70cc9fa3-0703-4079-9aef-6a1ff58647a2",
        "deepnote_cell_type": "markdown"
      }
    },
    {
      "cell_type": "code",
      "metadata": {
        "tags": [],
        "deepnote_to_be_reexecuted": false,
        "source_hash": "5009eb67",
        "execution_millis": 11,
        "cell_id": "00014-54baebff-ba78-4971-a60f-3d456a669b62",
        "output_cleared": false,
        "execution_start": 1619001030462,
        "deepnote_cell_type": "code"
      },
      "source": "for name_df, df in all_dfs_raw.items():\n    print(f\"{name_df}:\\n{list(df.columns)}\\n\")",
      "execution_count": null,
      "outputs": [
        {
          "name": "stdout",
          "text": "train:\n['image_id', 'melanoma', 'seborrheic_keratosis']\n\nvalidate:\n['image_id', 'melanoma', 'seborrheic_keratosis']\n\ntest:\n['image_id', 'melanoma', 'seborrheic_keratosis']\n\n",
          "output_type": "stream"
        }
      ]
    },
    {
      "cell_type": "markdown",
      "source": "<h4 style=\"color:#ff9900\">Can the same image contain example of both skin cancers?</h4>\nNo.",
      "metadata": {
        "tags": [],
        "cell_id": "00015-8d3cec10-2734-4212-affc-144f959e7e41",
        "deepnote_cell_type": "markdown"
      }
    },
    {
      "cell_type": "code",
      "metadata": {
        "tags": [],
        "cell_id": "00015-677d5fb4-ca7e-429b-8c36-34f9a457d163",
        "deepnote_to_be_reexecuted": false,
        "source_hash": "770261b0",
        "execution_millis": 26,
        "execution_start": 1619001030492,
        "deepnote_cell_type": "code"
      },
      "source": "for name_df, df in all_dfs_raw.items():\n    count_both = sum((df[\"melanoma\"] + df[\"seborrheic_keratosis\"]) > 2)\n    print(f\"{name_df}:\\n{count_both}\\n\")",
      "execution_count": null,
      "outputs": [
        {
          "name": "stdout",
          "text": "train:\n0\n\nvalidate:\n0\n\ntest:\n0\n\n",
          "output_type": "stream"
        }
      ]
    },
    {
      "cell_type": "markdown",
      "source": "<h3 style=\"color:green\">Explore the distribution of data</h3>",
      "metadata": {
        "tags": [],
        "cell_id": "00019-6dd5486b-7fa2-4f89-94ab-c71e77946206",
        "deepnote_cell_type": "markdown"
      }
    },
    {
      "cell_type": "markdown",
      "source": "<h4 style=\"color:#ff9900\">How many melanomas examples are there?</h4>",
      "metadata": {
        "tags": [],
        "cell_id": "00016-860344f0-6f5b-4292-8e90-4d700130d352",
        "deepnote_cell_type": "markdown"
      }
    },
    {
      "cell_type": "code",
      "metadata": {
        "tags": [],
        "cell_id": "00017-6c0c4147-6bad-48cb-ae38-e35b18871a8f",
        "deepnote_to_be_reexecuted": false,
        "source_hash": "67bd4bba",
        "execution_millis": 25,
        "execution_start": 1619001030494,
        "deepnote_cell_type": "code"
      },
      "source": "for name_df, df in all_dfs_raw.items():\n    print(f\"{name_df}:\\n{sum(df['melanoma'])/df.shape[0]*100} %\\n\")",
      "execution_count": null,
      "outputs": [
        {
          "name": "stdout",
          "text": "train:\n18.7 %\n\nvalidate:\n20.0 %\n\ntest:\n19.5 %\n\n",
          "output_type": "stream"
        }
      ]
    },
    {
      "cell_type": "markdown",
      "source": "<h4 style=\"color:#ff9900\">How many keratosis examples are there?</h4>",
      "metadata": {
        "tags": [],
        "cell_id": "00018-5b5ec919-ad9c-45cd-96c3-43385a869181",
        "deepnote_cell_type": "markdown"
      }
    },
    {
      "cell_type": "code",
      "metadata": {
        "tags": [],
        "cell_id": "00019-a4e5d492-76c9-4b92-92eb-e79414d662eb",
        "deepnote_to_be_reexecuted": false,
        "source_hash": "4eabe9d8",
        "execution_millis": 25,
        "execution_start": 1619001030494,
        "deepnote_cell_type": "code"
      },
      "source": "for name_df, df in all_dfs_raw.items():\n    print(f\"{name_df}:\\n{sum(df['seborrheic_keratosis'])/df.shape[0]*100} %\\n\")",
      "execution_count": null,
      "outputs": [
        {
          "name": "stdout",
          "text": "train:\n12.7 %\n\nvalidate:\n28.000000000000004 %\n\ntest:\n15.0 %\n\n",
          "output_type": "stream"
        }
      ]
    },
    {
      "cell_type": "markdown",
      "source": "<h4 style=\"color:#ff9900\">How many healthy examples are there?</h4>",
      "metadata": {
        "tags": [],
        "cell_id": "00020-9d5b2870-295d-4b2c-9aeb-bd19d959cb39",
        "deepnote_cell_type": "markdown"
      }
    },
    {
      "cell_type": "code",
      "metadata": {
        "tags": [],
        "cell_id": "00021-ca542aed-a206-4213-b111-4644108e9f85",
        "deepnote_to_be_reexecuted": false,
        "source_hash": "963669",
        "execution_millis": 23,
        "execution_start": 1619001030496,
        "deepnote_cell_type": "code"
      },
      "source": "for name_df, df in all_dfs_raw.items():\n    healthy = 1 - (sum(df['seborrheic_keratosis'])/df.shape[0] +  sum(df['melanoma'])/df.shape[0])\n    print(f\"{name_df}:\\n{healthy*100} %\\n\")",
      "execution_count": null,
      "outputs": [
        {
          "name": "stdout",
          "text": "train:\n68.6 %\n\nvalidate:\n52.0 %\n\ntest:\n65.5 %\n\n",
          "output_type": "stream"
        }
      ]
    },
    {
      "cell_type": "markdown",
      "source": "<h3 style=\"color:green\">Merge all the datasets into one</h3>",
      "metadata": {
        "tags": [],
        "cell_id": "00025-013b6914-a30a-41e8-88b1-7e2cd31c3b3f",
        "deepnote_cell_type": "markdown"
      }
    },
    {
      "cell_type": "code",
      "metadata": {
        "tags": [],
        "cell_id": "00026-56127aa7-2f3a-43b2-b239-b00149fd246c",
        "deepnote_to_be_reexecuted": false,
        "source_hash": "d0fa4dc9",
        "execution_millis": 90,
        "execution_start": 1619001030508,
        "deepnote_cell_type": "code"
      },
      "source": "all_data = all_dfs_raw[\"train\"].append(all_dfs_raw[\"validate\"], ignore_index=True).append(all_dfs_raw[\"test\"], ignore_index=True)\n\n# Make sure index is from 0 to N - 1\nall_data.reset_index(drop=True, inplace=True)\nall_data.head()",
      "execution_count": null,
      "outputs": [
        {
          "output_type": "execute_result",
          "execution_count": 11,
          "data": {
            "application/vnd.deepnote.dataframe.v2+json": {
              "row_count": 5,
              "column_count": 3,
              "columns": [
                {
                  "name": "image_id",
                  "dtype": "object",
                  "stats": {
                    "unique_count": 5,
                    "nan_count": 0,
                    "categories": [
                      {
                        "name": "ISIC_0000000",
                        "count": 1
                      },
                      {
                        "name": "ISIC_0000001",
                        "count": 1
                      },
                      {
                        "name": "3 others",
                        "count": 3
                      }
                    ]
                  }
                },
                {
                  "name": "melanoma",
                  "dtype": "float64",
                  "stats": {
                    "unique_count": 2,
                    "nan_count": 0,
                    "min": "0.0",
                    "max": "1.0",
                    "histogram": [
                      {
                        "bin_start": 0,
                        "bin_end": 0.1,
                        "count": 3
                      },
                      {
                        "bin_start": 0.1,
                        "bin_end": 0.2,
                        "count": 0
                      },
                      {
                        "bin_start": 0.2,
                        "bin_end": 0.30000000000000004,
                        "count": 0
                      },
                      {
                        "bin_start": 0.30000000000000004,
                        "bin_end": 0.4,
                        "count": 0
                      },
                      {
                        "bin_start": 0.4,
                        "bin_end": 0.5,
                        "count": 0
                      },
                      {
                        "bin_start": 0.5,
                        "bin_end": 0.6000000000000001,
                        "count": 0
                      },
                      {
                        "bin_start": 0.6000000000000001,
                        "bin_end": 0.7000000000000001,
                        "count": 0
                      },
                      {
                        "bin_start": 0.7000000000000001,
                        "bin_end": 0.8,
                        "count": 0
                      },
                      {
                        "bin_start": 0.8,
                        "bin_end": 0.9,
                        "count": 0
                      },
                      {
                        "bin_start": 0.9,
                        "bin_end": 1,
                        "count": 2
                      }
                    ]
                  }
                },
                {
                  "name": "seborrheic_keratosis",
                  "dtype": "float64",
                  "stats": {
                    "unique_count": 1,
                    "nan_count": 0,
                    "min": "0.0",
                    "max": "0.0",
                    "histogram": [
                      {
                        "bin_start": -0.5,
                        "bin_end": -0.4,
                        "count": 0
                      },
                      {
                        "bin_start": -0.4,
                        "bin_end": -0.3,
                        "count": 0
                      },
                      {
                        "bin_start": -0.3,
                        "bin_end": -0.19999999999999996,
                        "count": 0
                      },
                      {
                        "bin_start": -0.19999999999999996,
                        "bin_end": -0.09999999999999998,
                        "count": 0
                      },
                      {
                        "bin_start": -0.09999999999999998,
                        "bin_end": 0,
                        "count": 0
                      },
                      {
                        "bin_start": 0,
                        "bin_end": 0.10000000000000009,
                        "count": 5
                      },
                      {
                        "bin_start": 0.10000000000000009,
                        "bin_end": 0.20000000000000007,
                        "count": 0
                      },
                      {
                        "bin_start": 0.20000000000000007,
                        "bin_end": 0.30000000000000004,
                        "count": 0
                      },
                      {
                        "bin_start": 0.30000000000000004,
                        "bin_end": 0.4,
                        "count": 0
                      },
                      {
                        "bin_start": 0.4,
                        "bin_end": 0.5,
                        "count": 0
                      }
                    ]
                  }
                },
                {
                  "name": "_deepnote_index_column",
                  "dtype": "int64"
                }
              ],
              "rows_top": [
                {
                  "image_id": "ISIC_0000000",
                  "melanoma": 0,
                  "seborrheic_keratosis": 0,
                  "_deepnote_index_column": 0
                },
                {
                  "image_id": "ISIC_0000001",
                  "melanoma": 0,
                  "seborrheic_keratosis": 0,
                  "_deepnote_index_column": 1
                },
                {
                  "image_id": "ISIC_0000002",
                  "melanoma": 1,
                  "seborrheic_keratosis": 0,
                  "_deepnote_index_column": 2
                },
                {
                  "image_id": "ISIC_0000003",
                  "melanoma": 0,
                  "seborrheic_keratosis": 0,
                  "_deepnote_index_column": 3
                },
                {
                  "image_id": "ISIC_0000004",
                  "melanoma": 1,
                  "seborrheic_keratosis": 0,
                  "_deepnote_index_column": 4
                }
              ],
              "rows_bottom": null
            },
            "text/plain": "       image_id  melanoma  seborrheic_keratosis\n0  ISIC_0000000       0.0                   0.0\n1  ISIC_0000001       0.0                   0.0\n2  ISIC_0000002       1.0                   0.0\n3  ISIC_0000003       0.0                   0.0\n4  ISIC_0000004       1.0                   0.0",
            "text/html": "<div>\n<style scoped>\n    .dataframe tbody tr th:only-of-type {\n        vertical-align: middle;\n    }\n\n    .dataframe tbody tr th {\n        vertical-align: top;\n    }\n\n    .dataframe thead th {\n        text-align: right;\n    }\n</style>\n<table border=\"1\" class=\"dataframe\">\n  <thead>\n    <tr style=\"text-align: right;\">\n      <th></th>\n      <th>image_id</th>\n      <th>melanoma</th>\n      <th>seborrheic_keratosis</th>\n    </tr>\n  </thead>\n  <tbody>\n    <tr>\n      <th>0</th>\n      <td>ISIC_0000000</td>\n      <td>0.0</td>\n      <td>0.0</td>\n    </tr>\n    <tr>\n      <th>1</th>\n      <td>ISIC_0000001</td>\n      <td>0.0</td>\n      <td>0.0</td>\n    </tr>\n    <tr>\n      <th>2</th>\n      <td>ISIC_0000002</td>\n      <td>1.0</td>\n      <td>0.0</td>\n    </tr>\n    <tr>\n      <th>3</th>\n      <td>ISIC_0000003</td>\n      <td>0.0</td>\n      <td>0.0</td>\n    </tr>\n    <tr>\n      <th>4</th>\n      <td>ISIC_0000004</td>\n      <td>1.0</td>\n      <td>0.0</td>\n    </tr>\n  </tbody>\n</table>\n</div>"
          },
          "metadata": {}
        }
      ]
    },
    {
      "cell_type": "markdown",
      "source": "<h4 style=\"color:#ff9900\">Are all image IDs unique?</h4>",
      "metadata": {
        "tags": [],
        "cell_id": "00027-9b68abd8-4cfc-400e-b5c7-615651dc1a35",
        "deepnote_cell_type": "markdown"
      }
    },
    {
      "cell_type": "code",
      "metadata": {
        "tags": [],
        "cell_id": "00028-5fd57a3c-b9ee-499a-8d6e-b118a173b4c2",
        "deepnote_to_be_reexecuted": false,
        "source_hash": "79533ca5",
        "execution_millis": 62,
        "execution_start": 1619001030536,
        "deepnote_cell_type": "code"
      },
      "source": "unique_ids_count = len(pd.unique(all_data[\"image_id\"]))\nunique_ids_count == all_data.shape[0]",
      "execution_count": null,
      "outputs": [
        {
          "output_type": "execute_result",
          "execution_count": 12,
          "data": {
            "text/plain": "True"
          },
          "metadata": {}
        }
      ]
    },
    {
      "cell_type": "markdown",
      "source": "<h4 style=\"color:#ff9900\">Is index correspnding to our expecation?</h4>",
      "metadata": {
        "tags": [],
        "cell_id": "00029-405aee62-4d87-42e3-b94e-1bd0c81d5457",
        "deepnote_cell_type": "markdown"
      }
    },
    {
      "cell_type": "code",
      "metadata": {
        "tags": [],
        "cell_id": "00029-cae47d3f-3f27-4e35-9ff6-91dd041a6038",
        "deepnote_to_be_reexecuted": false,
        "source_hash": "181aef7d",
        "execution_millis": 70,
        "execution_start": 1619001030539,
        "deepnote_cell_type": "code"
      },
      "source": "current_indices = all_data.index.to_list()\nexpected_indices = [i for i in range(all_data.shape[0])]\ncurrent_indices == expected_indices",
      "execution_count": null,
      "outputs": [
        {
          "output_type": "execute_result",
          "execution_count": 13,
          "data": {
            "text/plain": "True"
          },
          "metadata": {}
        }
      ]
    },
    {
      "cell_type": "markdown",
      "source": "<h3 style=\"color:green\">Add meta data</h3>",
      "metadata": {
        "tags": [],
        "cell_id": "00029-35b71b4d-7a06-4519-800f-404a5e775d65",
        "deepnote_cell_type": "markdown"
      }
    },
    {
      "cell_type": "code",
      "metadata": {
        "tags": [],
        "cell_id": "00030-9495e24e-6694-4f3e-9f07-c0bf80b7c7d7",
        "deepnote_to_be_reexecuted": false,
        "source_hash": "e3947bf2",
        "execution_millis": 27263,
        "execution_start": 1619001030567,
        "deepnote_cell_type": "code"
      },
      "source": "all_data = getImageMetaData(all_data)",
      "execution_count": null,
      "outputs": []
    },
    {
      "cell_type": "code",
      "metadata": {
        "tags": [],
        "cell_id": "00033-96d1308c-67c0-40ca-9ab9-7612e79efc9b",
        "deepnote_to_be_reexecuted": false,
        "source_hash": "a9cbe14",
        "execution_start": 1619003098066,
        "execution_millis": 6,
        "deepnote_cell_type": "code"
      },
      "source": "# Check against missing values\nall_data.isnull().sum()",
      "execution_count": null,
      "outputs": [
        {
          "output_type": "execute_result",
          "execution_count": 34,
          "data": {
            "text/plain": "image_id                0\nmelanoma                0\nseborrheic_keratosis    0\ndb_id                   0\nsize_x                  0\nsize_y                  0\ndtype: int64"
          },
          "metadata": {}
        }
      ]
    },
    {
      "cell_type": "markdown",
      "source": "<h3 style=\"color:green\">Filter out too large images</h3>",
      "metadata": {
        "tags": [],
        "cell_id": "00031-10d80364-0d45-4587-b74b-26b8357b34d7",
        "deepnote_cell_type": "markdown"
      }
    },
    {
      "cell_type": "code",
      "metadata": {
        "tags": [],
        "cell_id": "00032-e1d2c239-5ce9-437c-8a29-2263039efe64",
        "deepnote_to_be_reexecuted": false,
        "source_hash": "46d735da",
        "execution_millis": 43,
        "execution_start": 1619001057836,
        "deepnote_cell_type": "code"
      },
      "source": "mask_x = all_data[\"size_x\"] <= 3200\nmask_y = all_data[\"size_y\"] <= 2100\nall_data = all_data[mask_x & mask_y]",
      "execution_count": null,
      "outputs": []
    },
    {
      "cell_type": "markdown",
      "source": "<h3 style=\"color:green\">Sample from all data</h3>",
      "metadata": {
        "tags": [],
        "cell_id": "00029-89231324-5dee-471d-a0b9-a004ff2284fc",
        "deepnote_cell_type": "markdown"
      }
    },
    {
      "cell_type": "code",
      "metadata": {
        "tags": [],
        "cell_id": "00031-66cd0e83-b812-4129-a79b-d217d4a864bd",
        "deepnote_to_be_reexecuted": false,
        "source_hash": "5a9d24ce",
        "execution_millis": 11,
        "execution_start": 1619003176550,
        "deepnote_cell_type": "code"
      },
      "source": "sampled_data = sampleFromAllData(all_data, 20, 0.2)",
      "execution_count": null,
      "outputs": []
    },
    {
      "cell_type": "markdown",
      "source": "<h3 style=\"color:green\">Build the model input csv</h3>",
      "metadata": {
        "tags": [],
        "cell_id": "00032-af090181-7303-4b32-9d61-9f455a3b8275",
        "deepnote_cell_type": "markdown"
      }
    },
    {
      "cell_type": "code",
      "metadata": {
        "tags": [],
        "cell_id": "00038-946a46ba-064d-4b2d-b2de-413b3ebd5bcf",
        "deepnote_to_be_reexecuted": false,
        "source_hash": "262aef77",
        "execution_millis": 44886,
        "execution_start": 1619001057880,
        "deepnote_cell_type": "code"
      },
      "source": "buildClassifierInput(sampled_data, chunk_size = 100, temp_img_fold = \"imageData/\")",
      "execution_count": null,
      "outputs": [
        {
          "name": "stdout",
          "text": "Data for image ISIC_0013525 were successfuly downloaded.\nData for image ISIC_0010231 were successfuly downloaded.\nData for image ISIC_0000531 were successfuly downloaded.\nData for image ISIC_0000552 were successfuly downloaded.\nData for image ISIC_0012962 were successfuly downloaded.\nData for image ISIC_0013725 were successfuly downloaded.\nData for image ISIC_0012432 were successfuly downloaded.\nData for image ISIC_0012833 were successfuly downloaded.\nData for image ISIC_0012250 were successfuly downloaded.\nData for image ISIC_0011168 were successfuly downloaded.\nData for image ISIC_0013220 were successfuly downloaded.\n/work/fyp2021p03g13/scripts/all_scripts.py:860: RuntimeWarning: invalid value encountered in double_scalars\n  z_score = (value - mean)/sd\nData for image ISIC_0000352 were successfuly downloaded.\nData for image ISIC_0016046 were successfuly downloaded.\nData for image ISIC_0013248 were successfuly downloaded.\nData for image ISIC_0000341 were successfuly downloaded.\nData for image ISIC_0012126 were successfuly downloaded.\nData for image ISIC_0011317 were successfuly downloaded.\nData for image ISIC_0013803 were successfuly downloaded.\nData for image ISIC_0011219 were successfuly downloaded.\nData for image ISIC_0010078 were successfuly downloaded.\n",
          "output_type": "stream"
        }
      ]
    },
    {
      "cell_type": "markdown",
      "source": "<a style='text-decoration:none;line-height:16px;display:flex;color:#5B5B62;padding:10px;justify-content:end;' href='https://deepnote.com?utm_source=created-in-deepnote-cell&projectId=2a47fbf6-c653-4328-90db-f0771def66a6' target=\"_blank\">\n<img alt='Created in deepnote.com' style='display:inline;max-height:16px;margin:0px;margin-right:7.5px;' src='data:image/svg+xml;base64,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' > </img>\nCreated in <span style='font-weight:600;margin-left:4px;'>Deepnote</span></a>",
      "metadata": {
        "tags": [],
        "created_in_deepnote_cell": true,
        "deepnote_cell_type": "markdown"
      }
    }
  ],
  "nbformat": 4,
  "nbformat_minor": 2,
  "metadata": {
    "orig_nbformat": 2,
    "deepnote_notebook_id": "ddedd592-82de-47a9-b842-5aacb58c196c",
    "deepnote": {},
    "deepnote_execution_queue": []
  }
}