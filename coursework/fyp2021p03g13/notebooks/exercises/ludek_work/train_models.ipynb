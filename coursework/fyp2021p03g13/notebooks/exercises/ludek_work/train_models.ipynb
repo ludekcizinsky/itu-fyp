{
  "cells": [
    {
      "cell_type": "markdown",
      "source": "# Initial setup",
      "metadata": {
        "tags": [],
        "cell_id": "00001-24c4a80e-3fdf-46fd-8831-b972a7e8cb55",
        "deepnote_cell_type": "markdown"
      }
    },
    {
      "cell_type": "code",
      "metadata": {
        "tags": [],
        "cell_id": "00001-31742003-2ee7-4b1f-91b6-a0f466807592",
        "deepnote_to_be_reexecuted": false,
        "source_hash": "5d1fa486",
        "execution_millis": 2253,
        "execution_start": 1618990658411,
        "deepnote_cell_type": "code"
      },
      "source": "import os\nBASE_DIR = f\"..{os.sep}..{os.sep}..{os.sep}\"\nUSE_DEEPNOTE = True # In case you would open this notebook via Deepnote\n\n# SCRIPTS IMPORT\nimport os\nimport sys\nscripts_path = os.path.abspath(os.path.join(f'{BASE_DIR}scripts'))\n\nif scripts_path not in sys.path:\n    # Add the scripts to the path\n    sys.path.append(scripts_path)\n    \n    # Import the needed scripts\n    from all_scripts import *\n    \n    # Remove the added path to avoid possible future conflicts\n    sys.path.remove(scripts_path)\nelse:\n    \n    # Import the needed scripts\n    from all_scripts import *\n    \n    # Remove the added path to avoid possible future conflicts\n    sys.path.remove(scripts_path)\n\n# PLOTS COLOR SETTING - see more here: https://seaborn.pydata.org/generated/seaborn.color_palette.html#seaborn.color_palette\nPLOT_COLOR_SETTINGS = sns.color_palette(\"flare\", as_cmap=True)",
      "outputs": [],
      "execution_count": null
    },
    {
      "cell_type": "markdown",
      "source": "# Load data, normalize data",
      "metadata": {
        "tags": [],
        "cell_id": "00001-702eaeff-84e1-4559-976e-b5c7b9987282",
        "deepnote_cell_type": "markdown"
      }
    },
    {
      "cell_type": "code",
      "metadata": {
        "tags": [],
        "cell_id": "00001-fa1acf3b-0223-4853-b5be-e47cc7bc2510",
        "deepnote_to_be_reexecuted": false,
        "source_hash": "57087c36",
        "execution_millis": 12,
        "execution_start": 1618990662394,
        "deepnote_cell_type": "code"
      },
      "source": "# Load the data\nFEATURES_UNNORMALIZED = pd.read_csv(\"../../models_input/melanoma_training.csv\")\n\n# Drop certain columns\nFEATURES_UNNORMALIZED = FEATURES_UNNORMALIZED.drop(['image_id'],axis=1)\n\n# Normalize the data\nFEATURES = normalizeFeatures(FEATURES_UNNORMALIZED)\n\n# Shuffle randomly the rows\nFEATURES = FEATURES.sample(frac=1).reset_index(drop=True)",
      "outputs": [],
      "execution_count": null
    },
    {
      "cell_type": "markdown",
      "source": "# Split the data into training and test",
      "metadata": {
        "tags": [],
        "cell_id": "00022-6c1d3c09-e6dd-4b83-b19e-7be1d97b0520",
        "deepnote_cell_type": "markdown"
      }
    },
    {
      "cell_type": "code",
      "metadata": {
        "tags": [],
        "cell_id": "00023-2b256fe8-3aa1-4aaa-a700-1f7da40ca023",
        "deepnote_to_be_reexecuted": false,
        "source_hash": "e86208a5",
        "execution_millis": 7,
        "execution_start": 1618990665413,
        "deepnote_cell_type": "code"
      },
      "source": "X_train, X_test, y_train, y_test = splitDataIntoTrainTest(FEATURES.iloc[:, 1:], FEATURES.iloc[:, 0])",
      "outputs": [],
      "execution_count": null
    },
    {
      "cell_type": "markdown",
      "source": "# Filter feature selection:\n\nUnivariate feature selection. \n\nSee more here: \n- https://scikit-learn.org/stable/modules/feature_selection.html \n- https://machinelearningmastery.com/feature-selection-with-real-and-categorical-data/",
      "metadata": {
        "tags": [],
        "cell_id": "00006-04735529-7090-4bf0-9a8f-01f497506940",
        "deepnote_cell_type": "markdown"
      }
    },
    {
      "cell_type": "markdown",
      "source": "Selecting features manually by score:",
      "metadata": {
        "tags": [],
        "cell_id": "00007-7237262c-43e2-4aa9-af7b-6c3c94025ab3",
        "deepnote_cell_type": "markdown"
      }
    },
    {
      "cell_type": "code",
      "metadata": {
        "tags": [],
        "cell_id": "00007-156a2ea0-5ef5-4a39-8cb7-330bebe6ec2f",
        "deepnote_to_be_reexecuted": false,
        "source_hash": "29b4c88b",
        "execution_millis": 121,
        "execution_start": 1619000271748,
        "deepnote_cell_type": "code"
      },
      "source": "# Mutual information for feature scoring\nfeature_scores = featureScores(X_train, y_train, k=2)\n\n# Get no. of features\nfeatures = len(feature_scores)\n\n# Visualize feature scores\nplt.bar(np.arange(0,features), feature_scores, width=.2)\nplt.show()",
      "outputs": [
        {
          "data": {
            "text/plain": "<Figure size 432x288 with 1 Axes>",
            "image/png": "[encoded data removed]"
          },
          "metadata": {
            "needs_background": "light"
          },
          "output_type": "display_data"
        }
      ],
      "execution_count": null
    },
    {
      "cell_type": "markdown",
      "source": "# Select and build classifiers",
      "metadata": {
        "tags": [],
        "cell_id": "00008-964930ec-0eda-48fe-9e0f-ca4a5393158e",
        "deepnote_cell_type": "markdown"
      }
    },
    {
      "cell_type": "code",
      "metadata": {
        "tags": [],
        "cell_id": "00009-d0f194e8-4194-4e74-8901-0d8279c0825a",
        "deepnote_to_be_reexecuted": false,
        "source_hash": "3a977214",
        "execution_millis": 18,
        "execution_start": 1618924088871,
        "deepnote_cell_type": "code"
      },
      "source": "CLFS = {\n    \"linear_svc\": svm.LinearSVC(max_iter = 5000),\n    \"knn5\": KNeighborsClassifier(n_neighbors=5),\n    \"knn10\": KNeighborsClassifier(n_neighbors=10)\n}",
      "execution_count": null,
      "outputs": []
    },
    {
      "cell_type": "markdown",
      "source": "# Evaluate the results using cross-validation\nRead this for interpretation and selection of best measure:\nhttps://towardsdatascience.com/accuracy-recall-precision-f-score-specificity-which-to-optimize-on-867d3f11124",
      "metadata": {
        "tags": [],
        "cell_id": "00010-e8407195-9297-4404-b004-f845936dccb8",
        "deepnote_cell_type": "markdown"
      }
    },
    {
      "cell_type": "code",
      "metadata": {
        "tags": [],
        "cell_id": "00028-d2edb434-e53d-496e-9cfc-6353c78f992d",
        "deepnote_to_be_reexecuted": false,
        "source_hash": "421d88a",
        "execution_millis": 1955,
        "execution_start": 1618924090911,
        "deepnote_cell_type": "code"
      },
      "source": "crossValidate(X_train, y_train, CLFS)",
      "execution_count": null,
      "outputs": [
        {
          "output_type": "execute_result",
          "execution_count": 7,
          "data": {
            "application/vnd.deepnote.dataframe.v2+json": {
              "row_count": 3,
              "column_count": 6,
              "columns": [
                {
                  "name": "classifier_name",
                  "dtype": "object",
                  "stats": {
                    "unique_count": 3,
                    "nan_count": 0,
                    "categories": [
                      {
                        "name": "linear_svc",
                        "count": 1
                      },
                      {
                        "name": "knn5",
                        "count": 1
                      },
                      {
                        "name": "knn10",
                        "count": 1
                      }
                    ]
                  }
                },
                {
                  "name": "accuracy",
                  "dtype": "float64",
                  "stats": {
                    "unique_count": 3,
                    "nan_count": 0,
                    "min": "0.5833333333333334",
                    "max": "0.6124999999999999",
                    "histogram": [
                      {
                        "bin_start": 0.5833333333333334,
                        "bin_end": 0.58625,
                        "count": 1
                      },
                      {
                        "bin_start": 0.58625,
                        "bin_end": 0.5891666666666667,
                        "count": 0
                      },
                      {
                        "bin_start": 0.5891666666666667,
                        "bin_end": 0.5920833333333333,
                        "count": 0
                      },
                      {
                        "bin_start": 0.5920833333333333,
                        "bin_end": 0.595,
                        "count": 0
                      },
                      {
                        "bin_start": 0.595,
                        "bin_end": 0.5979166666666667,
                        "count": 1
                      },
                      {
                        "bin_start": 0.5979166666666667,
                        "bin_end": 0.6008333333333333,
                        "count": 0
                      },
                      {
                        "bin_start": 0.6008333333333333,
                        "bin_end": 0.60375,
                        "count": 0
                      },
                      {
                        "bin_start": 0.60375,
                        "bin_end": 0.6066666666666666,
                        "count": 0
                      },
                      {
                        "bin_start": 0.6066666666666666,
                        "bin_end": 0.6095833333333333,
                        "count": 0
                      },
                      {
                        "bin_start": 0.6095833333333333,
                        "bin_end": 0.6124999999999999,
                        "count": 1
                      }
                    ]
                  }
                },
                {
                  "name": "f1",
                  "dtype": "float64",
                  "stats": {
                    "unique_count": 3,
                    "nan_count": 0,
                    "min": "0.3126602426077647",
                    "max": "0.429627988343759",
                    "histogram": [
                      {
                        "bin_start": 0.3126602426077647,
                        "bin_end": 0.3243570171813641,
                        "count": 1
                      },
                      {
                        "bin_start": 0.3243570171813641,
                        "bin_end": 0.3360537917549636,
                        "count": 0
                      },
                      {
                        "bin_start": 0.3360537917549636,
                        "bin_end": 0.347750566328563,
                        "count": 0
                      },
                      {
                        "bin_start": 0.347750566328563,
                        "bin_end": 0.3594473409021624,
                        "count": 0
                      },
                      {
                        "bin_start": 0.3594473409021624,
                        "bin_end": 0.37114411547576187,
                        "count": 0
                      },
                      {
                        "bin_start": 0.37114411547576187,
                        "bin_end": 0.3828408900493613,
                        "count": 0
                      },
                      {
                        "bin_start": 0.3828408900493613,
                        "bin_end": 0.3945376646229607,
                        "count": 1
                      },
                      {
                        "bin_start": 0.3945376646229607,
                        "bin_end": 0.4062344391965601,
                        "count": 0
                      },
                      {
                        "bin_start": 0.4062344391965601,
                        "bin_end": 0.41793121377015957,
                        "count": 0
                      },
                      {
                        "bin_start": 0.41793121377015957,
                        "bin_end": 0.429627988343759,
                        "count": 1
                      }
                    ]
                  }
                },
                {
                  "name": "precision",
                  "dtype": "float64",
                  "stats": {
                    "unique_count": 3,
                    "nan_count": 0,
                    "min": "0.4689586880683283",
                    "max": "0.5266859836234237",
                    "histogram": [
                      {
                        "bin_start": 0.4689586880683283,
                        "bin_end": 0.47473141762383786,
                        "count": 1
                      },
                      {
                        "bin_start": 0.47473141762383786,
                        "bin_end": 0.48050414717934736,
                        "count": 0
                      },
                      {
                        "bin_start": 0.48050414717934736,
                        "bin_end": 0.4862768767348569,
                        "count": 1
                      },
                      {
                        "bin_start": 0.4862768767348569,
                        "bin_end": 0.4920496062903664,
                        "count": 0
                      },
                      {
                        "bin_start": 0.4920496062903664,
                        "bin_end": 0.497822335845876,
                        "count": 0
                      },
                      {
                        "bin_start": 0.497822335845876,
                        "bin_end": 0.5035950654013855,
                        "count": 0
                      },
                      {
                        "bin_start": 0.5035950654013855,
                        "bin_end": 0.5093677949568951,
                        "count": 0
                      },
                      {
                        "bin_start": 0.5093677949568951,
                        "bin_end": 0.5151405245124046,
                        "count": 0
                      },
                      {
                        "bin_start": 0.5151405245124046,
                        "bin_end": 0.5209132540679141,
                        "count": 0
                      },
                      {
                        "bin_start": 0.5209132540679141,
                        "bin_end": 0.5266859836234237,
                        "count": 1
                      }
                    ]
                  }
                },
                {
                  "name": "recall",
                  "dtype": "float64",
                  "stats": {
                    "unique_count": 3,
                    "nan_count": 0,
                    "min": "0.23421052631578948",
                    "max": "0.4052631578947368",
                    "histogram": [
                      {
                        "bin_start": 0.23421052631578948,
                        "bin_end": 0.2513157894736842,
                        "count": 1
                      },
                      {
                        "bin_start": 0.2513157894736842,
                        "bin_end": 0.26842105263157895,
                        "count": 0
                      },
                      {
                        "bin_start": 0.26842105263157895,
                        "bin_end": 0.2855263157894737,
                        "count": 0
                      },
                      {
                        "bin_start": 0.2855263157894737,
                        "bin_end": 0.3026315789473684,
                        "count": 0
                      },
                      {
                        "bin_start": 0.3026315789473684,
                        "bin_end": 0.31973684210526315,
                        "count": 1
                      },
                      {
                        "bin_start": 0.31973684210526315,
                        "bin_end": 0.3368421052631579,
                        "count": 0
                      },
                      {
                        "bin_start": 0.3368421052631579,
                        "bin_end": 0.3539473684210526,
                        "count": 0
                      },
                      {
                        "bin_start": 0.3539473684210526,
                        "bin_end": 0.37105263157894736,
                        "count": 0
                      },
                      {
                        "bin_start": 0.37105263157894736,
                        "bin_end": 0.3881578947368421,
                        "count": 0
                      },
                      {
                        "bin_start": 0.3881578947368421,
                        "bin_end": 0.4052631578947368,
                        "count": 1
                      }
                    ]
                  }
                },
                {
                  "name": "roc_auc",
                  "dtype": "float64",
                  "stats": {
                    "unique_count": 3,
                    "nan_count": 0,
                    "min": "0.5543330308529946",
                    "max": "0.6348911070780399",
                    "histogram": [
                      {
                        "bin_start": 0.5543330308529946,
                        "bin_end": 0.5623888384754991,
                        "count": 2
                      },
                      {
                        "bin_start": 0.5623888384754991,
                        "bin_end": 0.5704446460980036,
                        "count": 0
                      },
                      {
                        "bin_start": 0.5704446460980036,
                        "bin_end": 0.5785004537205082,
                        "count": 0
                      },
                      {
                        "bin_start": 0.5785004537205082,
                        "bin_end": 0.5865562613430126,
                        "count": 0
                      },
                      {
                        "bin_start": 0.5865562613430126,
                        "bin_end": 0.5946120689655172,
                        "count": 0
                      },
                      {
                        "bin_start": 0.5946120689655172,
                        "bin_end": 0.6026678765880218,
                        "count": 0
                      },
                      {
                        "bin_start": 0.6026678765880218,
                        "bin_end": 0.6107236842105263,
                        "count": 0
                      },
                      {
                        "bin_start": 0.6107236842105263,
                        "bin_end": 0.6187794918330308,
                        "count": 0
                      },
                      {
                        "bin_start": 0.6187794918330308,
                        "bin_end": 0.6268352994555353,
                        "count": 0
                      },
                      {
                        "bin_start": 0.6268352994555353,
                        "bin_end": 0.6348911070780399,
                        "count": 1
                      }
                    ]
                  }
                },
                {
                  "name": "_deepnote_index_column",
                  "dtype": "int64"
                }
              ],
              "rows_top": [
                {
                  "classifier_name": "linear_svc",
                  "accuracy": 0.596875,
                  "f1": 0.3126602426077647,
                  "precision": 0.4815113871635612,
                  "recall": 0.23421052631578948,
                  "roc_auc": 0.6348911070780399,
                  "_deepnote_index_column": 0
                },
                {
                  "classifier_name": "knn5",
                  "accuracy": 0.5833333333333334,
                  "f1": 0.429627988343759,
                  "precision": 0.4689586880683283,
                  "recall": 0.4052631578947368,
                  "roc_auc": 0.5543330308529946,
                  "_deepnote_index_column": 1
                },
                {
                  "classifier_name": "knn10",
                  "accuracy": 0.6124999999999999,
                  "f1": 0.39284036082575857,
                  "precision": 0.5266859836234237,
                  "recall": 0.31578947368421056,
                  "roc_auc": 0.5553085299455536,
                  "_deepnote_index_column": 2
                }
              ],
              "rows_bottom": null
            },
            "text/plain": "  classifier_name  accuracy        f1  precision    recall   roc_auc\n0      linear_svc  0.596875  0.312660   0.481511  0.234211  0.634891\n1            knn5  0.583333  0.429628   0.468959  0.405263  0.554333\n2           knn10  0.612500  0.392840   0.526686  0.315789  0.555309",
            "text/html": "<div>\n<style scoped>\n    .dataframe tbody tr th:only-of-type {\n        vertical-align: middle;\n    }\n\n    .dataframe tbody tr th {\n        vertical-align: top;\n    }\n\n    .dataframe thead th {\n        text-align: right;\n    }\n</style>\n<table border=\"1\" class=\"dataframe\">\n  <thead>\n    <tr style=\"text-align: right;\">\n      <th></th>\n      <th>classifier_name</th>\n      <th>accuracy</th>\n      <th>f1</th>\n      <th>precision</th>\n      <th>recall</th>\n      <th>roc_auc</th>\n    </tr>\n  </thead>\n  <tbody>\n    <tr>\n      <th>0</th>\n      <td>linear_svc</td>\n      <td>0.596875</td>\n      <td>0.312660</td>\n      <td>0.481511</td>\n      <td>0.234211</td>\n      <td>0.634891</td>\n    </tr>\n    <tr>\n      <th>1</th>\n      <td>knn5</td>\n      <td>0.583333</td>\n      <td>0.429628</td>\n      <td>0.468959</td>\n      <td>0.405263</td>\n      <td>0.554333</td>\n    </tr>\n    <tr>\n      <th>2</th>\n      <td>knn10</td>\n      <td>0.612500</td>\n      <td>0.392840</td>\n      <td>0.526686</td>\n      <td>0.315789</td>\n      <td>0.555309</td>\n    </tr>\n  </tbody>\n</table>\n</div>"
          },
          "metadata": {}
        }
      ]
    },
    {
      "cell_type": "markdown",
      "source": "<a style='text-decoration:none;line-height:16px;display:flex;color:#5B5B62;padding:10px;justify-content:end;' href='https://deepnote.com?utm_source=created-in-deepnote-cell&projectId=2a47fbf6-c653-4328-90db-f0771def66a6' target=\"_blank\">\n<img alt='Created in deepnote.com' style='display:inline;max-height:16px;margin:0px;margin-right:7.5px;' src='data:image/svg+xml;base64,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' > </img>\nCreated in <span style='font-weight:600;margin-left:4px;'>Deepnote</span></a>",
      "metadata": {
        "tags": [],
        "created_in_deepnote_cell": true,
        "deepnote_cell_type": "markdown"
      }
    }
  ],
  "nbformat": 4,
  "nbformat_minor": 2,
  "metadata": {
    "orig_nbformat": 2,
    "deepnote": {
      "is_reactive": false
    },
    "deepnote_notebook_id": "07a044f6-dbd2-415b-8016-45ea3788adf6",
    "deepnote_execution_queue": []
  }
}