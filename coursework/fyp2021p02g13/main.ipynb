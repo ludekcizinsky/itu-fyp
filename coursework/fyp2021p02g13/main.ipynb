{
 "cells": [
  {
   "cell_type": "markdown",
   "metadata": {
    "cell_id": "00000-a04b7c62-c8eb-443f-a7ce-c7febd76baaa",
    "deepnote_cell_type": "markdown",
    "tags": []
   },
   "source": [
    "<h2 style=\"color:#22198A\">PROJECT INFO</h2>"
   ]
  },
  {
   "cell_type": "markdown",
   "metadata": {
    "cell_id": "00001-66acb737-f324-41c2-b396-25aeedf88bcf",
    "deepnote_cell_type": "markdown",
    "tags": []
   },
   "source": [
    "<h3 style=\"color:green\">About project-02</h3>\n",
    "<p> This project is focused on informing policy makers and epidemiologists in NL about possible associations between the spread of COVID-19 and the weather, urbanization and demographic variables which in turn should contribute to reducing the spread of COVID-19.\n",
    "<p><b>Contact:</b> luci@itu.dk, mdom@itu.dk, jses@itu.dk, mksi@itu.dk</p>\n",
    "<p><b>Created:</b> 02. 03. 2021</p>\n",
    "<p><b>Last modified:</b> 18. 03. 2021 </p>"
   ]
  },
  {
   "cell_type": "markdown",
   "metadata": {
    "cell_id": "00002-ae19272e-54c9-4749-b797-e85c8e65f2d3",
    "deepnote_cell_type": "markdown",
    "tags": []
   },
   "source": [
    "<h2 style=\"color:#22198A\">NOTEBOOK SETUP</h2>\n",
    "<p>Before you start working with the notebook, please make sure to go through this setup to ensure smooth running. (by default, no changes should be needed if you just downloaded the repository)</p>\n",
    "<h3 style=\"color:green\">Important highlights</h3>\n",
    "<ul>\n",
    "<li><b>BASE_DIR:</b> This should lead to the root directory relative to the location of this notebook</li>\n",
    "<li><b>SCRIPTS IMPORT:</b> All scripts are saved within one file. In the file, there are comments splitting the whole file into sections which gather scripts with similar functionality, e.g. loading data. All functions should contain a docstring, which might be useful for any troubleshooting or just knowing how the given thing was implemented. The way the scripts are imported was implemented according to <a href='# https://stackoverflow.com/questions/34478398/import-local-function-from-a-module-housed-in-another-directory-with-relative-im\n",
    "'>this</a> SO question. <b>Once you run the below cell, all scripts should be loaded.</b></li>\n",
    "<li><b>PACKAGES USED WITHIN DIRECTORY: </b> In <b>all_scripts.py</b> you can see in the beginning all the packages used, but it is worth highlight these \"not so standard\" packages which you should make sure you have installed: <b>pandas, seaborn (=0.11.1), statsmodels, scipy.</b></li>\n",
    "</ul>"
   ]
  },
  {
   "cell_type": "code",
   "execution_count": null,
   "metadata": {
    "cell_id": "00003-155204e0-518a-4fa1-9d21-758d3a328f4b",
    "deepnote_cell_type": "code",
    "deepnote_to_be_reexecuted": false,
    "execution_millis": 2335,
    "execution_start": 1616087027825,
    "output_cleared": true,
    "source_hash": "7cc278d7",
    "tags": []
   },
   "outputs": [],
   "source": [
    "BASE_DIR = \"\"\n",
    "USE_DEEPNOTE = False # In case you would open this notebook via Deepnote\n",
    "\n",
    "# SCRIPTS IMPORT\n",
    "import os\n",
    "import sys\n",
    "scripts_path = os.path.abspath(os.path.join(f'{BASE_DIR}scripts'))\n",
    "\n",
    "if scripts_path not in sys.path:\n",
    "    # Add the scripts to the path\n",
    "    sys.path.append(scripts_path)\n",
    "    \n",
    "    # Import the needed scripts\n",
    "    from all_scripts import *\n",
    "    \n",
    "    # Remove the added path to avoid possible future conflicts\n",
    "    sys.path.remove(scripts_path)\n",
    "else:\n",
    "    \n",
    "    # Import the needed scripts\n",
    "    from all_scripts import *\n",
    "    \n",
    "    # Remove the added path to avoid possible future conflicts\n",
    "    sys.path.remove(scripts_path)\n",
    "\n",
    "# PLOTS COLOR SETTING - see more here: https://seaborn.pydata.org/generated/seaborn.color_palette.html#seaborn.color_palette\n",
    "PLOT_COLOR_SETTINGS = sns.color_palette(\"flare\", as_cmap=True) # We use seaborn as plotting package and we want to be consistent with the colors we use"
   ]
  },
  {
   "cell_type": "markdown",
   "metadata": {
    "cell_id": "00004-8c2ffd9b-45a4-4a17-bd3d-b3ca63af4aa3",
    "deepnote_cell_type": "markdown",
    "tags": []
   },
   "source": [
    "<h2 style=\"color:#22198A\">CONSTANTS</h2>"
   ]
  },
  {
   "cell_type": "code",
   "execution_count": null,
   "metadata": {
    "cell_id": "00005-7e8355f5-5d19-4825-8d19-4d4979621018",
    "deepnote_cell_type": "code",
    "deepnote_to_be_reexecuted": false,
    "execution_millis": 4,
    "execution_start": 1616087030160,
    "output_cleared": true,
    "source_hash": "ad9e62e5",
    "tags": []
   },
   "outputs": [],
   "source": [
    "PATH_DATA = {\n",
    "    \"raw\": f\"{BASE_DIR}data/raw/\",\n",
    "    \"interim\": f\"{BASE_DIR}data/interim/\",\n",
    "    \"processed\": f\"{BASE_DIR}data/processed/\",\n",
    "    \"external\": f\"{BASE_DIR}data/external/\"\n",
    "}\n",
    "\n",
    "FILENAME_DATA = {\n",
    "    \"weather\": \"weather.csv\",\n",
    "    \"weather2\": \"weather2.csv\",\n",
    "    \"corona\": \"nl_corona.csv\",\n",
    "    \"metadata\": \"nl_metadata.json\",\n",
    "    \"shapefiles\": \"nl.geojson\",\n",
    "    \"weather_covid\": \"weather_covid.csv\",\n",
    "    \"external\": \"nl_external.json\"\n",
    "}"
   ]
  },
  {
   "cell_type": "markdown",
   "metadata": {
    "cell_id": "00006-f1ccbb29-3013-46f2-94b1-3ea2ea7dc4f1",
    "deepnote_cell_type": "markdown",
    "tags": []
   },
   "source": [
    "<h2 style=\"color:#22198A\">LOAD RAW DATA</h2>"
   ]
  },
  {
   "cell_type": "code",
   "execution_count": null,
   "metadata": {
    "cell_id": "00007-a3aa1705-d6c5-44bf-b70b-b007dd461f66",
    "deepnote_cell_type": "code",
    "deepnote_to_be_reexecuted": false,
    "execution_millis": 37,
    "execution_start": 1616087030201,
    "output_cleared": true,
    "source_hash": "ebbf5889",
    "tags": []
   },
   "outputs": [],
   "source": [
    "# Load data as a pandas dataframe - as a separator, use tab\n",
    "WEATHER1_RAW = load_data_pandas(f\"{PATH_DATA['raw']}{FILENAME_DATA['weather']}\", sep='\\t')\n",
    "WEATHER2_RAW = load_data_pandas(f\"{PATH_DATA['raw']}{FILENAME_DATA['weather2']}\", sep='\\t')\n",
    "NL_CORONA_RAW = load_data_pandas(f\"{PATH_DATA['raw']}{FILENAME_DATA['corona']}\", sep='\\t')\n",
    "\n",
    "# Load meta data from the json file\n",
    "METADATA_RAW = load_json(f\"{PATH_DATA['raw']}{FILENAME_DATA['metadata']}\")"
   ]
  },
  {
   "cell_type": "markdown",
   "metadata": {
    "cell_id": "00008-fc6fae72-64ac-41a4-b2a4-b36bfa4b4793",
    "deepnote_cell_type": "markdown",
    "tags": []
   },
   "source": [
    "<h2 style=\"color:#22198A\">Task 0: Data filtering and cleaning</h2>\n",
    "<h3 style=\"color:green\">Merge two weather datasets into one</h3>"
   ]
  },
  {
   "cell_type": "code",
   "execution_count": null,
   "metadata": {
    "cell_id": "00009-3b098534-1f56-4bb2-9d28-00aa9de4b746",
    "deepnote_cell_type": "code",
    "deepnote_to_be_reexecuted": false,
    "execution_millis": 4,
    "execution_start": 1616087030245,
    "output_cleared": true,
    "source_hash": "cc50fb52",
    "tags": []
   },
   "outputs": [],
   "source": [
    "# Append second weather dataset behind the first one\n",
    "WEATHER_RAW = WEATHER1_RAW.append(WEATHER2_RAW)"
   ]
  },
  {
   "cell_type": "markdown",
   "metadata": {
    "cell_id": "00010-43b74b38-2d7d-4db6-b06b-58e5afddae56",
    "deepnote_cell_type": "markdown",
    "tags": []
   },
   "source": [
    "<h3 style=\"color:green\">Missing values</h3>\n",
    "<h4 style=\"color:#ff9900\">WEATHER DATASET</h4>\n",
    "<p>Great, we can safely work with the weather dataset.</p>"
   ]
  },
  {
   "cell_type": "code",
   "execution_count": null,
   "metadata": {
    "cell_id": "00011-993cc7b7-ba5c-452f-b651-4b348915675d",
    "deepnote_cell_type": "code",
    "deepnote_to_be_reexecuted": false,
    "execution_millis": 39,
    "execution_start": 1616087030256,
    "output_cleared": false,
    "source_hash": "6edde6a4",
    "tags": []
   },
   "outputs": [],
   "source": [
    "# Count number of rows which have missing values\n",
    "WEATHER_RAW.isnull().sum()"
   ]
  },
  {
   "cell_type": "code",
   "execution_count": null,
   "metadata": {
    "cell_id": "00012-71139492-c645-4fb0-881c-0be7b8bc43e3",
    "deepnote_cell_type": "code",
    "deepnote_to_be_reexecuted": false,
    "execution_millis": 68,
    "execution_start": 1616087030312,
    "output_cleared": false,
    "source_hash": "809b810a",
    "tags": []
   },
   "outputs": [],
   "source": [
    "# Summary of shape\n",
    "n_rows, n_cols = WEATHER_RAW.shape\n",
    "print(f\"Number of rows is {n_rows} and number of columns is {n_cols}.\")"
   ]
  },
  {
   "cell_type": "code",
   "execution_count": null,
   "metadata": {
    "cell_id": "00013-4d416c3c-cebe-4e32-80de-a9c599e6b56a",
    "deepnote_cell_type": "code",
    "deepnote_to_be_reexecuted": false,
    "execution_millis": 84,
    "execution_start": 1616087030313,
    "output_cleared": false,
    "source_hash": "bae67bb9",
    "tags": []
   },
   "outputs": [],
   "source": [
    "WEATHER2_RAW.isnull().sum()"
   ]
  },
  {
   "cell_type": "code",
   "execution_count": null,
   "metadata": {
    "cell_id": "00014-47f4eecd-d2f7-4d36-bae0-da945d7db80a",
    "deepnote_cell_type": "code",
    "deepnote_to_be_reexecuted": false,
    "execution_millis": 39,
    "execution_start": 1616087030358,
    "output_cleared": false,
    "source_hash": "df113285",
    "tags": []
   },
   "outputs": [],
   "source": [
    "# Summary of shape\n",
    "n_rows, n_cols = WEATHER2_RAW.shape\n",
    "print(f\"Number of rows is {n_rows} and number of columns is {n_cols}.\")"
   ]
  },
  {
   "cell_type": "markdown",
   "metadata": {
    "cell_id": "00015-24ccd273-53fa-4a36-86a4-a0b778e8f073",
    "deepnote_cell_type": "markdown",
    "tags": []
   },
   "source": [
    "<h4 style=\"color:#ff9900\">CORONA (NL) DATASET</h4>\n",
    "<p>We will need to be aware of these. We will get rid of these when merging together weather and covid dataset - see a couple of cells below.</p>"
   ]
  },
  {
   "cell_type": "code",
   "execution_count": null,
   "metadata": {
    "cell_id": "00016-18d49657-2ded-48c1-b97b-708e5ebdae70",
    "deepnote_cell_type": "code",
    "deepnote_to_be_reexecuted": false,
    "execution_millis": 38,
    "execution_start": 1616087030359,
    "output_cleared": false,
    "source_hash": "cd280c37",
    "tags": []
   },
   "outputs": [],
   "source": [
    "# Count number of rows which have missing values\n",
    "NL_CORONA_RAW.isnull().sum()"
   ]
  },
  {
   "cell_type": "code",
   "execution_count": null,
   "metadata": {
    "cell_id": "00017-95e8d64b-95ba-45c3-bfdc-a9ad2960b570",
    "deepnote_cell_type": "code",
    "deepnote_to_be_reexecuted": false,
    "execution_millis": 37,
    "execution_start": 1616087030360,
    "output_cleared": false,
    "source_hash": "5bdf02b3",
    "tags": []
   },
   "outputs": [],
   "source": [
    "# Summary of shape\n",
    "n_rows, n_cols = NL_CORONA_RAW.shape\n",
    "print(f\"Number of rows is {n_rows} and number of columns is {n_cols}.\")"
   ]
  },
  {
   "cell_type": "markdown",
   "metadata": {
    "cell_id": "00018-8df2beb6-25d6-4ef0-b2ef-e779e6c522b1",
    "deepnote_cell_type": "markdown",
    "tags": []
   },
   "source": [
    "<h3 style=\"color:green\">FILTER OUT IRRELEVANT RECORDS</h3>\n",
    "<h4 style=\"color:#ff9900\">WEATHER DATASET</h4>\n",
    "<ul>\n",
    "<li>First, we know that column iso3166-2, by which we want to filter out NL records, does not have any missing values. Therefore, we can safely use this column to get only records relevant to the Netherlands.</li>\n",
    "<li>Second, we know that iso3166-2 has following format: <b>country_code-region_code</b>. We therefore split this column into two separate columns for easier handling. Based on the <a href=\"https://pandas.pydata.org/pandas-docs/stable/reference/api/pandas.Series.str.split.html\">pandas documentation</a> we decided to use the splitting string method which accepts the delimiter, number of splits and that the splitted series should be put into separate columns. In fact, for our purpose, we only need to add \"Country code\".</li>\n",
    "</ul>"
   ]
  },
  {
   "cell_type": "code",
   "execution_count": null,
   "metadata": {
    "cell_id": "00019-da062c8f-54ed-4a51-8f67-9cabddb4acac",
    "deepnote_cell_type": "code",
    "deepnote_to_be_reexecuted": false,
    "execution_millis": 29,
    "execution_start": 1616087030502,
    "output_cleared": false,
    "source_hash": "8c527cd3",
    "tags": []
   },
   "outputs": [],
   "source": [
    "# Split iso3166-2 column into two columns to easily filter records for the Netherlands and the Netherlands regions --> there will be two more columns in DF now\n",
    "county_region_codes = WEATHER_RAW['iso3166-2'].str.split('-', 1, expand=True)  # Returns a DF\n",
    "WEATHER_RAW['CountryCode'] = county_region_codes[0]\n",
    "\n",
    "# Filtering out weather data for the Netherlands\n",
    "WEATHER_RAW_NL = WEATHER_RAW[WEATHER_RAW['CountryCode'] == 'NL']\n",
    "WEATHER_RAW_NL.shape"
   ]
  },
  {
   "cell_type": "markdown",
   "metadata": {
    "cell_id": "00020-6bc36f36-fc9a-495a-a5eb-2621134222d5",
    "deepnote_cell_type": "markdown",
    "tags": []
   },
   "source": [
    "<h3 style=\"color:green\">VALUE ADJUSTMENTS</h3>\n",
    "<h4 style=\"color:#ff9900\">WEATHER DATASET</h4>\n",
    "<ul>\n",
    "<li><b>UV INDEX:</b> Sum operation was used to aggregate data per each day (values were measured each hour). We divide it by 24 to get an average value. Note: We are aware of the fact that this is not ideal since for example during the night UV is close to zero, but for the purpose of our analysis, it should not be a problem as long as we keep it in mind when interpretting. (as discussed with Michele during last lecture)</li>\n",
    "<li><b>Temperature Above Ground:</b> We just convert it from Kelvin to Celsius by subtracting 273 - it is reported as a daily average.</li>\n",
    "<li><b>RelativeHumiditySurface:</b> Stays as is - it is reported as a daily average (%).</li>\n",
    "<li><b>SolarRadiation:</b> We divide that by 24 - same explanation as for UV Index (Joul per square meters).</li>\n",
    "<li><b>Surfacepressure:</b> Daily sum - stays as is.</li>\n",
    "<li><b>Totalprecipitation:</b> Daily sum - stays as is.</li>\n",
    "<li><b>WindSpeed:</b> Stays as is - it is reported as a daily average (m/s).</li>\n",
    "</ul>"
   ]
  },
  {
   "cell_type": "code",
   "execution_count": null,
   "metadata": {
    "cell_id": "00021-e7aa4029-d65e-4796-b116-8daca967be34",
    "deepnote_cell_type": "code",
    "deepnote_to_be_reexecuted": false,
    "execution_millis": 143,
    "execution_start": 1616087030525,
    "output_cleared": false,
    "source_hash": "8026bb88",
    "tags": []
   },
   "outputs": [],
   "source": [
    "# UV Index\n",
    "uv_adjusted = WEATHER_RAW_NL.apply(lambda row: row['UVIndex']/24, axis=1)\n",
    "WEATHER_RAW_NL = WEATHER_RAW_NL.assign(**{'UVIndex': uv_adjusted})\n",
    "\n",
    "# TEMPERATURE ABOVE GROUND - from Kelvin to Celsius\n",
    "temp_adjusted = WEATHER_RAW_NL.apply(lambda row: row['TemperatureAboveGround'] - 273, axis=1)\n",
    "WEATHER_RAW_NL = WEATHER_RAW_NL.assign(**{'TemperatureAboveGround': temp_adjusted})\n",
    "\n",
    "# Solar radiation\n",
    "solar_adjusted = WEATHER_RAW_NL.apply(lambda row: row['SolarRadiation']/24, axis=1)\n",
    "WEATHER_RAW_NL = WEATHER_RAW_NL.assign(**{'SolarRadiation': solar_adjusted})\n",
    "WEATHER_RAW_NL.shape"
   ]
  },
  {
   "cell_type": "markdown",
   "metadata": {
    "cell_id": "00022-453032b6-9ea7-422a-8e1a-fdfedb9113ca",
    "deepnote_cell_type": "markdown",
    "tags": []
   },
   "source": [
    "<h4 style=\"color:#ff9900\">CORONA DATASET</h4>\n",
    "<ul>\n",
    "<li><b>REGION CODE:</b> Here, we use the metadata to map the region covid code to coresponding iso-3166 code. This will then help us when merging covid and weather datasets, which will now have date and iso3166-2 common columns.</li>\n",
    "</ul>"
   ]
  },
  {
   "cell_type": "code",
   "execution_count": null,
   "metadata": {
    "cell_id": "00023-a16952ae-767b-4485-a77b-d34adf206684",
    "deepnote_cell_type": "code",
    "deepnote_to_be_reexecuted": false,
    "execution_millis": 21,
    "execution_start": 1616087030696,
    "output_cleared": false,
    "source_hash": "893bb66f",
    "tags": []
   },
   "outputs": [],
   "source": [
    "# Create a dictionary where key will be covid region code and value iso3166-2_code\n",
    "covid_code_to_iso = {\n",
    "    country_info['covid_region_code']: country_info['iso3166-2_code'] for country_info in METADATA_RAW['country_metadata']\n",
    "}\n",
    "\n",
    "# Use this lookup dictionary to create a new column for the covid DF which will have values of iso codes for corresponding regions\n",
    "covid_iso_codes = [covid_code_to_iso[str(covid_code)] for covid_code in NL_CORONA_RAW['region_code']]\n",
    "\n",
    "# Add it as a new column to the covid data set\n",
    "NL_CORONA_RAW['iso3166-2'] = covid_iso_codes\n",
    "NL_CORONA_RAW.shape"
   ]
  },
  {
   "cell_type": "markdown",
   "metadata": {
    "cell_id": "00024-05c67866-8f38-4136-a0bb-c634dd49124a",
    "deepnote_cell_type": "markdown",
    "tags": []
   },
   "source": [
    "<h3 style=\"color:green\">MERGE WEATHER AND COVID DATASETS</h3>"
   ]
  },
  {
   "cell_type": "markdown",
   "metadata": {
    "cell_id": "00025-0994dab6-9b7b-4f8d-ac5e-937295628f59",
    "deepnote_cell_type": "markdown",
    "tags": []
   },
   "source": [
    "<h4 style=\"color:#ff9900\">MERGE DATASETS</h4>\n",
    "<p>As noted earlier, the two datasets have two common columns: 'date', 'iso3166-2'. We used inner join which takes the two common columns, finds the intersection between two dataframes based on these two columns and returns a merged dataframe. In total numbers before merge:</p>\n",
    "<ul>\n",
    "<li>\n",
    "WEATHER DATASET - NL ONLY: In total there are 4500 records which are from 13.2.2020 to 21.2.2021. There are 10 columns in total.\n",
    "</li>\n",
    "<li>\n",
    "CORONA DATASET - NL ONLY: In total there are 4344 records which are from 27.2.2020 to 22.2.2021. There are 10 columns in total.\n",
    "</li>\n",
    "</ul>\n",
    "<p>This means the difference between two datasets is 14 days. Since there are 12 regions, it means 12 records per day, which in total means 12*14 = 168 records. In other words, by this merge, we assume to lose 168 records. This is due to our decision to make sure that from both datasets there are records for both given date and given region. After merge, we have got 4332 records, which means 4332/12 = 361. This corresponds to the fact that data starts from 27.2.2020 and ends on 21.2.2021. Finally, the total number of column before merge was 10 + 10 = 20, and we know two columns were same, which corresponds to after merge number of columns which is 18.</p>"
   ]
  },
  {
   "cell_type": "code",
   "execution_count": null,
   "metadata": {
    "cell_id": "00026-c5130341-8b02-4f5c-a75e-f47ed66511d8",
    "deepnote_cell_type": "code",
    "deepnote_to_be_reexecuted": false,
    "execution_millis": 13,
    "execution_start": 1616087030743,
    "output_cleared": false,
    "source_hash": "cd999fc5",
    "tags": []
   },
   "outputs": [],
   "source": [
    "# Merge covid and weather data set\n",
    "WEATHER_COVID = WEATHER_RAW_NL.merge(NL_CORONA_RAW, how='inner', on=['date', 'iso3166-2'])\n",
    "WEATHER_COVID.shape"
   ]
  },
  {
   "cell_type": "markdown",
   "metadata": {
    "cell_id": "00027-2a385b4f-54a3-4040-b46d-b3269a991920",
    "deepnote_cell_type": "markdown",
    "tags": []
   },
   "source": [
    "<h4 style=\"color:#ff9900\">DROP ROWS: missing values in corona dataset</h4>\n",
    "<p>First, we want to identify the problematic rows.</p>"
   ]
  },
  {
   "cell_type": "code",
   "execution_count": null,
   "metadata": {
    "cell_id": "00028-36b931f5-6002-42e4-94f2-ec4a189833c5",
    "deepnote_cell_type": "code",
    "deepnote_to_be_reexecuted": false,
    "execution_millis": 11,
    "execution_start": 1616087030745,
    "output_cleared": false,
    "source_hash": "c8d56e34",
    "tags": []
   },
   "outputs": [],
   "source": [
    "WEATHER_COVID.isnull().sum()"
   ]
  },
  {
   "cell_type": "markdown",
   "metadata": {
    "cell_id": "00030-147cd103-7e6b-46de-9afc-80c5f99617ea",
    "deepnote_cell_type": "markdown",
    "tags": []
   },
   "source": [
    "<p>Let's examine during which period these missing values occur</p>"
   ]
  },
  {
   "cell_type": "code",
   "execution_count": null,
   "metadata": {
    "cell_id": "00031-cb9fdc50-93fa-425f-9a8b-4619c826c694",
    "deepnote_cell_type": "code",
    "deepnote_to_be_reexecuted": false,
    "execution_millis": 11,
    "execution_start": 1616087030745,
    "output_cleared": false,
    "source_hash": "d58366d4",
    "tags": []
   },
   "outputs": [],
   "source": [
    "for column in WEATHER_COVID.columns:\n",
    "    missing_rec_mask = WEATHER_COVID[column].isnull() # Should return TRUE or FALSE series\n",
    "    missing_records = WEATHER_COVID[missing_rec_mask] # Should return DF\n",
    "    if missing_records.shape[0] > 0:\n",
    "        print(f'Column name: {column.capitalize()}')\n",
    "        print(f'The records start on {missing_records[\"date\"].iloc[0]} and end on {missing_records[\"date\"].iloc[-1]}')\n",
    "        print()"
   ]
  },
  {
   "cell_type": "markdown",
   "metadata": {
    "cell_id": "00032-59f133ea-d4d4-47f8-8347-744b1805cbb2",
    "deepnote_cell_type": "markdown",
    "tags": []
   },
   "source": [
    "<p>Clearly, the problematic rows are within the dates 2020-02-27 and 2020-03-13 which corresponds to 16 days. (192 records) Let's examine cumulative measures on 2020-03-14.</p>"
   ]
  },
  {
   "cell_type": "code",
   "execution_count": null,
   "metadata": {
    "cell_id": "00033-f6de51d6-24a2-4a28-ba2c-0d65ef995472",
    "deepnote_cell_type": "code",
    "deepnote_to_be_reexecuted": false,
    "execution_millis": 14,
    "execution_start": 1616087030750,
    "output_cleared": false,
    "source_hash": "e3df0e56",
    "tags": []
   },
   "outputs": [],
   "source": [
    "for column in ['deceased_cumulative', 'hospitalized_cumulative', 'confirmed_cumulative']:\n",
    "    mask_date = WEATHER_COVID['date'] == '2020-03-14'\n",
    "    print(f'Column name: {column.capitalize()}')\n",
    "    print(f'Value as of 2020-03-14: {WEATHER_COVID[mask_date][column].iloc[0]}')\n",
    "    print()"
   ]
  },
  {
   "cell_type": "markdown",
   "metadata": {
    "cell_id": "00034-f43eeecd-2bb4-4332-a8aa-8396138d5b43",
    "deepnote_cell_type": "markdown",
    "tags": []
   },
   "source": [
    "<p>Altough first case in NL was on 27th of February, serious measures were deployed by governement around 12th of March according to <a href='https://en.wikipedia.org/wiki/COVID-19_pandemic_in_the_Netherlands'>this</a> Wikipedia article. Furthermore, according to above values, there were not many cases yet (this actually contradicts the Wikipedia article which claims there were 321 cases on March 9). Given these inputs, we made a decision that for the purpose of our analysis, we will drop these records.</p>"
   ]
  },
  {
   "cell_type": "code",
   "execution_count": null,
   "metadata": {
    "cell_id": "00035-44372b6d-8ac9-442a-bae2-16fc8e322ac8",
    "deepnote_cell_type": "code",
    "deepnote_to_be_reexecuted": false,
    "execution_millis": 16,
    "execution_start": 1616087030797,
    "output_cleared": false,
    "source_hash": "c5797fc8",
    "tags": []
   },
   "outputs": [],
   "source": [
    "WEATHER_COVID = WEATHER_COVID[WEATHER_COVID['hospitalized_addition'].notnull()]\n",
    "WEATHER_COVID.shape"
   ]
  },
  {
   "cell_type": "markdown",
   "metadata": {
    "cell_id": "00036-0829acb6-5740-44ab-b327-47d6a718e07b",
    "deepnote_cell_type": "markdown",
    "tags": []
   },
   "source": [
    "<h4 style=\"color:#ff9900\">DROP ROWS: negative values in confirmed, hospitalized cases</h4>\n",
    "<p>Finally, we want to validate that all corona measures are non-negative. Let's examine this.</p>"
   ]
  },
  {
   "cell_type": "code",
   "execution_count": null,
   "metadata": {
    "cell_id": "00037-062144c2-cd09-40a4-8f9d-572f8611e284",
    "deepnote_cell_type": "code",
    "deepnote_to_be_reexecuted": false,
    "execution_millis": 8,
    "execution_start": 1616087030847,
    "output_cleared": false,
    "source_hash": "f583367",
    "tags": []
   },
   "outputs": [],
   "source": [
    "for column in WEATHER_COVID.columns[12:]:\n",
    "    negative_vals_mask = WEATHER_COVID[column] < 0  # Returns series of booleans\n",
    "    negative_vals_df = WEATHER_COVID[negative_vals_mask]  # Returns a dataframe\n",
    "    if negative_vals_df.shape[0] > 0:\n",
    "        print(f'This column has negative values: {column}') \n",
    "        print(f'There are {negative_vals_df.shape[0]} such records.')\n",
    "        print()"
   ]
  },
  {
   "cell_type": "markdown",
   "metadata": {
    "cell_id": "00038-56206eb1-fa82-4507-8a43-ea2ccde30692",
    "deepnote_cell_type": "markdown",
    "tags": []
   },
   "source": [
    "<p>We looked for a reason for this within the github repository where the dataset is from, but we were only able to find the following <a href='https://github.com/J535D165/CoronaWatchNL/issues/180'>open issue</a>, which has been unanswered. Let's see whether there is any pattern when these values occur.</p>"
   ]
  },
  {
   "cell_type": "code",
   "execution_count": null,
   "metadata": {
    "cell_id": "00039-192b3719-a96f-4640-8825-99a62b88c6c4",
    "deepnote_cell_type": "code",
    "deepnote_to_be_reexecuted": false,
    "execution_millis": 2073,
    "execution_start": 1616087030848,
    "output_cleared": false,
    "source_hash": "bdb06cd9",
    "tags": []
   },
   "outputs": [],
   "source": [
    "# Setup figure\n",
    "sns.set(rc={'figure.figsize':(30,8)})\n",
    "fig_overview, axs = plt.subplots(1, 3);\n",
    "fig_overview.subplots_adjust(left=None, bottom=None, right=None,\n",
    "                    top=None, wspace=None, hspace=1.2)\n",
    "\n",
    "index = 0\n",
    "columns = ['confirmed_addition', 'hospitalized_addition', 'deceased_addition']\n",
    "for ax in axs:\n",
    "\n",
    "    # Get data\n",
    "    column = columns[index]\n",
    "    negative_vals_mask = WEATHER_COVID[column] < 0  # Returns series of booleans\n",
    "    negative_vals_df = WEATHER_COVID[negative_vals_mask]  # Returns a dataframe\n",
    "    Xs = negative_vals_df['date']\n",
    "    Ys = negative_vals_df[column]\n",
    "\n",
    "    # Plot the data\n",
    "    sns.scatterplot(x=Xs, y=Ys, ax=ax, palette=sns.color_palette(\"flare\"));\n",
    "\n",
    "    ax.set_title(f'Negative values - {column}', size=14)\n",
    "\n",
    "    # Set xticks\n",
    "    ax.set_xticks(ax.get_xticks())\n",
    "    ax.set_xticklabels(negative_vals_df['date'].unique(), rotation=45, ha='right');\n",
    "\n",
    "    index += 1"
   ]
  },
  {
   "cell_type": "markdown",
   "metadata": {
    "cell_id": "00040-54825708-5f71-4603-a965-ee30c7c61266",
    "deepnote_cell_type": "markdown",
    "tags": []
   },
   "source": [
    "<p>Looking purely on the dates, there is no clear pattern, so our assumption is that this might be the way to correct values. Let's see the total of these numbers.</p>"
   ]
  },
  {
   "cell_type": "code",
   "execution_count": null,
   "metadata": {
    "cell_id": "00041-53fb563c-6ba7-491c-a32d-f3495a5cf068",
    "deepnote_cell_type": "code",
    "deepnote_to_be_reexecuted": false,
    "execution_millis": 22,
    "execution_start": 1616087032913,
    "output_cleared": false,
    "source_hash": "91794470",
    "tags": []
   },
   "outputs": [],
   "source": [
    "columns = ['confirmed_addition', 'hospitalized_addition', 'deceased_addition']\n",
    "for column in columns:\n",
    "    negative_vals_mask = WEATHER_COVID[column] < 0  # Returns series of booleans\n",
    "    negative_vals_df = WEATHER_COVID[negative_vals_mask]  # Returns a dataframe\n",
    "    print(f'Column name: {column}')\n",
    "    print(f'The total sum of given column is: {WEATHER_COVID[column].sum()}')\n",
    "    print(f'The total sum is of negative values is: {negative_vals_df[column].sum()}, which is {round(abs(negative_vals_df[column].sum())/WEATHER_COVID[column].sum(), 5)*100} % of all values.')\n",
    "    print()"
   ]
  },
  {
   "cell_type": "markdown",
   "metadata": {
    "cell_id": "00042-5e2d82d6-cb71-474d-9c27-c1c285fe78d3",
    "deepnote_cell_type": "markdown",
    "tags": []
   },
   "source": [
    "<p>Given the small percentage and also the fact that there is not, at least according to our knowledge, a way how to find the values for the given day, or more precisely there might be a way, but for the scope of this project, it would not make much difference, therefore we decided to drop these records.</p>"
   ]
  },
  {
   "cell_type": "code",
   "execution_count": null,
   "metadata": {
    "cell_id": "00043-b62a8cd7-7bbe-4b59-bb34-1523bb4c6b14",
    "deepnote_cell_type": "code",
    "deepnote_to_be_reexecuted": false,
    "execution_millis": 35,
    "execution_start": 1616087032932,
    "output_cleared": false,
    "source_hash": "45b9d8",
    "tags": []
   },
   "outputs": [],
   "source": [
    "columns = ['confirmed_addition', 'hospitalized_addition', 'deceased_addition']\n",
    "for column in columns:\n",
    "    non_negative_mask = WEATHER_COVID[column] >= 0  # Returns series of booleans\n",
    "    WEATHER_COVID = WEATHER_COVID[non_negative_mask]\n",
    "WEATHER_COVID.shape"
   ]
  },
  {
   "cell_type": "markdown",
   "metadata": {
    "cell_id": "00044-facd973b-e2d5-40b6-bc77-ec64a020e82f",
    "deepnote_cell_type": "markdown",
    "tags": []
   },
   "source": [
    "<h4 style=\"color:#ff9900\">DROP COLUMNS</h4>\n",
    "<p>As part of cleaning our dataset, we dropped irrelevant columns for our analysis.</p>"
   ]
  },
  {
   "cell_type": "code",
   "execution_count": null,
   "metadata": {
    "cell_id": "00045-00b34250-4fb2-432a-a95a-86ee48756a76",
    "deepnote_cell_type": "code",
    "deepnote_to_be_reexecuted": false,
    "execution_millis": 21,
    "execution_start": 1616087032954,
    "output_cleared": false,
    "source_hash": "8f3cb23c",
    "tags": []
   },
   "outputs": [],
   "source": [
    "# Get rid of non-neccesary columns\n",
    "WEATHER_COVID = WEATHER_COVID.drop(labels=['region_code', 'CountryCode', 'deceased_cumulative', 'confirmed_cumulative', 'hospitalized_cumulative'], axis='columns')\n",
    "WEATHER_COVID.shape"
   ]
  },
  {
   "cell_type": "markdown",
   "metadata": {
    "cell_id": "00046-d92c1a32-8957-4d04-9248-ac8e2e69e6b6",
    "deepnote_cell_type": "markdown",
    "tags": []
   },
   "source": [
    "<h3 style=\"color:green\">PARSE DATE</h3>\n",
    "<ul>\n",
    "<li>We first parse the string which has following structure \"%Y-%m-%d\". This allows to use strings method to parse it into needed parts and save it as an int.</li>\n",
    "<li>Second, we get the week number by turning date column records into timestamps objects and the accessing its week attribute.</li>\n",
    "</ul>"
   ]
  },
  {
   "cell_type": "code",
   "execution_count": null,
   "metadata": {
    "cell_id": "00047-468e442f-5d09-46b1-b231-4c6b7e92dc9d",
    "deepnote_cell_type": "code",
    "deepnote_to_be_reexecuted": false,
    "execution_millis": 0,
    "execution_start": 1616087033047,
    "output_cleared": true,
    "source_hash": "692b3873",
    "tags": []
   },
   "outputs": [],
   "source": [
    "# date_parsed = df with following columns: Year, month, date\n",
    "date_parsed = WEATHER_COVID['date'].str.split('-', 2, expand=True)\n",
    "WEATHER_COVID['Year'] = date_parsed[0].astype(int)\n",
    "WEATHER_COVID['Month'] = date_parsed[1].astype(int)\n",
    "WEATHER_COVID['Day'] = date_parsed[2].astype(int)\n",
    "\n",
    "# Get week number\n",
    "date_modified = pd.to_datetime(WEATHER_COVID['date'], format=\"%Y-%m-%d\", origin=\"unix\") # Strings converted to pandas timestamp object\n",
    "WEATHER_COVID['Week'] = date_modified.dt.isocalendar().week.astype(int) # Use the timestamp object to access a week number"
   ]
  },
  {
   "cell_type": "markdown",
   "metadata": {
    "cell_id": "00048-51b216c4-bec4-4741-969a-84853e1ced93",
    "deepnote_cell_type": "markdown",
    "tags": []
   },
   "source": [
    "<h3 style=\"color:green\">META DATA INTEGRATION</h3>\n",
    "<p>In this part we want to integrate the population size for each region which will be useful in our further analysis.</p>"
   ]
  },
  {
   "cell_type": "code",
   "execution_count": null,
   "metadata": {
    "cell_id": "00049-dc1161ab-ff4c-4ad7-8635-444f1a92c50f",
    "deepnote_cell_type": "code",
    "deepnote_to_be_reexecuted": false,
    "execution_millis": 0,
    "execution_start": 1616087033048,
    "output_cleared": true,
    "source_hash": "d50c6c4c",
    "tags": []
   },
   "outputs": [],
   "source": [
    "# Get a mapping\n",
    "map_isocode_population = {'population_data': {}}\n",
    "map_isocode_population['population_data'] = {region_info['iso3166-2_code']: region_info['population'] for region_info in METADATA_RAW['country_metadata']}\n",
    "\n",
    "# Integrate the population to dataset\n",
    "WEATHER_COVID['population'] = WEATHER_COVID['iso3166-2'].map(map_isocode_population['population_data'])\n",
    "\n",
    "# Compute covid cases per capita\n",
    "WEATHER_COVID['cases_per_capita'] = WEATHER_COVID['confirmed_addition']/WEATHER_COVID['population']\n",
    "\n",
    "# Compute covid cases per 100k\n",
    "WEATHER_COVID['cases_per_100k'] = WEATHER_COVID['confirmed_addition']/WEATHER_COVID['population']*10**5"
   ]
  },
  {
   "cell_type": "markdown",
   "metadata": {
    "cell_id": "00048-4f01c3c7-8988-4b2f-ab63-6f735bcec485",
    "deepnote_cell_type": "markdown",
    "tags": []
   },
   "source": [
    "<h3 style=\"color:green\">DATA EXPLORATION</h3>"
   ]
  },
  {
   "cell_type": "markdown",
   "metadata": {
    "cell_id": "00049-985caad3-c617-460c-b4cb-6024e941f4f6",
    "deepnote_cell_type": "markdown",
    "tags": []
   },
   "source": [
    "<h4 style=\"color:#ff9900\">GEOGRAPHIC PERSPECTIVE</h4>\n"
   ]
  },
  {
   "cell_type": "code",
   "execution_count": null,
   "metadata": {
    "cell_id": "00050-678371d7-9b94-471f-a418-14eee69b24b8",
    "deepnote_cell_type": "code",
    "deepnote_to_be_reexecuted": false,
    "execution_millis": 123,
    "execution_start": 1616087033048,
    "output_cleared": false,
    "source_hash": "58a8f2f0",
    "tags": []
   },
   "outputs": [],
   "source": [
    "# Set which aggregation function you want to apply (pd.DataFrame.min, pd.DataFrame.mean, pd.DataFrame.median, pd.DataFrame.max)\n",
    "agg_func = pd.DataFrame.median\n",
    "\n",
    "# Create the DF report\n",
    "cols_to_exclude = ['date', 'iso3166-2', 'Year', 'Month', 'Day', 'Week', 'region_name']\n",
    "num_cols = [col_name for col_name in WEATHER_COVID.columns if col_name not in cols_to_exclude]\n",
    "aggregated_numeric_by_reg = WEATHER_COVID.groupby(['region_name'], as_index=False)[num_cols].apply(agg_func)\n",
    "aggregated_numeric_by_reg"
   ]
  },
  {
   "cell_type": "markdown",
   "metadata": {
    "cell_id": "00051-1ef87946-6287-47d5-bb5a-79b604c7e250",
    "deepnote_cell_type": "markdown",
    "tags": []
   },
   "source": [
    "<h4 style=\"color:#ff9900\">TIME PERSPECTIVE</h4>\n"
   ]
  },
  {
   "cell_type": "code",
   "execution_count": null,
   "metadata": {
    "cell_id": "00052-09f8859f-d846-4c0e-8f17-8c4e15e6d0eb",
    "deepnote_cell_type": "code",
    "deepnote_to_be_reexecuted": false,
    "execution_millis": 505,
    "execution_start": 1616087033165,
    "output_cleared": false,
    "source_hash": "b95858d7",
    "tags": []
   },
   "outputs": [],
   "source": [
    "# Create the DF report\n",
    "cols_to_exclude = ['date', 'iso3166-2', 'Year', 'Month', 'Day', 'Week', 'region_name']\n",
    "num_cols = [col_name for col_name in WEATHER_COVID.columns if col_name not in cols_to_exclude]\n",
    "aggregated_numeric_by_date = WEATHER_COVID.groupby(['date'], as_index=False)[num_cols].apply(pd.DataFrame.mean)\n",
    "aggregated_numeric_by_date"
   ]
  },
  {
   "cell_type": "markdown",
   "metadata": {
    "cell_id": "00053-299d9916-772c-4881-b589-bf8f266b4514",
    "deepnote_cell_type": "markdown",
    "tags": []
   },
   "source": [
    "<h4 style=\"color:#ff9900\">GENERAL PERSPECTIVE</h4>"
   ]
  },
  {
   "cell_type": "code",
   "execution_count": null,
   "metadata": {
    "cell_id": "00054-73038390-f196-4759-a1df-adf6f547106d",
    "deepnote_cell_type": "code",
    "deepnote_to_be_reexecuted": false,
    "execution_millis": 79,
    "execution_start": 1616087033610,
    "output_cleared": false,
    "source_hash": "8ee5176b",
    "tags": []
   },
   "outputs": [],
   "source": [
    "# Summary of missing values\n",
    "WEATHER_COVID.isnull().sum()"
   ]
  },
  {
   "cell_type": "code",
   "execution_count": null,
   "metadata": {
    "cell_id": "00055-19706224-dc6e-4654-8634-721d719ffe9e",
    "deepnote_cell_type": "code",
    "deepnote_to_be_reexecuted": false,
    "execution_millis": 68,
    "execution_start": 1616087033621,
    "output_cleared": false,
    "source_hash": "fafe24da",
    "tags": []
   },
   "outputs": [],
   "source": [
    "# Summary of shape\n",
    "n_rows, n_cols = WEATHER_COVID.shape\n",
    "print(f\"Number of rows is {n_rows} and number of columns is {n_cols}.\")"
   ]
  },
  {
   "cell_type": "markdown",
   "metadata": {
    "cell_id": "00056-1836b83d-c029-4f14-aba7-720637949671",
    "deepnote_cell_type": "markdown",
    "tags": []
   },
   "source": [
    "<h3 style=\"color:green\">SAVE THE CLEAN DATA TO INTERIM</h3>"
   ]
  },
  {
   "cell_type": "code",
   "execution_count": null,
   "metadata": {
    "cell_id": "00057-20af672b-f264-4621-918c-81e475c41ba4",
    "deepnote_cell_type": "code",
    "deepnote_to_be_reexecuted": false,
    "execution_millis": 100,
    "execution_start": 1616087033628,
    "output_cleared": true,
    "source_hash": "91bf7e80",
    "tags": []
   },
   "outputs": [],
   "source": [
    "save_df_to_csv(WEATHER_COVID, f\"{PATH_DATA['interim']}{FILENAME_DATA['weather_covid']}\")"
   ]
  },
  {
   "cell_type": "markdown",
   "metadata": {
    "cell_id": "00058-41a9f52b-25cc-4594-90aa-711a54e93c8d",
    "deepnote_cell_type": "markdown",
    "tags": []
   },
   "source": [
    "<h2 style=\"color:#22198A\">LOAD CLEAN DATA</h2>"
   ]
  },
  {
   "cell_type": "code",
   "execution_count": null,
   "metadata": {
    "cell_id": "00059-55539c28-e34a-45c5-831c-9ff0c67ba29b",
    "deepnote_cell_type": "code",
    "deepnote_to_be_reexecuted": false,
    "execution_millis": 0,
    "execution_start": 1616087033771,
    "output_cleared": true,
    "source_hash": "aafaed16",
    "tags": []
   },
   "outputs": [],
   "source": [
    "CLEAN_DATA = load_data_pandas(f\"{PATH_DATA['interim']}{FILENAME_DATA['weather_covid']}\", sep=',')\n",
    "METADATA = load_json(f\"{PATH_DATA['raw']}{FILENAME_DATA['metadata']}\")"
   ]
  },
  {
   "cell_type": "markdown",
   "metadata": {
    "cell_id": "00060-b951d7d1-453d-47ba-a3bb-7481862bb347",
    "deepnote_cell_type": "markdown",
    "tags": []
   },
   "source": [
    "<h2 style=\"color:#22198A\">Task 1: Single variable analysis</h2>\n",
    "<p>Report key statistics for the relevant variables you selected for your analysis: <b>Confirmed addition, UV INDEX</b>. Do so for:\n",
    "<br>\n",
    "1) the different country regions\n",
    "<br>\n",
    "2) in different levels of aggregation (daily, weekly, monthly).\n",
    "</p>"
   ]
  },
  {
   "cell_type": "markdown",
   "metadata": {
    "cell_id": "00061-3ef21639-d13e-4396-b05c-0af5335fb630",
    "deepnote_cell_type": "markdown",
    "tags": []
   },
   "source": [
    "<h3 style=\"color:green\">GEOGRAPHIC PERSPECTIVE</h3>"
   ]
  },
  {
   "cell_type": "markdown",
   "metadata": {
    "cell_id": "00062-6a14a395-da4a-4139-9717-efec6f37250d",
    "deepnote_cell_type": "markdown",
    "tags": []
   },
   "source": [
    "<h4 style=\"color:#ff9900\">OVERVIEW OF CORONA IMPACT BY REGION</h4>"
   ]
  },
  {
   "cell_type": "code",
   "execution_count": null,
   "metadata": {
    "cell_id": "00063-f655281d-16ad-4e45-80bc-f931d1608952",
    "deepnote_cell_type": "code",
    "deepnote_to_be_reexecuted": false,
    "execution_millis": 1948,
    "execution_start": 1616087033772,
    "output_cleared": false,
    "source_hash": "a3af1b27",
    "tags": []
   },
   "outputs": [],
   "source": [
    "# Setup figure\n",
    "sns.set(rc={'figure.figsize':(20,8)})\n",
    "fig_overview, axs = plt.subplots(1, 3);\n",
    "fig_overview.subplots_adjust(left=None, bottom=None, right=None,\n",
    "                    top=None, wspace=None, hspace=1.2)\n",
    "\n",
    "index = 0\n",
    "single_var_sel_cols = ['confirmed_addition', 'hospitalized_addition', 'deceased_addition']\n",
    "for ax in axs:\n",
    "\n",
    "    # Get column name\n",
    "    column_name = single_var_sel_cols[index]\n",
    "\n",
    "    # Calculate total number of cases per region\n",
    "    region_df = CLEAN_DATA.groupby(['iso3166-2'], as_index=False)[column_name].sum()\n",
    "\n",
    "    # Incorporate population size for each dataframe\n",
    "    region_population_name = {reg_info['iso3166-2_code']: (reg_info['population'], reg_info['iso3166-2_name_en']) for reg_info in METADATA['country_metadata']}\n",
    "    region_df['population_size'] = [region_population_name[reg_code][0] for reg_code in region_df['iso3166-2']]\n",
    "\n",
    "    # Add also corresponding region name\n",
    "    region_df['region_name'] = [region_population_name[reg_code][1] for reg_code in region_df['iso3166-2']]\n",
    "\n",
    "    # Calculate cases per capita\n",
    "    region_df['cases_per_capita'] = region_df[column_name]/region_df['population_size']\n",
    "\n",
    "    # Sort the df\n",
    "    region_df = region_df.sort_values('cases_per_capita', ascending=False)\n",
    "\n",
    "    # Plot\n",
    "    sns.barplot(x='region_name', y='cases_per_capita', data=region_df, ax=ax, palette=sns.color_palette(\"flare\", n_colors=len(region_df['region_name'])))\n",
    "\n",
    "    # Set labels and title\n",
    "    if index == 0:\n",
    "        ax.set_ylabel('Frequency per capita', size=13)\n",
    "    else:\n",
    "        ax.set_ylabel('')\n",
    "    \n",
    "    ax.set_xlabel('')\n",
    "\n",
    "    ax.set_title(f'Total {\" \".join(column_name.split(\"_\")).capitalize()} per capita\\nfrom 2020-03-14 to 2021-02-21', fontweight=\"bold\", fontsize=14)\n",
    "\n",
    "    # Set xticks\n",
    "    ax.set_xticklabels(region_df['region_name'], rotation=45, ha='right')\n",
    "\n",
    "    index += 1\n",
    "\n",
    "# Create a figure\n",
    "fig_overview.savefig(f'{BASE_DIR}figures/figure1.png', orientation='landscape')"
   ]
  },
  {
   "cell_type": "markdown",
   "metadata": {
    "cell_id": "00064-b6829b71-b5ae-400a-a974-dbe1deb85bf8",
    "deepnote_cell_type": "markdown",
    "tags": []
   },
   "source": [
    "<h4 style=\"color:#ff9900\">CONFIRMED CASES - REGION BY REGION</h4>"
   ]
  },
  {
   "cell_type": "code",
   "execution_count": null,
   "metadata": {
    "cell_id": "00065-2f777d3b-20db-4e0b-bd94-7d41f4cf2ec6",
    "deepnote_cell_type": "code",
    "deepnote_to_be_reexecuted": false,
    "execution_millis": 3514,
    "execution_start": 1616087035731,
    "output_cleared": false,
    "source_hash": "8aead976",
    "tags": []
   },
   "outputs": [],
   "source": [
    "# Setup figure\n",
    "sns.set(rc={'figure.figsize':(20,10)})\n",
    "fig, axs = plt.subplots(4, 3);\n",
    "fig.subplots_adjust(left=None, bottom=None, right=None,\n",
    "                    top=None, wspace=None, hspace=2)\n",
    "\n",
    "# Plot the data\n",
    "index = 0\n",
    "regions = CLEAN_DATA['region_name'].unique() # Should return 12 regions\n",
    "for row in axs:\n",
    "    for ax in row:\n",
    "        # Get aggregation by Month for the given region\n",
    "        region_mask = CLEAN_DATA['region_name'] == regions[index]\n",
    "        reg_month_aggregation = CLEAN_DATA[region_mask].groupby(['Year', 'Month'], as_index=False)['confirmed_addition'].sum()\n",
    "\n",
    "        # Combine year and month column into one\n",
    "        year_month_df = pd.concat([reg_month_aggregation['Year'].astype(str), reg_month_aggregation['Month'].astype(str)], axis=1)\n",
    "        reg_month_aggregation['Year - Month'] = year_month_df.agg('-'.join, axis=1)\n",
    "\n",
    "        # Get population size for the given region\n",
    "        region_population_name = {reg_info['iso3166-2_code']: (reg_info['population'], reg_info['iso3166-2_name_en']) for reg_info in METADATA['country_metadata']}\n",
    "        region_iso_code = CLEAN_DATA[region_mask]['iso3166-2'].iloc[0] # Returns first item from pandas series\n",
    "        population_size = region_population_name[region_iso_code][0]\n",
    "\n",
    "        # Calculate cases per capita and add it as a new column\n",
    "        reg_month_aggregation = reg_month_aggregation.assign(**{'cases_per_capita': reg_month_aggregation['confirmed_addition']/population_size})\n",
    "\n",
    "        # Plot the data to given ax\n",
    "        sns.lineplot(x='Year - Month', y='cases_per_capita', data=reg_month_aggregation, color=\"#22198A\", palette=PLOT_COLOR_SETTINGS, ax=ax)\n",
    "\n",
    "\n",
    "        # Add labels\n",
    "        if index in [9, 10, 11]:\n",
    "            ax.set_xlabel(\"Year - Month\", size=13);\n",
    "        else:\n",
    "            ax.set_xlabel(\"\");\n",
    "        \n",
    "        if index in [0, 3, 6, 9]:\n",
    "            ax.set_ylabel(\"Confirmed\\ncases per capita\", size = 12);\n",
    "        else:\n",
    "            ax.set_ylabel(\"\");\n",
    "        ax.set_title(label=f\"{regions[index]}\", size=14, weight=\"bold\", color=\"green\");\n",
    "\n",
    "        # Set y-limit\n",
    "        ax.set_ylim(0, 0.03)\n",
    "\n",
    "        # Adjust xticks\n",
    "        old_xticks_monthly = ax.get_xticks()\n",
    "        new_xticks = [old_xticks_monthly[i] for i in range(0, len(old_xticks_monthly), 1)]\n",
    "        new_xticks_labels = reg_month_aggregation['Year - Month'].unique()\n",
    "        new_labels = [new_xticks_labels[i] for i in range(0, len(old_xticks_monthly), 1)]\n",
    "        ax.set_xticks(new_xticks);\n",
    "        ax.set_xticklabels(new_labels, rotation=45);\n",
    "\n",
    "        index += 1\n",
    "\n",
    "# Set figure title\n",
    "fig.suptitle('Number of confirmed cases\\nper capita per given month (2020-03 - 2021-02)', fontsize=16, weight=\"bold\", color=\"#22198A\");\n",
    "\n",
    "# Save the figure\n",
    "fig.savefig(f'{BASE_DIR}figures/figure2.png', orientation='landscape')"
   ]
  },
  {
   "cell_type": "markdown",
   "metadata": {
    "cell_id": "00066-2cf6d451-0d0e-4e95-ad5a-eef3292726fc",
    "deepnote_cell_type": "markdown",
    "tags": []
   },
   "source": [
    "<h4 style=\"color:#ff9900\">UVINDEX - REGION BY REGION</h4>"
   ]
  },
  {
   "cell_type": "code",
   "execution_count": null,
   "metadata": {
    "cell_id": "00067-46527fdb-f8d7-46b6-92c4-3ad10811fd99",
    "deepnote_cell_type": "code",
    "deepnote_to_be_reexecuted": false,
    "execution_millis": 3331,
    "execution_start": 1616087039246,
    "output_cleared": false,
    "source_hash": "4d49a7d1",
    "tags": []
   },
   "outputs": [],
   "source": [
    "# Setup figure\n",
    "sns.set(rc={'figure.figsize':(20,10)})\n",
    "fig, axs = plt.subplots(4, 3);\n",
    "fig.subplots_adjust(left=None, bottom=None, right=None,\n",
    "                    top=None, wspace=None, hspace=2)\n",
    "\n",
    "# Plot the data\n",
    "index = 0\n",
    "regions = CLEAN_DATA['region_name'].unique() # Should return 12 regions\n",
    "for row in axs:\n",
    "    for ax in row:\n",
    "        # Get aggregation by Month for the given region\n",
    "        region_mask = CLEAN_DATA['region_name'] == regions[index]\n",
    "        reg_month_aggregation = CLEAN_DATA[region_mask].groupby(['Year', 'Month'], as_index=False)['UVIndex'].mean()\n",
    "\n",
    "        # Combine year and month column into one\n",
    "        year_month_df = pd.concat([reg_month_aggregation['Year'].astype(str), reg_month_aggregation['Month'].astype(str)], axis=1)\n",
    "        reg_month_aggregation['Year - Month'] = year_month_df.agg('-'.join, axis=1)\n",
    "        \n",
    "        # Plot the data to given ax\n",
    "        sns.lineplot(x='Year - Month', y='UVIndex', data=reg_month_aggregation, color=\"#22198A\", palette=PLOT_COLOR_SETTINGS, ax=ax)\n",
    "\n",
    "        # Add labels\n",
    "        if index in [9, 10, 11]:\n",
    "            ax.set_xlabel(\"Year - Month\", size=13);\n",
    "        else:\n",
    "            ax.set_xlabel(\"\");\n",
    "        \n",
    "        if index in [0, 3, 6, 9]:\n",
    "            ax.set_ylabel(\"Mean of\\nUVindex\", size = 13);\n",
    "        else:\n",
    "            ax.set_ylabel(\"\");\n",
    "        ax.set_title(label=f\"{regions[index]}\", size=14, weight=\"bold\", color=\"green\");\n",
    "\n",
    "        # Set y-limit\n",
    "        ax.set_ylim(0, 2.5)\n",
    "\n",
    "        # Adjust xticks\n",
    "        old_xticks_monthly = ax.get_xticks()\n",
    "        new_xticks = [old_xticks_monthly[i] for i in range(0, len(old_xticks_monthly), 1)]\n",
    "        new_xticks_labels = reg_month_aggregation['Year - Month'].unique()\n",
    "        new_labels = [new_xticks_labels[i] for i in range(0, len(old_xticks_monthly), 1)]\n",
    "        ax.set_xticks(new_xticks);\n",
    "        ax.set_xticklabels(new_labels, rotation=45);\n",
    "\n",
    "        index += 1\n",
    "\n",
    "# Set figure title\n",
    "fig.suptitle('Mean of UV index\\nper given month (2020-03 - 2021-02)', fontsize=16, weight=\"bold\", color=\"#22198A\");\n",
    "\n",
    "# Save figure\n",
    "fig.savefig(f'{BASE_DIR}figures/figure3.png', orientation='landscape')"
   ]
  },
  {
   "cell_type": "markdown",
   "metadata": {
    "cell_id": "00068-0ae2acb6-d827-48ee-97c0-40acf122833b",
    "deepnote_cell_type": "markdown",
    "tags": []
   },
   "source": [
    "<h3 style=\"color:green\">DAILY PERSPECTIVE</h3>\n",
    "<p>The thick line represents the mean of values from all regions, the background transparent color then represents standard deviation.</p>"
   ]
  },
  {
   "cell_type": "markdown",
   "metadata": {
    "cell_id": "00069-bcef11db-a642-44dd-8014-4770412f379b",
    "deepnote_cell_type": "markdown",
    "tags": []
   },
   "source": [
    "<h4 style=\"color:#ff9900\">DAILY - CONFIRMED CASES</h4>"
   ]
  },
  {
   "cell_type": "code",
   "execution_count": null,
   "metadata": {
    "cell_id": "00070-94e5d77b-07aa-4b30-a10e-f6d118a36aff",
    "deepnote_cell_type": "code",
    "deepnote_to_be_reexecuted": false,
    "execution_millis": 69,
    "execution_start": 1616087042567,
    "output_cleared": false,
    "source_hash": "39cf9419",
    "tags": []
   },
   "outputs": [],
   "source": [
    "CLEAN_DATA['confirmed_addition'].describe()"
   ]
  },
  {
   "cell_type": "markdown",
   "metadata": {
    "cell_id": "00071-9a4eb2a4-453c-4566-acb2-c68b9b4a75ce",
    "deepnote_cell_type": "markdown",
    "tags": []
   },
   "source": [
    "<h4 style=\"color:#ff9900\">DAILY - UV Index</h4>"
   ]
  },
  {
   "cell_type": "code",
   "execution_count": null,
   "metadata": {
    "cell_id": "00072-d8ce4b94-d18a-4300-a2f7-1158ee533030",
    "deepnote_cell_type": "code",
    "deepnote_to_be_reexecuted": false,
    "execution_millis": 33,
    "execution_start": 1616087042603,
    "output_cleared": false,
    "source_hash": "4d4d0497",
    "tags": []
   },
   "outputs": [],
   "source": [
    "CLEAN_DATA['UVIndex'].describe()"
   ]
  },
  {
   "cell_type": "markdown",
   "metadata": {
    "cell_id": "00073-6042cb6a-287d-43fc-917b-dfed74a61981",
    "deepnote_cell_type": "markdown",
    "tags": []
   },
   "source": [
    "<h4 style=\"color:#ff9900\">DAILY - ONE FIGURE</h4>"
   ]
  },
  {
   "cell_type": "code",
   "execution_count": null,
   "metadata": {
    "cell_id": "00074-ca56a3c2-01d7-4d32-983d-72cebcdb0c39",
    "deepnote_cell_type": "code",
    "deepnote_to_be_reexecuted": false,
    "execution_millis": 1471,
    "execution_start": 1616087042659,
    "output_cleared": false,
    "source_hash": "b540f433",
    "tags": []
   },
   "outputs": [],
   "source": [
    "# Set up figure\n",
    "sns.set(rc={'figure.figsize':(20,10)})\n",
    "fig, axs = plt.subplots(2, 1);\n",
    "\n",
    "# Deal with dates properly\n",
    "fig.autofmt_xdate()\n",
    "\n",
    "# Plot the data\n",
    "index = 0\n",
    "for ax in axs:\n",
    "\n",
    "    # Plot1\n",
    "    if index == 0:\n",
    "\n",
    "        # Plot the values (ci = standard deviation, hue = which categories to highlight)\n",
    "        sns.lineplot(x=date_modified, y='confirmed_addition', data=CLEAN_DATA, palette=PLOT_COLOR_SETTINGS, hue='Year', ax=ax, ci='sd', estimator=pd.DataFrame.mean)\n",
    "\n",
    "        # Add labels\n",
    "        ax.set(xlabel=\"Year - Month\", ylabel=\"Mean and SD of\\nconfirmed cases\");\n",
    "        ax.set_title(label=\"Mean and SD of confirmed cases per given day\", size=15, weight=\"bold\");\n",
    "\n",
    "        # Adjust legend\n",
    "        ax.legend(title='Year', loc='upper right', labels=[2020, 2021]);\n",
    "    \n",
    "    # Plot 2\n",
    "    elif index == 1:\n",
    "\n",
    "        # Plot the values (ci = standard deviation, hue = which categories to highlight)\n",
    "        sns.lineplot(x=date_modified, y='UVIndex', data=CLEAN_DATA, palette=PLOT_COLOR_SETTINGS, hue='Year', ax=ax, ci='sd', estimator=pd.DataFrame.mean)\n",
    "\n",
    "        # Add labels\n",
    "        ax.set(xlabel=\"Year-Month\", ylabel=\"Mean and SD of\\nadjusted UVIndex\");\n",
    "        ax.set_title(label=\"Mean and SD of adjusted UVIndex per given day\", size=15, weight=\"bold\");\n",
    "\n",
    "        # Adjust legend\n",
    "        ax.legend(title='Year', loc='upper right', labels=[2020, 2021]);\n",
    "    \n",
    "    index += 1\n",
    "\n",
    "# Save figure\n",
    "fig.savefig(f'{BASE_DIR}figures/figure4.png', orientation='landscape')"
   ]
  },
  {
   "cell_type": "markdown",
   "metadata": {
    "cell_id": "00075-f6574daf-d715-4df8-90a2-6910a07a7970",
    "deepnote_cell_type": "markdown",
    "tags": []
   },
   "source": [
    "<h3 style=\"color:green\">WEEKLY PERSPECTIVE</h3>\n",
    "<p>The thick line represents the mean of values from all regions, the background transparent color then represents standard deviation.</p>"
   ]
  },
  {
   "cell_type": "markdown",
   "metadata": {
    "cell_id": "00076-c0a2280b-2e04-443a-8335-3b440ada73da",
    "deepnote_cell_type": "markdown",
    "tags": []
   },
   "source": [
    "<h4 style=\"color:#ff9900\">WEEKLY - CONFIRMED CASES</h4>"
   ]
  },
  {
   "cell_type": "code",
   "execution_count": null,
   "metadata": {
    "cell_id": "00077-bf2d1cf2-c62f-48b1-8ec5-7e7c859420c8",
    "deepnote_cell_type": "code",
    "deepnote_to_be_reexecuted": false,
    "execution_millis": 89,
    "execution_start": 1616087044243,
    "output_cleared": false,
    "source_hash": "10165915",
    "tags": []
   },
   "outputs": [],
   "source": [
    "# Get aggregation by week\n",
    "week_aggregation = CLEAN_DATA.groupby(['Year', 'Week', 'region_name'], as_index=False)['confirmed_addition'].sum()\n",
    "\n",
    "# Combine year and week column into one\n",
    "week_year_df = pd.concat([week_aggregation['Year'].astype(str), week_aggregation['Week'].astype(str)], axis=1)\n",
    "week_aggregation['Year - Week'] = week_year_df.agg('-'.join, axis=1)\n",
    "\n",
    "# We also need to handle exception: Last week of 2020 has 3 days in 2021 --> we therefore consider these days to be still under week \"53\"\n",
    "# Get correct values first by summing corresponding regions together wirhin week 53\n",
    "w53_y2021 = week_aggregation[week_aggregation['Year - Week'] == '2021-53']['confirmed_addition'].reset_index(drop=True)\n",
    "w53_y2020 = week_aggregation[week_aggregation['Year - Week'] == '2020-53']['confirmed_addition'].reset_index(drop=True)\n",
    "corrected_vals = pd.concat((w53_y2020, w53_y2021), axis=1).sum(axis=1)\n",
    "\n",
    "# Second, use these values to replace values of year 2020 week 53\n",
    "w53_y2020_mask = week_aggregation['Year - Week'] == '2020-53'\n",
    "indexes_to_update = week_aggregation[w53_y2020_mask].index\n",
    "for i, row_index in enumerate(indexes_to_update):\n",
    "    week_aggregation.loc[row_index, 'confirmed_addition'] = corrected_vals.iloc[i]\n",
    "\n",
    "# Third, get rid of year 2021 week 53 values\n",
    "w53_y2021_mask = week_aggregation['Year - Week'] == '2021-53'\n",
    "indexes_to_drop = week_aggregation[w53_y2021_mask].index\n",
    "week_aggregation_cases = week_aggregation.drop(indexes_to_drop)\n",
    "week_aggregation_cases['confirmed_addition'].describe()"
   ]
  },
  {
   "cell_type": "markdown",
   "metadata": {
    "cell_id": "00078-6574338a-6e40-4429-a2a2-fae88b289777",
    "deepnote_cell_type": "markdown",
    "tags": []
   },
   "source": [
    "<h4 style=\"color:#ff9900\">WEEKLY - UV INDEX</h4>"
   ]
  },
  {
   "cell_type": "code",
   "execution_count": null,
   "metadata": {
    "cell_id": "00079-e8d9e10b-a34c-4c28-87f6-b64bcb354520",
    "deepnote_cell_type": "code",
    "deepnote_to_be_reexecuted": false,
    "execution_millis": 83,
    "execution_start": 1616087044324,
    "output_cleared": false,
    "source_hash": "b71adb5d",
    "tags": []
   },
   "outputs": [],
   "source": [
    "# Get aggregation by week\n",
    "week_aggregation = CLEAN_DATA.groupby(['Year', 'Week', 'region_name'], as_index=False)['UVIndex'].mean()\n",
    "\n",
    "# Combine year and week column into one\n",
    "week_year_df = pd.concat([week_aggregation['Year'].astype(str), week_aggregation['Week'].astype(str)], axis=1)\n",
    "week_aggregation['Year - Week'] = week_year_df.agg('-'.join, axis=1)\n",
    "\n",
    "# We also need to handle exception: Last week of 2020 has 3 days in 2021 --> we therefore consider these days to be still under week \"53\" - year 2020\n",
    "# Get correct values first by summing corresponding regions together within week 53\n",
    "w53_y2021 = week_aggregation[week_aggregation['Year - Week'] == '2021-53']['UVIndex'].reset_index(drop=True)\n",
    "w53_y2020 = week_aggregation[week_aggregation['Year - Week'] == '2020-53']['UVIndex'].reset_index(drop=True)\n",
    "corrected_vals = pd.concat((w53_y2020, w53_y2021), axis=1).mean(axis=1)\n",
    "\n",
    "# Second, use these values to replace values of year 2020 week 53\n",
    "w53_y2020_mask = week_aggregation['Year - Week'] == '2020-53'\n",
    "indexes_to_update = week_aggregation[w53_y2020_mask].index\n",
    "for i, row_index in enumerate(indexes_to_update):\n",
    "    week_aggregation.loc[row_index, 'UVIndex'] = corrected_vals.iloc[i]\n",
    "\n",
    "# Third, get rid of year 2021 week 53 values\n",
    "w53_y2021_mask = week_aggregation['Year - Week'] == '2021-53'\n",
    "indexes_to_drop = week_aggregation[w53_y2021_mask].index\n",
    "week_aggregation_uv = week_aggregation.drop(indexes_to_drop)\n",
    "week_aggregation_uv['UVIndex'].describe()"
   ]
  },
  {
   "cell_type": "markdown",
   "metadata": {
    "cell_id": "00080-f6f0167f-3858-470f-bbd2-9d554833c2e4",
    "deepnote_cell_type": "markdown",
    "tags": []
   },
   "source": [
    "<h4 style=\"color:#ff9900\">WEEKLY - ONE FIGURE</h4>"
   ]
  },
  {
   "cell_type": "code",
   "execution_count": null,
   "metadata": {
    "cell_id": "00081-f2fea057-8697-4d97-ac98-618bcad043cb",
    "deepnote_cell_type": "code",
    "deepnote_to_be_reexecuted": false,
    "execution_millis": 3727,
    "execution_start": 1616087044410,
    "output_cleared": false,
    "source_hash": "7c7bf7cd",
    "tags": []
   },
   "outputs": [],
   "source": [
    "# Set up figure\n",
    "sns.set(rc={'figure.figsize':(20,10)})\n",
    "fig, axs = plt.subplots(2, 1);\n",
    "\n",
    "# Deal with dates properly\n",
    "fig.autofmt_xdate()\n",
    "\n",
    "# Plot the data\n",
    "index = 0\n",
    "for ax in axs:\n",
    "\n",
    "    # Plot1\n",
    "    if index == 0:\n",
    "\n",
    "        # Plot the values (ci = standard deviation, hue = which categories to highlight)\n",
    "        sns.lineplot(x='Year - Week', y='confirmed_addition', data=week_aggregation_cases, palette=PLOT_COLOR_SETTINGS, hue='Year', ax=ax, ci='sd')\n",
    "\n",
    "        # Add labels\n",
    "        ax.set(xlabel=\"Year - Week\", ylabel=\"Mean and SD of\\nconfirmed cases\");\n",
    "        ax.set_title(label=\"Mean and SD of confirmed cases per week\", size=14, weight=\"bold\");\n",
    "\n",
    "        # Adjust legend\n",
    "        ax.legend(title='Year', loc='upper right', labels=[2020, 2021]);\n",
    "    \n",
    "    # Plot 2\n",
    "    elif index == 1:\n",
    "\n",
    "        # Plot the values (ci = standard deviation, hue = which categories to highlight)\n",
    "        sns.lineplot(x='Year - Week', y='UVIndex', data=week_aggregation_uv, palette=PLOT_COLOR_SETTINGS, hue='Year', ax=ax, ci='sd')\n",
    "\n",
    "        # Add labels\n",
    "        ax.set(xlabel=\"Year - Week\", ylabel=\"Mean and SD of\\nadjusted UVIndex\");\n",
    "        ax.set_title(label=\"Mean and SD of adjusted UVIndex per given week\", size=14, weight=\"bold\");\n",
    "\n",
    "        # Adjust legend\n",
    "        ax.legend(title='Year', loc='upper right', labels=[2020, 2021]);\n",
    "    \n",
    "    index += 1\n",
    "\n",
    "fig.savefig(f'{BASE_DIR}figures/figure5.png', orientation='landscape')"
   ]
  },
  {
   "cell_type": "markdown",
   "metadata": {
    "cell_id": "00082-10b04fa3-c0c0-4ee3-abd4-aa337ffa601f",
    "deepnote_cell_type": "markdown",
    "tags": []
   },
   "source": [
    "<h3 style=\"color:green\">MONTHLY PERSPECTIVE</h3>\n",
    "<p>The thick line represents the mean of values from all regions, the background transparent color then represents standard deviation.</p>"
   ]
  },
  {
   "cell_type": "markdown",
   "metadata": {
    "cell_id": "00083-404b24e5-77db-4ccd-a561-d6282bb4dcbb",
    "deepnote_cell_type": "markdown",
    "tags": []
   },
   "source": [
    "<h4 style=\"color:#ff9900\">MONTHLY - CONFIRMED CASES</h4>"
   ]
  },
  {
   "cell_type": "code",
   "execution_count": null,
   "metadata": {
    "cell_id": "00084-8361b5cf-16b2-4846-8b68-76d110eae169",
    "deepnote_cell_type": "code",
    "deepnote_to_be_reexecuted": false,
    "execution_millis": 38,
    "execution_start": 1616087048103,
    "output_cleared": false,
    "source_hash": "3af3d658",
    "tags": []
   },
   "outputs": [],
   "source": [
    "# Get aggregation\n",
    "month_aggregation_cases = CLEAN_DATA.groupby(['Year', 'Month', 'region_name'], as_index=False)['confirmed_addition'].sum()\n",
    "\n",
    "# Combine year and month column into one\n",
    "year_month_df = pd.concat([month_aggregation_cases['Year'].astype(str), month_aggregation_cases['Month'].astype(str)], axis=1)\n",
    "month_aggregation_cases['Year - Month'] = year_month_df.agg('-'.join, axis=1)\n",
    "month_aggregation_cases['confirmed_addition'].describe()"
   ]
  },
  {
   "cell_type": "markdown",
   "metadata": {
    "cell_id": "00085-e9a6fc39-4cf9-49ae-a203-e2441555cc70",
    "deepnote_cell_type": "markdown",
    "tags": []
   },
   "source": [
    "<h4 style=\"color:#ff9900\">MONTHLY - UV INDEX</h4>"
   ]
  },
  {
   "cell_type": "code",
   "execution_count": null,
   "metadata": {
    "cell_id": "00086-08bb10a5-3ef1-49c1-a6ca-2cf0584fbba6",
    "deepnote_cell_type": "code",
    "deepnote_to_be_reexecuted": false,
    "execution_millis": 27,
    "execution_start": 1616087048127,
    "output_cleared": false,
    "source_hash": "ede42f6c",
    "tags": []
   },
   "outputs": [],
   "source": [
    "# Get aggregation\n",
    "month_aggregation_uv = CLEAN_DATA.groupby(['Year', 'Month', 'region_name'], as_index=False)['UVIndex'].mean()\n",
    "\n",
    "# Combine year and month column into one\n",
    "year_month_df = pd.concat([month_aggregation_uv['Year'].astype(str), month_aggregation_uv['Month'].astype(str)], axis=1)\n",
    "month_aggregation_uv['Year - Month'] = year_month_df.agg('-'.join, axis=1)\n",
    "month_aggregation_uv['UVIndex'].describe()"
   ]
  },
  {
   "cell_type": "markdown",
   "metadata": {
    "cell_id": "00087-191efd18-66b6-4bd8-b91b-d859f3ed764b",
    "deepnote_cell_type": "markdown",
    "tags": []
   },
   "source": [
    "<h4 style=\"color:#ff9900\">MONTHLY - ONE FIGURE</h4>"
   ]
  },
  {
   "cell_type": "code",
   "execution_count": null,
   "metadata": {
    "cell_id": "00088-3d4f6fdf-590a-47e8-8a4d-5610a9826ae0",
    "deepnote_cell_type": "code",
    "deepnote_to_be_reexecuted": false,
    "execution_millis": 952,
    "execution_start": 1616087048208,
    "output_cleared": false,
    "source_hash": "8f314543",
    "tags": []
   },
   "outputs": [],
   "source": [
    "# Setup figure\n",
    "sns.set(rc={'figure.figsize':(20,10)})\n",
    "fig, axs = plt.subplots(2, 1);\n",
    "\n",
    "# Deal with dates properly\n",
    "fig.autofmt_xdate()\n",
    "\n",
    "# Plot the data\n",
    "index = 0\n",
    "for ax in axs:\n",
    "\n",
    "    # Plot1\n",
    "    if index == 0:\n",
    "\n",
    "        # Plot the values (ci = standard deviation, hue = which categories to highlight)\n",
    "        sns.lineplot(x='Year - Month', y='confirmed_addition', data=month_aggregation_cases, palette=PLOT_COLOR_SETTINGS, hue='Year', ax=ax, ci='sd')\n",
    "\n",
    "        # Add labels\n",
    "        ax.set(xlabel=\"Year - Month\", ylabel=\"Mean and SD of\\nconfirmed cases\");\n",
    "        ax.set_title(label=\"Mean and SD of confirmed cases per given month\", size=14, weight=\"bold\");\n",
    "\n",
    "        # Adjust legend\n",
    "        ax.legend(title='Year', loc='upper right', labels=[2020, 2021]);\n",
    "    \n",
    "    # Plot 2\n",
    "    elif index == 1:\n",
    "\n",
    "        # Plot the values (ci = standard deviation, hue = which categories to highlight)\n",
    "        sns.lineplot(x='Year - Month', y='UVIndex', data=month_aggregation_uv, palette=PLOT_COLOR_SETTINGS, hue='Year', ax=ax, ci='sd')\n",
    "\n",
    "        # Add labels\n",
    "        ax.set(xlabel=\"Year - Month\", ylabel=\"Mean and SD\\nof adjusted UVIndex\");\n",
    "        ax.set_title(label=\"Mean and SD of adjusted UVIndex per given month\", size=14, weight=\"bold\");\n",
    "\n",
    "        # Adjust legend\n",
    "        ax.legend(title='Year', loc='upper right', labels=[2020, 2021]);\n",
    "    \n",
    "    index += 1\n",
    "\n",
    "fig.savefig(f'{BASE_DIR}figures/figure6.png', orientation='landscape')"
   ]
  },
  {
   "cell_type": "markdown",
   "metadata": {
    "cell_id": "00089-669ac8dc-abfb-45ac-a32e-bdefc4f415ea",
    "deepnote_cell_type": "markdown",
    "tags": []
   },
   "source": [
    "<h2 style=\"color:#22198A\">Task 2: Association</h2>"
   ]
  },
  {
   "cell_type": "markdown",
   "metadata": {
    "cell_id": "00091-0094540b-7556-49d3-939d-29408e7a153a",
    "deepnote_cell_type": "markdown",
    "tags": []
   },
   "source": [
    "<h3 style=\"color:green\">CORRELATION TEST</h3>"
   ]
  },
  {
   "cell_type": "markdown",
   "metadata": {
    "cell_id": "00090-61e86319-4108-4c3f-b78d-c2d1680b9d92",
    "deepnote_cell_type": "markdown",
    "tags": []
   },
   "source": [
    "<h4 style=\"color:#ff9900\">INITIAL SETUP</h4>\n",
    "<p>The goal of this section is to find out whether there is an association between the weather variables and infection rates. Please note, that we have made an assumption that the effect of the weather is immediate and sustainable as we were advised to do during the lecture for purposes of this project.</p>\n",
    "<ul>\n",
    "<li><b>WEATHER VAR:</b> Selected weather variables which have been adjusted accordingly - see the task 0 for more detail on the transformation.</li>\n",
    "<li><b>BONFERRONI CORRECTION:</b> The significance threshold needs to be adjusted with respect to the number of experiments we run. Note that the Bonferonni correction is a conservative approach, which is on purpose, since we want to make sure our claims about the results are as certain as possible.</li>\n",
    "</ul>"
   ]
  },
  {
   "cell_type": "code",
   "execution_count": null,
   "metadata": {
    "cell_id": "00091-19246e56-d712-4798-a796-c0830cd4f3ad",
    "deepnote_cell_type": "code",
    "deepnote_to_be_reexecuted": false,
    "execution_millis": 4,
    "execution_start": 1616087063382,
    "output_cleared": true,
    "source_hash": "d899a293",
    "tags": []
   },
   "outputs": [],
   "source": [
    "# Weather variables\n",
    "WEATHER_VAR = ['RelativeHumiditySurface', 'SolarRadiation','Surfacepressure', 'TemperatureAboveGround', 'Totalprecipitation', 'UVIndex', 'WindSpeed'] \n",
    "\n",
    "# Significance threshold corrected by: Bonferonni correction\n",
    "SIGNIFICANCE_THRESHOLD = 0.01 / (len(WEATHER_VAR))"
   ]
  },
  {
   "cell_type": "markdown",
   "metadata": {
    "cell_id": "00092-62bd1ecd-a4d6-46f6-992a-105e9f78a81c",
    "deepnote_cell_type": "markdown",
    "tags": []
   },
   "source": [
    "<h4 style=\"color:#ff9900\">DISTRIBUTION INVESTIGATION</h4>\n",
    "<p>We use Q-Q plots to find out whether the variables we want to investigate follow a normal distribution or not. </p>"
   ]
  },
  {
   "cell_type": "code",
   "execution_count": null,
   "metadata": {
    "cell_id": "00093-5bf2dffb-8abb-47b0-b592-aa33039b99ee",
    "deepnote_cell_type": "code",
    "deepnote_to_be_reexecuted": false,
    "execution_millis": 2093,
    "execution_start": 1616087414300,
    "output_cleared": false,
    "source_hash": "f83d33a0",
    "tags": []
   },
   "outputs": [],
   "source": [
    "sns.set(rc={'figure.figsize':(20,10)})\n",
    "fig, axs = plt.subplots(2, 4);\n",
    "\n",
    "index = 0\n",
    "\n",
    "for row in axs:\n",
    "    for ax in row:\n",
    "        if index < len(WEATHER_VAR):\n",
    "            \n",
    "            # Plot the data\n",
    "            sm.qqplot(CLEAN_DATA[WEATHER_VAR[index]], stats.norm, fit=True, line='45',ax=ax, color=\"#22198A\")\n",
    "            ax.set_title(f\"{WEATHER_VAR[index]}\", weight=\"bold\", size=14, color= \"green\");\n",
    "\n",
    "            # Set appropriatelly the labels\n",
    "            if index in [0, 4]:\n",
    "                ax.set_ylabel('Sample quantiles', size = 13)\n",
    "            else:\n",
    "                ax.set_ylabel('')\n",
    "            \n",
    "            if index in [4, 5, 6, 7]:\n",
    "                ax.set_xlabel('Theoretical quantiles', size = 13)\n",
    "            else:\n",
    "                ax.set_xlabel('')\n",
    "\n",
    "            index += 1\n",
    "\n",
    "        elif index == len(WEATHER_VAR):\n",
    "            # Plot the data\n",
    "            sm.qqplot(CLEAN_DATA['confirmed_addition'], stats.norm, fit=True, line='45',ax=ax, color=\"#22198A\")\n",
    "            ax.set_title(\"Q-Q plot - confirmed addition\", weight=\"bold\", size=14, color= \"green\");\n",
    "\n",
    "            index += 1\n",
    "\n",
    "fig.suptitle('Q-Q plot for selected variables', fontsize=16, weight=\"bold\", color=\"#22198A\");\n",
    "fig.savefig(f'{BASE_DIR}figures/figure7.png', orientation='landscape')"
   ]
  },
  {
   "cell_type": "markdown",
   "metadata": {
    "cell_id": "00094-76f37ed6-8de3-4505-840f-6d0f5af46b92",
    "deepnote_cell_type": "markdown",
    "tags": []
   },
   "source": [
    "<h4 style=\"color:#ff9900\">SELECTED VARIABLES AGAINST CONFIRMED CASES PER CAPITA</h4>"
   ]
  },
  {
   "cell_type": "code",
   "execution_count": null,
   "metadata": {
    "cell_id": "00095-9e12dfa8-ae35-487f-b8c1-2116babc00c9",
    "deepnote_cell_type": "code",
    "deepnote_to_be_reexecuted": false,
    "execution_millis": 5195,
    "execution_start": 1616087438436,
    "output_cleared": false,
    "source_hash": "d3ccd97e",
    "tags": []
   },
   "outputs": [],
   "source": [
    "sns.set(rc={'figure.figsize':(22,10)})\n",
    "fig, axs = plt.subplots(2, 4);\n",
    "\n",
    "index = 0\n",
    "\n",
    "for row in axs:\n",
    "    for ax in row:\n",
    "        if index < len(WEATHER_VAR):\n",
    "            \n",
    "            sns.scatterplot(x = WEATHER_VAR[index], y = 'confirmed_addition', data=CLEAN_DATA, ax=ax, hue='Year', palette=PLOT_COLOR_SETTINGS)\n",
    "\n",
    "            if index in [0, 4]:\n",
    "                ax.set_ylabel('Confimed cases', size = 13)\n",
    "            else:\n",
    "                ax.set_ylabel('')\n",
    "\n",
    "            index += 1\n",
    "\n",
    "        else:\n",
    "            ax.set_axis_off()\n",
    "\n",
    "fig.suptitle('SELECTED VARIABLES AGAINST CONFIRMED CASES', fontsize=16, weight=\"bold\", color=\"#22198A\");\n",
    "fig.savefig(f'{BASE_DIR}figures/figure8.png', orientation='landscape')"
   ]
  },
  {
   "cell_type": "markdown",
   "metadata": {
    "cell_id": "00096-601ade67-9b46-49c7-befc-6dc16394f28f",
    "deepnote_cell_type": "markdown",
    "tags": []
   },
   "source": [
    "<h4 style=\"color:#ff9900\">SPEARMAN CORRELATION</h4>\n",
    "<p>We decided to use Spearman correlation as our correlation method. The reason for this choice is that our dependent variable, i.e., <b>confirmed addition</b> does not follow a normal distribution as it can be seen from the above Q-Q plot.</p>"
   ]
  },
  {
   "cell_type": "code",
   "execution_count": null,
   "metadata": {
    "cell_id": "00097-09394d7c-8db2-4454-917a-c971655659d2",
    "deepnote_cell_type": "code",
    "deepnote_to_be_reexecuted": false,
    "execution_millis": 13,
    "execution_start": 1616087632027,
    "output_cleared": false,
    "source_hash": "d5bc1943",
    "tags": []
   },
   "outputs": [],
   "source": [
    "# Set up the structure of the dictionary which will then be turned into a pandas DF\n",
    "SPEARMAN_RESULT = {\n",
    "    'weather_var': [],\n",
    "    'correlation': [],\n",
    "    'p-value': [],\n",
    "    'passed_sig_thrs': []\n",
    "}\n",
    "\n",
    "# Build the dictionary\n",
    "for var in WEATHER_VAR:\n",
    "\n",
    "    # Get the results\n",
    "    correlation, pvalue = spearmanr(CLEAN_DATA['confirmed_addition'], CLEAN_DATA[var])\n",
    "\n",
    "    # Save the results\n",
    "    SPEARMAN_RESULT['weather_var'].append(var)\n",
    "    SPEARMAN_RESULT['correlation'].append(correlation)\n",
    "    if pvalue < 10**(-5):\n",
    "        SPEARMAN_RESULT['p-value'].append(0.000)\n",
    "    else:\n",
    "        SPEARMAN_RESULT['p-value'].append(pvalue)\n",
    "    SPEARMAN_RESULT['passed_sig_thrs'].append(pvalue < SIGNIFICANCE_THRESHOLD)\n",
    "\n",
    "# Turn the dictionary into a DF\n",
    "SPEARMAN_DF = pd.DataFrame.from_dict(SPEARMAN_RESULT)\n",
    "SPEARMAN_DF.sort_values('correlation')"
   ]
  },
  {
   "cell_type": "markdown",
   "metadata": {
    "cell_id": "00098-83c7ecec-4aa6-4279-9bff-86fa2a5a8668",
    "deepnote_cell_type": "markdown",
    "tags": []
   },
   "source": [
    "<h3 style=\"color:green\">LOG MULTIVARIATE REGRESSION</h3>"
   ]
  },
  {
   "cell_type": "markdown",
   "metadata": {
    "cell_id": "00101-6f5df748-507d-4019-b106-b833f553e499",
    "deepnote_cell_type": "markdown",
    "tags": []
   },
   "source": [
    "<p>Given the large spread of our variable, we will use a logarithm function to transform it. This is indeed important to bare in mind when interpretting the coefficient values.</p>"
   ]
  },
  {
   "cell_type": "code",
   "execution_count": null,
   "metadata": {
    "cell_id": "00102-749d98fb-2f85-4af3-9e61-ca05924ea5fb",
    "deepnote_cell_type": "code",
    "deepnote_to_be_reexecuted": false,
    "execution_millis": 4,
    "execution_start": 1616088127066,
    "output_cleared": true,
    "source_hash": "99030691",
    "tags": []
   },
   "outputs": [],
   "source": [
    "# Transform confirmed addition - if 0, then let it stay 0. Add a new column: log_confirmed_addition\n",
    "CLEAN_DATA = CLEAN_DATA.assign(**{'log_confirmed_addition': [np.log(value) if value else 0 for value in CLEAN_DATA['confirmed_addition']]})"
   ]
  },
  {
   "cell_type": "markdown",
   "metadata": {
    "cell_id": "00103-fb4b5d97-9d20-41f2-9671-14c4e11545c6",
    "deepnote_cell_type": "markdown",
    "tags": []
   },
   "source": [
    "<p>In our regression, apart from the weather variables, we decided to control also for population since we are using log transformed number of new cases as our dependent variable.</p>"
   ]
  },
  {
   "cell_type": "code",
   "execution_count": null,
   "metadata": {
    "cell_id": "00100-081d3d7f-fca4-4c99-960f-4aaae68e428f",
    "deepnote_cell_type": "code",
    "deepnote_to_be_reexecuted": false,
    "execution_millis": 34,
    "execution_start": 1616088252429,
    "output_cleared": false,
    "source_hash": "60f5f1b2",
    "tags": []
   },
   "outputs": [],
   "source": [
    "# Add a constant\n",
    "CLEAN_DATA_CONST = sm.add_constant(CLEAN_DATA)\n",
    "\n",
    "# Create a new list with variables for multivariate regresssion and constant\n",
    "WEATHER_VAR_MR = ['RelativeHumiditySurface', 'SolarRadiation','Surfacepressure', 'TemperatureAboveGround', 'Totalprecipitation', 'UVIndex', 'population', 'WindSpeed', 'const']\n",
    "\n",
    "# Multivariate regression with confirmed_addition logtransformed\n",
    "est = sm.OLS(CLEAN_DATA_CONST[\"log_confirmed_addition\"], CLEAN_DATA_CONST[WEATHER_VAR_MR], hasconst = True).fit()\n",
    "print(est.summary())"
   ]
  },
  {
   "cell_type": "markdown",
   "metadata": {
    "cell_id": "00101-4f120674-7e24-4c92-a7b5-76ab2851dfd5",
    "deepnote_cell_type": "markdown",
    "tags": []
   },
   "source": [
    "<h4 style=\"color:#ff9900\">ADD CONTROL VARIABLES</h4>\n",
    "<p>For our analysis, we want to control the fact that records are from a given region. Therefore, we are going to use a dummy variable for 11 regions, the region Gelderland is going to be set to be the reference region.</p>"
   ]
  },
  {
   "cell_type": "code",
   "execution_count": null,
   "metadata": {
    "cell_id": "00102-e27b01f7-5468-4a09-a1ea-bff184af7c45",
    "deepnote_cell_type": "code",
    "deepnote_to_be_reexecuted": false,
    "execution_millis": 0,
    "execution_start": 1616088398263,
    "output_cleared": true,
    "source_hash": "261a1cc4",
    "tags": []
   },
   "outputs": [],
   "source": [
    "# Add the region to the list\n",
    "provinces = list()\n",
    "\n",
    "# Build the new columns in dataframe, columns will have a binary value - does record corresponds or not to the given region\n",
    "for region_name in set(CLEAN_DATA_CONST[\"region_name\"]):\n",
    "    if region_name != \"Gelderland\":\n",
    "        CLEAN_DATA_CONST[region_name] = (CLEAN_DATA_CONST[\"region_name\"] == region_name).astype(int)\n",
    "        provinces.append(region_name)"
   ]
  },
  {
   "cell_type": "markdown",
   "metadata": {
    "cell_id": "00107-e2b5127d-7e57-4993-b483-65f41af6aebb",
    "deepnote_cell_type": "markdown",
    "tags": []
   },
   "source": [
    "<p>We will now look at the model with dummy variables only. R-squared is quite low which means that there are not big differences between the regions, but on the other hand it is not completely insignificant, therefore we can expect it is going to help increase the accuracy of our model.</p>"
   ]
  },
  {
   "cell_type": "code",
   "execution_count": null,
   "metadata": {
    "cell_id": "00104-d611f793-62ab-4784-9309-bac2c5516c35",
    "deepnote_cell_type": "code",
    "deepnote_to_be_reexecuted": false,
    "execution_millis": 21,
    "execution_start": 1616088725218,
    "output_cleared": false,
    "source_hash": "fbb0ef6e",
    "tags": []
   },
   "outputs": [],
   "source": [
    "# Multivariate regression with confirmed_addition logtransformed and only dummy variables\n",
    "est = sm.OLS(CLEAN_DATA_CONST[\"log_confirmed_addition\"], CLEAN_DATA_CONST[provinces + ['const']] , hasconst = True).fit()\n",
    "print(est.summary())"
   ]
  },
  {
   "cell_type": "markdown",
   "metadata": {
    "cell_id": "00109-8bbb2b73-2402-4b49-9b30-5d972de6e063",
    "deepnote_cell_type": "markdown",
    "tags": []
   },
   "source": [
    "<p>Finally, we can run our final model.</p>"
   ]
  },
  {
   "cell_type": "code",
   "execution_count": null,
   "metadata": {
    "cell_id": "00106-c5a4fc66-1435-472d-81ea-853829a5e0f8",
    "deepnote_cell_type": "code",
    "deepnote_to_be_reexecuted": false,
    "execution_millis": 34,
    "execution_start": 1616088770591,
    "output_cleared": false,
    "source_hash": "d925b60d",
    "tags": []
   },
   "outputs": [],
   "source": [
    "# Add provinces as variables to the multivariate regression\n",
    "WEATHER_VAR_MR.extend(provinces)\n",
    "\n",
    "# Multivariate regression with confirmed_addition logtransformed\n",
    "est = sm.OLS(CLEAN_DATA_CONST[\"log_confirmed_addition\"], CLEAN_DATA_CONST[WEATHER_VAR_MR], hasconst = True).fit()\n",
    "print(est.summary())"
   ]
  },
  {
   "cell_type": "markdown",
   "metadata": {
    "cell_id": "00107-93726645-cbcb-41e4-9b01-521825acdd2c",
    "deepnote_cell_type": "markdown",
    "tags": []
   },
   "source": [
    "<h4 style=\"color:#ff9900\">VISUALIZATION</h4>"
   ]
  },
  {
   "cell_type": "code",
   "execution_count": null,
   "metadata": {
    "cell_id": "00108-1a276b78-3726-4ad2-9510-f8736e9ce8fa",
    "deepnote_cell_type": "code",
    "deepnote_to_be_reexecuted": false,
    "execution_millis": 914,
    "execution_start": 1616089556466,
    "output_cleared": false,
    "source_hash": "d7a1025c",
    "tags": []
   },
   "outputs": [],
   "source": [
    "sns.set(rc={'figure.figsize':(20,8)})\n",
    "ax = sns.scatterplot(x='UVIndex',y='log_confirmed_addition', data=CLEAN_DATA, hue='Year', palette=PLOT_COLOR_SETTINGS)\n",
    "ax.set_title('Daily mean of UVIndex and log of confirmed cases per day\\n', size=15, weight=\"bold\");\n",
    "ax.set_xlabel('Mean of UVIndex per day', size=13.5);\n",
    "ax.set_ylabel('Log of daily confirmed cases', size=13.5);\n",
    "ax.get_figure().savefig(f'{BASE_DIR}figures/figure9.png', orientation='landscape')"
   ]
  },
  {
   "cell_type": "markdown",
   "metadata": {
    "cell_id": "00109-9bf9c42a-4c08-4234-851b-26e81e694331",
    "deepnote_cell_type": "markdown",
    "tags": []
   },
   "source": [
    "<h2 style=\"color:#22198A\">Task 3: Map visualization</h2>\n",
    "<p>Our goal in this section is to visualize cases per capita for the given region within the analysis period.</p>"
   ]
  },
  {
   "cell_type": "markdown",
   "metadata": {
    "cell_id": "00110-ea675db1-cfd2-4c67-9a55-73037452ce6e",
    "deepnote_cell_type": "markdown",
    "tags": []
   },
   "source": [
    "<h4 style=\"color:#ff9900\">GEODATA WRANGLING</h4>"
   ]
  },
  {
   "cell_type": "code",
   "execution_count": null,
   "metadata": {
    "cell_id": "00111-16a03b83-ab6a-4bc7-875c-fd7c098ee7bd",
    "deepnote_cell_type": "code",
    "deepnote_to_be_reexecuted": false,
    "execution_millis": 0,
    "execution_start": 1616089729555,
    "output_cleared": true,
    "source_hash": "76b52ae6",
    "tags": []
   },
   "outputs": [],
   "source": [
    "# Calculate total number of cases per region\n",
    "region_df = CLEAN_DATA.groupby(['iso3166-2'], as_index=False)['confirmed_addition'].sum()\n",
    "\n",
    "# Incorporate population size for each dataframe\n",
    "region_population_name = {reg_info['iso3166-2_code']: (reg_info['population'], reg_info['iso3166-2_name_en']) for reg_info in METADATA['country_metadata']}\n",
    "region_df['population_size'] = [region_population_name[reg_code][0] for reg_code in region_df['iso3166-2']]\n",
    "\n",
    "# Add also corresponding region name\n",
    "region_df['region_name'] = [region_population_name[reg_code][1] for reg_code in region_df['iso3166-2']]\n",
    "\n",
    "# Calculate cases per capita\n",
    "region_df['cases_per_capita'] = region_df['confirmed_addition']/region_df['population_size']\n",
    "\n",
    "# Calculate cases per 1k\n",
    "region_df['cases_per_1k'] = region_df['confirmed_addition']/region_df['population_size']*10**3"
   ]
  },
  {
   "cell_type": "markdown",
   "metadata": {
    "cell_id": "00112-7839b5cf-03ef-495c-b295-7836de4c3f08",
    "deepnote_cell_type": "markdown",
    "tags": []
   },
   "source": [
    "<h4 style=\"color:#ff9900\">CASES PER CAPITA OVERVIEW</h4>"
   ]
  },
  {
   "cell_type": "code",
   "execution_count": null,
   "metadata": {
    "cell_id": "00113-314ace92-8952-4d40-b2e2-f7f98ddb250c",
    "deepnote_cell_type": "code",
    "deepnote_to_be_reexecuted": false,
    "execution_millis": 91,
    "execution_start": 1616089734020,
    "output_cleared": false,
    "source_hash": "662e609b",
    "tags": []
   },
   "outputs": [],
   "source": [
    "# Create a folium map object\n",
    "cases_per_capita_M = folium.Map(\n",
    "    location=[52.228376475929956, 5.56858503151697],\n",
    "    zoom_start=7.25,\n",
    "    tiles='http://tile.stamen.com/terrain/{z}/{x}/{y}.png',\n",
    "    attr='Map tiles by <a href=\"http://stamen.com\">Stamen Design</a>, under <a href=\"http://creativecommons.org/licenses/by/3.0\">CC BY 3.0</a>. Data by <a href=\"http://openstreetmap.org\">OpenStreetMap</a>, under <a href=\"http://www.openstreetmap.org/copyright\">ODbL</a>.')\n",
    "\n",
    "# Add a new layer to the map\n",
    "folium.Choropleth(\n",
    "    geo_data=f\"{PATH_DATA['raw']}{FILENAME_DATA['shapefiles']}\",\n",
    "    name='Cases per capita NL',\n",
    "    data=region_df,\n",
    "    columns=['iso3166-2', 'cases_per_capita'],\n",
    "    key_on='properties.iso_3166_2',\n",
    "    fill_color='YlOrRd',\n",
    "    fill_opacity=0.7,\n",
    "    line_opacity=0.5,\n",
    "    legend_name='Cases per capita'\n",
    ").add_to(cases_per_capita_M)\n",
    "\n",
    "# Show the map\n",
    "folium_show(cases_per_capita_M, use_deepnote=USE_DEEPNOTE)"
   ]
  },
  {
   "cell_type": "code",
   "execution_count": null,
   "metadata": {
    "cell_id": "00114-0a5ae5bd-aa51-4681-8f69-466109299b8a",
    "deepnote_cell_type": "code",
    "deepnote_to_be_reexecuted": false,
    "execution_millis": 28,
    "execution_start": 1616089739039,
    "output_cleared": false,
    "source_hash": "2b56cd45",
    "tags": []
   },
   "outputs": [],
   "source": [
    "# Create a folium map object\n",
    "cases_per_capita_M = folium.Map(\n",
    "    location=[52.228376475929956, 5.56858503151697],\n",
    "    zoom_start=7.25,\n",
    "    tiles='http://tile.stamen.com/terrain/{z}/{x}/{y}.png',\n",
    "    attr='Map tiles by <a href=\"http://stamen.com\">Stamen Design</a>, under <a href=\"http://creativecommons.org/licenses/by/3.0\">CC BY 3.0</a>. Data by <a href=\"http://openstreetmap.org\">OpenStreetMap</a>, under <a href=\"http://www.openstreetmap.org/copyright\">ODbL</a>.')\n",
    "\n",
    "# Add a new layer to the map\n",
    "folium.Choropleth(\n",
    "    geo_data=f\"{PATH_DATA['raw']}{FILENAME_DATA['shapefiles']}\",\n",
    "    name='Cases per 1k -  NL',\n",
    "    data=region_df,\n",
    "    columns=['iso3166-2', 'cases_per_1k'],\n",
    "    key_on='properties.iso_3166_2',\n",
    "    fill_color='YlOrRd',\n",
    "    fill_opacity=0.7,\n",
    "    line_opacity=0.5,\n",
    "    legend_name='Cases per 1k'\n",
    ").add_to(cases_per_capita_M)\n",
    "\n",
    "# Show the map\n",
    "folium_show(cases_per_capita_M, use_deepnote=USE_DEEPNOTE)"
   ]
  },
  {
   "cell_type": "markdown",
   "metadata": {
    "cell_id": "00115-72a8739e-fbb3-4c92-b478-0de20e8d8858",
    "deepnote_cell_type": "markdown",
    "tags": []
   },
   "source": [
    "<h2 style=\"color:#22198A\">Task 4: Open question</h2>\n",
    "<p>In this section, we want to further investigate the pattern which we have seen in the previous task, i.e., northern regions and Zeeland, have lower number of cases per capita than southern regions. For this reason, we will conduct an analysis to see whether there is a stastistically signifficant association between confirmed cases per capita and:</p>\n",
    "<ul>\n",
    "<li>GDP per capita in given region</li>\n",
    "<li>Percentage of people living in non-rural area in given region</li>\n",
    "<li>Percentage of people living in very urban area in given region</li>\n",
    "</ul>"
   ]
  },
  {
   "cell_type": "markdown",
   "metadata": {
    "cell_id": "00116-19bc4dea-e80f-4f64-8f2d-5405ab8316b8",
    "deepnote_cell_type": "markdown",
    "tags": []
   },
   "source": [
    "<h3 style=\"color:green\">LOAD EXTERNAL DATASET</h3>"
   ]
  },
  {
   "cell_type": "code",
   "execution_count": null,
   "metadata": {
    "cell_id": "00117-2f1aaee5-39f9-4efa-90cd-fbc4aa4a1553",
    "deepnote_cell_type": "code",
    "deepnote_to_be_reexecuted": false,
    "execution_millis": 1,
    "execution_start": 1616089928035,
    "output_cleared": true,
    "source_hash": "31742361",
    "tags": []
   },
   "outputs": [],
   "source": [
    "# Load the external data\n",
    "external_data = load_json(f'{PATH_DATA[\"external\"]}{FILENAME_DATA[\"external\"]}')\n",
    "\n",
    "# Add the new variables to the dataframe which aggregates data about regions\n",
    "region_df['gdp_per_capita'] = region_df['region_name'].map(external_data['province_gdp'])\n",
    "region_df['rural_pct'] = region_df['region_name'].map(external_data['province_rural_pct'])\n",
    "region_df['non-rural_pct'] = [100-pct for pct in region_df['rural_pct']]\n",
    "region_df['very_urban_pct'] = region_df['region_name'].map(external_data['province_very_urban_pct'])\n",
    "\n",
    "# Define new variables\n",
    "PROVINCIAL_VARIABLES = ['gdp_per_capita', 'non-rural_pct', 'very_urban_pct']"
   ]
  },
  {
   "cell_type": "markdown",
   "metadata": {
    "cell_id": "00118-70a42011-28d1-44c8-8992-7db47f62400e",
    "deepnote_cell_type": "markdown",
    "tags": []
   },
   "source": [
    "<h3 style=\"color:green\">VISUALIZE AND EXPLORE DATA</h3>"
   ]
  },
  {
   "cell_type": "markdown",
   "metadata": {
    "cell_id": "00119-15ecba67-e7c0-4d56-b2d7-09d2c0ecbdfb",
    "deepnote_cell_type": "markdown",
    "tags": []
   },
   "source": [
    "<h4 style=\"color:#ff9900\">Q-Q Plots</h4>\n",
    "<p>Despite having a small number of points, we still decided to use Q-Q plots to get an idea, whether the variables follow a normal distribution. Below we can see that all variables seem to follow a normal distribution.</p>"
   ]
  },
  {
   "cell_type": "code",
   "execution_count": null,
   "metadata": {
    "cell_id": "00120-f0e45699-2808-4331-b897-3bda79385ff3",
    "deepnote_cell_type": "code",
    "deepnote_to_be_reexecuted": false,
    "execution_millis": 1135,
    "execution_start": 1616089956795,
    "output_cleared": false,
    "source_hash": "b2cbafd8",
    "tags": []
   },
   "outputs": [],
   "source": [
    "sns.set(rc={'figure.figsize': (22,9)})\n",
    "fig, axs = plt.subplots(2, 2);\n",
    "index = 0\n",
    "\n",
    "for row in axs:\n",
    "    for ax in row:\n",
    "        if index < len(PROVINCIAL_VARIABLES):\n",
    "            \n",
    "            # Plot the data\n",
    "            sm.qqplot(region_df[PROVINCIAL_VARIABLES[index]], stats.norm, fit=True, line='45',ax=ax, color=\"#22198A\")\n",
    "            ax.set_title(f\"{PROVINCIAL_VARIABLES[index]}\", weight=\"bold\", size=14, color= \"green\");\n",
    "\n",
    "            if index in [0, 2]:\n",
    "                ax.set_ylabel('Sample quantiles', size = 13)\n",
    "            else:\n",
    "                ax.set_ylabel('')\n",
    "            \n",
    "            if index in [2, 3]:\n",
    "                ax.set_xlabel('Theoretical quantiles', size = 13)\n",
    "            else:\n",
    "                ax.set_xlabel('')\n",
    "\n",
    "            index += 1\n",
    "        else:\n",
    "            sm.qqplot(region_df['cases_per_capita'], stats.norm, fit=True, line='45',ax=ax, color=\"#22198A\")\n",
    "            ax.set_title(f\"Cases per capita\", weight=\"bold\", size=14, color= \"green\");\n",
    "\n",
    "fig.suptitle('Q-Q plot for provincial variables and cases for capita', fontsize=16, weight=\"bold\", color=\"#22198A\");\n",
    "fig.savefig(f'{BASE_DIR}figures/figure10.png', orientation='landscape')"
   ]
  },
  {
   "cell_type": "markdown",
   "metadata": {
    "cell_id": "00121-f4a6a803-f26f-4b3a-9c13-c8b4bf7df201",
    "deepnote_cell_type": "markdown",
    "tags": []
   },
   "source": [
    "<h4 style=\"color:#ff9900\">Confirmed cases per capita VS selected variables</h4>\n",
    "<p>Looking at the actual distribution again response variable, we see that, at least in the first two plots, there seems to be a linear relationship. On the other hand, one should also bare in mind the small number of data points.</p>"
   ]
  },
  {
   "cell_type": "code",
   "execution_count": null,
   "metadata": {
    "cell_id": "00122-ecc67f46-b0dd-4110-ba4b-eeaa5cba09e5",
    "deepnote_cell_type": "code",
    "deepnote_to_be_reexecuted": false,
    "execution_millis": 1096,
    "execution_start": 1616089987649,
    "output_cleared": false,
    "source_hash": "4cb4d008",
    "tags": []
   },
   "outputs": [],
   "source": [
    "sns.set(rc={'figure.figsize':(20,5)})\n",
    "fig, axs = plt.subplots(1, 3);\n",
    "\n",
    "index = 0\n",
    "\n",
    "for ax in axs:\n",
    "    if index < len(PROVINCIAL_VARIABLES):\n",
    "        \n",
    "        # Plot the data\n",
    "        sns.scatterplot(x = region_df[PROVINCIAL_VARIABLES[index]], y = 'cases_per_capita', data=region_df, ax=ax, palette=PLOT_COLOR_SETTINGS)\n",
    "\n",
    "        if index in [0, 4]:\n",
    "            ax.set_ylabel('Number of confimed cases per capita', size = 13)\n",
    "        else:\n",
    "            ax.set_ylabel('')\n",
    "\n",
    "        index += 1\n",
    "\n",
    "    else:\n",
    "        ax.set_axis_off()\n",
    "\n",
    "fig.suptitle('SELECTED VARIABLES AGAINST CONFIRMED CASES PER CAPITA', fontsize=16, weight=\"bold\", color=\"#22198A\");\n",
    "fig.savefig(f'{BASE_DIR}figures/figure11.png', orientation='landscape')"
   ]
  },
  {
   "cell_type": "markdown",
   "metadata": {
    "cell_id": "00123-d9892b8c-1fb7-4efe-b332-6e85b2c6b322",
    "deepnote_cell_type": "markdown",
    "tags": []
   },
   "source": [
    "<h4 style=\"color:#ff9900\">Map visualization</h4>\n",
    "<p>We use choropleths to visualize the selected variables on a map. We can see that the map representing percentage of people living in a non-rural area is quite similar to map from task 3, where we visualized cases per capita for given region.</p>"
   ]
  },
  {
   "cell_type": "code",
   "execution_count": null,
   "metadata": {
    "cell_id": "00124-7b3b78bb-851f-43f4-884a-447854a2648d",
    "deepnote_cell_type": "code",
    "deepnote_to_be_reexecuted": false,
    "execution_millis": 24,
    "execution_start": 1616090043131,
    "output_cleared": false,
    "source_hash": "2c2c3133",
    "tags": []
   },
   "outputs": [],
   "source": [
    "def map_from_regions(column, use_deepnote=USE_DEEPNOTE):\n",
    "    map_object = folium.Map(\n",
    "        location=[52.228376475929956, 5.56858503151697],\n",
    "        zoom_start=7.25,\n",
    "        tiles='http://tile.stamen.com/terrain/{z}/{x}/{y}.png',\n",
    "        attr='Map tiles by <a href=\"http://stamen.com\">Stamen Design</a>, under <a href=\"http://creativecommons.org/licenses/by/3.0\">CC BY 3.0</a>. Data by <a href=\"http://openstreetmap.org\">OpenStreetMap</a>, under <a href=\"http://www.openstreetmap.org/copyright\">ODbL</a>.')\n",
    "\n",
    "    # Add a new layer to the map\n",
    "    folium.Choropleth(\n",
    "        geo_data=f\"{PATH_DATA['raw']}{FILENAME_DATA['shapefiles']}\",\n",
    "        name='GDP per capita NL',\n",
    "        data=region_df,\n",
    "        columns=['iso3166-2', column],\n",
    "        key_on='properties.iso_3166_2',\n",
    "        fill_color='YlOrRd',\n",
    "        fill_opacity=0.7,\n",
    "        line_opacity=0.5,\n",
    "        legend_name= column\n",
    "    ).add_to(map_object)\n",
    "\n",
    "    # Show the map\n",
    "    return folium_show(map_object, use_deepnote=USE_DEEPNOTE)\n",
    "\n",
    "map_from_regions('gdp_per_capita')"
   ]
  },
  {
   "cell_type": "code",
   "execution_count": null,
   "metadata": {
    "cell_id": "00125-8deca110-9ab3-445c-812d-cc62ff091011",
    "deepnote_cell_type": "code",
    "deepnote_to_be_reexecuted": false,
    "execution_millis": 93,
    "execution_start": 1616090049318,
    "output_cleared": false,
    "source_hash": "9a33559b",
    "tags": []
   },
   "outputs": [],
   "source": [
    "map_from_regions('non-rural_pct')"
   ]
  },
  {
   "cell_type": "code",
   "execution_count": null,
   "metadata": {
    "cell_id": "00126-95225810-7755-40ba-be1e-46ba7962b22c",
    "deepnote_cell_type": "code",
    "deepnote_to_be_reexecuted": false,
    "execution_millis": 63,
    "execution_start": 1616090056667,
    "output_cleared": false,
    "source_hash": "e4435626",
    "tags": []
   },
   "outputs": [],
   "source": [
    "map_from_regions('very_urban_pct')"
   ]
  },
  {
   "cell_type": "markdown",
   "metadata": {
    "cell_id": "00127-6214ea21-a533-40d3-9983-0592ff162a5c",
    "deepnote_cell_type": "markdown",
    "tags": []
   },
   "source": [
    "<h3 style=\"color:green\">CORRELATION TESTs</h3>\n",
    "<p>Based on our Q-Q plot and the visualized distribution of the selected variables, we decided to select Pearson correlation since it is reasonable to assume that there is a linear relationship.</p>"
   ]
  },
  {
   "cell_type": "code",
   "execution_count": null,
   "metadata": {
    "cell_id": "00128-01b6b5fc-79c7-4f0b-aaa6-56f29b802235",
    "deepnote_cell_type": "code",
    "deepnote_to_be_reexecuted": false,
    "execution_millis": 0,
    "execution_start": 1616090085517,
    "output_cleared": true,
    "source_hash": "22b4765",
    "tags": []
   },
   "outputs": [],
   "source": [
    "# Significance threshold corrected by: Bonferonni correction\n",
    "SIGNIFICANCE_THRESHOLD = 0.01 / (len(PROVINCIAL_VARIABLES))"
   ]
  },
  {
   "cell_type": "markdown",
   "metadata": {
    "cell_id": "00129-92f5454b-8788-48fc-9fa4-07b8ee5a9345",
    "deepnote_cell_type": "markdown",
    "tags": []
   },
   "source": [
    "<h4 style=\"color:#ff9900\">PEARSON CORRELATION TEST</h4>"
   ]
  },
  {
   "cell_type": "code",
   "execution_count": null,
   "metadata": {
    "cell_id": "00130-d1d8ccc3-317a-419d-979e-cde46a106316",
    "deepnote_cell_type": "code",
    "deepnote_to_be_reexecuted": false,
    "execution_millis": 12,
    "execution_start": 1616090381507,
    "output_cleared": false,
    "source_hash": "73feda47",
    "tags": []
   },
   "outputs": [],
   "source": [
    "# Setup the structure of the dictionary which will then be turned into a pandas DF\n",
    "PEARSON_RESULT = {\n",
    "    'province_var': [],\n",
    "    'correlation': [],\n",
    "    'p-value': [],\n",
    "    'passed_sig_thrs': []\n",
    "}\n",
    "\n",
    "# Build the dictionary\n",
    "for var in PROVINCIAL_VARIABLES:\n",
    "\n",
    "    # Get the results\n",
    "    correlation, pvalue = pearsonr(region_df['cases_per_capita'], region_df[var])\n",
    "\n",
    "    # Save the results\n",
    "    PEARSON_RESULT['province_var'].append(var)\n",
    "    PEARSON_RESULT['correlation'].append(correlation)\n",
    "    if pvalue < 10**(-5):\n",
    "        PEARSON_RESULT['p-value'].append(0.000)\n",
    "    else:\n",
    "        PEARSON_RESULT['p-value'].append(pvalue)\n",
    "    PEARSON_RESULT['passed_sig_thrs'].append(pvalue < SIGNIFICANCE_THRESHOLD)\n",
    "\n",
    "\n",
    "# Turn the dictionary to DF\n",
    "PEARSON_DF = pd.DataFrame.from_dict(PEARSON_RESULT)\n",
    "PEARSON_DF.sort_values('correlation')"
   ]
  },
  {
   "cell_type": "markdown",
   "metadata": {
    "cell_id": "00135-87a8c8f6-415b-48f7-8e66-4ab18e43be75",
    "deepnote_cell_type": "markdown",
    "tags": []
   },
   "source": [
    "<h4 style=\"color:#ff9900\">VISUALIZATION</h4>"
   ]
  },
  {
   "cell_type": "code",
   "execution_count": null,
   "metadata": {
    "cell_id": "00136-0accbee2-205a-43c6-899d-91fa4e122ddb",
    "deepnote_cell_type": "code",
    "deepnote_to_be_reexecuted": false,
    "execution_millis": 805,
    "execution_start": 1616090684468,
    "source_hash": "6cb16192",
    "tags": []
   },
   "outputs": [],
   "source": [
    "sns.set(rc={'figure.figsize':(15,8)})\n",
    "sns_scatterplot = sns.scatterplot(x=region_df['non-rural_pct'], y=region_df['cases_per_capita'], data=region_df, hue='region_name');\n",
    "sns_scatterplot.set_title(\"Percentage of people living in non-rural area VS cases per capita\", size=15, weight=\"bold\");\n",
    "sns_scatterplot.get_figure().savefig(f'{BASE_DIR}figures/figure12.png', orientation='landscape')"
   ]
  },
  {
   "cell_type": "markdown",
   "metadata": {
    "created_in_deepnote_cell": true,
    "deepnote_cell_type": "markdown",
    "tags": []
   },
   "source": [
    "<a style='text-decoration:none;line-height:16px;display:flex;color:#5B5B62;padding:10px;justify-content:end;' href='https://deepnote.com?utm_source=created-in-deepnote-cell&projectId=c421fda8-2f73-4274-82d5-66d77a676a1e' target=\"_blank\">\n",
    "<img style='display:inline;max-height:16px;margin:0px;margin-right:7.5px;' src='data:image/svg+xml;base64,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' > </img>\n",
    "Created in <span style='font-weight:600;margin-left:4px;'>Deepnote</span></a>"
   ]
  }
 ],
 "metadata": {
  "deepnote": {
   "is_reactive": false
  },
  "deepnote_execution_queue": [],
  "deepnote_notebook_id": "045229b0-7b6e-4838-adcc-4acb20844dc9",
  "kernelspec": {
   "display_name": "Python 3",
   "language": "python",
   "name": "python3"
  },
  "language_info": {
   "codemirror_mode": {
    "name": "ipython",
    "version": 3
   },
   "file_extension": ".py",
   "mimetype": "text/x-python",
   "name": "python",
   "nbconvert_exporter": "python",
   "pygments_lexer": "ipython3",
   "version": "3.7.10"
  }
 },
 "nbformat": 4,
 "nbformat_minor": 2
}
